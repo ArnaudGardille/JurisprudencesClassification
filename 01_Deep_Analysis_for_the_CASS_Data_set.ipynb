{
  "nbformat": 4,
  "nbformat_minor": 0,
  "metadata": {
    "kernelspec": {
      "display_name": "Python 3",
      "language": "python",
      "name": "python3"
    },
    "language_info": {
      "codemirror_mode": {
        "name": "ipython",
        "version": 3
      },
      "file_extension": ".py",
      "mimetype": "text/x-python",
      "name": "python",
      "nbconvert_exporter": "python",
      "pygments_lexer": "ipython3",
      "version": "3.7.6"
    },
    "toc": {
      "base_numbering": 1,
      "nav_menu": {},
      "number_sections": true,
      "sideBar": true,
      "skip_h1_title": false,
      "title_cell": "Table of Contents",
      "title_sidebar": "Contents",
      "toc_cell": false,
      "toc_position": {},
      "toc_section_display": true,
      "toc_window_display": false
    },
    "colab": {
      "name": "01 Deep Analysis for the CASS Data set.ipynb",
      "provenance": [],
      "collapsed_sections": [
        "Mdq06ubYhgVB",
        "INYd1zWbhgWM"
      ],
      "include_colab_link": true
    }
  },
  "cells": [
    {
      "cell_type": "markdown",
      "metadata": {
        "id": "view-in-github",
        "colab_type": "text"
      },
      "source": [
        "<a href=\"https://colab.research.google.com/github/SaadTazroute/JurisprudencesClassification/blob/master/01_Deep_Analysis_for_the_CASS_Data_set.ipynb\" target=\"_parent\"><img src=\"https://colab.research.google.com/assets/colab-badge.svg\" alt=\"Open In Colab\"/></a>"
      ]
    },
    {
      "cell_type": "markdown",
      "metadata": {
        "id": "1_l19FGbhgQ8",
        "colab_type": "text"
      },
      "source": [
        "# Analysis of the CASS Dataset used in this internship**\n",
        "\n",
        "\n"
      ]
    },
    {
      "cell_type": "markdown",
      "metadata": {
        "id": "yluYcogohgQ9",
        "colab_type": "text"
      },
      "source": [
        "# Overview of pipeline\n",
        "\n",
        "1. Read  data from csv file (all jurisprudences in a single file)\n",
        "2. EDA: Distribution of characters\n",
        "3. Text preprocessing and cleaning (output = clean corpus)\n",
        "4. EDA: Distribution of document length\n",
        "5. EDA: Distribution of word frequencies (detection of hapaxes ...)\n",
        "6. EDA: Collocation detection (mainly bigrams ) \n"
      ]
    },
    {
      "cell_type": "code",
      "metadata": {
        "id": "ovRPu66QhgQ-",
        "colab_type": "code",
        "colab": {}
      },
      "source": [
        "import pandas as pd\n",
        "import numpy as np"
      ],
      "execution_count": null,
      "outputs": []
    },
    {
      "cell_type": "code",
      "metadata": {
        "id": "Ng9JLSp7hgRD",
        "colab_type": "code",
        "colab": {}
      },
      "source": [
        "from matplotlib import pyplot as plt\n",
        "%matplotlib inline\n",
        "\n",
        "# set the font size of plots\n",
        "plt.rcParams['font.size'] = 14"
      ],
      "execution_count": null,
      "outputs": []
    },
    {
      "cell_type": "code",
      "metadata": {
        "id": "lrit1Sy3hgRG",
        "colab_type": "code",
        "colab": {}
      },
      "source": [
        "np.set_printoptions(precision=3)"
      ],
      "execution_count": null,
      "outputs": []
    },
    {
      "cell_type": "code",
      "metadata": {
        "id": "etNZpJO4hgRJ",
        "colab_type": "code",
        "colab": {
          "base_uri": "https://localhost:8080/",
          "height": 70
        },
        "outputId": "475374ac-d402-427e-dc04-83a68a870947"
      },
      "source": [
        "import seaborn as sns"
      ],
      "execution_count": null,
      "outputs": [
        {
          "output_type": "stream",
          "text": [
            "/usr/local/lib/python3.6/dist-packages/statsmodels/tools/_testing.py:19: FutureWarning: pandas.util.testing is deprecated. Use the functions in the public API at pandas.testing instead.\n",
            "  import pandas.util.testing as tm\n"
          ],
          "name": "stderr"
        }
      ]
    },
    {
      "cell_type": "code",
      "metadata": {
        "id": "pZIpjMLXhgRN",
        "colab_type": "code",
        "colab": {}
      },
      "source": [
        "import re\n",
        "from nltk.tokenize import RegexpTokenizer\n",
        "from nltk import FreqDist\n",
        "from nltk.corpus import stopwords\n",
        "from nltk.stem.snowball import FrenchStemmer\n",
        "from sklearn.feature_extraction.text import CountVectorizer, TfidfTransformer"
      ],
      "execution_count": null,
      "outputs": []
    },
    {
      "cell_type": "code",
      "metadata": {
        "id": "IDxIQ2tQhgRQ",
        "colab_type": "code",
        "colab": {}
      },
      "source": [
        "from collections import defaultdict"
      ],
      "execution_count": null,
      "outputs": []
    },
    {
      "cell_type": "code",
      "metadata": {
        "id": "qIsIuUNBhgRV",
        "colab_type": "code",
        "colab": {}
      },
      "source": [
        "from nltk.tokenize import sent_tokenize"
      ],
      "execution_count": null,
      "outputs": []
    },
    {
      "cell_type": "code",
      "metadata": {
        "id": "ecD4DgOwhgRZ",
        "colab_type": "code",
        "colab": {
          "base_uri": "https://localhost:8080/",
          "height": 70
        },
        "outputId": "bc6e0853-2c66-4f87-87c8-c9618264d726"
      },
      "source": [
        "import yellowbrick\n",
        "\n",
        "from yellowbrick.text import FreqDistVisualizer\n",
        "from yellowbrick.text import TSNEVisualizer"
      ],
      "execution_count": null,
      "outputs": [
        {
          "output_type": "stream",
          "text": [
            "/usr/local/lib/python3.6/dist-packages/sklearn/utils/deprecation.py:144: FutureWarning: The sklearn.metrics.classification module is  deprecated in version 0.22 and will be removed in version 0.24. The corresponding classes / functions should instead be imported from sklearn.metrics. Anything that cannot be imported from sklearn.metrics is now part of the private API.\n",
            "  warnings.warn(message, FutureWarning)\n"
          ],
          "name": "stderr"
        }
      ]
    },
    {
      "cell_type": "markdown",
      "metadata": {
        "id": "fPRq-fIEhgRl",
        "colab_type": "text"
      },
      "source": [
        "## Read  data\n"
      ]
    },
    {
      "cell_type": "code",
      "metadata": {
        "id": "qzzpcyi4hgRm",
        "colab_type": "code",
        "colab": {
          "base_uri": "https://localhost:8080/",
          "height": 121
        },
        "outputId": "3fca3406-5053-4462-c1b7-4d57678456dc"
      },
      "source": [
        "from google.colab import drive\n",
        "drive.mount('/content/drive')"
      ],
      "execution_count": null,
      "outputs": [
        {
          "output_type": "stream",
          "text": [
            "Go to this URL in a browser: https://accounts.google.com/o/oauth2/auth?client_id=947318989803-6bn6qk8qdgf4n4g3pfee6491hc0brc4i.apps.googleusercontent.com&redirect_uri=urn%3aietf%3awg%3aoauth%3a2.0%3aoob&response_type=code&scope=email%20https%3a%2f%2fwww.googleapis.com%2fauth%2fdocs.test%20https%3a%2f%2fwww.googleapis.com%2fauth%2fdrive%20https%3a%2f%2fwww.googleapis.com%2fauth%2fdrive.photos.readonly%20https%3a%2f%2fwww.googleapis.com%2fauth%2fpeopleapi.readonly\n",
            "\n",
            "Enter your authorization code:\n",
            "··········\n",
            "Mounted at /content/drive\n"
          ],
          "name": "stdout"
        }
      ]
    },
    {
      "cell_type": "code",
      "metadata": {
        "id": "Ul5OWKt5htiC",
        "colab_type": "code",
        "colab": {
          "base_uri": "https://localhost:8080/",
          "height": 402
        },
        "outputId": "ac11c8dd-881d-4a35-d8bc-f4ae2320ee5f"
      },
      "source": [
        "# Read data from a CSV file : this will return a DataFrame object\n",
        "path='/content/drive/My Drive/Freemium02.csv'\n",
        "import pandas as pd\n",
        "data_df = pd.read_csv(path, error_bad_lines=False)\n",
        "\n",
        "data_df=data_df.dropna(how = 'any')\n",
        "data_df = data_df.reindex(np.random.permutation(data_df.index))\n",
        "data_df=data_df[:10000]\n",
        "data_df.reset_index(inplace=True, drop=True)\n",
        "data_df = pd.DataFrame({'content':data_df['content'],'solution':data_df['solution']})\n",
        "data_df\n",
        "\n",
        "\n",
        "\n",
        "\n"
      ],
      "execution_count": null,
      "outputs": [
        {
          "output_type": "execute_result",
          "data": {
            "text/html": [
              "<div>\n",
              "<style scoped>\n",
              "    .dataframe tbody tr th:only-of-type {\n",
              "        vertical-align: middle;\n",
              "    }\n",
              "\n",
              "    .dataframe tbody tr th {\n",
              "        vertical-align: top;\n",
              "    }\n",
              "\n",
              "    .dataframe thead th {\n",
              "        text-align: right;\n",
              "    }\n",
              "</style>\n",
              "<table border=\"1\" class=\"dataframe\">\n",
              "  <thead>\n",
              "    <tr style=\"text-align: right;\">\n",
              "      <th></th>\n",
              "      <th>content</th>\n",
              "      <th>solution</th>\n",
              "    </tr>\n",
              "  </thead>\n",
              "  <tbody>\n",
              "    <tr>\n",
              "      <th>0</th>\n",
              "      <td>SUR LE MOYEN UNIQUE : ATTENDU QUE DEMOISELLE X...</td>\n",
              "      <td>rejet</td>\n",
              "    </tr>\n",
              "    <tr>\n",
              "      <th>1</th>\n",
              "      <td>REJET du pourvoi formé par : - X ... Jean - Fr...</td>\n",
              "      <td>rejet</td>\n",
              "    </tr>\n",
              "    <tr>\n",
              "      <th>2</th>\n",
              "      <td>SUR LE MOYEN UNIQUE PRIS EN SA SECONDE BRANCHE...</td>\n",
              "      <td>cassation</td>\n",
              "    </tr>\n",
              "    <tr>\n",
              "      <th>3</th>\n",
              "      <td>SUR LE PREMIER MOYEN , PRIS EN SES DEUX BRANCH...</td>\n",
              "      <td>rejet</td>\n",
              "    </tr>\n",
              "    <tr>\n",
              "      <th>4</th>\n",
              "      <td>REJET DU POURVOI DE X ... ( JEAN ) CONTRE UN J...</td>\n",
              "      <td>rejet</td>\n",
              "    </tr>\n",
              "    <tr>\n",
              "      <th>...</th>\n",
              "      <td>...</td>\n",
              "      <td>...</td>\n",
              "    </tr>\n",
              "    <tr>\n",
              "      <th>95</th>\n",
              "      <td>AU NOM DU PEUPLE FRANCAIS LA COUR DE CASSATION...</td>\n",
              "      <td>cassation</td>\n",
              "    </tr>\n",
              "    <tr>\n",
              "      <th>96</th>\n",
              "      <td>LA COUR DE CASSATION , CHAMBRE CRIMINELLE , a ...</td>\n",
              "      <td>rejet</td>\n",
              "    </tr>\n",
              "    <tr>\n",
              "      <th>97</th>\n",
              "      <td>Sur le moyen unique : Vu les articles 456 et 4...</td>\n",
              "      <td>cassation</td>\n",
              "    </tr>\n",
              "    <tr>\n",
              "      <th>98</th>\n",
              "      <td>SUR LES DEUX MOYENS REUNIS : VU L ' ARTICLE 7 ...</td>\n",
              "      <td>cassation</td>\n",
              "    </tr>\n",
              "    <tr>\n",
              "      <th>99</th>\n",
              "      <td>Attendu , selon l ' arrêt attaqué ( Paris , 2 ...</td>\n",
              "      <td>rejet</td>\n",
              "    </tr>\n",
              "  </tbody>\n",
              "</table>\n",
              "<p>100 rows × 2 columns</p>\n",
              "</div>"
            ],
            "text/plain": [
              "                                              content   solution\n",
              "0   SUR LE MOYEN UNIQUE : ATTENDU QUE DEMOISELLE X...      rejet\n",
              "1   REJET du pourvoi formé par : - X ... Jean - Fr...      rejet\n",
              "2   SUR LE MOYEN UNIQUE PRIS EN SA SECONDE BRANCHE...  cassation\n",
              "3   SUR LE PREMIER MOYEN , PRIS EN SES DEUX BRANCH...      rejet\n",
              "4   REJET DU POURVOI DE X ... ( JEAN ) CONTRE UN J...      rejet\n",
              "..                                                ...        ...\n",
              "95  AU NOM DU PEUPLE FRANCAIS LA COUR DE CASSATION...  cassation\n",
              "96  LA COUR DE CASSATION , CHAMBRE CRIMINELLE , a ...      rejet\n",
              "97  Sur le moyen unique : Vu les articles 456 et 4...  cassation\n",
              "98  SUR LES DEUX MOYENS REUNIS : VU L ' ARTICLE 7 ...  cassation\n",
              "99  Attendu , selon l ' arrêt attaqué ( Paris , 2 ...      rejet\n",
              "\n",
              "[100 rows x 2 columns]"
            ]
          },
          "metadata": {
            "tags": []
          },
          "execution_count": 10
        }
      ]
    },
    {
      "cell_type": "code",
      "metadata": {
        "id": "J7jWSONYhgRo",
        "colab_type": "code",
        "colab": {
          "base_uri": "https://localhost:8080/",
          "height": 34
        },
        "outputId": "1e5e2834-7ccc-4acc-b03c-49dcef4acd40"
      },
      "source": [
        "data_df.shape"
      ],
      "execution_count": null,
      "outputs": [
        {
          "output_type": "execute_result",
          "data": {
            "text/plain": [
              "(100, 2)"
            ]
          },
          "metadata": {
            "tags": []
          },
          "execution_count": 11
        }
      ]
    },
    {
      "cell_type": "code",
      "metadata": {
        "id": "XhmsPZghhgRr",
        "colab_type": "code",
        "colab": {
          "base_uri": "https://localhost:8080/",
          "height": 67
        },
        "outputId": "65d454d4-ca1a-4e81-f1f9-ecf7d2251872"
      },
      "source": [
        "pd.Series(data_df.columns)"
      ],
      "execution_count": null,
      "outputs": [
        {
          "output_type": "execute_result",
          "data": {
            "text/plain": [
              "0     content\n",
              "1    solution\n",
              "dtype: object"
            ]
          },
          "metadata": {
            "tags": []
          },
          "execution_count": 12
        }
      ]
    },
    {
      "cell_type": "code",
      "metadata": {
        "id": "fxyZ1OXWhgRu",
        "colab_type": "code",
        "colab": {}
      },
      "source": [
        "corpus_labels= data_df.solution"
      ],
      "execution_count": null,
      "outputs": []
    },
    {
      "cell_type": "code",
      "metadata": {
        "id": "ROz7yhAlhgRx",
        "colab_type": "code",
        "colab": {}
      },
      "source": [
        "corpus_df = data_df"
      ],
      "execution_count": null,
      "outputs": []
    },
    {
      "cell_type": "code",
      "metadata": {
        "id": "nXtqNRYohgR0",
        "colab_type": "code",
        "colab": {
          "base_uri": "https://localhost:8080/",
          "height": 195
        },
        "outputId": "05c98e94-3884-43e8-d466-fd8aa9de613e"
      },
      "source": [
        "corpus_df.head()"
      ],
      "execution_count": null,
      "outputs": [
        {
          "output_type": "execute_result",
          "data": {
            "text/html": [
              "<div>\n",
              "<style scoped>\n",
              "    .dataframe tbody tr th:only-of-type {\n",
              "        vertical-align: middle;\n",
              "    }\n",
              "\n",
              "    .dataframe tbody tr th {\n",
              "        vertical-align: top;\n",
              "    }\n",
              "\n",
              "    .dataframe thead th {\n",
              "        text-align: right;\n",
              "    }\n",
              "</style>\n",
              "<table border=\"1\" class=\"dataframe\">\n",
              "  <thead>\n",
              "    <tr style=\"text-align: right;\">\n",
              "      <th></th>\n",
              "      <th>content</th>\n",
              "      <th>solution</th>\n",
              "    </tr>\n",
              "  </thead>\n",
              "  <tbody>\n",
              "    <tr>\n",
              "      <th>0</th>\n",
              "      <td>SUR LE MOYEN UNIQUE : ATTENDU QUE DEMOISELLE X...</td>\n",
              "      <td>rejet</td>\n",
              "    </tr>\n",
              "    <tr>\n",
              "      <th>1</th>\n",
              "      <td>REJET du pourvoi formé par : - X ... Jean - Fr...</td>\n",
              "      <td>rejet</td>\n",
              "    </tr>\n",
              "    <tr>\n",
              "      <th>2</th>\n",
              "      <td>SUR LE MOYEN UNIQUE PRIS EN SA SECONDE BRANCHE...</td>\n",
              "      <td>cassation</td>\n",
              "    </tr>\n",
              "    <tr>\n",
              "      <th>3</th>\n",
              "      <td>SUR LE PREMIER MOYEN , PRIS EN SES DEUX BRANCH...</td>\n",
              "      <td>rejet</td>\n",
              "    </tr>\n",
              "    <tr>\n",
              "      <th>4</th>\n",
              "      <td>REJET DU POURVOI DE X ... ( JEAN ) CONTRE UN J...</td>\n",
              "      <td>rejet</td>\n",
              "    </tr>\n",
              "  </tbody>\n",
              "</table>\n",
              "</div>"
            ],
            "text/plain": [
              "                                             content   solution\n",
              "0  SUR LE MOYEN UNIQUE : ATTENDU QUE DEMOISELLE X...      rejet\n",
              "1  REJET du pourvoi formé par : - X ... Jean - Fr...      rejet\n",
              "2  SUR LE MOYEN UNIQUE PRIS EN SA SECONDE BRANCHE...  cassation\n",
              "3  SUR LE PREMIER MOYEN , PRIS EN SES DEUX BRANCH...      rejet\n",
              "4  REJET DU POURVOI DE X ... ( JEAN ) CONTRE UN J...      rejet"
            ]
          },
          "metadata": {
            "tags": []
          },
          "execution_count": 15
        }
      ]
    },
    {
      "cell_type": "code",
      "metadata": {
        "id": "VZ4JTTHZhgR5",
        "colab_type": "code",
        "colab": {
          "base_uri": "https://localhost:8080/",
          "height": 101
        },
        "outputId": "31cd95a7-2134-40be-98bf-27432e34fdf8"
      },
      "source": [
        "corpus_df.solution.value_counts()"
      ],
      "execution_count": null,
      "outputs": [
        {
          "output_type": "execute_result",
          "data": {
            "text/plain": [
              "rejet             49\n",
              "cassation         49\n",
              "irrecevabilite     1\n",
              "annulation         1\n",
              "Name: solution, dtype: int64"
            ]
          },
          "metadata": {
            "tags": []
          },
          "execution_count": 16
        }
      ]
    },
    {
      "cell_type": "markdown",
      "metadata": {
        "id": "c8AkvBqUhgR8",
        "colab_type": "text"
      },
      "source": [
        "*******"
      ]
    },
    {
      "cell_type": "markdown",
      "metadata": {
        "id": "8SBOUxlDhgR8",
        "colab_type": "text"
      },
      "source": [
        "## Exploratory Analysis of Distribution of Characters\n",
        "EDA of characters before preprocessing."
      ]
    },
    {
      "cell_type": "code",
      "metadata": {
        "id": "qan8mjxyhgR9",
        "colab_type": "code",
        "colab": {
          "base_uri": "https://localhost:8080/",
          "height": 218
        },
        "outputId": "11f312eb-c24f-4cb5-a8d7-67d94a43f08f"
      },
      "source": [
        "# temporary variable\n",
        "corpus_ = corpus_df.content\n",
        "corpus_"
      ],
      "execution_count": null,
      "outputs": [
        {
          "output_type": "execute_result",
          "data": {
            "text/plain": [
              "0     SUR LE MOYEN UNIQUE : ATTENDU QUE DEMOISELLE X...\n",
              "1     REJET du pourvoi formé par : - X ... Jean - Fr...\n",
              "2     SUR LE MOYEN UNIQUE PRIS EN SA SECONDE BRANCHE...\n",
              "3     SUR LE PREMIER MOYEN , PRIS EN SES DEUX BRANCH...\n",
              "4     REJET DU POURVOI DE X ... ( JEAN ) CONTRE UN J...\n",
              "                            ...                        \n",
              "95    AU NOM DU PEUPLE FRANCAIS LA COUR DE CASSATION...\n",
              "96    LA COUR DE CASSATION , CHAMBRE CRIMINELLE , a ...\n",
              "97    Sur le moyen unique : Vu les articles 456 et 4...\n",
              "98    SUR LES DEUX MOYENS REUNIS : VU L ' ARTICLE 7 ...\n",
              "99    Attendu , selon l ' arrêt attaqué ( Paris , 2 ...\n",
              "Name: content, Length: 100, dtype: object"
            ]
          },
          "metadata": {
            "tags": []
          },
          "execution_count": 17
        }
      ]
    },
    {
      "cell_type": "code",
      "metadata": {
        "id": "2ALiIrMshgSA",
        "colab_type": "code",
        "colab": {
          "base_uri": "https://localhost:8080/",
          "height": 34
        },
        "outputId": "313029b5-dea9-4a3e-a302-9fb443b634e9"
      },
      "source": [
        "corpus_chars_list = \"\\n\".join(corpus_)\n",
        "print(type(corpus_chars_list),len(corpus_chars_list))"
      ],
      "execution_count": null,
      "outputs": [
        {
          "output_type": "stream",
          "text": [
            "<class 'str'> 528015\n"
          ],
          "name": "stdout"
        }
      ]
    },
    {
      "cell_type": "code",
      "metadata": {
        "id": "GE3DU9OfhgSD",
        "colab_type": "code",
        "colab": {}
      },
      "source": [
        "#a frequency distribution could be used to record the frequency of each word type in a document. \n",
        "#Formally, a frequency distribution can be defined as a function mapping from each sample to the number of times that sample occurred as an outcome.\n",
        "\n",
        "fdist1 = FreqDist([c for c in corpus_chars_list])"
      ],
      "execution_count": null,
      "outputs": []
    },
    {
      "cell_type": "code",
      "metadata": {
        "id": "BTS0iaA_hgSF",
        "colab_type": "code",
        "colab": {
          "base_uri": "https://localhost:8080/",
          "height": 50
        },
        "outputId": "0cf59c83-cd96-46de-9666-5bf3e80d85c6"
      },
      "source": [
        "print(\"number of characters:\" + str(fdist1.N()))\n",
        "print(\"number of unique characters:\" + str(fdist1.B()))"
      ],
      "execution_count": null,
      "outputs": [
        {
          "output_type": "stream",
          "text": [
            "number of characters:528015\n",
            "number of unique characters:102\n"
          ],
          "name": "stdout"
        }
      ]
    },
    {
      "cell_type": "code",
      "metadata": {
        "id": "uguP0stnhgSI",
        "colab_type": "code",
        "colab": {
          "base_uri": "https://localhost:8080/",
          "height": 70
        },
        "outputId": "95c2f953-6def-4564-84e8-44de649468c3"
      },
      "source": [
        "u = list(fdist1.keys())\n",
        "u.sort()\n",
        "print('List of unique characters in the corpus:')\n",
        "print(u)"
      ],
      "execution_count": null,
      "outputs": [
        {
          "output_type": "stream",
          "text": [
            "List of unique characters in the corpus:\n",
            "['\\n', ' ', '\"', '%', '&', \"'\", '(', ')', ',', '-', '.', '/', '0', '1', '2', '3', '4', '5', '6', '7', '8', '9', ':', ';', '<', '=', '>', 'A', 'B', 'C', 'D', 'E', 'F', 'G', 'H', 'I', 'J', 'K', 'L', 'M', 'N', 'O', 'P', 'Q', 'R', 'S', 'T', 'U', 'V', 'W', 'X', 'Y', 'Z', '[', ']', 'a', 'b', 'c', 'd', 'e', 'f', 'g', 'h', 'i', 'j', 'k', 'l', 'm', 'n', 'o', 'p', 'q', 'r', 's', 't', 'u', 'v', 'w', 'x', 'y', 'z', '\\x80', '§', '«', '°', '»', '¿', 'È', 'É', 'à', 'â', 'ç', 'è', 'é', 'ê', 'î', 'ï', 'ô', 'ù', 'û', 'ÿ', '€']\n"
          ],
          "name": "stdout"
        }
      ]
    },
    {
      "cell_type": "code",
      "metadata": {
        "id": "fFWqmZQWhgSL",
        "colab_type": "code",
        "colab": {
          "base_uri": "https://localhost:8080/",
          "height": 358
        },
        "outputId": "c051e2ad-a85b-4e37-e40f-f99e9b1b4128"
      },
      "source": [
        "fdist1.plot(20, cumulative=False)"
      ],
      "execution_count": null,
      "outputs": [
        {
          "output_type": "display_data",
          "data": {
            "image/png": "[encoded data removed]",
            "text/plain": [
              "<Figure size 576x396 with 1 Axes>"
            ]
          },
          "metadata": {
            "tags": []
          }
        }
      ]
    },
    {
      "cell_type": "code",
      "metadata": {
        "id": "4Ncdx-XyhgSO",
        "colab_type": "code",
        "colab": {
          "base_uri": "https://localhost:8080/",
          "height": 358
        },
        "outputId": "c8095c5a-35c7-4090-a60f-06e260bcec88"
      },
      "source": [
        "# the top 20 characters cover more than 95% of all character occurrences in the corpus\n",
        "fdist1.plot(20,cumulative=True)"
      ],
      "execution_count": null,
      "outputs": [
        {
          "output_type": "display_data",
          "data": {
            "image/png": "[encoded data removed]",
            "text/plain": [
              "<Figure size 576x396 with 1 Axes>"
            ]
          },
          "metadata": {
            "tags": []
          }
        }
      ]
    },
    {
      "cell_type": "code",
      "metadata": {
        "id": "1CS_R8oohgSR",
        "colab_type": "code",
        "colab": {
          "base_uri": "https://localhost:8080/",
          "height": 34
        },
        "outputId": "4caf32b0-0b72-402a-cfa3-6031fcbd2b16"
      },
      "source": [
        "# the 10 most frequent characters in the corpus\n",
        "#pd.DataFrame(fdist1.most_common(20))\n",
        "fdist1.most_common(5)"
      ],
      "execution_count": null,
      "outputs": [
        {
          "output_type": "execute_result",
          "data": {
            "text/plain": [
              "[(' ', 106847), ('e', 35026), ('E', 23197), ('a', 20619), ('t', 19478)]"
            ]
          },
          "metadata": {
            "tags": []
          },
          "execution_count": 24
        }
      ]
    },
    {
      "cell_type": "markdown",
      "metadata": {
        "id": "FUmFRCLZhgSV",
        "colab_type": "text"
      },
      "source": [
        "*Observations & conclusions*\n",
        "- Type of characters: french letters, digits, punctuation, and white space.\n",
        "- No special characters requiring special normalization/preprocessing (such as special encoded characters).\n",
        "- No extraneous/noisy characters that should be removed prior to language identification (such as math symbols, emoticons and urls)."
      ]
    },
    {
      "cell_type": "markdown",
      "metadata": {
        "id": "sP4XX8wOhgSV",
        "colab_type": "text"
      },
      "source": [
        "*****"
      ]
    },
    {
      "cell_type": "markdown",
      "metadata": {
        "id": "IqR840yMhgSW",
        "colab_type": "text"
      },
      "source": [
        "## Text Preprocessing & Cleaning\n",
        "\n",
        "Pipeline:\n",
        "1. Language identification\n",
        "2. Sentence segmentation\n",
        "3. Remove non-word characters\n",
        "4. Convert to lowercase\n",
        "5. Tokenization\n",
        "6. Stemming (simple heuristic for word normalization)\n",
        "7. Spelling correction"
      ]
    },
    {
      "cell_type": "markdown",
      "metadata": {
        "id": "WgVpUu54hgSc",
        "colab_type": "text"
      },
      "source": [
        "### Sentence segmentation\n",
        "Split the documents into sentences."
      ]
    },
    {
      "cell_type": "markdown",
      "metadata": {
        "id": "42nWbq9lhgSd",
        "colab_type": "text"
      },
      "source": [
        "#### EDA"
      ]
    },
    {
      "cell_type": "code",
      "metadata": {
        "id": "9szKFMKghgSf",
        "colab_type": "code",
        "colab": {
          "base_uri": "https://localhost:8080/",
          "height": 67
        },
        "outputId": "1d317ad1-9316-4cb3-8e64-a9239db6acbb"
      },
      "source": [
        "for c in ['.','!','?']:\n",
        "    print(c,fdist1[c])"
      ],
      "execution_count": null,
      "outputs": [
        {
          "output_type": "stream",
          "text": [
            ". 2761\n",
            "! 0\n",
            "? 0\n"
          ],
          "name": "stdout"
        }
      ]
    },
    {
      "cell_type": "code",
      "metadata": {
        "id": "VkGrVsYmhgSi",
        "colab_type": "code",
        "colab": {
          "base_uri": "https://localhost:8080/",
          "height": 229
        },
        "outputId": "c83b818c-15ca-4630-83d0-8910167a3853"
      },
      "source": [
        "import nltk\n",
        "nltk.download('punkt')\n",
        "L1 = [len(doc) for doc in corpus_df.content]\n",
        "L2 = [len(sent_tokenize(doc)) for doc in corpus_df.content]\n",
        "doc_len_df_ = pd.DataFrame({'n_chars' : L1, 'n_sents' : L2, \\\n",
        "                            'n_chars_per_sent' : np.array(L1)/np.array(L2)})\n",
        "doc_len_df_.head()"
      ],
      "execution_count": null,
      "outputs": [
        {
          "output_type": "stream",
          "text": [
            "[nltk_data] Downloading package punkt to /root/nltk_data...\n",
            "[nltk_data]   Unzipping tokenizers/punkt.zip.\n"
          ],
          "name": "stdout"
        },
        {
          "output_type": "execute_result",
          "data": {
            "text/html": [
              "<div>\n",
              "<style scoped>\n",
              "    .dataframe tbody tr th:only-of-type {\n",
              "        vertical-align: middle;\n",
              "    }\n",
              "\n",
              "    .dataframe tbody tr th {\n",
              "        vertical-align: top;\n",
              "    }\n",
              "\n",
              "    .dataframe thead th {\n",
              "        text-align: right;\n",
              "    }\n",
              "</style>\n",
              "<table border=\"1\" class=\"dataframe\">\n",
              "  <thead>\n",
              "    <tr style=\"text-align: right;\">\n",
              "      <th></th>\n",
              "      <th>n_chars</th>\n",
              "      <th>n_sents</th>\n",
              "      <th>n_chars_per_sent</th>\n",
              "    </tr>\n",
              "  </thead>\n",
              "  <tbody>\n",
              "    <tr>\n",
              "      <th>0</th>\n",
              "      <td>2285</td>\n",
              "      <td>2</td>\n",
              "      <td>1142.5</td>\n",
              "    </tr>\n",
              "    <tr>\n",
              "      <th>1</th>\n",
              "      <td>10554</td>\n",
              "      <td>5</td>\n",
              "      <td>2110.8</td>\n",
              "    </tr>\n",
              "    <tr>\n",
              "      <th>2</th>\n",
              "      <td>3723</td>\n",
              "      <td>5</td>\n",
              "      <td>744.6</td>\n",
              "    </tr>\n",
              "    <tr>\n",
              "      <th>3</th>\n",
              "      <td>5276</td>\n",
              "      <td>2</td>\n",
              "      <td>2638.0</td>\n",
              "    </tr>\n",
              "    <tr>\n",
              "      <th>4</th>\n",
              "      <td>2038</td>\n",
              "      <td>1</td>\n",
              "      <td>2038.0</td>\n",
              "    </tr>\n",
              "  </tbody>\n",
              "</table>\n",
              "</div>"
            ],
            "text/plain": [
              "   n_chars  n_sents  n_chars_per_sent\n",
              "0     2285        2            1142.5\n",
              "1    10554        5            2110.8\n",
              "2     3723        5             744.6\n",
              "3     5276        2            2638.0\n",
              "4     2038        1            2038.0"
            ]
          },
          "metadata": {
            "tags": []
          },
          "execution_count": 26
        }
      ]
    },
    {
      "cell_type": "code",
      "metadata": {
        "scrolled": false,
        "id": "Pde1LdUGhgSl",
        "colab_type": "code",
        "colab": {
          "base_uri": "https://localhost:8080/",
          "height": 567
        },
        "outputId": "1f80aa6a-81c1-4e2a-a41d-e418370b1d67"
      },
      "source": [
        "sns.set(style=\"ticks\", color_codes=True)\n",
        "g = sns.pairplot(doc_len_df_)"
      ],
      "execution_count": null,
      "outputs": [
        {
          "output_type": "display_data",
          "data": {
            "image/png": "[encoded data removed]",
            "text/plain": [
              "<Figure size 540x540 with 12 Axes>"
            ]
          },
          "metadata": {
            "tags": []
          }
        }
      ]
    },
    {
      "cell_type": "markdown",
      "metadata": {
        "id": "VJvJEFkHhgSo",
        "colab_type": "text"
      },
      "source": [
        "#### Create corpus of sentences"
      ]
    },
    {
      "cell_type": "code",
      "metadata": {
        "id": "aL9SKw5RhgSo",
        "colab_type": "code",
        "colab": {
          "base_uri": "https://localhost:8080/",
          "height": 87
        },
        "outputId": "b7a042a6-1e9c-4e8d-f9d6-92f0afe79169"
      },
      "source": [
        "corpus_sentences_ = [sent_tokenize(doc) for doc in corpus_df.content]\n",
        "len(corpus_sentences_),corpus_sentences_[0]"
      ],
      "execution_count": null,
      "outputs": [
        {
          "output_type": "execute_result",
          "data": {
            "text/plain": [
              "(100,\n",
              " [\"SUR LE MOYEN UNIQUE : ATTENDU QUE DEMOISELLE X ..., ASSUREE SOCIALE , A PERCU LES INDEMNITES JOURNALIERES DE L ' ASSURANCE MALADIE DU 6 JUIN AU 25 SEPTEMBRE 1966 ET QU ' ELLE A REPRIS SON TRAVAIL A PLEIN TEMPS DU 26 SEPTEMBRE AU 28 OCTOBRE 1966 INCLUS ; QU ' A LA SUITE DE TROIS JOURS CHOMES ( 29 - 30 - 31 OCTOBRE ) ET D ' UN JOUR FERIE PAYE N ' AYANT PAS ENTRAINE LE PAIEMENT D ' INDEMNITES JOURNALIERES AU TITRE DE LA MALADIE ( 1ER NOVEMBRE ), ELLE N ' A PLUS , A COMPTER DU 2 NOVEMBRE 1966 , TRAVAILLE QU ' A MI - TEMPS , SUR PRESCRIPTION MEDICALE , JUSQU ' AU 18 DECEMBRE 1966 , DATE A LAQUELLE ELLE A REPRIS SON TRAVAIL A TEMPS COMPLET ; ATTENDU QU ' IL EST FAIT GRIEF A LA SENTENCE ATTAQUEE D ' AVOIR REFUSE A DEMOISELLE X ...\",\n",
              "  \"LE BENEFICE DES INDEMNITES JOURNALIERES POUR LA PERIODE AU COURS DE LAQUELLE ELLE AVAIT TRAVAILLE A MI - TEMPS , AU MOTIF QUE LA REPRISE DU TRAVAIL A MI - TEMPS ETAIT INTERVENUE MOINS DE TROIS JOURS APRES LA CESSATION DU TRAVAIL , ALORS QUE LES TEXTES NE PRECISANT PAS QUE LE DELAI DE TROIS JOURS PRESCRIT POUR BENEFICIER DES INDEMNITES JOURNALIERES SOIT AUSSI CELUI DE L ' ARRET TOTAL DU TRAVAIL AVANT LA REPRISE DU TRAVAIL A MI - TEMPS , IL IMPORTAIT PEU QUE TROIS JOURS SEULEMENT SE FUSSENT ECOULES ENTRE LA RECHUTE DE MALADIE ET LA REPRISE A MI - TEMPS DU TRAVAIL , LES JUGES DEVANT SEULEMENT DETERMINER SI LE TRAVAIL REDUIT OUVRAIT DROIT AU SERVICE DES PRESTATIONS JOURNALIERES , CE QU ' ILS N ' ONT PAS FAIT ; MAIS ATTENDU QUE SI SELON L ' ARTICLE 289 , DERNIER ALINEA , DU CODE DE LA SECURITE SOCIALE , L ' INDEMNITE JOURNALIERE PEUT ETRE & quot ; MAINTENUE & quot ; EN TOUT OU EN PARTIE EN CAS DE REPRISE DU TRAVAIL PENDANT UNE DUREE FIXEE PAR LA CAISSE , CE TERME IMPLIQUE LA CONTINUITE DU VERSEMENT DE LADITE INDEMNITE ; D ' OU IL SUIT QUE DEMOISELLE X ... N ' AYANT PAS , LORS DE LA RECHUTE QU ' ELLE ALLEGUE , PERCU D ' INDEMNITE JOURNALIERE , C ' EST EXACTEMENT QUE LA DECISION ATTAQUEE A ESTIME QU ' ELLE NE POUVAIT PRETENDRE A LEUR ATTRIBUTION , QUI N ' AURAIT PU ETRE ACCORDEE QU ' A TITRE DE MAINTIEN , LORS DE LA REPRISE PARTIELLE DU TRAVAIL ; D ' OU IL SUIT QUE LE MOYEN N ' EST PAS FONDE ; PAR CES MOTIFS : REJETTE LE POURVOI FORME CONTRE LA DECISION RENDUE , LE 24 OCTOBRE 1967 , PAR LA COMMISSION DE PREMIERE INSTANCE DE CHARTRES\"])"
            ]
          },
          "metadata": {
            "tags": []
          },
          "execution_count": 28
        }
      ]
    },
    {
      "cell_type": "code",
      "metadata": {
        "id": "-MytkoRDhgSr",
        "colab_type": "code",
        "colab": {
          "base_uri": "https://localhost:8080/",
          "height": 34
        },
        "outputId": "3db0ff39-f5ca-4cd0-efa9-6fdeb0f38c97"
      },
      "source": [
        "u = [(sent,corpus_df.solution[i]) for i,doc in enumerate(corpus_sentences_) for sent in doc]\n",
        "corpus_sent_df = pd.DataFrame(u)\n",
        "corpus_sent_df.columns = ['sentence','solution']\n",
        "assert(len(corpus_df)<=len(corpus_sent_df))\n",
        "len(corpus_df),len(corpus_sent_df)"
      ],
      "execution_count": null,
      "outputs": [
        {
          "output_type": "execute_result",
          "data": {
            "text/plain": [
              "(100, 856)"
            ]
          },
          "metadata": {
            "tags": []
          },
          "execution_count": 29
        }
      ]
    },
    {
      "cell_type": "code",
      "metadata": {
        "id": "nleKzn32hgSt",
        "colab_type": "code",
        "colab": {
          "base_uri": "https://localhost:8080/",
          "height": 195
        },
        "outputId": "8e4aa0f3-ce4d-4c7d-d8fa-aa934d479d68"
      },
      "source": [
        "corpus_sent_df.head()"
      ],
      "execution_count": null,
      "outputs": [
        {
          "output_type": "execute_result",
          "data": {
            "text/html": [
              "<div>\n",
              "<style scoped>\n",
              "    .dataframe tbody tr th:only-of-type {\n",
              "        vertical-align: middle;\n",
              "    }\n",
              "\n",
              "    .dataframe tbody tr th {\n",
              "        vertical-align: top;\n",
              "    }\n",
              "\n",
              "    .dataframe thead th {\n",
              "        text-align: right;\n",
              "    }\n",
              "</style>\n",
              "<table border=\"1\" class=\"dataframe\">\n",
              "  <thead>\n",
              "    <tr style=\"text-align: right;\">\n",
              "      <th></th>\n",
              "      <th>sentence</th>\n",
              "      <th>solution</th>\n",
              "    </tr>\n",
              "  </thead>\n",
              "  <tbody>\n",
              "    <tr>\n",
              "      <th>0</th>\n",
              "      <td>SUR LE MOYEN UNIQUE : ATTENDU QUE DEMOISELLE X...</td>\n",
              "      <td>rejet</td>\n",
              "    </tr>\n",
              "    <tr>\n",
              "      <th>1</th>\n",
              "      <td>LE BENEFICE DES INDEMNITES JOURNALIERES POUR L...</td>\n",
              "      <td>rejet</td>\n",
              "    </tr>\n",
              "    <tr>\n",
              "      <th>2</th>\n",
              "      <td>REJET du pourvoi formé par : - X ... Jean - Fr...</td>\n",
              "      <td>rejet</td>\n",
              "    </tr>\n",
              "    <tr>\n",
              "      <th>3</th>\n",
              "      <td>LA COUR , Vu les mémoires produits en demande ...</td>\n",
              "      <td>rejet</td>\n",
              "    </tr>\n",
              "    <tr>\n",
              "      <th>4</th>\n",
              "      <td>16 § 3 ) &amp; quot ; ; Attendu qu ' il appert de ...</td>\n",
              "      <td>rejet</td>\n",
              "    </tr>\n",
              "  </tbody>\n",
              "</table>\n",
              "</div>"
            ],
            "text/plain": [
              "                                            sentence solution\n",
              "0  SUR LE MOYEN UNIQUE : ATTENDU QUE DEMOISELLE X...    rejet\n",
              "1  LE BENEFICE DES INDEMNITES JOURNALIERES POUR L...    rejet\n",
              "2  REJET du pourvoi formé par : - X ... Jean - Fr...    rejet\n",
              "3  LA COUR , Vu les mémoires produits en demande ...    rejet\n",
              "4  16 § 3 ) & quot ; ; Attendu qu ' il appert de ...    rejet"
            ]
          },
          "metadata": {
            "tags": []
          },
          "execution_count": 30
        }
      ]
    },
    {
      "cell_type": "markdown",
      "metadata": {
        "id": "wRXfx0BohgSx",
        "colab_type": "text"
      },
      "source": [
        "### Tokenization\n",
        "- convert to lowercase.\n",
        "- convert corpus to list of words\n",
        "- throw away all non-letter characters (in our case digits and punctuation)"
      ]
    },
    {
      "cell_type": "code",
      "metadata": {
        "id": "Jicw8Df1hgSy",
        "colab_type": "code",
        "colab": {}
      },
      "source": [
        "tokenizer = RegexpTokenizer('[^_\\W0-9]+')"
      ],
      "execution_count": null,
      "outputs": []
    },
    {
      "cell_type": "code",
      "metadata": {
        "id": "LqXoM51thgS1",
        "colab_type": "code",
        "colab": {
          "base_uri": "https://localhost:8080/",
          "height": 1000
        },
        "outputId": "d98c3407-52c6-4a89-e7c9-c022ca7f4d99"
      },
      "source": [
        "# convert to lowercase and tokenize\n",
        "corpus_tokens_ = [tokenizer.tokenize(doc.lower()) for doc in corpus_sent_df.sentence]\n",
        "assert(len(corpus_tokens_)==len(corpus_sent_df))\n",
        "corpus_tokens_[0:5]"
      ],
      "execution_count": null,
      "outputs": [
        {
          "output_type": "execute_result",
          "data": {
            "text/plain": [
              "[['sur',\n",
              "  'le',\n",
              "  'moyen',\n",
              "  'unique',\n",
              "  'attendu',\n",
              "  'que',\n",
              "  'demoiselle',\n",
              "  'x',\n",
              "  'assuree',\n",
              "  'sociale',\n",
              "  'a',\n",
              "  'percu',\n",
              "  'les',\n",
              "  'indemnites',\n",
              "  'journalieres',\n",
              "  'de',\n",
              "  'l',\n",
              "  'assurance',\n",
              "  'maladie',\n",
              "  'du',\n",
              "  'juin',\n",
              "  'au',\n",
              "  'septembre',\n",
              "  'et',\n",
              "  'qu',\n",
              "  'elle',\n",
              "  'a',\n",
              "  'repris',\n",
              "  'son',\n",
              "  'travail',\n",
              "  'a',\n",
              "  'plein',\n",
              "  'temps',\n",
              "  'du',\n",
              "  'septembre',\n",
              "  'au',\n",
              "  'octobre',\n",
              "  'inclus',\n",
              "  'qu',\n",
              "  'a',\n",
              "  'la',\n",
              "  'suite',\n",
              "  'de',\n",
              "  'trois',\n",
              "  'jours',\n",
              "  'chomes',\n",
              "  'octobre',\n",
              "  'et',\n",
              "  'd',\n",
              "  'un',\n",
              "  'jour',\n",
              "  'ferie',\n",
              "  'paye',\n",
              "  'n',\n",
              "  'ayant',\n",
              "  'pas',\n",
              "  'entraine',\n",
              "  'le',\n",
              "  'paiement',\n",
              "  'd',\n",
              "  'indemnites',\n",
              "  'journalieres',\n",
              "  'au',\n",
              "  'titre',\n",
              "  'de',\n",
              "  'la',\n",
              "  'maladie',\n",
              "  'er',\n",
              "  'novembre',\n",
              "  'elle',\n",
              "  'n',\n",
              "  'a',\n",
              "  'plus',\n",
              "  'a',\n",
              "  'compter',\n",
              "  'du',\n",
              "  'novembre',\n",
              "  'travaille',\n",
              "  'qu',\n",
              "  'a',\n",
              "  'mi',\n",
              "  'temps',\n",
              "  'sur',\n",
              "  'prescription',\n",
              "  'medicale',\n",
              "  'jusqu',\n",
              "  'au',\n",
              "  'decembre',\n",
              "  'date',\n",
              "  'a',\n",
              "  'laquelle',\n",
              "  'elle',\n",
              "  'a',\n",
              "  'repris',\n",
              "  'son',\n",
              "  'travail',\n",
              "  'a',\n",
              "  'temps',\n",
              "  'complet',\n",
              "  'attendu',\n",
              "  'qu',\n",
              "  'il',\n",
              "  'est',\n",
              "  'fait',\n",
              "  'grief',\n",
              "  'a',\n",
              "  'la',\n",
              "  'sentence',\n",
              "  'attaquee',\n",
              "  'd',\n",
              "  'avoir',\n",
              "  'refuse',\n",
              "  'a',\n",
              "  'demoiselle',\n",
              "  'x'],\n",
              " ['le',\n",
              "  'benefice',\n",
              "  'des',\n",
              "  'indemnites',\n",
              "  'journalieres',\n",
              "  'pour',\n",
              "  'la',\n",
              "  'periode',\n",
              "  'au',\n",
              "  'cours',\n",
              "  'de',\n",
              "  'laquelle',\n",
              "  'elle',\n",
              "  'avait',\n",
              "  'travaille',\n",
              "  'a',\n",
              "  'mi',\n",
              "  'temps',\n",
              "  'au',\n",
              "  'motif',\n",
              "  'que',\n",
              "  'la',\n",
              "  'reprise',\n",
              "  'du',\n",
              "  'travail',\n",
              "  'a',\n",
              "  'mi',\n",
              "  'temps',\n",
              "  'etait',\n",
              "  'intervenue',\n",
              "  'moins',\n",
              "  'de',\n",
              "  'trois',\n",
              "  'jours',\n",
              "  'apres',\n",
              "  'la',\n",
              "  'cessation',\n",
              "  'du',\n",
              "  'travail',\n",
              "  'alors',\n",
              "  'que',\n",
              "  'les',\n",
              "  'textes',\n",
              "  'ne',\n",
              "  'precisant',\n",
              "  'pas',\n",
              "  'que',\n",
              "  'le',\n",
              "  'delai',\n",
              "  'de',\n",
              "  'trois',\n",
              "  'jours',\n",
              "  'prescrit',\n",
              "  'pour',\n",
              "  'beneficier',\n",
              "  'des',\n",
              "  'indemnites',\n",
              "  'journalieres',\n",
              "  'soit',\n",
              "  'aussi',\n",
              "  'celui',\n",
              "  'de',\n",
              "  'l',\n",
              "  'arret',\n",
              "  'total',\n",
              "  'du',\n",
              "  'travail',\n",
              "  'avant',\n",
              "  'la',\n",
              "  'reprise',\n",
              "  'du',\n",
              "  'travail',\n",
              "  'a',\n",
              "  'mi',\n",
              "  'temps',\n",
              "  'il',\n",
              "  'importait',\n",
              "  'peu',\n",
              "  'que',\n",
              "  'trois',\n",
              "  'jours',\n",
              "  'seulement',\n",
              "  'se',\n",
              "  'fussent',\n",
              "  'ecoules',\n",
              "  'entre',\n",
              "  'la',\n",
              "  'rechute',\n",
              "  'de',\n",
              "  'maladie',\n",
              "  'et',\n",
              "  'la',\n",
              "  'reprise',\n",
              "  'a',\n",
              "  'mi',\n",
              "  'temps',\n",
              "  'du',\n",
              "  'travail',\n",
              "  'les',\n",
              "  'juges',\n",
              "  'devant',\n",
              "  'seulement',\n",
              "  'determiner',\n",
              "  'si',\n",
              "  'le',\n",
              "  'travail',\n",
              "  'reduit',\n",
              "  'ouvrait',\n",
              "  'droit',\n",
              "  'au',\n",
              "  'service',\n",
              "  'des',\n",
              "  'prestations',\n",
              "  'journalieres',\n",
              "  'ce',\n",
              "  'qu',\n",
              "  'ils',\n",
              "  'n',\n",
              "  'ont',\n",
              "  'pas',\n",
              "  'fait',\n",
              "  'mais',\n",
              "  'attendu',\n",
              "  'que',\n",
              "  'si',\n",
              "  'selon',\n",
              "  'l',\n",
              "  'article',\n",
              "  'dernier',\n",
              "  'alinea',\n",
              "  'du',\n",
              "  'code',\n",
              "  'de',\n",
              "  'la',\n",
              "  'securite',\n",
              "  'sociale',\n",
              "  'l',\n",
              "  'indemnite',\n",
              "  'journaliere',\n",
              "  'peut',\n",
              "  'etre',\n",
              "  'quot',\n",
              "  'maintenue',\n",
              "  'quot',\n",
              "  'en',\n",
              "  'tout',\n",
              "  'ou',\n",
              "  'en',\n",
              "  'partie',\n",
              "  'en',\n",
              "  'cas',\n",
              "  'de',\n",
              "  'reprise',\n",
              "  'du',\n",
              "  'travail',\n",
              "  'pendant',\n",
              "  'une',\n",
              "  'duree',\n",
              "  'fixee',\n",
              "  'par',\n",
              "  'la',\n",
              "  'caisse',\n",
              "  'ce',\n",
              "  'terme',\n",
              "  'implique',\n",
              "  'la',\n",
              "  'continuite',\n",
              "  'du',\n",
              "  'versement',\n",
              "  'de',\n",
              "  'ladite',\n",
              "  'indemnite',\n",
              "  'd',\n",
              "  'ou',\n",
              "  'il',\n",
              "  'suit',\n",
              "  'que',\n",
              "  'demoiselle',\n",
              "  'x',\n",
              "  'n',\n",
              "  'ayant',\n",
              "  'pas',\n",
              "  'lors',\n",
              "  'de',\n",
              "  'la',\n",
              "  'rechute',\n",
              "  'qu',\n",
              "  'elle',\n",
              "  'allegue',\n",
              "  'percu',\n",
              "  'd',\n",
              "  'indemnite',\n",
              "  'journaliere',\n",
              "  'c',\n",
              "  'est',\n",
              "  'exactement',\n",
              "  'que',\n",
              "  'la',\n",
              "  'decision',\n",
              "  'attaquee',\n",
              "  'a',\n",
              "  'estime',\n",
              "  'qu',\n",
              "  'elle',\n",
              "  'ne',\n",
              "  'pouvait',\n",
              "  'pretendre',\n",
              "  'a',\n",
              "  'leur',\n",
              "  'attribution',\n",
              "  'qui',\n",
              "  'n',\n",
              "  'aurait',\n",
              "  'pu',\n",
              "  'etre',\n",
              "  'accordee',\n",
              "  'qu',\n",
              "  'a',\n",
              "  'titre',\n",
              "  'de',\n",
              "  'maintien',\n",
              "  'lors',\n",
              "  'de',\n",
              "  'la',\n",
              "  'reprise',\n",
              "  'partielle',\n",
              "  'du',\n",
              "  'travail',\n",
              "  'd',\n",
              "  'ou',\n",
              "  'il',\n",
              "  'suit',\n",
              "  'que',\n",
              "  'le',\n",
              "  'moyen',\n",
              "  'n',\n",
              "  'est',\n",
              "  'pas',\n",
              "  'fonde',\n",
              "  'par',\n",
              "  'ces',\n",
              "  'motifs',\n",
              "  'rejette',\n",
              "  'le',\n",
              "  'pourvoi',\n",
              "  'forme',\n",
              "  'contre',\n",
              "  'la',\n",
              "  'decision',\n",
              "  'rendue',\n",
              "  'le',\n",
              "  'octobre',\n",
              "  'par',\n",
              "  'la',\n",
              "  'commission',\n",
              "  'de',\n",
              "  'premiere',\n",
              "  'instance',\n",
              "  'de',\n",
              "  'chartres'],\n",
              " ['rejet',\n",
              "  'du',\n",
              "  'pourvoi',\n",
              "  'formé',\n",
              "  'par',\n",
              "  'x',\n",
              "  'jean',\n",
              "  'françois',\n",
              "  'la',\n",
              "  'société',\n",
              "  'quot',\n",
              "  'compagnie',\n",
              "  'des',\n",
              "  'huiles',\n",
              "  'usagées',\n",
              "  'quot',\n",
              "  'contre',\n",
              "  'un',\n",
              "  'arrêt',\n",
              "  'du',\n",
              "  'juillet',\n",
              "  'de',\n",
              "  'la',\n",
              "  'cour',\n",
              "  'd',\n",
              "  'appel',\n",
              "  'de',\n",
              "  'paris',\n",
              "  'e',\n",
              "  'chambre',\n",
              "  'qui',\n",
              "  'ayant',\n",
              "  'estimé',\n",
              "  'réunis',\n",
              "  'à',\n",
              "  'l',\n",
              "  'encontre',\n",
              "  'du',\n",
              "  'premier',\n",
              "  'nommé',\n",
              "  'les',\n",
              "  'éléments',\n",
              "  'constitutifs',\n",
              "  'du',\n",
              "  'délit',\n",
              "  'd',\n",
              "  'homicides',\n",
              "  'involontaires',\n",
              "  'l',\n",
              "  'a',\n",
              "  'condamné',\n",
              "  'à',\n",
              "  'des',\n",
              "  'réparations',\n",
              "  'civiles',\n",
              "  'en',\n",
              "  'déclarant',\n",
              "  'ladite',\n",
              "  'société',\n",
              "  'civilement',\n",
              "  'responsable',\n",
              "  'de',\n",
              "  'son',\n",
              "  'préposé',\n",
              "  'et',\n",
              "  'a',\n",
              "  'rejeté',\n",
              "  'la',\n",
              "  'demande',\n",
              "  'du',\n",
              "  'prévenu',\n",
              "  'et',\n",
              "  'de',\n",
              "  'son',\n",
              "  'employeur',\n",
              "  'tendant',\n",
              "  'au',\n",
              "  'renvoi',\n",
              "  'de',\n",
              "  'l',\n",
              "  'affaire',\n",
              "  'devant',\n",
              "  'la',\n",
              "  'juridiction',\n",
              "  'civile'],\n",
              " ['la',\n",
              "  'cour',\n",
              "  'vu',\n",
              "  'les',\n",
              "  'mémoires',\n",
              "  'produits',\n",
              "  'en',\n",
              "  'demande',\n",
              "  'et',\n",
              "  'en',\n",
              "  'défense',\n",
              "  'sur',\n",
              "  'le',\n",
              "  'premier',\n",
              "  'moyen',\n",
              "  'de',\n",
              "  'cassation',\n",
              "  'pris',\n",
              "  'de',\n",
              "  'la',\n",
              "  'violation',\n",
              "  'des',\n",
              "  'articles',\n",
              "  'du',\n",
              "  'code',\n",
              "  'de',\n",
              "  'procédure',\n",
              "  'pénale',\n",
              "  'défaut',\n",
              "  'et',\n",
              "  'contradiction',\n",
              "  'de',\n",
              "  'motifs',\n",
              "  'manque',\n",
              "  'de',\n",
              "  'base',\n",
              "  'légale',\n",
              "  'quot',\n",
              "  'en',\n",
              "  'ce',\n",
              "  'que',\n",
              "  'l',\n",
              "  'arrêt',\n",
              "  'infirmatif',\n",
              "  'attaqué',\n",
              "  'après',\n",
              "  'avoir',\n",
              "  'constaté',\n",
              "  'que',\n",
              "  'les',\n",
              "  'dispositions',\n",
              "  'pénales',\n",
              "  'du',\n",
              "  'jugement',\n",
              "  'relaxant',\n",
              "  'x',\n",
              "  'sont',\n",
              "  'définitives',\n",
              "  'a',\n",
              "  'rejeté',\n",
              "  'les',\n",
              "  'conclusions',\n",
              "  'du',\n",
              "  'même',\n",
              "  'x',\n",
              "  'et',\n",
              "  'de',\n",
              "  'la',\n",
              "  'cohu',\n",
              "  'tendant',\n",
              "  'au',\n",
              "  'renvoi',\n",
              "  'de',\n",
              "  'l',\n",
              "  'affaire',\n",
              "  'devant',\n",
              "  'la',\n",
              "  'juridiction',\n",
              "  'civile',\n",
              "  'puis',\n",
              "  'dit',\n",
              "  'que',\n",
              "  'les',\n",
              "  'éléments',\n",
              "  'constitutifs',\n",
              "  'du',\n",
              "  'délit',\n",
              "  'd',\n",
              "  'homicide',\n",
              "  'involontaire',\n",
              "  'sont',\n",
              "  'réunis',\n",
              "  'à',\n",
              "  'l',\n",
              "  'encontre',\n",
              "  'de',\n",
              "  'x',\n",
              "  'dans',\n",
              "  'les',\n",
              "  'termes',\n",
              "  'de',\n",
              "  'la',\n",
              "  'citation',\n",
              "  'le',\n",
              "  'condamnant',\n",
              "  'dès',\n",
              "  'lors',\n",
              "  'à',\n",
              "  'diverses',\n",
              "  'indemnités',\n",
              "  'au',\n",
              "  'profit',\n",
              "  'des',\n",
              "  'parties',\n",
              "  'civiles',\n",
              "  'la',\n",
              "  'cohu',\n",
              "  'étant',\n",
              "  'en',\n",
              "  'outre',\n",
              "  'dite',\n",
              "  'civilement',\n",
              "  'responsable',\n",
              "  'de',\n",
              "  'son',\n",
              "  'préposé',\n",
              "  'x',\n",
              "  'quot',\n",
              "  'aux',\n",
              "  'motifs',\n",
              "  'que',\n",
              "  'les',\n",
              "  'dispositions',\n",
              "  'pénales',\n",
              "  'du',\n",
              "  'jugement',\n",
              "  'relaxant',\n",
              "  'x',\n",
              "  'n',\n",
              "  'étant',\n",
              "  'frappées',\n",
              "  'd',\n",
              "  'aucun',\n",
              "  'appel',\n",
              "  'sont',\n",
              "  'définitives',\n",
              "  'mais',\n",
              "  'qu',\n",
              "  'au',\n",
              "  'regard',\n",
              "  'des',\n",
              "  'appels',\n",
              "  'des',\n",
              "  'parties',\n",
              "  'civiles',\n",
              "  'la',\n",
              "  'demande',\n",
              "  'de',\n",
              "  'renvoi',\n",
              "  'devant',\n",
              "  'la',\n",
              "  'juridiction',\n",
              "  'civile',\n",
              "  'formée',\n",
              "  'par',\n",
              "  'x',\n",
              "  'et',\n",
              "  'la',\n",
              "  'cohu',\n",
              "  'sur',\n",
              "  'le',\n",
              "  'fondement',\n",
              "  'de',\n",
              "  'l',\n",
              "  'article',\n",
              "  'du',\n",
              "  'code',\n",
              "  'de',\n",
              "  'procédure',\n",
              "  'pénale',\n",
              "  'repose',\n",
              "  'sur',\n",
              "  'une',\n",
              "  'interprétation',\n",
              "  'erronée',\n",
              "  'du',\n",
              "  'texte',\n",
              "  'susvisé',\n",
              "  'qu',\n",
              "  'en',\n",
              "  'effet',\n",
              "  'présentée',\n",
              "  'au',\n",
              "  'principal',\n",
              "  'elle',\n",
              "  'méconnaît',\n",
              "  'que',\n",
              "  'le',\n",
              "  'renvoi',\n",
              "  'prévu',\n",
              "  'dans',\n",
              "  'ledit',\n",
              "  'article',\n",
              "  'ne',\n",
              "  'peut',\n",
              "  'intervenir',\n",
              "  'que',\n",
              "  'si',\n",
              "  'la',\n",
              "  'relaxe',\n",
              "  'du',\n",
              "  'prévenu',\n",
              "  'est',\n",
              "  'prononcée',\n",
              "  'que',\n",
              "  'la',\n",
              "  'cour',\n",
              "  'ne',\n",
              "  'saurait',\n",
              "  'donc',\n",
              "  'ordonner',\n",
              "  'le',\n",
              "  'renvoi',\n",
              "  'sollicité',\n",
              "  'qu',\n",
              "  'après',\n",
              "  'examen',\n",
              "  'dans',\n",
              "  'les',\n",
              "  'limites',\n",
              "  'des',\n",
              "  'appels',\n",
              "  'du',\n",
              "  'bien',\n",
              "  'fondé',\n",
              "  'de',\n",
              "  'la',\n",
              "  'poursuite',\n",
              "  'exercée',\n",
              "  'contre',\n",
              "  'x',\n",
              "  'pour',\n",
              "  'homicide',\n",
              "  'involontaire',\n",
              "  'et',\n",
              "  'seulement',\n",
              "  'si',\n",
              "  'la',\n",
              "  'relaxe',\n",
              "  'est',\n",
              "  'confirmée',\n",
              "  'quot',\n",
              "  'alors',\n",
              "  'd',\n",
              "  'une',\n",
              "  'part',\n",
              "  'que',\n",
              "  'l',\n",
              "  'arrêt',\n",
              "  'ne',\n",
              "  'répond',\n",
              "  'pas',\n",
              "  'aux',\n",
              "  'conclusions',\n",
              "  'de',\n",
              "  'x',\n",
              "  'et',\n",
              "  'de',\n",
              "  'la',\n",
              "  'cohu',\n",
              "  'se',\n",
              "  'prévalant',\n",
              "  'non',\n",
              "  'seulement',\n",
              "  'de',\n",
              "  'la',\n",
              "  'relaxe',\n",
              "  'définitive',\n",
              "  'de',\n",
              "  'x',\n",
              "  'mais',\n",
              "  'essentiellement',\n",
              "  'du',\n",
              "  'fait',\n",
              "  'que',\n",
              "  'les',\n",
              "  'tiers',\n",
              "  'responsables',\n",
              "  'du',\n",
              "  'défaut',\n",
              "  'de',\n",
              "  'signalisation',\n",
              "  'du',\n",
              "  'chantier',\n",
              "  'devaient',\n",
              "  'être',\n",
              "  'mis',\n",
              "  'en',\n",
              "  'cause',\n",
              "  'dans',\n",
              "  'les',\n",
              "  'conditions',\n",
              "  'définies',\n",
              "  'par',\n",
              "  'l',\n",
              "  'article',\n",
              "  'du',\n",
              "  'code',\n",
              "  'de',\n",
              "  'procédure',\n",
              "  'pénale',\n",
              "  'quot',\n",
              "  'alors',\n",
              "  'd',\n",
              "  'autre',\n",
              "  'part',\n",
              "  'et',\n",
              "  'en',\n",
              "  'toute',\n",
              "  'hypothèse',\n",
              "  'que',\n",
              "  'l',\n",
              "  'arrêt',\n",
              "  'ne',\n",
              "  'pouvait',\n",
              "  'se',\n",
              "  'refuser',\n",
              "  'à',\n",
              "  'un',\n",
              "  'renvoi',\n",
              "  'devant',\n",
              "  'la',\n",
              "  'juridiction',\n",
              "  'civile',\n",
              "  'dès',\n",
              "  'lors',\n",
              "  'qu',\n",
              "  'il',\n",
              "  'confirmait',\n",
              "  'la',\n",
              "  'relaxe',\n",
              "  'de',\n",
              "  'x',\n",
              "  'et',\n",
              "  'des',\n",
              "  'fautes',\n",
              "  'de',\n",
              "  'signalisation',\n",
              "  'imputables',\n",
              "  'aux',\n",
              "  'agents',\n",
              "  'des',\n",
              "  'p',\n",
              "  'et',\n",
              "  't',\n",
              "  'et',\n",
              "  'de',\n",
              "  'la',\n",
              "  'sect',\n",
              "  'et',\n",
              "  'constatait',\n",
              "  'que',\n",
              "  'ces',\n",
              "  'personnes',\n",
              "  'étaient',\n",
              "  'absentes',\n",
              "  'de',\n",
              "  'la',\n",
              "  'procédure',\n",
              "  'pénale',\n",
              "  'arrêt',\n",
              "  'p'],\n",
              " ['quot',\n",
              "  'attendu',\n",
              "  'qu',\n",
              "  'il',\n",
              "  'appert',\n",
              "  'de',\n",
              "  'l',\n",
              "  'arrêt',\n",
              "  'attaqué',\n",
              "  'que',\n",
              "  'x',\n",
              "  'ayant',\n",
              "  'percuté',\n",
              "  'de',\n",
              "  'plein',\n",
              "  'fouet',\n",
              "  'au',\n",
              "  'volant',\n",
              "  'd',\n",
              "  'un',\n",
              "  'camion',\n",
              "  'citerne',\n",
              "  'appartenant',\n",
              "  'à',\n",
              "  'la',\n",
              "  'quot',\n",
              "  'compagnie',\n",
              "  'des',\n",
              "  'huiles',\n",
              "  'usagées',\n",
              "  'cohu',\n",
              "  'quot',\n",
              "  'un',\n",
              "  'chantier',\n",
              "  'de',\n",
              "  'l',\n",
              "  'administration',\n",
              "  'des',\n",
              "  'p',\n",
              "  'et',\n",
              "  't',\n",
              "  'qui',\n",
              "  'avait',\n",
              "  'été',\n",
              "  'installé',\n",
              "  'sur',\n",
              "  'la',\n",
              "  'chaussée',\n",
              "  'd',\n",
              "  'une',\n",
              "  'route',\n",
              "  'nationale',\n",
              "  'par',\n",
              "  'la',\n",
              "  'quot',\n",
              "  'société',\n",
              "  'd',\n",
              "  'entreprise',\n",
              "  'carrière',\n",
              "  'et',\n",
              "  'transports',\n",
              "  'sect',\n",
              "  'quot',\n",
              "  'cinq',\n",
              "  'personnes',\n",
              "  'travaillant',\n",
              "  'sur',\n",
              "  'ce',\n",
              "  'chantier',\n",
              "  'ont',\n",
              "  'été',\n",
              "  'tuées',\n",
              "  'qu',\n",
              "  'ayant',\n",
              "  'été',\n",
              "  'poursuivi',\n",
              "  'du',\n",
              "  'chef',\n",
              "  'd',\n",
              "  'homicides',\n",
              "  'involontaires',\n",
              "  'le',\n",
              "  'prévenu',\n",
              "  'a',\n",
              "  'été',\n",
              "  'relaxé',\n",
              "  'par',\n",
              "  'le',\n",
              "  'tribunal',\n",
              "  'et',\n",
              "  'les',\n",
              "  'parties',\n",
              "  'civiles',\n",
              "  'déboutées',\n",
              "  'que',\n",
              "  'seules',\n",
              "  'ces',\n",
              "  'dernières',\n",
              "  'ont',\n",
              "  'relevé',\n",
              "  'appel',\n",
              "  'attendu',\n",
              "  'que',\n",
              "  'pour',\n",
              "  'écarter',\n",
              "  'la',\n",
              "  'demande',\n",
              "  'de',\n",
              "  'x',\n",
              "  'et',\n",
              "  'de',\n",
              "  'la',\n",
              "  'compagnie',\n",
              "  'des',\n",
              "  'huiles',\n",
              "  'usagées',\n",
              "  'tendant',\n",
              "  'à',\n",
              "  'appliquer',\n",
              "  'en',\n",
              "  'l',\n",
              "  'occurrence',\n",
              "  'les',\n",
              "  'dispositions',\n",
              "  'de',\n",
              "  'l',\n",
              "  'article',\n",
              "  'alinéa',\n",
              "  'du',\n",
              "  'code',\n",
              "  'de',\n",
              "  'procédure',\n",
              "  'pénale',\n",
              "  'qui',\n",
              "  'permettent',\n",
              "  'quand',\n",
              "  'il',\n",
              "  'apparaît',\n",
              "  'que',\n",
              "  'des',\n",
              "  'tiers',\n",
              "  'responsables',\n",
              "  'doivent',\n",
              "  'être',\n",
              "  'mis',\n",
              "  'en',\n",
              "  'cause',\n",
              "  'de',\n",
              "  'renvoyer',\n",
              "  'l',\n",
              "  'affaire',\n",
              "  'devant',\n",
              "  'la',\n",
              "  'juridiction',\n",
              "  'civile',\n",
              "  'compétente',\n",
              "  'les',\n",
              "  'juges',\n",
              "  'du',\n",
              "  'second',\n",
              "  'degré',\n",
              "  'énoncent',\n",
              "  'que',\n",
              "  'cette',\n",
              "  'demande',\n",
              "  'quot',\n",
              "  'repose',\n",
              "  'sur',\n",
              "  'une',\n",
              "  'interprétation',\n",
              "  'erronée',\n",
              "  'de',\n",
              "  'ce',\n",
              "  'texte',\n",
              "  'qu',\n",
              "  'en',\n",
              "  'effet',\n",
              "  'présentée',\n",
              "  'au',\n",
              "  'principal',\n",
              "  'elle',\n",
              "  'méconnaît',\n",
              "  'que',\n",
              "  'le',\n",
              "  'renvoi',\n",
              "  'prévu',\n",
              "  'par',\n",
              "  'la',\n",
              "  'loi',\n",
              "  'ne',\n",
              "  'peut',\n",
              "  'intervenir',\n",
              "  'que',\n",
              "  'si',\n",
              "  'est',\n",
              "  'confirmée',\n",
              "  'la',\n",
              "  'relaxe',\n",
              "  'prononcée',\n",
              "  'en',\n",
              "  'première',\n",
              "  'instance',\n",
              "  'quot',\n",
              "  'attendu',\n",
              "  'que',\n",
              "  'les',\n",
              "  'même',\n",
              "  'juges',\n",
              "  'après',\n",
              "  'avoir',\n",
              "  'constaté',\n",
              "  'qu',\n",
              "  'en',\n",
              "  'l',\n",
              "  'absence',\n",
              "  'd',\n",
              "  'un',\n",
              "  'appel',\n",
              "  'du',\n",
              "  'ministère',\n",
              "  'public',\n",
              "  'les',\n",
              "  'dispositions',\n",
              "  'pénales',\n",
              "  'du',\n",
              "  'jugement',\n",
              "  'sont',\n",
              "  'devenues',\n",
              "  'définitives',\n",
              "  'et',\n",
              "  'qu',\n",
              "  'ils',\n",
              "  'ne',\n",
              "  'peuvent',\n",
              "  'donc',\n",
              "  'quot',\n",
              "  'émettre',\n",
              "  'une',\n",
              "  'déclaration',\n",
              "  'de',\n",
              "  'culpabilité',\n",
              "  'et',\n",
              "  'infliger',\n",
              "  'des',\n",
              "  'peines',\n",
              "  'quot',\n",
              "  'exposent',\n",
              "  'alors',\n",
              "  'les',\n",
              "  'raisons',\n",
              "  'pour',\n",
              "  'lesquelles',\n",
              "  'ils',\n",
              "  'considèrent',\n",
              "  'à',\n",
              "  'l',\n",
              "  'inverse',\n",
              "  'du',\n",
              "  'tribunal',\n",
              "  'que',\n",
              "  'sont',\n",
              "  'réunis',\n",
              "  'à',\n",
              "  'la',\n",
              "  'charge',\n",
              "  'du',\n",
              "  'prévenu',\n",
              "  'les',\n",
              "  'éléments',\n",
              "  'constitutifs',\n",
              "  'de',\n",
              "  'l',\n",
              "  'infraction',\n",
              "  'poursuivie',\n",
              "  'et',\n",
              "  'qu',\n",
              "  'il',\n",
              "  'convient',\n",
              "  'en',\n",
              "  'conséquence',\n",
              "  'de',\n",
              "  'recevoir',\n",
              "  'les',\n",
              "  'constitutions',\n",
              "  'de',\n",
              "  'partie',\n",
              "  'civile',\n",
              "  'des',\n",
              "  'ayants',\n",
              "  'droit',\n",
              "  'des',\n",
              "  'victimes',\n",
              "  'encore',\n",
              "  'en',\n",
              "  'cause',\n",
              "  'tout',\n",
              "  'en',\n",
              "  'déclarant',\n",
              "  'la',\n",
              "  'cohu',\n",
              "  'civilement',\n",
              "  'responsable',\n",
              "  'de',\n",
              "  'x',\n",
              "  'attendu',\n",
              "  'qu',\n",
              "  'en',\n",
              "  'cet',\n",
              "  'état',\n",
              "  'la',\n",
              "  'cour',\n",
              "  'd',\n",
              "  'appel',\n",
              "  'n',\n",
              "  'a',\n",
              "  'pas',\n",
              "  'encouru',\n",
              "  'les',\n",
              "  'griefs',\n",
              "  'allégués',\n",
              "  'qu',\n",
              "  'en',\n",
              "  'effet',\n",
              "  'l',\n",
              "  'application',\n",
              "  'de',\n",
              "  'l',\n",
              "  'article',\n",
              "  'alinéa',\n",
              "  'du',\n",
              "  'code',\n",
              "  'de',\n",
              "  'procédure',\n",
              "  'pénale',\n",
              "  'suppose',\n",
              "  'nécessairement',\n",
              "  'que',\n",
              "  'la',\n",
              "  'juridiction',\n",
              "  'du',\n",
              "  'second',\n",
              "  'degré',\n",
              "  'ait',\n",
              "  'confirmé',\n",
              "  'la',\n",
              "  'relaxe',\n",
              "  'prononcée',\n",
              "  'en',\n",
              "  'première',\n",
              "  'instance',\n",
              "  'ou',\n",
              "  'si',\n",
              "  'elle',\n",
              "  'n',\n",
              "  'avait',\n",
              "  'été',\n",
              "  'saisie',\n",
              "  'que',\n",
              "  'par',\n",
              "  'la',\n",
              "  'partie',\n",
              "  'civile',\n",
              "  'ait',\n",
              "  'exonéré',\n",
              "  'de',\n",
              "  'toute',\n",
              "  'faute',\n",
              "  'le',\n",
              "  'prévenu',\n",
              "  'qu',\n",
              "  'en',\n",
              "  'revanche',\n",
              "  'elle',\n",
              "  'ne',\n",
              "  'saurait',\n",
              "  'être',\n",
              "  'admise',\n",
              "  'quand',\n",
              "  'comme',\n",
              "  'en',\n",
              "  'l',\n",
              "  'espèce',\n",
              "  'les',\n",
              "  'juges',\n",
              "  'ont',\n",
              "  'au',\n",
              "  'contraire',\n",
              "  'estimé',\n",
              "  'constituée',\n",
              "  'même',\n",
              "  'si',\n",
              "  'elle',\n",
              "  'ne',\n",
              "  'pouvait',\n",
              "  'plus',\n",
              "  'être',\n",
              "  'réprimée',\n",
              "  'pénalement',\n",
              "  'l',\n",
              "  'infraction',\n",
              "  'visée',\n",
              "  'par',\n",
              "  'la',\n",
              "  'poursuite',\n",
              "  'd',\n",
              "  'où',\n",
              "  'il',\n",
              "  'suit',\n",
              "  'que',\n",
              "  'le',\n",
              "  'moyen',\n",
              "  'n',\n",
              "  'est',\n",
              "  'pas',\n",
              "  'fondé',\n",
              "  'sur',\n",
              "  'le',\n",
              "  'second',\n",
              "  'moyen',\n",
              "  'de',\n",
              "  'cassation',\n",
              "  'pris',\n",
              "  'de',\n",
              "  'la',\n",
              "  'violation',\n",
              "  'des',\n",
              "  'articles',\n",
              "  'du',\n",
              "  'code',\n",
              "  'pénal',\n",
              "  'du',\n",
              "  'code',\n",
              "  'civil',\n",
              "  'l']]"
            ]
          },
          "metadata": {
            "tags": []
          },
          "execution_count": 32
        }
      ]
    },
    {
      "cell_type": "code",
      "metadata": {
        "id": "La6AdUDDhgS4",
        "colab_type": "code",
        "colab": {
          "base_uri": "https://localhost:8080/",
          "height": 195
        },
        "outputId": "9f2b13db-87b0-4e5e-8355-8a513db7d62d"
      },
      "source": [
        "corpus_sent_df['tokenized_sent'] = corpus_tokens_\n",
        "corpus_sent_df.head()"
      ],
      "execution_count": null,
      "outputs": [
        {
          "output_type": "execute_result",
          "data": {
            "text/html": [
              "<div>\n",
              "<style scoped>\n",
              "    .dataframe tbody tr th:only-of-type {\n",
              "        vertical-align: middle;\n",
              "    }\n",
              "\n",
              "    .dataframe tbody tr th {\n",
              "        vertical-align: top;\n",
              "    }\n",
              "\n",
              "    .dataframe thead th {\n",
              "        text-align: right;\n",
              "    }\n",
              "</style>\n",
              "<table border=\"1\" class=\"dataframe\">\n",
              "  <thead>\n",
              "    <tr style=\"text-align: right;\">\n",
              "      <th></th>\n",
              "      <th>sentence</th>\n",
              "      <th>solution</th>\n",
              "      <th>tokenized_sent</th>\n",
              "    </tr>\n",
              "  </thead>\n",
              "  <tbody>\n",
              "    <tr>\n",
              "      <th>0</th>\n",
              "      <td>SUR LE MOYEN UNIQUE : ATTENDU QUE DEMOISELLE X...</td>\n",
              "      <td>rejet</td>\n",
              "      <td>[sur, le, moyen, unique, attendu, que, demoise...</td>\n",
              "    </tr>\n",
              "    <tr>\n",
              "      <th>1</th>\n",
              "      <td>LE BENEFICE DES INDEMNITES JOURNALIERES POUR L...</td>\n",
              "      <td>rejet</td>\n",
              "      <td>[le, benefice, des, indemnites, journalieres, ...</td>\n",
              "    </tr>\n",
              "    <tr>\n",
              "      <th>2</th>\n",
              "      <td>REJET du pourvoi formé par : - X ... Jean - Fr...</td>\n",
              "      <td>rejet</td>\n",
              "      <td>[rejet, du, pourvoi, formé, par, x, jean, fran...</td>\n",
              "    </tr>\n",
              "    <tr>\n",
              "      <th>3</th>\n",
              "      <td>LA COUR , Vu les mémoires produits en demande ...</td>\n",
              "      <td>rejet</td>\n",
              "      <td>[la, cour, vu, les, mémoires, produits, en, de...</td>\n",
              "    </tr>\n",
              "    <tr>\n",
              "      <th>4</th>\n",
              "      <td>16 § 3 ) &amp; quot ; ; Attendu qu ' il appert de ...</td>\n",
              "      <td>rejet</td>\n",
              "      <td>[quot, attendu, qu, il, appert, de, l, arrêt, ...</td>\n",
              "    </tr>\n",
              "  </tbody>\n",
              "</table>\n",
              "</div>"
            ],
            "text/plain": [
              "                                            sentence  ...                                     tokenized_sent\n",
              "0  SUR LE MOYEN UNIQUE : ATTENDU QUE DEMOISELLE X...  ...  [sur, le, moyen, unique, attendu, que, demoise...\n",
              "1  LE BENEFICE DES INDEMNITES JOURNALIERES POUR L...  ...  [le, benefice, des, indemnites, journalieres, ...\n",
              "2  REJET du pourvoi formé par : - X ... Jean - Fr...  ...  [rejet, du, pourvoi, formé, par, x, jean, fran...\n",
              "3  LA COUR , Vu les mémoires produits en demande ...  ...  [la, cour, vu, les, mémoires, produits, en, de...\n",
              "4  16 § 3 ) & quot ; ; Attendu qu ' il appert de ...  ...  [quot, attendu, qu, il, appert, de, l, arrêt, ...\n",
              "\n",
              "[5 rows x 3 columns]"
            ]
          },
          "metadata": {
            "tags": []
          },
          "execution_count": 33
        }
      ]
    },
    {
      "cell_type": "code",
      "metadata": {
        "id": "uUrDyoR-hgS6",
        "colab_type": "code",
        "colab": {
          "base_uri": "https://localhost:8080/",
          "height": 571
        },
        "outputId": "f1bca517-c3b1-4fcd-aecd-f5365345a4ad"
      },
      "source": [
        "## Which documents are empty?\n",
        "[corpus_sent_df.sentence[i] for i,doc in enumerate(corpus_tokens_) if len(doc)==0]"
      ],
      "execution_count": null,
      "outputs": [
        {
          "output_type": "execute_result",
          "data": {
            "text/plain": [
              "['876 .',\n",
              " '400 .',\n",
              " '495 .',\n",
              " '89 .',\n",
              " '165 .',\n",
              " '215 .',\n",
              " '688 .',\n",
              " '853 .',\n",
              " '127 .',\n",
              " '304 .',\n",
              " '60 .',\n",
              " '082 .',\n",
              " '083 .',\n",
              " '011 .',\n",
              " '012 .',\n",
              " '657 .',\n",
              " '531 .',\n",
              " '968 .',\n",
              " '653 .',\n",
              " '896 .',\n",
              " '.',\n",
              " '332 .',\n",
              " '463 .',\n",
              " '.',\n",
              " '.',\n",
              " '605 .',\n",
              " '586 .',\n",
              " '274 .',\n",
              " '131 .',\n",
              " '284 .',\n",
              " '714 .',\n",
              " '30 .',\n",
              " '82 .']"
            ]
          },
          "metadata": {
            "tags": []
          },
          "execution_count": 34
        }
      ]
    },
    {
      "cell_type": "code",
      "metadata": {
        "id": "BRH4rVtrhgS9",
        "colab_type": "code",
        "colab": {
          "base_uri": "https://localhost:8080/",
          "height": 34
        },
        "outputId": "3059e9f9-686d-4411-8902-992be4b7ca49"
      },
      "source": [
        "## Word frequency distribution\n",
        "corpus_words_ = [word for sent in corpus_sent_df.tokenized_sent for word in sent]\n",
        "fdist2 = FreqDist(corpus_words_)\n",
        "fdist2.N(),fdist2.B()"
      ],
      "execution_count": null,
      "outputs": [
        {
          "output_type": "execute_result",
          "data": {
            "text/plain": [
              "(86029, 6427)"
            ]
          },
          "metadata": {
            "tags": []
          },
          "execution_count": 35
        }
      ]
    },
    {
      "cell_type": "code",
      "metadata": {
        "id": "oGx9hSAChgTB",
        "colab_type": "code",
        "colab": {
          "base_uri": "https://localhost:8080/",
          "height": 185
        },
        "outputId": "461b56af-8fff-47cc-b964-acab87e2d5a5"
      },
      "source": [
        "fdist2.most_common(10)"
      ],
      "execution_count": null,
      "outputs": [
        {
          "output_type": "execute_result",
          "data": {
            "text/plain": [
              "[('de', 5063),\n",
              " ('la', 3431),\n",
              " ('l', 2630),\n",
              " ('que', 2013),\n",
              " ('le', 1982),\n",
              " ('d', 1893),\n",
              " ('du', 1886),\n",
              " ('et', 1719),\n",
              " ('en', 1545),\n",
              " ('a', 1442)]"
            ]
          },
          "metadata": {
            "tags": []
          },
          "execution_count": 36
        }
      ]
    },
    {
      "cell_type": "markdown",
      "metadata": {
        "id": "4eFdv1HBhgTD",
        "colab_type": "text"
      },
      "source": [
        "### Fix common orthographic errors\n",
        "- 'œ' --> 'oe'\n",
        "\n",
        "**TO BE FINISHED ...**"
      ]
    },
    {
      "cell_type": "code",
      "metadata": {
        "id": "cILxOVYqhgTE",
        "colab_type": "code",
        "colab": {}
      },
      "source": [
        "# strange characters\n",
        "#for c in ['ù', 'û', 'ô', 'â', 'î', 'ù', '5', '1', '3']:\n",
        "#    print(c,fdist1[c])"
      ],
      "execution_count": null,
      "outputs": []
    },
    {
      "cell_type": "code",
      "metadata": {
        "id": "le4wgFnvhgTJ",
        "colab_type": "code",
        "colab": {
          "base_uri": "https://localhost:8080/",
          "height": 34
        },
        "outputId": "399d1782-f56a-49ec-a859-9efb5af5fc77"
      },
      "source": [
        "fdist1['œ'],len('œ')"
      ],
      "execution_count": null,
      "outputs": [
        {
          "output_type": "execute_result",
          "data": {
            "text/plain": [
              "(0, 1)"
            ]
          },
          "metadata": {
            "tags": []
          },
          "execution_count": 38
        }
      ]
    },
    {
      "cell_type": "code",
      "metadata": {
        "id": "twE-JvU8hgTM",
        "colab_type": "code",
        "colab": {
          "base_uri": "https://localhost:8080/",
          "height": 34
        },
        "outputId": "e9a4a237-6c05-4ca0-bc87-26ac67dc1cd4"
      },
      "source": [
        "fdist1['à'],fdist1['a']"
      ],
      "execution_count": null,
      "outputs": [
        {
          "output_type": "execute_result",
          "data": {
            "text/plain": [
              "(1181, 20619)"
            ]
          },
          "metadata": {
            "tags": []
          },
          "execution_count": 39
        }
      ]
    },
    {
      "cell_type": "code",
      "metadata": {
        "id": "-C5698CQhgTR",
        "colab_type": "code",
        "colab": {
          "base_uri": "https://localhost:8080/",
          "height": 34
        },
        "outputId": "7a6000ba-b248-45b0-9ae3-9d925504d58a"
      },
      "source": [
        "fdist2['à'],fdist2['a']"
      ],
      "execution_count": null,
      "outputs": [
        {
          "output_type": "execute_result",
          "data": {
            "text/plain": [
              "(1165, 1442)"
            ]
          },
          "metadata": {
            "tags": []
          },
          "execution_count": 40
        }
      ]
    },
    {
      "cell_type": "code",
      "metadata": {
        "id": "ySdji4x8hgTU",
        "colab_type": "code",
        "colab": {}
      },
      "source": [
        "        "
      ],
      "execution_count": null,
      "outputs": []
    },
    {
      "cell_type": "code",
      "metadata": {
        "id": "FkCR-lzzhgTX",
        "colab_type": "code",
        "colab": {}
      },
      "source": [
        ""
      ],
      "execution_count": null,
      "outputs": []
    },
    {
      "cell_type": "markdown",
      "metadata": {
        "id": "7CYuASoshgTa",
        "colab_type": "text"
      },
      "source": [
        "### Remove stopwords\n",
        "We will use NLTK's default list of stop worsd for the French language."
      ]
    },
    {
      "cell_type": "markdown",
      "metadata": {
        "id": "wd3sK54HhgTa",
        "colab_type": "text"
      },
      "source": [
        "#### Load standard list of stop words"
      ]
    },
    {
      "cell_type": "code",
      "metadata": {
        "id": "3FDjQYKMhgTb",
        "colab_type": "code",
        "colab": {
          "base_uri": "https://localhost:8080/",
          "height": 67
        },
        "outputId": "4d5a83d9-6fd6-44f9-8161-5ab9277eb181"
      },
      "source": [
        "# Load NLTK stop words\n",
        "import nltk\n",
        "nltk.download('stopwords')\n",
        "stop_words_fr = stopwords.words('french')\n",
        "stop_words_fr = set(stop_words_fr)\n",
        "len(stop_words_fr)"
      ],
      "execution_count": null,
      "outputs": [
        {
          "output_type": "stream",
          "text": [
            "[nltk_data] Downloading package stopwords to /root/nltk_data...\n",
            "[nltk_data]   Unzipping corpora/stopwords.zip.\n"
          ],
          "name": "stdout"
        },
        {
          "output_type": "execute_result",
          "data": {
            "text/plain": [
              "157"
            ]
          },
          "metadata": {
            "tags": []
          },
          "execution_count": 41
        }
      ]
    },
    {
      "cell_type": "code",
      "metadata": {
        "id": "LYLNphYrhgTd",
        "colab_type": "code",
        "colab": {
          "base_uri": "https://localhost:8080/",
          "height": 34
        },
        "outputId": "90b95e50-e0e0-497b-8aab-1f218a19f064"
      },
      "source": [
        "#we can also add an entire list of words\n",
        "stop_words_fr = stop_words_fr |  {'celle', 'celles', 'certain', 'certains', 'les','ils', 'elles', 'avoir', 'être', 'parce','où','si','chaque','donc','dont','encore','faut','quand','tant','tel','va','ici', 'ça'}\n",
        "len(stop_words_fr)"
      ],
      "execution_count": null,
      "outputs": [
        {
          "output_type": "execute_result",
          "data": {
            "text/plain": [
              "178"
            ]
          },
          "metadata": {
            "tags": []
          },
          "execution_count": 42
        }
      ]
    },
    {
      "cell_type": "code",
      "metadata": {
        "scrolled": true,
        "id": "HSbhuUyWhgTg",
        "colab_type": "code",
        "colab": {
          "base_uri": "https://localhost:8080/",
          "height": 34
        },
        "outputId": "de1b65c2-4838-439e-90bd-a21c3977f0b6"
      },
      "source": [
        "stop_words_fr = stop_words_fr - {'ne', 'pas'}\n",
        "len(stop_words_fr)"
      ],
      "execution_count": null,
      "outputs": [
        {
          "output_type": "execute_result",
          "data": {
            "text/plain": [
              "176"
            ]
          },
          "metadata": {
            "tags": []
          },
          "execution_count": 43
        }
      ]
    },
    {
      "cell_type": "markdown",
      "metadata": {
        "id": "dUAUzQPxhgTk",
        "colab_type": "text"
      },
      "source": [
        "#### EDA - Customize stop words to current corpus"
      ]
    },
    {
      "cell_type": "code",
      "metadata": {
        "id": "oqQ3W-eghgTl",
        "colab_type": "code",
        "colab": {
          "base_uri": "https://localhost:8080/",
          "height": 34
        },
        "outputId": "9f8a3d91-2c7f-4274-b0f0-7ebc2eae0a32"
      },
      "source": [
        "# Visually inspect words that are common in the corpus but are not in our stopwords list\n",
        "u1 = pd.DataFrame([(word,freq) for word,freq in fdist2.most_common(100) if word not in stop_words_fr])\n",
        "u1.columns = ['word', 'frequency']\n",
        "len(u1)"
      ],
      "execution_count": null,
      "outputs": [
        {
          "output_type": "execute_result",
          "data": {
            "text/plain": [
              "51"
            ]
          },
          "metadata": {
            "tags": []
          },
          "execution_count": 44
        }
      ]
    },
    {
      "cell_type": "code",
      "metadata": {
        "id": "pRUgEmtahgTn",
        "colab_type": "code",
        "colab": {
          "base_uri": "https://localhost:8080/",
          "height": 935
        },
        "outputId": "8b6f8653-8059-4e79-84e8-1efcc02fb1e8"
      },
      "source": [
        "u1.sort_values('frequency', ascending=False).head(30)"
      ],
      "execution_count": null,
      "outputs": [
        {
          "output_type": "execute_result",
          "data": {
            "text/html": [
              "<div>\n",
              "<style scoped>\n",
              "    .dataframe tbody tr th:only-of-type {\n",
              "        vertical-align: middle;\n",
              "    }\n",
              "\n",
              "    .dataframe tbody tr th {\n",
              "        vertical-align: top;\n",
              "    }\n",
              "\n",
              "    .dataframe thead th {\n",
              "        text-align: right;\n",
              "    }\n",
              "</style>\n",
              "<table border=\"1\" class=\"dataframe\">\n",
              "  <thead>\n",
              "    <tr style=\"text-align: right;\">\n",
              "      <th></th>\n",
              "      <th>word</th>\n",
              "      <th>frequency</th>\n",
              "    </tr>\n",
              "  </thead>\n",
              "  <tbody>\n",
              "    <tr>\n",
              "      <th>0</th>\n",
              "      <td>a</td>\n",
              "      <td>1442</td>\n",
              "    </tr>\n",
              "    <tr>\n",
              "      <th>1</th>\n",
              "      <td>pas</td>\n",
              "      <td>564</td>\n",
              "    </tr>\n",
              "    <tr>\n",
              "      <th>2</th>\n",
              "      <td>cour</td>\n",
              "      <td>524</td>\n",
              "    </tr>\n",
              "    <tr>\n",
              "      <th>3</th>\n",
              "      <td>appel</td>\n",
              "      <td>445</td>\n",
              "    </tr>\n",
              "    <tr>\n",
              "      <th>4</th>\n",
              "      <td>article</td>\n",
              "      <td>434</td>\n",
              "    </tr>\n",
              "    <tr>\n",
              "      <th>5</th>\n",
              "      <td>ne</td>\n",
              "      <td>421</td>\n",
              "    </tr>\n",
              "    <tr>\n",
              "      <th>6</th>\n",
              "      <td>attendu</td>\n",
              "      <td>413</td>\n",
              "    </tr>\n",
              "    <tr>\n",
              "      <th>7</th>\n",
              "      <td>code</td>\n",
              "      <td>391</td>\n",
              "    </tr>\n",
              "    <tr>\n",
              "      <th>8</th>\n",
              "      <td>x</td>\n",
              "      <td>363</td>\n",
              "    </tr>\n",
              "    <tr>\n",
              "      <th>9</th>\n",
              "      <td>arrêt</td>\n",
              "      <td>350</td>\n",
              "    </tr>\n",
              "    <tr>\n",
              "      <th>10</th>\n",
              "      <td>moyen</td>\n",
              "      <td>339</td>\n",
              "    </tr>\n",
              "    <tr>\n",
              "      <th>11</th>\n",
              "      <td>société</td>\n",
              "      <td>300</td>\n",
              "    </tr>\n",
              "    <tr>\n",
              "      <th>12</th>\n",
              "      <td>fait</td>\n",
              "      <td>296</td>\n",
              "    </tr>\n",
              "    <tr>\n",
              "      <th>13</th>\n",
              "      <td>quot</td>\n",
              "      <td>244</td>\n",
              "    </tr>\n",
              "    <tr>\n",
              "      <th>14</th>\n",
              "      <td>droit</td>\n",
              "      <td>230</td>\n",
              "    </tr>\n",
              "    <tr>\n",
              "      <th>15</th>\n",
              "      <td>alors</td>\n",
              "      <td>229</td>\n",
              "    </tr>\n",
              "    <tr>\n",
              "      <th>16</th>\n",
              "      <td>br</td>\n",
              "      <td>216</td>\n",
              "    </tr>\n",
              "    <tr>\n",
              "      <th>17</th>\n",
              "      <td>clear</td>\n",
              "      <td>216</td>\n",
              "    </tr>\n",
              "    <tr>\n",
              "      <th>18</th>\n",
              "      <td>none</td>\n",
              "      <td>216</td>\n",
              "    </tr>\n",
              "    <tr>\n",
              "      <th>19</th>\n",
              "      <td>motifs</td>\n",
              "      <td>208</td>\n",
              "    </tr>\n",
              "    <tr>\n",
              "      <th>20</th>\n",
              "      <td>travail</td>\n",
              "      <td>185</td>\n",
              "    </tr>\n",
              "    <tr>\n",
              "      <th>21</th>\n",
              "      <td>sans</td>\n",
              "      <td>177</td>\n",
              "    </tr>\n",
              "    <tr>\n",
              "      <th>22</th>\n",
              "      <td>ainsi</td>\n",
              "      <td>177</td>\n",
              "    </tr>\n",
              "    <tr>\n",
              "      <th>23</th>\n",
              "      <td>cette</td>\n",
              "      <td>175</td>\n",
              "    </tr>\n",
              "    <tr>\n",
              "      <th>24</th>\n",
              "      <td>arret</td>\n",
              "      <td>154</td>\n",
              "    </tr>\n",
              "    <tr>\n",
              "      <th>25</th>\n",
              "      <td>parties</td>\n",
              "      <td>151</td>\n",
              "    </tr>\n",
              "    <tr>\n",
              "      <th>26</th>\n",
              "      <td>cassation</td>\n",
              "      <td>143</td>\n",
              "    </tr>\n",
              "    <tr>\n",
              "      <th>27</th>\n",
              "      <td>civile</td>\n",
              "      <td>139</td>\n",
              "    </tr>\n",
              "    <tr>\n",
              "      <th>28</th>\n",
              "      <td>cause</td>\n",
              "      <td>137</td>\n",
              "    </tr>\n",
              "    <tr>\n",
              "      <th>29</th>\n",
              "      <td>procédure</td>\n",
              "      <td>136</td>\n",
              "    </tr>\n",
              "  </tbody>\n",
              "</table>\n",
              "</div>"
            ],
            "text/plain": [
              "         word  frequency\n",
              "0           a       1442\n",
              "1         pas        564\n",
              "2        cour        524\n",
              "3       appel        445\n",
              "4     article        434\n",
              "5          ne        421\n",
              "6     attendu        413\n",
              "7        code        391\n",
              "8           x        363\n",
              "9       arrêt        350\n",
              "10      moyen        339\n",
              "11    société        300\n",
              "12       fait        296\n",
              "13       quot        244\n",
              "14      droit        230\n",
              "15      alors        229\n",
              "16         br        216\n",
              "17      clear        216\n",
              "18       none        216\n",
              "19     motifs        208\n",
              "20    travail        185\n",
              "21       sans        177\n",
              "22      ainsi        177\n",
              "23      cette        175\n",
              "24      arret        154\n",
              "25    parties        151\n",
              "26  cassation        143\n",
              "27     civile        139\n",
              "28      cause        137\n",
              "29  procédure        136"
            ]
          },
          "metadata": {
            "tags": []
          },
          "execution_count": 45
        }
      ]
    },
    {
      "cell_type": "code",
      "metadata": {
        "id": "no2dvAq2hgTv",
        "colab_type": "code",
        "colab": {
          "base_uri": "https://localhost:8080/",
          "height": 34
        },
        "outputId": "6c21e7ab-edde-4558-fc46-ccb0c24974bd"
      },
      "source": [
        "# Visually inspect words that are stopwords and are sufficiently common in this corpus\n",
        "u2 = pd.DataFrame([(word,fdist2[word]) for word in stop_words_fr if fdist2[word]>=3])\n",
        "u2.columns = ['word', 'frequency']\n",
        "len(u2)"
      ],
      "execution_count": null,
      "outputs": [
        {
          "output_type": "execute_result",
          "data": {
            "text/plain": [
              "90"
            ]
          },
          "metadata": {
            "tags": []
          },
          "execution_count": 46
        }
      ]
    },
    {
      "cell_type": "code",
      "metadata": {
        "id": "RSLn3TqrhgTz",
        "colab_type": "code",
        "colab": {
          "base_uri": "https://localhost:8080/",
          "height": 1000
        },
        "outputId": "d53971dc-163c-4a2a-b244-fb3929cc5be8"
      },
      "source": [
        "u2.sort_values('frequency', ascending=False).head(35)"
      ],
      "execution_count": null,
      "outputs": [
        {
          "output_type": "execute_result",
          "data": {
            "text/html": [
              "<div>\n",
              "<style scoped>\n",
              "    .dataframe tbody tr th:only-of-type {\n",
              "        vertical-align: middle;\n",
              "    }\n",
              "\n",
              "    .dataframe tbody tr th {\n",
              "        vertical-align: top;\n",
              "    }\n",
              "\n",
              "    .dataframe thead th {\n",
              "        text-align: right;\n",
              "    }\n",
              "</style>\n",
              "<table border=\"1\" class=\"dataframe\">\n",
              "  <thead>\n",
              "    <tr style=\"text-align: right;\">\n",
              "      <th></th>\n",
              "      <th>word</th>\n",
              "      <th>frequency</th>\n",
              "    </tr>\n",
              "  </thead>\n",
              "  <tbody>\n",
              "    <tr>\n",
              "      <th>33</th>\n",
              "      <td>de</td>\n",
              "      <td>5063</td>\n",
              "    </tr>\n",
              "    <tr>\n",
              "      <th>26</th>\n",
              "      <td>la</td>\n",
              "      <td>3431</td>\n",
              "    </tr>\n",
              "    <tr>\n",
              "      <th>58</th>\n",
              "      <td>l</td>\n",
              "      <td>2630</td>\n",
              "    </tr>\n",
              "    <tr>\n",
              "      <th>51</th>\n",
              "      <td>que</td>\n",
              "      <td>2013</td>\n",
              "    </tr>\n",
              "    <tr>\n",
              "      <th>22</th>\n",
              "      <td>le</td>\n",
              "      <td>1982</td>\n",
              "    </tr>\n",
              "    <tr>\n",
              "      <th>4</th>\n",
              "      <td>d</td>\n",
              "      <td>1893</td>\n",
              "    </tr>\n",
              "    <tr>\n",
              "      <th>9</th>\n",
              "      <td>du</td>\n",
              "      <td>1886</td>\n",
              "    </tr>\n",
              "    <tr>\n",
              "      <th>68</th>\n",
              "      <td>et</td>\n",
              "      <td>1719</td>\n",
              "    </tr>\n",
              "    <tr>\n",
              "      <th>49</th>\n",
              "      <td>en</td>\n",
              "      <td>1545</td>\n",
              "    </tr>\n",
              "    <tr>\n",
              "      <th>89</th>\n",
              "      <td>à</td>\n",
              "      <td>1165</td>\n",
              "    </tr>\n",
              "    <tr>\n",
              "      <th>1</th>\n",
              "      <td>les</td>\n",
              "      <td>1159</td>\n",
              "    </tr>\n",
              "    <tr>\n",
              "      <th>25</th>\n",
              "      <td>par</td>\n",
              "      <td>1119</td>\n",
              "    </tr>\n",
              "    <tr>\n",
              "      <th>76</th>\n",
              "      <td>qu</td>\n",
              "      <td>1031</td>\n",
              "    </tr>\n",
              "    <tr>\n",
              "      <th>86</th>\n",
              "      <td>des</td>\n",
              "      <td>1030</td>\n",
              "    </tr>\n",
              "    <tr>\n",
              "      <th>20</th>\n",
              "      <td>un</td>\n",
              "      <td>671</td>\n",
              "    </tr>\n",
              "    <tr>\n",
              "      <th>10</th>\n",
              "      <td>au</td>\n",
              "      <td>663</td>\n",
              "    </tr>\n",
              "    <tr>\n",
              "      <th>74</th>\n",
              "      <td>il</td>\n",
              "      <td>626</td>\n",
              "    </tr>\n",
              "    <tr>\n",
              "      <th>45</th>\n",
              "      <td>n</td>\n",
              "      <td>621</td>\n",
              "    </tr>\n",
              "    <tr>\n",
              "      <th>81</th>\n",
              "      <td>une</td>\n",
              "      <td>582</td>\n",
              "    </tr>\n",
              "    <tr>\n",
              "      <th>67</th>\n",
              "      <td>sur</td>\n",
              "      <td>560</td>\n",
              "    </tr>\n",
              "    <tr>\n",
              "      <th>71</th>\n",
              "      <td>pour</td>\n",
              "      <td>556</td>\n",
              "    </tr>\n",
              "    <tr>\n",
              "      <th>72</th>\n",
              "      <td>est</td>\n",
              "      <td>491</td>\n",
              "    </tr>\n",
              "    <tr>\n",
              "      <th>56</th>\n",
              "      <td>qui</td>\n",
              "      <td>415</td>\n",
              "    </tr>\n",
              "    <tr>\n",
              "      <th>44</th>\n",
              "      <td>dans</td>\n",
              "      <td>397</td>\n",
              "    </tr>\n",
              "    <tr>\n",
              "      <th>43</th>\n",
              "      <td>avait</td>\n",
              "      <td>334</td>\n",
              "    </tr>\n",
              "    <tr>\n",
              "      <th>24</th>\n",
              "      <td>m</td>\n",
              "      <td>328</td>\n",
              "    </tr>\n",
              "    <tr>\n",
              "      <th>13</th>\n",
              "      <td>ce</td>\n",
              "      <td>319</td>\n",
              "    </tr>\n",
              "    <tr>\n",
              "      <th>36</th>\n",
              "      <td>son</td>\n",
              "      <td>316</td>\n",
              "    </tr>\n",
              "    <tr>\n",
              "      <th>46</th>\n",
              "      <td>aux</td>\n",
              "      <td>309</td>\n",
              "    </tr>\n",
              "    <tr>\n",
              "      <th>52</th>\n",
              "      <td>sa</td>\n",
              "      <td>268</td>\n",
              "    </tr>\n",
              "    <tr>\n",
              "      <th>7</th>\n",
              "      <td>ou</td>\n",
              "      <td>264</td>\n",
              "    </tr>\n",
              "    <tr>\n",
              "      <th>27</th>\n",
              "      <td>se</td>\n",
              "      <td>223</td>\n",
              "    </tr>\n",
              "    <tr>\n",
              "      <th>61</th>\n",
              "      <td>y</td>\n",
              "      <td>223</td>\n",
              "    </tr>\n",
              "    <tr>\n",
              "      <th>47</th>\n",
              "      <td>avoir</td>\n",
              "      <td>213</td>\n",
              "    </tr>\n",
              "    <tr>\n",
              "      <th>82</th>\n",
              "      <td>ces</td>\n",
              "      <td>209</td>\n",
              "    </tr>\n",
              "  </tbody>\n",
              "</table>\n",
              "</div>"
            ],
            "text/plain": [
              "     word  frequency\n",
              "33     de       5063\n",
              "26     la       3431\n",
              "58      l       2630\n",
              "51    que       2013\n",
              "22     le       1982\n",
              "4       d       1893\n",
              "9      du       1886\n",
              "68     et       1719\n",
              "49     en       1545\n",
              "89      à       1165\n",
              "1     les       1159\n",
              "25    par       1119\n",
              "76     qu       1031\n",
              "86    des       1030\n",
              "20     un        671\n",
              "10     au        663\n",
              "74     il        626\n",
              "45      n        621\n",
              "81    une        582\n",
              "67    sur        560\n",
              "71   pour        556\n",
              "72    est        491\n",
              "56    qui        415\n",
              "44   dans        397\n",
              "43  avait        334\n",
              "24      m        328\n",
              "13     ce        319\n",
              "36    son        316\n",
              "46    aux        309\n",
              "52     sa        268\n",
              "7      ou        264\n",
              "27     se        223\n",
              "61      y        223\n",
              "47  avoir        213\n",
              "82    ces        209"
            ]
          },
          "metadata": {
            "tags": []
          },
          "execution_count": 47
        }
      ]
    },
    {
      "cell_type": "code",
      "metadata": {
        "id": "GYSXwbNPhgT6",
        "colab_type": "code",
        "colab": {}
      },
      "source": [
        "## No words to remove from stopwords!\n"
      ],
      "execution_count": null,
      "outputs": []
    },
    {
      "cell_type": "markdown",
      "metadata": {
        "id": "byMOEADZhgT9",
        "colab_type": "text"
      },
      "source": [
        "#### Remove stopwords from corpus"
      ]
    },
    {
      "cell_type": "code",
      "metadata": {
        "id": "VzQrLPsYhgT9",
        "colab_type": "code",
        "colab": {
          "base_uri": "https://localhost:8080/",
          "height": 195
        },
        "outputId": "48f22040-2900-4aa5-f139-504e673712b8"
      },
      "source": [
        "# Finally remove stop words from our corpus\n",
        "u = [[word for word in sent if word not in stop_words_fr] for sent in corpus_sent_df.tokenized_sent]\n",
        "assert(len(u) == len(corpus_sent_df))\n",
        "corpus_sent_df.tokenized_sent = pd.Series(u)\n",
        "corpus_sent_df.head()"
      ],
      "execution_count": null,
      "outputs": [
        {
          "output_type": "execute_result",
          "data": {
            "text/html": [
              "<div>\n",
              "<style scoped>\n",
              "    .dataframe tbody tr th:only-of-type {\n",
              "        vertical-align: middle;\n",
              "    }\n",
              "\n",
              "    .dataframe tbody tr th {\n",
              "        vertical-align: top;\n",
              "    }\n",
              "\n",
              "    .dataframe thead th {\n",
              "        text-align: right;\n",
              "    }\n",
              "</style>\n",
              "<table border=\"1\" class=\"dataframe\">\n",
              "  <thead>\n",
              "    <tr style=\"text-align: right;\">\n",
              "      <th></th>\n",
              "      <th>sentence</th>\n",
              "      <th>solution</th>\n",
              "      <th>tokenized_sent</th>\n",
              "    </tr>\n",
              "  </thead>\n",
              "  <tbody>\n",
              "    <tr>\n",
              "      <th>0</th>\n",
              "      <td>SUR LE MOYEN UNIQUE : ATTENDU QUE DEMOISELLE X...</td>\n",
              "      <td>rejet</td>\n",
              "      <td>[moyen, unique, attendu, demoiselle, x, assure...</td>\n",
              "    </tr>\n",
              "    <tr>\n",
              "      <th>1</th>\n",
              "      <td>LE BENEFICE DES INDEMNITES JOURNALIERES POUR L...</td>\n",
              "      <td>rejet</td>\n",
              "      <td>[benefice, indemnites, journalieres, periode, ...</td>\n",
              "    </tr>\n",
              "    <tr>\n",
              "      <th>2</th>\n",
              "      <td>REJET du pourvoi formé par : - X ... Jean - Fr...</td>\n",
              "      <td>rejet</td>\n",
              "      <td>[rejet, pourvoi, formé, x, jean, françois, soc...</td>\n",
              "    </tr>\n",
              "    <tr>\n",
              "      <th>3</th>\n",
              "      <td>LA COUR , Vu les mémoires produits en demande ...</td>\n",
              "      <td>rejet</td>\n",
              "      <td>[cour, vu, mémoires, produits, demande, défens...</td>\n",
              "    </tr>\n",
              "    <tr>\n",
              "      <th>4</th>\n",
              "      <td>16 § 3 ) &amp; quot ; ; Attendu qu ' il appert de ...</td>\n",
              "      <td>rejet</td>\n",
              "      <td>[quot, attendu, appert, arrêt, attaqué, x, per...</td>\n",
              "    </tr>\n",
              "  </tbody>\n",
              "</table>\n",
              "</div>"
            ],
            "text/plain": [
              "                                            sentence  ...                                     tokenized_sent\n",
              "0  SUR LE MOYEN UNIQUE : ATTENDU QUE DEMOISELLE X...  ...  [moyen, unique, attendu, demoiselle, x, assure...\n",
              "1  LE BENEFICE DES INDEMNITES JOURNALIERES POUR L...  ...  [benefice, indemnites, journalieres, periode, ...\n",
              "2  REJET du pourvoi formé par : - X ... Jean - Fr...  ...  [rejet, pourvoi, formé, x, jean, françois, soc...\n",
              "3  LA COUR , Vu les mémoires produits en demande ...  ...  [cour, vu, mémoires, produits, demande, défens...\n",
              "4  16 § 3 ) & quot ; ; Attendu qu ' il appert de ...  ...  [quot, attendu, appert, arrêt, attaqué, x, per...\n",
              "\n",
              "[5 rows x 3 columns]"
            ]
          },
          "metadata": {
            "tags": []
          },
          "execution_count": 49
        }
      ]
    },
    {
      "cell_type": "code",
      "metadata": {
        "id": "D2fjyEJDhgT_",
        "colab_type": "code",
        "colab": {
          "base_uri": "https://localhost:8080/",
          "height": 1000
        },
        "outputId": "2248bce4-df3f-415f-ca9d-27f1000b32c9"
      },
      "source": [
        "# Which documents became empty after removing stopwords?\n",
        "[(i,row.sentence) for i,row in corpus_sent_df.iterrows() if len(row.tokenized_sent)==0]"
      ],
      "execution_count": null,
      "outputs": [
        {
          "output_type": "execute_result",
          "data": {
            "text/plain": [
              "[(8, 'N ° 58 - 12 897 .'),\n",
              " (23, '876 .'),\n",
              " (50, '400 .'),\n",
              " (66, '495 .'),\n",
              " (76, '89 .'),\n",
              " (78, '165 .'),\n",
              " (81, '215 .'),\n",
              " (93, '688 .'),\n",
              " (99, '853 .'),\n",
              " (107, 'Y ...'),\n",
              " (110, '127 .'),\n",
              " (113, '304 .'),\n",
              " (116, '60 .'),\n",
              " (121, '11 et L .'),\n",
              " (122, '11 - 1 à L .'),\n",
              " (125, '11 à L .'),\n",
              " (151, '5 et 6 ).'),\n",
              " (194, '283 , L .'),\n",
              " (244, 'N ° 62 - 11 556 .'),\n",
              " (261, 'N 63 - 40 .'),\n",
              " (262, '082 .'),\n",
              " (274, 'N 63 - 40 .'),\n",
              " (275, '083 .'),\n",
              " (283, '011 .'),\n",
              " (293, '012 .'),\n",
              " (296, '657 .'),\n",
              " (307, 'N ° 61 - 40 453 .'),\n",
              " (331, 'N ° 60 - 10 420 .'),\n",
              " (340, 'N 58 - 12 .'),\n",
              " (341, '531 .'),\n",
              " (380, '244 - 2 , L .'),\n",
              " (389, '244 - 2 , L .'),\n",
              " (398, '244 - 7 et L .'),\n",
              " (404, '244 - 2 , L .'),\n",
              " (411, '968 .'),\n",
              " (423, '653 .'),\n",
              " (427, '132 - 5 - 1 et L .'),\n",
              " (430, '132 - 5 - 1 et L .'),\n",
              " (434, '132 - 5 - 1 et L .'),\n",
              " (436, '366 et 05 - 12 .'),\n",
              " (440, '132 - 5 - 1 et L .'),\n",
              " (456, '132 - 5 - 1 et L .'),\n",
              " (461, '132 - 5 - 1 et L .'),\n",
              " (463, '132 - 5 - 1 et L .'),\n",
              " (471, 'L .'),\n",
              " (478, 'N ° 62 - 12 460 .'),\n",
              " (494, '323 - 1 et L .'),\n",
              " (505, '896 .'),\n",
              " (515, '.'),\n",
              " (520, '332 .'),\n",
              " (532, '463 .'),\n",
              " (533, '.'),\n",
              " (542, 'N ° 63 - 11 249 .'),\n",
              " (548, 'N ° 63 - 11 250 .'),\n",
              " (550, 'N ° 63 - 11 251 .'),\n",
              " (558, '624 - 16 et L .'),\n",
              " (568, '624 - 16 et L .'),\n",
              " (595, 'M .'),\n",
              " (602, '.'),\n",
              " (613, '236 - 1 , L .'),\n",
              " (614, '423 - 10 et L .'),\n",
              " (633, '605 .'),\n",
              " (634, 'Y ...'),\n",
              " (648, '586 .'),\n",
              " (670, 'N ° 60 - 40 721 .'),\n",
              " (674, 'N ° 60 - 40 722 .'),\n",
              " (678, 'N ° 60 - 40 723 .'),\n",
              " (722, '3121 - 1 et L .'),\n",
              " (728, '3121 - 1 et L .'),\n",
              " (736, '274 .'),\n",
              " (748, '131 .'),\n",
              " (751, '284 .'),\n",
              " (757, '121 - 1 et L .'),\n",
              " (764, 'N .'),\n",
              " (766, 'C .'),\n",
              " (770, 'N .'),\n",
              " (772, 'C .'),\n",
              " (776, '714 .'),\n",
              " (787, '30 .'),\n",
              " (790, '82 .'),\n",
              " (792, 'N ° 63 - 11 590 .'),\n",
              " (796, '457 ), que M .'),\n",
              " (823, '122 - 32 - 6 et L .'),\n",
              " (828, '122 - 8 et L .'),\n",
              " (845, 'N ° 67 - 40 001 .')]"
            ]
          },
          "metadata": {
            "tags": []
          },
          "execution_count": 50
        }
      ]
    },
    {
      "cell_type": "code",
      "metadata": {
        "id": "wyrEMG2-hgUC",
        "colab_type": "code",
        "colab": {
          "base_uri": "https://localhost:8080/",
          "height": 84
        },
        "outputId": "7bed1ea0-e3da-4c66-dd94-4682f4eba744"
      },
      "source": [
        "corpus_sent_df.iloc[390,:]"
      ],
      "execution_count": null,
      "outputs": [
        {
          "output_type": "execute_result",
          "data": {
            "text/plain": [
              "sentence          244 - 3 , R 244 - 1 du Code de la sécurité soc...\n",
              "solution                                                      rejet\n",
              "tokenized_sent    [r, code, sécurité, sociale, pas, nature, cont...\n",
              "Name: 390, dtype: object"
            ]
          },
          "metadata": {
            "tags": []
          },
          "execution_count": 51
        }
      ]
    },
    {
      "cell_type": "markdown",
      "metadata": {
        "id": "9GnwaDpLhgUE",
        "colab_type": "text"
      },
      "source": [
        "### Clean up words based on word length\n",
        "- will first get an idea about which words are unusually short or long.\n",
        "- Very short words are usually not very meaningful; might be stopwords or abbreviations of some sort --> usually should be removed.\n",
        "- Very long words are rare or meaningless or concatenations of multiple words, elongated words --> usually should be removed or normalized/stemmed."
      ]
    },
    {
      "cell_type": "code",
      "metadata": {
        "id": "HN6f4SJAhgUF",
        "colab_type": "code",
        "colab": {
          "base_uri": "https://localhost:8080/",
          "height": 34
        },
        "outputId": "3ede2e51-1afc-4da5-e0f9-8d25f0e4448b"
      },
      "source": [
        "# create list of all words in corpus\n",
        "corpus_words_ = [word for sent in corpus_sent_df.tokenized_sent for word in sent]\n",
        "type(corpus_words_),len(corpus_words_)"
      ],
      "execution_count": null,
      "outputs": [
        {
          "output_type": "execute_result",
          "data": {
            "text/plain": [
              "(list, 46411)"
            ]
          },
          "metadata": {
            "tags": []
          },
          "execution_count": 52
        }
      ]
    },
    {
      "cell_type": "code",
      "metadata": {
        "id": "hVo7zwcUhgUH",
        "colab_type": "code",
        "colab": {
          "base_uri": "https://localhost:8080/",
          "height": 118
        },
        "outputId": "4014be5d-e361-4e88-edbe-406ae9f44bcc"
      },
      "source": [
        "word_len_df_ = pd.Series([len(word) for word in corpus_words_],index=corpus_words_)\n",
        "word_len_df_.head()"
      ],
      "execution_count": null,
      "outputs": [
        {
          "output_type": "execute_result",
          "data": {
            "text/plain": [
              "moyen          5\n",
              "unique         6\n",
              "attendu        7\n",
              "demoiselle    10\n",
              "x              1\n",
              "dtype: int64"
            ]
          },
          "metadata": {
            "tags": []
          },
          "execution_count": 53
        }
      ]
    },
    {
      "cell_type": "code",
      "metadata": {
        "id": "A35vU_-EhgUJ",
        "colab_type": "code",
        "colab": {
          "base_uri": "https://localhost:8080/",
          "height": 168
        },
        "outputId": "9a314bb3-8891-4f06-fd9f-ee03ba3e2d1a"
      },
      "source": [
        "word_len_df_.describe()"
      ],
      "execution_count": null,
      "outputs": [
        {
          "output_type": "execute_result",
          "data": {
            "text/plain": [
              "count    46411.000000\n",
              "mean         6.519080\n",
              "std          2.774627\n",
              "min          1.000000\n",
              "25%          5.000000\n",
              "50%          6.000000\n",
              "75%          8.000000\n",
              "max         21.000000\n",
              "dtype: float64"
            ]
          },
          "metadata": {
            "tags": []
          },
          "execution_count": 54
        }
      ]
    },
    {
      "cell_type": "code",
      "metadata": {
        "id": "matq5XaDhgUM",
        "colab_type": "code",
        "colab": {
          "base_uri": "https://localhost:8080/",
          "height": 369
        },
        "outputId": "70d9ca60-8956-4509-de56-df0637bcb753"
      },
      "source": [
        "fig = word_len_df_.plot(kind='hist', title=\"word length\")"
      ],
      "execution_count": null,
      "outputs": [
        {
          "output_type": "display_data",
          "data": {
            "image/png": "[encoded data removed]",
            "text/plain": [
              "<Figure size 576x396 with 1 Axes>"
            ]
          },
          "metadata": {
            "tags": []
          }
        }
      ]
    },
    {
      "cell_type": "code",
      "metadata": {
        "id": "BUYg6-HwhgUO",
        "colab_type": "code",
        "colab": {
          "base_uri": "https://localhost:8080/",
          "height": 67
        },
        "outputId": "cf521204-2ce4-4c62-f5f5-627001d4ebfc"
      },
      "source": [
        "# words with <= 2 characters\n",
        "word_len_df_[word_len_df_<=2].value_counts()"
      ],
      "execution_count": null,
      "outputs": [
        {
          "output_type": "execute_result",
          "data": {
            "text/plain": [
              "1    2000\n",
              "2    1284\n",
              "dtype: int64"
            ]
          },
          "metadata": {
            "tags": []
          },
          "execution_count": 56
        }
      ]
    },
    {
      "cell_type": "code",
      "metadata": {
        "id": "8t-mHpRthgUP",
        "colab_type": "code",
        "colab": {
          "base_uri": "https://localhost:8080/",
          "height": 118
        },
        "outputId": "08f11771-1ba5-4389-9e7a-269581c3a696"
      },
      "source": [
        "word_len_df_[word_len_df_<=2].head()"
      ],
      "execution_count": null,
      "outputs": [
        {
          "output_type": "execute_result",
          "data": {
            "text/plain": [
              "x    1\n",
              "a    1\n",
              "a    1\n",
              "a    1\n",
              "a    1\n",
              "dtype: int64"
            ]
          },
          "metadata": {
            "tags": []
          },
          "execution_count": 57
        }
      ]
    },
    {
      "cell_type": "code",
      "metadata": {
        "id": "i7o3TSWbhgUR",
        "colab_type": "code",
        "colab": {
          "base_uri": "https://localhost:8080/",
          "height": 195
        },
        "outputId": "198d71cf-8758-4c1c-9508-1e30e08345ea"
      },
      "source": [
        "# Remove words with <= 2 characters\n",
        "u = [[word for word in sent if len(word)>2] for sent in corpus_sent_df.tokenized_sent]\n",
        "assert(len(u) == len(corpus_sent_df))\n",
        "corpus_sent_df.tokenized_sent = pd.Series(u)\n",
        "corpus_sent_df.head()"
      ],
      "execution_count": null,
      "outputs": [
        {
          "output_type": "execute_result",
          "data": {
            "text/html": [
              "<div>\n",
              "<style scoped>\n",
              "    .dataframe tbody tr th:only-of-type {\n",
              "        vertical-align: middle;\n",
              "    }\n",
              "\n",
              "    .dataframe tbody tr th {\n",
              "        vertical-align: top;\n",
              "    }\n",
              "\n",
              "    .dataframe thead th {\n",
              "        text-align: right;\n",
              "    }\n",
              "</style>\n",
              "<table border=\"1\" class=\"dataframe\">\n",
              "  <thead>\n",
              "    <tr style=\"text-align: right;\">\n",
              "      <th></th>\n",
              "      <th>sentence</th>\n",
              "      <th>solution</th>\n",
              "      <th>tokenized_sent</th>\n",
              "    </tr>\n",
              "  </thead>\n",
              "  <tbody>\n",
              "    <tr>\n",
              "      <th>0</th>\n",
              "      <td>SUR LE MOYEN UNIQUE : ATTENDU QUE DEMOISELLE X...</td>\n",
              "      <td>rejet</td>\n",
              "      <td>[moyen, unique, attendu, demoiselle, assuree, ...</td>\n",
              "    </tr>\n",
              "    <tr>\n",
              "      <th>1</th>\n",
              "      <td>LE BENEFICE DES INDEMNITES JOURNALIERES POUR L...</td>\n",
              "      <td>rejet</td>\n",
              "      <td>[benefice, indemnites, journalieres, periode, ...</td>\n",
              "    </tr>\n",
              "    <tr>\n",
              "      <th>2</th>\n",
              "      <td>REJET du pourvoi formé par : - X ... Jean - Fr...</td>\n",
              "      <td>rejet</td>\n",
              "      <td>[rejet, pourvoi, formé, jean, françois, sociét...</td>\n",
              "    </tr>\n",
              "    <tr>\n",
              "      <th>3</th>\n",
              "      <td>LA COUR , Vu les mémoires produits en demande ...</td>\n",
              "      <td>rejet</td>\n",
              "      <td>[cour, mémoires, produits, demande, défense, p...</td>\n",
              "    </tr>\n",
              "    <tr>\n",
              "      <th>4</th>\n",
              "      <td>16 § 3 ) &amp; quot ; ; Attendu qu ' il appert de ...</td>\n",
              "      <td>rejet</td>\n",
              "      <td>[quot, attendu, appert, arrêt, attaqué, percut...</td>\n",
              "    </tr>\n",
              "  </tbody>\n",
              "</table>\n",
              "</div>"
            ],
            "text/plain": [
              "                                            sentence  ...                                     tokenized_sent\n",
              "0  SUR LE MOYEN UNIQUE : ATTENDU QUE DEMOISELLE X...  ...  [moyen, unique, attendu, demoiselle, assuree, ...\n",
              "1  LE BENEFICE DES INDEMNITES JOURNALIERES POUR L...  ...  [benefice, indemnites, journalieres, periode, ...\n",
              "2  REJET du pourvoi formé par : - X ... Jean - Fr...  ...  [rejet, pourvoi, formé, jean, françois, sociét...\n",
              "3  LA COUR , Vu les mémoires produits en demande ...  ...  [cour, mémoires, produits, demande, défense, p...\n",
              "4  16 § 3 ) & quot ; ; Attendu qu ' il appert de ...  ...  [quot, attendu, appert, arrêt, attaqué, percut...\n",
              "\n",
              "[5 rows x 3 columns]"
            ]
          },
          "metadata": {
            "tags": []
          },
          "execution_count": 58
        }
      ]
    },
    {
      "cell_type": "code",
      "metadata": {
        "id": "k_8Csx3LhgUT",
        "colab_type": "code",
        "colab": {
          "base_uri": "https://localhost:8080/",
          "height": 1000
        },
        "outputId": "fc92004f-8fd3-4cbe-e0e3-cebffa419152"
      },
      "source": [
        "# Which documents became empty after removing short words?\n",
        "[(i,row.sentence) for i,row in corpus_sent_df.iterrows() if len(row.tokenized_sent)==0]"
      ],
      "execution_count": null,
      "outputs": [
        {
          "output_type": "execute_result",
          "data": {
            "text/plain": [
              "[(8, 'N ° 58 - 12 897 .'),\n",
              " (22, 'NO 60 - 10 .'),\n",
              " (23, '876 .'),\n",
              " (50, '400 .'),\n",
              " (65, 'NO 62 - 12 .'),\n",
              " (66, '495 .'),\n",
              " (75, '1963 , II , NO 121 , P .'),\n",
              " (76, '89 .'),\n",
              " (78, '165 .'),\n",
              " (80, 'NO 62 - 20 .'),\n",
              " (81, '215 .'),\n",
              " (92, '1963 , IV , NO 834 , P .'),\n",
              " (93, '688 .'),\n",
              " (98, 'NO 60 - 12 .'),\n",
              " (99, '853 .'),\n",
              " (107, 'Y ...'),\n",
              " (109, '1961 , I , NO 159 , P .'),\n",
              " (110, '127 .'),\n",
              " (112, '1955 , I , NO 373 ( 4E ), P .'),\n",
              " (113, '304 .'),\n",
              " (115, '1962 , I , NO 67 , P .'),\n",
              " (116, '60 .'),\n",
              " (121, '11 et L .'),\n",
              " (122, '11 - 1 à L .'),\n",
              " (125, '11 à L .'),\n",
              " (138, '000 € H .'),\n",
              " (151, '5 et 6 ).'),\n",
              " (159, '000 € H .'),\n",
              " (181, '000 € H .'),\n",
              " (194, '283 , L .'),\n",
              " (244, 'N ° 62 - 11 556 .'),\n",
              " (261, 'N 63 - 40 .'),\n",
              " (262, '082 .'),\n",
              " (274, 'N 63 - 40 .'),\n",
              " (275, '083 .'),\n",
              " (282, 'NO 64 - 60 .'),\n",
              " (283, '011 .'),\n",
              " (284, 'X ... C / Y ...'),\n",
              " (292, 'NO 64 - 60 .'),\n",
              " (293, '012 .'),\n",
              " (296, '657 .'),\n",
              " (307, 'N ° 61 - 40 453 .'),\n",
              " (331, 'N ° 60 - 10 420 .'),\n",
              " (340, 'N 58 - 12 .'),\n",
              " (341, '531 .'),\n",
              " (374, '244 - 2 et R .'),\n",
              " (377, '244 - 2 et R .'),\n",
              " (380, '244 - 2 , L .'),\n",
              " (381, '244 - 3 , R .'),\n",
              " (389, '244 - 2 , L .'),\n",
              " (398, '244 - 7 et L .'),\n",
              " (402, '244 - 2 et R .'),\n",
              " (404, '244 - 2 , L .'),\n",
              " (410, 'NO 60 - 11 .'),\n",
              " (411, '968 .'),\n",
              " (422, '1959 , IV , NO 817 , P .'),\n",
              " (423, '653 .'),\n",
              " (427, '132 - 5 - 1 et L .'),\n",
              " (430, '132 - 5 - 1 et L .'),\n",
              " (434, '132 - 5 - 1 et L .'),\n",
              " (436, '366 et 05 - 12 .'),\n",
              " (440, '132 - 5 - 1 et L .'),\n",
              " (454, '8 , al .'),\n",
              " (456, '132 - 5 - 1 et L .'),\n",
              " (461, '132 - 5 - 1 et L .'),\n",
              " (463, '132 - 5 - 1 et L .'),\n",
              " (471, 'L .'),\n",
              " (478, 'N ° 62 - 12 460 .'),\n",
              " (494, '323 - 1 et L .'),\n",
              " (504, 'NO 60 - 11 .'),\n",
              " (505, '896 .'),\n",
              " (515, '.'),\n",
              " (519, 'NO 60 - 20 .'),\n",
              " (520, '332 .'),\n",
              " (531, '1958 , IV , NO 625 , P .'),\n",
              " (532, '463 .'),\n",
              " (533, '.'),\n",
              " (542, 'N ° 63 - 11 249 .'),\n",
              " (548, 'N ° 63 - 11 250 .'),\n",
              " (550, 'N ° 63 - 11 251 .'),\n",
              " (558, '624 - 16 et L .'),\n",
              " (568, '624 - 16 et L .'),\n",
              " (593, 'P .'),\n",
              " (594, 'A .'),\n",
              " (595, 'M .'),\n",
              " (602, '.'),\n",
              " (612, '236 - 5 , R .'),\n",
              " (613, '236 - 1 , L .'),\n",
              " (614, '423 - 10 et L .'),\n",
              " (632, 'NO 62 - 13 .'),\n",
              " (633, '605 .'),\n",
              " (634, 'Y ...'),\n",
              " (645, '1960 , II , NO 451 , P .'),\n",
              " (647, '1961 , II , NO 831 , P .'),\n",
              " (648, '586 .'),\n",
              " (670, 'N ° 60 - 40 721 .'),\n",
              " (674, 'N ° 60 - 40 722 .'),\n",
              " (678, 'N ° 60 - 40 723 .'),\n",
              " (722, '3121 - 1 et L .'),\n",
              " (728, '3121 - 1 et L .'),\n",
              " (735, 'NO 63 - 10 .'),\n",
              " (736, '274 .'),\n",
              " (747, '1961 , IV , NO 166 , P .'),\n",
              " (748, '131 .'),\n",
              " (750, '1963 , IV , NO 351 , P .'),\n",
              " (751, '284 .'),\n",
              " (757, '121 - 1 et L .'),\n",
              " (764, 'N .'),\n",
              " (765, 'E .'),\n",
              " (766, 'C .'),\n",
              " (767, 'A .)'),\n",
              " (770, 'N .'),\n",
              " (771, 'E .'),\n",
              " (772, 'C .'),\n",
              " (773, 'A .'),\n",
              " (775, 'NO 58 - 10 .'),\n",
              " (776, '714 .'),\n",
              " (787, '30 .'),\n",
              " (790, '82 .'),\n",
              " (792, 'N ° 63 - 11 590 .'),\n",
              " (796, '457 ), que M .'),\n",
              " (823, '122 - 32 - 6 et L .'),\n",
              " (828, '122 - 8 et L .'),\n",
              " (843, 'X ...'),\n",
              " (845, 'N ° 67 - 40 001 .')]"
            ]
          },
          "metadata": {
            "tags": []
          },
          "execution_count": 59
        }
      ]
    },
    {
      "cell_type": "code",
      "metadata": {
        "id": "9rW12StOhgUV",
        "colab_type": "code",
        "colab": {
          "base_uri": "https://localhost:8080/",
          "height": 50
        },
        "outputId": "90b19650-14ff-4745-8860-c6fdf63c829e"
      },
      "source": [
        "## Word frequency distribution\n",
        "corpus_words_ = [word for sent in corpus_sent_df.tokenized_sent for word in sent]\n",
        "fdist3 = FreqDist(corpus_words_)\n",
        "assert(fdist3.N()<fdist2.N() and fdist3.B()<=fdist3.B())\n",
        "print(fdist2.N(),fdist2.B())\n",
        "print(fdist3.N(),fdist3.B())"
      ],
      "execution_count": null,
      "outputs": [
        {
          "output_type": "stream",
          "text": [
            "86029 6427\n",
            "43127 6267\n"
          ],
          "name": "stdout"
        }
      ]
    },
    {
      "cell_type": "markdown",
      "metadata": {
        "id": "I-a4nS33hgUZ",
        "colab_type": "text"
      },
      "source": [
        "*Observations & conclusions*\n",
        "- Most short words are either stopwords or non-french words (english or tunisian dialect)."
      ]
    },
    {
      "cell_type": "markdown",
      "metadata": {
        "id": "YTVEgEmRhgVB",
        "colab_type": "text"
      },
      "source": [
        "### Word normalization via stemming"
      ]
    },
    {
      "cell_type": "markdown",
      "metadata": {
        "id": "Mdq06ubYhgVB",
        "colab_type": "text"
      },
      "source": [
        "#### Implement stemming algorithm\n",
        "Apply Snowball stemming method from NLTK on words with 5 characters or more."
      ]
    },
    {
      "cell_type": "code",
      "metadata": {
        "id": "CVoZtYv0hgVC",
        "colab_type": "code",
        "colab": {}
      },
      "source": [
        "stemmer = FrenchStemmer()"
      ],
      "execution_count": null,
      "outputs": []
    },
    {
      "cell_type": "code",
      "metadata": {
        "id": "Gu4NznDKhgVD",
        "colab_type": "code",
        "colab": {}
      },
      "source": [
        "def my_stemmer(word):\n",
        "    if len(word)>4:\n",
        "        stem1 = stemmer.stem(word)\n",
        "        return stem1[0:8]\n",
        "    else:\n",
        "        return word"
      ],
      "execution_count": null,
      "outputs": []
    },
    {
      "cell_type": "markdown",
      "metadata": {
        "id": "Jk-mXqTxhgVF",
        "colab_type": "text"
      },
      "source": [
        "#### Visualize stemming results\n",
        "Look for percent reduction in number of distinct words ..."
      ]
    },
    {
      "cell_type": "code",
      "metadata": {
        "id": "qY84gXf6hgVF",
        "colab_type": "code",
        "colab": {
          "base_uri": "https://localhost:8080/",
          "height": 212
        },
        "outputId": "60236037-d2dd-49c1-ce3e-6dfc54526ade"
      },
      "source": [
        "# put stemming results in a data frame\n",
        "distinct_corpus_words_ = set([word for sent in corpus_sent_df.tokenized_sent for word in sent]) # set of all words in corpus\n",
        "\n",
        "u = [(len(word),len(my_stemmer(word))) for word in distinct_corpus_words_]\n",
        "u = [(x,y,x-y) for x,y in u]\n",
        "word_stemming_df_ = pd.DataFrame(u,index=distinct_corpus_words_)\n",
        "word_stemming_df_.columns = ['word_length', 'stem_length', 'length_reduction']\n",
        "print(word_stemming_df_.shape)\n",
        "word_stemming_df_.head()"
      ],
      "execution_count": null,
      "outputs": [
        {
          "output_type": "stream",
          "text": [
            "(6267, 3)\n"
          ],
          "name": "stdout"
        },
        {
          "output_type": "execute_result",
          "data": {
            "text/html": [
              "<div>\n",
              "<style scoped>\n",
              "    .dataframe tbody tr th:only-of-type {\n",
              "        vertical-align: middle;\n",
              "    }\n",
              "\n",
              "    .dataframe tbody tr th {\n",
              "        vertical-align: top;\n",
              "    }\n",
              "\n",
              "    .dataframe thead th {\n",
              "        text-align: right;\n",
              "    }\n",
              "</style>\n",
              "<table border=\"1\" class=\"dataframe\">\n",
              "  <thead>\n",
              "    <tr style=\"text-align: right;\">\n",
              "      <th></th>\n",
              "      <th>word_length</th>\n",
              "      <th>stem_length</th>\n",
              "      <th>length_reduction</th>\n",
              "    </tr>\n",
              "  </thead>\n",
              "  <tbody>\n",
              "    <tr>\n",
              "      <th>roubaix</th>\n",
              "      <td>7</td>\n",
              "      <td>7</td>\n",
              "      <td>0</td>\n",
              "    </tr>\n",
              "    <tr>\n",
              "      <th>transfert</th>\n",
              "      <td>9</td>\n",
              "      <td>8</td>\n",
              "      <td>1</td>\n",
              "    </tr>\n",
              "    <tr>\n",
              "      <th>incompétentes</th>\n",
              "      <td>13</td>\n",
              "      <td>8</td>\n",
              "      <td>5</td>\n",
              "    </tr>\n",
              "    <tr>\n",
              "      <th>joignant</th>\n",
              "      <td>8</td>\n",
              "      <td>5</td>\n",
              "      <td>3</td>\n",
              "    </tr>\n",
              "    <tr>\n",
              "      <th>ravivasec</th>\n",
              "      <td>9</td>\n",
              "      <td>8</td>\n",
              "      <td>1</td>\n",
              "    </tr>\n",
              "  </tbody>\n",
              "</table>\n",
              "</div>"
            ],
            "text/plain": [
              "               word_length  stem_length  length_reduction\n",
              "roubaix                  7            7                 0\n",
              "transfert                9            8                 1\n",
              "incompétentes           13            8                 5\n",
              "joignant                 8            5                 3\n",
              "ravivasec                9            8                 1"
            ]
          },
          "metadata": {
            "tags": []
          },
          "execution_count": 63
        }
      ]
    },
    {
      "cell_type": "code",
      "metadata": {
        "id": "IIE1ucGVhgVH",
        "colab_type": "code",
        "colab": {}
      },
      "source": [
        "# Visually inspect words that we did not stem\n",
        "# word_stemming_df_[word_stemming_df_.word_length<=4]"
      ],
      "execution_count": null,
      "outputs": []
    },
    {
      "cell_type": "code",
      "metadata": {
        "id": "gkkX2X9ChgVJ",
        "colab_type": "code",
        "colab": {
          "base_uri": "https://localhost:8080/",
          "height": 195
        },
        "outputId": "86928e2f-e981-4518-e14d-52d614df6a30"
      },
      "source": [
        "# Largest word length reduction\n",
        "word_stemming_df_.sort_values('length_reduction', ascending=False).head()"
      ],
      "execution_count": null,
      "outputs": [
        {
          "output_type": "execute_result",
          "data": {
            "text/html": [
              "<div>\n",
              "<style scoped>\n",
              "    .dataframe tbody tr th:only-of-type {\n",
              "        vertical-align: middle;\n",
              "    }\n",
              "\n",
              "    .dataframe tbody tr th {\n",
              "        vertical-align: top;\n",
              "    }\n",
              "\n",
              "    .dataframe thead th {\n",
              "        text-align: right;\n",
              "    }\n",
              "</style>\n",
              "<table border=\"1\" class=\"dataframe\">\n",
              "  <thead>\n",
              "    <tr style=\"text-align: right;\">\n",
              "      <th></th>\n",
              "      <th>word_length</th>\n",
              "      <th>stem_length</th>\n",
              "      <th>length_reduction</th>\n",
              "    </tr>\n",
              "  </thead>\n",
              "  <tbody>\n",
              "    <tr>\n",
              "      <th>reconventionnellement</th>\n",
              "      <td>21</td>\n",
              "      <td>8</td>\n",
              "      <td>13</td>\n",
              "    </tr>\n",
              "    <tr>\n",
              "      <th>interprofessionnelle</th>\n",
              "      <td>20</td>\n",
              "      <td>8</td>\n",
              "      <td>12</td>\n",
              "    </tr>\n",
              "    <tr>\n",
              "      <th>conventionnellement</th>\n",
              "      <td>19</td>\n",
              "      <td>8</td>\n",
              "      <td>11</td>\n",
              "    </tr>\n",
              "    <tr>\n",
              "      <th>embellissements</th>\n",
              "      <td>15</td>\n",
              "      <td>5</td>\n",
              "      <td>10</td>\n",
              "    </tr>\n",
              "    <tr>\n",
              "      <th>contradictoirement</th>\n",
              "      <td>18</td>\n",
              "      <td>8</td>\n",
              "      <td>10</td>\n",
              "    </tr>\n",
              "  </tbody>\n",
              "</table>\n",
              "</div>"
            ],
            "text/plain": [
              "                       word_length  stem_length  length_reduction\n",
              "reconventionnellement           21            8                13\n",
              "interprofessionnelle            20            8                12\n",
              "conventionnellement             19            8                11\n",
              "embellissements                 15            5                10\n",
              "contradictoirement              18            8                10"
            ]
          },
          "metadata": {
            "tags": []
          },
          "execution_count": 65
        }
      ]
    },
    {
      "cell_type": "code",
      "metadata": {
        "id": "XBCNUQxOhgVL",
        "colab_type": "code",
        "colab": {
          "base_uri": "https://localhost:8080/",
          "height": 195
        },
        "outputId": "719c7cb6-11ac-4b25-b85f-249ba459a23b"
      },
      "source": [
        "# Longest words after stemming\n",
        "word_stemming_df_.sort_values('stem_length', ascending=False).head()"
      ],
      "execution_count": null,
      "outputs": [
        {
          "output_type": "execute_result",
          "data": {
            "text/html": [
              "<div>\n",
              "<style scoped>\n",
              "    .dataframe tbody tr th:only-of-type {\n",
              "        vertical-align: middle;\n",
              "    }\n",
              "\n",
              "    .dataframe tbody tr th {\n",
              "        vertical-align: top;\n",
              "    }\n",
              "\n",
              "    .dataframe thead th {\n",
              "        text-align: right;\n",
              "    }\n",
              "</style>\n",
              "<table border=\"1\" class=\"dataframe\">\n",
              "  <thead>\n",
              "    <tr style=\"text-align: right;\">\n",
              "      <th></th>\n",
              "      <th>word_length</th>\n",
              "      <th>stem_length</th>\n",
              "      <th>length_reduction</th>\n",
              "    </tr>\n",
              "  </thead>\n",
              "  <tbody>\n",
              "    <tr>\n",
              "      <th>interruptifs</th>\n",
              "      <td>12</td>\n",
              "      <td>8</td>\n",
              "      <td>4</td>\n",
              "    </tr>\n",
              "    <tr>\n",
              "      <th>demoiselle</th>\n",
              "      <td>10</td>\n",
              "      <td>8</td>\n",
              "      <td>2</td>\n",
              "    </tr>\n",
              "    <tr>\n",
              "      <th>grossesse</th>\n",
              "      <td>9</td>\n",
              "      <td>8</td>\n",
              "      <td>1</td>\n",
              "    </tr>\n",
              "    <tr>\n",
              "      <th>tonnellerie</th>\n",
              "      <td>11</td>\n",
              "      <td>8</td>\n",
              "      <td>3</td>\n",
              "    </tr>\n",
              "    <tr>\n",
              "      <th>sanitaires</th>\n",
              "      <td>10</td>\n",
              "      <td>8</td>\n",
              "      <td>2</td>\n",
              "    </tr>\n",
              "  </tbody>\n",
              "</table>\n",
              "</div>"
            ],
            "text/plain": [
              "              word_length  stem_length  length_reduction\n",
              "interruptifs           12            8                 4\n",
              "demoiselle             10            8                 2\n",
              "grossesse               9            8                 1\n",
              "tonnellerie            11            8                 3\n",
              "sanitaires             10            8                 2"
            ]
          },
          "metadata": {
            "tags": []
          },
          "execution_count": 66
        }
      ]
    },
    {
      "cell_type": "code",
      "metadata": {
        "id": "w-LM3SK4hgVN",
        "colab_type": "code",
        "colab": {
          "base_uri": "https://localhost:8080/",
          "height": 195
        },
        "outputId": "e7016eb2-0f89-4889-eb3e-6338762a5005"
      },
      "source": [
        "# Shortest words after stemming\n",
        "word_stemming_df_[word_stemming_df_.length_reduction>0].sort_values('word_length', ascending=True).head()"
      ],
      "execution_count": null,
      "outputs": [
        {
          "output_type": "execute_result",
          "data": {
            "text/html": [
              "<div>\n",
              "<style scoped>\n",
              "    .dataframe tbody tr th:only-of-type {\n",
              "        vertical-align: middle;\n",
              "    }\n",
              "\n",
              "    .dataframe tbody tr th {\n",
              "        vertical-align: top;\n",
              "    }\n",
              "\n",
              "    .dataframe thead th {\n",
              "        text-align: right;\n",
              "    }\n",
              "</style>\n",
              "<table border=\"1\" class=\"dataframe\">\n",
              "  <thead>\n",
              "    <tr style=\"text-align: right;\">\n",
              "      <th></th>\n",
              "      <th>word_length</th>\n",
              "      <th>stem_length</th>\n",
              "      <th>length_reduction</th>\n",
              "    </tr>\n",
              "  </thead>\n",
              "  <tbody>\n",
              "    <tr>\n",
              "      <th>zones</th>\n",
              "      <td>5</td>\n",
              "      <td>3</td>\n",
              "      <td>2</td>\n",
              "    </tr>\n",
              "    <tr>\n",
              "      <th>vider</th>\n",
              "      <td>5</td>\n",
              "      <td>3</td>\n",
              "      <td>2</td>\n",
              "    </tr>\n",
              "    <tr>\n",
              "      <th>fonds</th>\n",
              "      <td>5</td>\n",
              "      <td>4</td>\n",
              "      <td>1</td>\n",
              "    </tr>\n",
              "    <tr>\n",
              "      <th>louis</th>\n",
              "      <td>5</td>\n",
              "      <td>3</td>\n",
              "      <td>2</td>\n",
              "    </tr>\n",
              "    <tr>\n",
              "      <th>terme</th>\n",
              "      <td>5</td>\n",
              "      <td>4</td>\n",
              "      <td>1</td>\n",
              "    </tr>\n",
              "  </tbody>\n",
              "</table>\n",
              "</div>"
            ],
            "text/plain": [
              "       word_length  stem_length  length_reduction\n",
              "zones            5            3                 2\n",
              "vider            5            3                 2\n",
              "fonds            5            4                 1\n",
              "louis            5            3                 2\n",
              "terme            5            4                 1"
            ]
          },
          "metadata": {
            "tags": []
          },
          "execution_count": 67
        }
      ]
    },
    {
      "cell_type": "code",
      "metadata": {
        "id": "0Pp7u1zjhgVO",
        "colab_type": "code",
        "colab": {
          "base_uri": "https://localhost:8080/",
          "height": 567
        },
        "outputId": "fa54ff9c-56a4-4366-9010-e0cb6b938d6d"
      },
      "source": [
        "sns.set(style=\"ticks\", color_codes=True)\n",
        "g = sns.pairplot(word_stemming_df_)"
      ],
      "execution_count": null,
      "outputs": [
        {
          "output_type": "display_data",
          "data": {
            "image/png": "[encoded data removed]",
            "text/plain": [
              "<Figure size 540x540 with 12 Axes>"
            ]
          },
          "metadata": {
            "tags": []
          }
        }
      ]
    },
    {
      "cell_type": "markdown",
      "metadata": {
        "id": "8O6XpMoihgVq",
        "colab_type": "text"
      },
      "source": [
        "### Remove empty documents"
      ]
    },
    {
      "cell_type": "code",
      "metadata": {
        "id": "gVOFb6hDhgVq",
        "colab_type": "code",
        "colab": {
          "base_uri": "https://localhost:8080/",
          "height": 34
        },
        "outputId": "244ac2b8-a7ec-4186-ddef-df4b5398094a"
      },
      "source": [
        "len(corpus_sent_df)"
      ],
      "execution_count": null,
      "outputs": [
        {
          "output_type": "execute_result",
          "data": {
            "text/plain": [
              "856"
            ]
          },
          "metadata": {
            "tags": []
          },
          "execution_count": 70
        }
      ]
    },
    {
      "cell_type": "code",
      "metadata": {
        "id": "3F4Ic9yphgVs",
        "colab_type": "code",
        "colab": {
          "base_uri": "https://localhost:8080/",
          "height": 402
        },
        "outputId": "9c9d7d23-5ce3-45ef-8e5d-7d43f82867c1"
      },
      "source": [
        "# which documents are empty\n",
        "idx = [i for i,row in corpus_sent_df.iterrows() if len(row.tokenized_sent)==0]\n",
        "#len(idx),len(corpus_sent_df)\n",
        "corpus_sent_df.iloc[idx,:]"
      ],
      "execution_count": null,
      "outputs": [
        {
          "output_type": "execute_result",
          "data": {
            "text/html": [
              "<div>\n",
              "<style scoped>\n",
              "    .dataframe tbody tr th:only-of-type {\n",
              "        vertical-align: middle;\n",
              "    }\n",
              "\n",
              "    .dataframe tbody tr th {\n",
              "        vertical-align: top;\n",
              "    }\n",
              "\n",
              "    .dataframe thead th {\n",
              "        text-align: right;\n",
              "    }\n",
              "</style>\n",
              "<table border=\"1\" class=\"dataframe\">\n",
              "  <thead>\n",
              "    <tr style=\"text-align: right;\">\n",
              "      <th></th>\n",
              "      <th>sentence</th>\n",
              "      <th>solution</th>\n",
              "      <th>tokenized_sent</th>\n",
              "    </tr>\n",
              "  </thead>\n",
              "  <tbody>\n",
              "    <tr>\n",
              "      <th>8</th>\n",
              "      <td>N ° 58 - 12 897 .</td>\n",
              "      <td>cassation</td>\n",
              "      <td>[]</td>\n",
              "    </tr>\n",
              "    <tr>\n",
              "      <th>22</th>\n",
              "      <td>NO 60 - 10 .</td>\n",
              "      <td>cassation</td>\n",
              "      <td>[]</td>\n",
              "    </tr>\n",
              "    <tr>\n",
              "      <th>23</th>\n",
              "      <td>876 .</td>\n",
              "      <td>cassation</td>\n",
              "      <td>[]</td>\n",
              "    </tr>\n",
              "    <tr>\n",
              "      <th>50</th>\n",
              "      <td>400 .</td>\n",
              "      <td>rejet</td>\n",
              "      <td>[]</td>\n",
              "    </tr>\n",
              "    <tr>\n",
              "      <th>65</th>\n",
              "      <td>NO 62 - 12 .</td>\n",
              "      <td>cassation</td>\n",
              "      <td>[]</td>\n",
              "    </tr>\n",
              "    <tr>\n",
              "      <th>...</th>\n",
              "      <td>...</td>\n",
              "      <td>...</td>\n",
              "      <td>...</td>\n",
              "    </tr>\n",
              "    <tr>\n",
              "      <th>796</th>\n",
              "      <td>457 ), que M .</td>\n",
              "      <td>rejet</td>\n",
              "      <td>[]</td>\n",
              "    </tr>\n",
              "    <tr>\n",
              "      <th>823</th>\n",
              "      <td>122 - 32 - 6 et L .</td>\n",
              "      <td>cassation</td>\n",
              "      <td>[]</td>\n",
              "    </tr>\n",
              "    <tr>\n",
              "      <th>828</th>\n",
              "      <td>122 - 8 et L .</td>\n",
              "      <td>cassation</td>\n",
              "      <td>[]</td>\n",
              "    </tr>\n",
              "    <tr>\n",
              "      <th>843</th>\n",
              "      <td>X ...</td>\n",
              "      <td>cassation</td>\n",
              "      <td>[]</td>\n",
              "    </tr>\n",
              "    <tr>\n",
              "      <th>845</th>\n",
              "      <td>N ° 67 - 40 001 .</td>\n",
              "      <td>cassation</td>\n",
              "      <td>[]</td>\n",
              "    </tr>\n",
              "  </tbody>\n",
              "</table>\n",
              "<p>125 rows × 3 columns</p>\n",
              "</div>"
            ],
            "text/plain": [
              "                sentence   solution tokenized_sent\n",
              "8      N ° 58 - 12 897 .  cassation             []\n",
              "22          NO 60 - 10 .  cassation             []\n",
              "23                 876 .  cassation             []\n",
              "50                 400 .      rejet             []\n",
              "65          NO 62 - 12 .  cassation             []\n",
              "..                   ...        ...            ...\n",
              "796       457 ), que M .      rejet             []\n",
              "823  122 - 32 - 6 et L .  cassation             []\n",
              "828       122 - 8 et L .  cassation             []\n",
              "843                X ...  cassation             []\n",
              "845    N ° 67 - 40 001 .  cassation             []\n",
              "\n",
              "[125 rows x 3 columns]"
            ]
          },
          "metadata": {
            "tags": []
          },
          "execution_count": 71
        }
      ]
    },
    {
      "cell_type": "code",
      "metadata": {
        "id": "tHTszxR7hgVu",
        "colab_type": "code",
        "colab": {
          "base_uri": "https://localhost:8080/",
          "height": 34
        },
        "outputId": "253137ca-d5d4-4143-c61a-f0aecb780e73"
      },
      "source": [
        "corpus_sent_df = corpus_sent_df[corpus_sent_df.apply(lambda row: len(row['tokenized_sent'])>0,axis=1)]\n",
        "len(corpus_sent_df)"
      ],
      "execution_count": null,
      "outputs": [
        {
          "output_type": "execute_result",
          "data": {
            "text/plain": [
              "731"
            ]
          },
          "metadata": {
            "tags": []
          },
          "execution_count": 72
        }
      ]
    },
    {
      "cell_type": "markdown",
      "metadata": {
        "id": "9_1dIFQIhgVw",
        "colab_type": "text"
      },
      "source": [
        "***"
      ]
    },
    {
      "cell_type": "markdown",
      "metadata": {
        "id": "0WE5pKcJhgVw",
        "colab_type": "text"
      },
      "source": [
        "## Exploratory Analysis of document length distribution\n",
        "Get a general idea about corpus content. Things to look for:\n",
        "- Are documents homogeneous in terms of size?\n",
        "- Are there any outliers that should be removed from corpus?"
      ]
    },
    {
      "cell_type": "code",
      "metadata": {
        "id": "s4lp3pFEhgVw",
        "colab_type": "code",
        "colab": {
          "base_uri": "https://localhost:8080/",
          "height": 195
        },
        "outputId": "e19bb090-ece7-490d-d7d9-939ea2738799"
      },
      "source": [
        "L1 = [len(doc) for doc in corpus_sent_df.tokenized_sent]\n",
        "L2 = [len(' '.join(doc)) for doc in corpus_sent_df.tokenized_sent]\n",
        "doc_len_df_ = pd.DataFrame({'n_words' : L1, \\\n",
        "                           'n_chars' : L2, \\\n",
        "                           'n_chars_per_word' : np.array(L2)/np.array(L1)})\n",
        "doc_len_df_.head()"
      ],
      "execution_count": null,
      "outputs": [
        {
          "output_type": "execute_result",
          "data": {
            "text/html": [
              "<div>\n",
              "<style scoped>\n",
              "    .dataframe tbody tr th:only-of-type {\n",
              "        vertical-align: middle;\n",
              "    }\n",
              "\n",
              "    .dataframe tbody tr th {\n",
              "        vertical-align: top;\n",
              "    }\n",
              "\n",
              "    .dataframe thead th {\n",
              "        text-align: right;\n",
              "    }\n",
              "</style>\n",
              "<table border=\"1\" class=\"dataframe\">\n",
              "  <thead>\n",
              "    <tr style=\"text-align: right;\">\n",
              "      <th></th>\n",
              "      <th>n_words</th>\n",
              "      <th>n_chars</th>\n",
              "      <th>n_chars_per_word</th>\n",
              "    </tr>\n",
              "  </thead>\n",
              "  <tbody>\n",
              "    <tr>\n",
              "      <th>0</th>\n",
              "      <td>58</td>\n",
              "      <td>453</td>\n",
              "      <td>7.810345</td>\n",
              "    </tr>\n",
              "    <tr>\n",
              "      <th>1</th>\n",
              "      <td>135</td>\n",
              "      <td>1037</td>\n",
              "      <td>7.681481</td>\n",
              "    </tr>\n",
              "    <tr>\n",
              "      <th>2</th>\n",
              "      <td>47</td>\n",
              "      <td>378</td>\n",
              "      <td>8.042553</td>\n",
              "    </tr>\n",
              "    <tr>\n",
              "      <th>3</th>\n",
              "      <td>185</td>\n",
              "      <td>1480</td>\n",
              "      <td>8.000000</td>\n",
              "    </tr>\n",
              "    <tr>\n",
              "      <th>4</th>\n",
              "      <td>216</td>\n",
              "      <td>1742</td>\n",
              "      <td>8.064815</td>\n",
              "    </tr>\n",
              "  </tbody>\n",
              "</table>\n",
              "</div>"
            ],
            "text/plain": [
              "   n_words  n_chars  n_chars_per_word\n",
              "0       58      453          7.810345\n",
              "1      135     1037          7.681481\n",
              "2       47      378          8.042553\n",
              "3      185     1480          8.000000\n",
              "4      216     1742          8.064815"
            ]
          },
          "metadata": {
            "tags": []
          },
          "execution_count": 73
        }
      ]
    },
    {
      "cell_type": "code",
      "metadata": {
        "id": "pbBwKAyMhgV0",
        "colab_type": "code",
        "colab": {
          "base_uri": "https://localhost:8080/",
          "height": 284
        },
        "outputId": "3433ea22-69eb-4d76-b796-e284a2b4605e"
      },
      "source": [
        "doc_len_df_.describe()"
      ],
      "execution_count": null,
      "outputs": [
        {
          "output_type": "execute_result",
          "data": {
            "text/html": [
              "<div>\n",
              "<style scoped>\n",
              "    .dataframe tbody tr th:only-of-type {\n",
              "        vertical-align: middle;\n",
              "    }\n",
              "\n",
              "    .dataframe tbody tr th {\n",
              "        vertical-align: top;\n",
              "    }\n",
              "\n",
              "    .dataframe thead th {\n",
              "        text-align: right;\n",
              "    }\n",
              "</style>\n",
              "<table border=\"1\" class=\"dataframe\">\n",
              "  <thead>\n",
              "    <tr style=\"text-align: right;\">\n",
              "      <th></th>\n",
              "      <th>n_words</th>\n",
              "      <th>n_chars</th>\n",
              "      <th>n_chars_per_word</th>\n",
              "    </tr>\n",
              "  </thead>\n",
              "  <tbody>\n",
              "    <tr>\n",
              "      <th>count</th>\n",
              "      <td>731.000000</td>\n",
              "      <td>731.000000</td>\n",
              "      <td>731.000000</td>\n",
              "    </tr>\n",
              "    <tr>\n",
              "      <th>mean</th>\n",
              "      <td>58.997264</td>\n",
              "      <td>465.642955</td>\n",
              "      <td>7.623365</td>\n",
              "    </tr>\n",
              "    <tr>\n",
              "      <th>std</th>\n",
              "      <td>98.498592</td>\n",
              "      <td>781.118901</td>\n",
              "      <td>1.076904</td>\n",
              "    </tr>\n",
              "    <tr>\n",
              "      <th>min</th>\n",
              "      <td>1.000000</td>\n",
              "      <td>3.000000</td>\n",
              "      <td>3.000000</td>\n",
              "    </tr>\n",
              "    <tr>\n",
              "      <th>25%</th>\n",
              "      <td>4.000000</td>\n",
              "      <td>34.000000</td>\n",
              "      <td>7.222222</td>\n",
              "    </tr>\n",
              "    <tr>\n",
              "      <th>50%</th>\n",
              "      <td>19.000000</td>\n",
              "      <td>146.000000</td>\n",
              "      <td>7.766667</td>\n",
              "    </tr>\n",
              "    <tr>\n",
              "      <th>75%</th>\n",
              "      <td>64.000000</td>\n",
              "      <td>508.000000</td>\n",
              "      <td>8.137413</td>\n",
              "    </tr>\n",
              "    <tr>\n",
              "      <th>max</th>\n",
              "      <td>730.000000</td>\n",
              "      <td>5591.000000</td>\n",
              "      <td>10.250000</td>\n",
              "    </tr>\n",
              "  </tbody>\n",
              "</table>\n",
              "</div>"
            ],
            "text/plain": [
              "          n_words      n_chars  n_chars_per_word\n",
              "count  731.000000   731.000000        731.000000\n",
              "mean    58.997264   465.642955          7.623365\n",
              "std     98.498592   781.118901          1.076904\n",
              "min      1.000000     3.000000          3.000000\n",
              "25%      4.000000    34.000000          7.222222\n",
              "50%     19.000000   146.000000          7.766667\n",
              "75%     64.000000   508.000000          8.137413\n",
              "max    730.000000  5591.000000         10.250000"
            ]
          },
          "metadata": {
            "tags": []
          },
          "execution_count": 74
        }
      ]
    },
    {
      "cell_type": "code",
      "metadata": {
        "id": "HZDDUUMihgV1",
        "colab_type": "code",
        "colab": {}
      },
      "source": [
        "#doc_len_df_.corr()"
      ],
      "execution_count": null,
      "outputs": []
    },
    {
      "cell_type": "code",
      "metadata": {
        "scrolled": true,
        "id": "DqTu5YwshgV3",
        "colab_type": "code",
        "colab": {
          "base_uri": "https://localhost:8080/",
          "height": 567
        },
        "outputId": "b9e1bb42-5e45-4609-ab3e-e1e99d5f53ac"
      },
      "source": [
        "g = sns.pairplot(doc_len_df_)"
      ],
      "execution_count": null,
      "outputs": [
        {
          "output_type": "display_data",
          "data": {
            "image/png": "[encoded data removed]",
            "text/plain": [
              "<Figure size 540x540 with 12 Axes>"
            ]
          },
          "metadata": {
            "tags": []
          }
        }
      ]
    },
    {
      "cell_type": "code",
      "metadata": {
        "id": "wuW1RjiHhgV7",
        "colab_type": "code",
        "colab": {
          "base_uri": "https://localhost:8080/",
          "height": 202
        },
        "outputId": "cb69f3e1-697a-49f4-827f-92ac9eb32c4a"
      },
      "source": [
        "# documents that contain only one word\n",
        "#corpus_sent_df.tokenized_sent[doc_len_df_.n_words==1]\n",
        "pd.Series([' '.join(doc) for doc in corpus_sent_df.tokenized_sent if len(doc)==1]).value_counts().head(10)"
      ],
      "execution_count": null,
      "outputs": [
        {
          "output_type": "execute_result",
          "data": {
            "text/plain": [
              "president     12\n",
              "avocats       10\n",
              "rapporteur    10\n",
              "rejet          4\n",
              "ops            4\n",
              "vigneron       3\n",
              "point          3\n",
              "autres         3\n",
              "brunhes        2\n",
              "iii            2\n",
              "dtype: int64"
            ]
          },
          "metadata": {
            "tags": []
          },
          "execution_count": 77
        }
      ]
    },
    {
      "cell_type": "code",
      "metadata": {
        "id": "Vx1z6s_EhgV8",
        "colab_type": "code",
        "colab": {
          "base_uri": "https://localhost:8080/",
          "height": 202
        },
        "outputId": "eedf155b-be55-467d-adaf-0993c3e47b6e"
      },
      "source": [
        "# documents that contain 2 words\n",
        "pd.Series([' '.join(doc) for doc in corpus_sent_df.tokenized_sent if len(doc)==2]).value_counts().head(10)"
      ],
      "execution_count": null,
      "outputs": [
        {
          "output_type": "execute_result",
          "data": {
            "text/plain": [
              "avocat general          11\n",
              "janvier bull             2\n",
              "drouillat rapporteur     2\n",
              "mars bull                1\n",
              "nicolay sueur            1\n",
              "decembre bull            1\n",
              "guillot rapporteur       1\n",
              "brt rousseau             1\n",
              "schmelck avocats         1\n",
              "avril bull               1\n",
              "dtype: int64"
            ]
          },
          "metadata": {
            "tags": []
          },
          "execution_count": 78
        }
      ]
    },
    {
      "cell_type": "code",
      "metadata": {
        "id": "OQW7WdFvhgV-",
        "colab_type": "code",
        "colab": {
          "base_uri": "https://localhost:8080/",
          "height": 202
        },
        "outputId": "1197b6c6-e03d-48ea-f851-c20225cb6465"
      },
      "source": [
        "# documents that contain 3 words\n",
        "pd.Series([' '.join(doc) for doc in corpus_sent_df.tokenized_sent if len(doc)==3]).value_counts().head(10)"
      ],
      "execution_count": null,
      "outputs": [
        {
          "output_type": "execute_result",
          "data": {
            "text/plain": [
              "memes especes mai          2\n",
              "rapprocher mai bull        2\n",
              "rapprocher fevrier bull    2\n",
              "societe general motors     2\n",
              "alban chaix président      2\n",
              "crespin avocat general     1\n",
              "pelletier mme ponroy       1\n",
              "rapprocher juin bull       1\n",
              "ryziger chaise martin      1\n",
              "gall mme chanet            1\n",
              "dtype: int64"
            ]
          },
          "metadata": {
            "tags": []
          },
          "execution_count": 79
        }
      ]
    },
    {
      "cell_type": "code",
      "metadata": {
        "id": "DcK7NlLNhgWA",
        "colab_type": "code",
        "colab": {
          "base_uri": "https://localhost:8080/",
          "height": 218
        },
        "outputId": "1a8f8f3e-d9ea-4b3a-e7b0-cd50c121547e"
      },
      "source": [
        "pd.Series([' '.join(doc) for doc in corpus_sent_df.tokenized_sent if len(doc)>20])"
      ],
      "execution_count": null,
      "outputs": [
        {
          "output_type": "execute_result",
          "data": {
            "text/plain": [
              "0      moyen unique attendu demoiselle assuree social...\n",
              "1      benefice indemnites journalieres periode cours...\n",
              "2      rejet pourvoi formé jean françois société quot...\n",
              "3      cour mémoires produits demande défense premier...\n",
              "4      quot attendu appert arrêt attaqué percuté plei...\n",
              "                             ...                        \n",
              "346    attendu selon arrêt attaqué paris octobre prod...\n",
              "347    directeur publication journal société nouvelle...\n",
              "348    snpc invoqué moyen pris prescription action as...\n",
              "349    snpc déposé conclusions fond novembre soulevé ...\n",
              "350    snpc pas renoncé invoquer moyen bien pas soule...\n",
              "Length: 351, dtype: object"
            ]
          },
          "metadata": {
            "tags": []
          },
          "execution_count": 80
        }
      ]
    },
    {
      "cell_type": "markdown",
      "metadata": {
        "id": "5kgBaY6bhgWC",
        "colab_type": "text"
      },
      "source": [
        "*Observations & conclusions*\n",
        "- overall very long documents; We should reduce the size of the text for input for the machine learning algorithms\n"
      ]
    },
    {
      "cell_type": "markdown",
      "metadata": {
        "id": "9VgbEvcmhgWC",
        "colab_type": "text"
      },
      "source": [
        "******"
      ]
    },
    {
      "cell_type": "markdown",
      "metadata": {
        "id": "xRTWc9TfhgWC",
        "colab_type": "text"
      },
      "source": [
        "## Exploratory Analysis of Word Frequency Distribution\n",
        "\n",
        "- Analyze and visualize frequency distribution of words across entire corpus and across indivudal documents.\n",
        "- Are there stopwords among most frequent words?\n",
        "- might help us determine how to represent documents (using TF or TF\\*IDF)."
      ]
    },
    {
      "cell_type": "markdown",
      "metadata": {
        "id": "RTSYdsPNhgWM",
        "colab_type": "text"
      },
      "source": [
        "*Observations & conclusions*\n",
        "- corpus contains 1311 unique/distinct words.\n",
        "- 52% of words are *hapaxes* (words that occur only once in entire corpus).\n",
        "- 30 most common words account for ~30% of all word occurrences.\n",
        "- Word distribution seems to follow the typical Zipf distribution."
      ]
    },
    {
      "cell_type": "markdown",
      "metadata": {
        "id": "_4A8EIW8hgWM",
        "colab_type": "text"
      },
      "source": [
        "****"
      ]
    },
    {
      "cell_type": "markdown",
      "metadata": {
        "id": "INYd1zWbhgWM",
        "colab_type": "text"
      },
      "source": [
        "## Collocation Detection\n",
        "- Distribution of Word Bigrams and Trigrams.\n",
        "- Are there any frequent bigrams or trigrams?\n",
        "- Should we use Bag-of-ngrams model with n>1 ?\n",
        "\n",
        "**To be finished ...**"
      ]
    },
    {
      "cell_type": "markdown",
      "metadata": {
        "id": "yPuR3GSkhgWN",
        "colab_type": "text"
      },
      "source": [
        "Collocations I have noticed in this corpus:\n",
        "- Main d'oeuvre\n",
        "- Je ne sais pas\n"
      ]
    },
    {
      "cell_type": "code",
      "metadata": {
        "id": "hJr_kCRehgWP",
        "colab_type": "code",
        "colab": {}
      },
      "source": [
        "from nltk import collocations"
      ],
      "execution_count": null,
      "outputs": []
    },
    {
      "cell_type": "code",
      "metadata": {
        "id": "_uOQRRbAhgWS",
        "colab_type": "code",
        "colab": {
          "base_uri": "https://localhost:8080/",
          "height": 1000
        },
        "outputId": "0785bb23-d0b6-4ba9-c22c-d8c3fb4a281a"
      },
      "source": [
        "u = [[word for word in doc] + ['.'] for doc in corpus_sent_df.tokenized_sent]\n",
        "u[0:3]"
      ],
      "execution_count": null,
      "outputs": [
        {
          "output_type": "execute_result",
          "data": {
            "text/plain": [
              "[['moyen',\n",
              "  'unique',\n",
              "  'attendu',\n",
              "  'demoiselle',\n",
              "  'assuree',\n",
              "  'sociale',\n",
              "  'percu',\n",
              "  'indemnites',\n",
              "  'journalieres',\n",
              "  'assurance',\n",
              "  'maladie',\n",
              "  'juin',\n",
              "  'septembre',\n",
              "  'repris',\n",
              "  'travail',\n",
              "  'plein',\n",
              "  'temps',\n",
              "  'septembre',\n",
              "  'octobre',\n",
              "  'inclus',\n",
              "  'suite',\n",
              "  'trois',\n",
              "  'jours',\n",
              "  'chomes',\n",
              "  'octobre',\n",
              "  'jour',\n",
              "  'ferie',\n",
              "  'paye',\n",
              "  'pas',\n",
              "  'entraine',\n",
              "  'paiement',\n",
              "  'indemnites',\n",
              "  'journalieres',\n",
              "  'titre',\n",
              "  'maladie',\n",
              "  'novembre',\n",
              "  'plus',\n",
              "  'compter',\n",
              "  'novembre',\n",
              "  'travaille',\n",
              "  'temps',\n",
              "  'prescription',\n",
              "  'medicale',\n",
              "  'jusqu',\n",
              "  'decembre',\n",
              "  'date',\n",
              "  'laquelle',\n",
              "  'repris',\n",
              "  'travail',\n",
              "  'temps',\n",
              "  'complet',\n",
              "  'attendu',\n",
              "  'fait',\n",
              "  'grief',\n",
              "  'sentence',\n",
              "  'attaquee',\n",
              "  'refuse',\n",
              "  'demoiselle',\n",
              "  '.'],\n",
              " ['benefice',\n",
              "  'indemnites',\n",
              "  'journalieres',\n",
              "  'periode',\n",
              "  'cours',\n",
              "  'laquelle',\n",
              "  'travaille',\n",
              "  'temps',\n",
              "  'motif',\n",
              "  'reprise',\n",
              "  'travail',\n",
              "  'temps',\n",
              "  'etait',\n",
              "  'intervenue',\n",
              "  'moins',\n",
              "  'trois',\n",
              "  'jours',\n",
              "  'apres',\n",
              "  'cessation',\n",
              "  'travail',\n",
              "  'alors',\n",
              "  'textes',\n",
              "  'precisant',\n",
              "  'pas',\n",
              "  'delai',\n",
              "  'trois',\n",
              "  'jours',\n",
              "  'prescrit',\n",
              "  'beneficier',\n",
              "  'indemnites',\n",
              "  'journalieres',\n",
              "  'aussi',\n",
              "  'celui',\n",
              "  'arret',\n",
              "  'total',\n",
              "  'travail',\n",
              "  'avant',\n",
              "  'reprise',\n",
              "  'travail',\n",
              "  'temps',\n",
              "  'importait',\n",
              "  'peu',\n",
              "  'trois',\n",
              "  'jours',\n",
              "  'seulement',\n",
              "  'ecoules',\n",
              "  'entre',\n",
              "  'rechute',\n",
              "  'maladie',\n",
              "  'reprise',\n",
              "  'temps',\n",
              "  'travail',\n",
              "  'juges',\n",
              "  'devant',\n",
              "  'seulement',\n",
              "  'determiner',\n",
              "  'travail',\n",
              "  'reduit',\n",
              "  'ouvrait',\n",
              "  'droit',\n",
              "  'service',\n",
              "  'prestations',\n",
              "  'journalieres',\n",
              "  'pas',\n",
              "  'fait',\n",
              "  'attendu',\n",
              "  'selon',\n",
              "  'article',\n",
              "  'dernier',\n",
              "  'alinea',\n",
              "  'code',\n",
              "  'securite',\n",
              "  'sociale',\n",
              "  'indemnite',\n",
              "  'journaliere',\n",
              "  'peut',\n",
              "  'etre',\n",
              "  'quot',\n",
              "  'maintenue',\n",
              "  'quot',\n",
              "  'tout',\n",
              "  'partie',\n",
              "  'cas',\n",
              "  'reprise',\n",
              "  'travail',\n",
              "  'pendant',\n",
              "  'duree',\n",
              "  'fixee',\n",
              "  'caisse',\n",
              "  'terme',\n",
              "  'implique',\n",
              "  'continuite',\n",
              "  'versement',\n",
              "  'ladite',\n",
              "  'indemnite',\n",
              "  'suit',\n",
              "  'demoiselle',\n",
              "  'pas',\n",
              "  'lors',\n",
              "  'rechute',\n",
              "  'allegue',\n",
              "  'percu',\n",
              "  'indemnite',\n",
              "  'journaliere',\n",
              "  'exactement',\n",
              "  'decision',\n",
              "  'attaquee',\n",
              "  'estime',\n",
              "  'pouvait',\n",
              "  'pretendre',\n",
              "  'attribution',\n",
              "  'etre',\n",
              "  'accordee',\n",
              "  'titre',\n",
              "  'maintien',\n",
              "  'lors',\n",
              "  'reprise',\n",
              "  'partielle',\n",
              "  'travail',\n",
              "  'suit',\n",
              "  'moyen',\n",
              "  'pas',\n",
              "  'fonde',\n",
              "  'motifs',\n",
              "  'rejette',\n",
              "  'pourvoi',\n",
              "  'forme',\n",
              "  'contre',\n",
              "  'decision',\n",
              "  'rendue',\n",
              "  'octobre',\n",
              "  'commission',\n",
              "  'premiere',\n",
              "  'instance',\n",
              "  'chartres',\n",
              "  '.'],\n",
              " ['rejet',\n",
              "  'pourvoi',\n",
              "  'formé',\n",
              "  'jean',\n",
              "  'françois',\n",
              "  'société',\n",
              "  'quot',\n",
              "  'compagnie',\n",
              "  'huiles',\n",
              "  'usagées',\n",
              "  'quot',\n",
              "  'contre',\n",
              "  'arrêt',\n",
              "  'juillet',\n",
              "  'cour',\n",
              "  'appel',\n",
              "  'paris',\n",
              "  'chambre',\n",
              "  'estimé',\n",
              "  'réunis',\n",
              "  'encontre',\n",
              "  'premier',\n",
              "  'nommé',\n",
              "  'éléments',\n",
              "  'constitutifs',\n",
              "  'délit',\n",
              "  'homicides',\n",
              "  'involontaires',\n",
              "  'condamné',\n",
              "  'réparations',\n",
              "  'civiles',\n",
              "  'déclarant',\n",
              "  'ladite',\n",
              "  'société',\n",
              "  'civilement',\n",
              "  'responsable',\n",
              "  'préposé',\n",
              "  'rejeté',\n",
              "  'demande',\n",
              "  'prévenu',\n",
              "  'employeur',\n",
              "  'tendant',\n",
              "  'renvoi',\n",
              "  'affaire',\n",
              "  'devant',\n",
              "  'juridiction',\n",
              "  'civile',\n",
              "  '.']]"
            ]
          },
          "metadata": {
            "tags": []
          },
          "execution_count": 102
        }
      ]
    },
    {
      "cell_type": "code",
      "metadata": {
        "id": "gh4OzoYdhgWT",
        "colab_type": "code",
        "colab": {}
      },
      "source": [
        "corpus_words_list_with_separator = [word for doc in u for word in doc]\n",
        "# corpus_words_list_with_separator[0:10]"
      ],
      "execution_count": null,
      "outputs": []
    },
    {
      "cell_type": "code",
      "metadata": {
        "id": "2Q9OGqeChgWV",
        "colab_type": "code",
        "colab": {}
      },
      "source": [
        "bigram_measures = collocations.BigramAssocMeasures()\n",
        "bigram_finder = collocations.BigramCollocationFinder.from_words(corpus_words_list_with_separator)"
      ],
      "execution_count": null,
      "outputs": []
    },
    {
      "cell_type": "code",
      "metadata": {
        "id": "ledyIuiDhgWn",
        "colab_type": "code",
        "colab": {
          "base_uri": "https://localhost:8080/",
          "height": 34
        },
        "outputId": "5da4da25-6038-48e6-8996-c3a0677471f9"
      },
      "source": [
        "# number of unique bigrams\n",
        "len(bigram_finder.score_ngrams(bigram_measures.raw_freq))"
      ],
      "execution_count": null,
      "outputs": [
        {
          "output_type": "execute_result",
          "data": {
            "text/plain": [
              "26753"
            ]
          },
          "metadata": {
            "tags": []
          },
          "execution_count": 105
        }
      ]
    },
    {
      "cell_type": "code",
      "metadata": {
        "id": "C3-1gs_2hgWo",
        "colab_type": "code",
        "colab": {
          "base_uri": "https://localhost:8080/",
          "height": 185
        },
        "outputId": "e466c23f-0e86-414d-9645-24bc274e1985"
      },
      "source": [
        "# most frequent bigrams\n",
        "bigram_finder.nbest(bigram_measures.raw_freq, 10)"
      ],
      "execution_count": null,
      "outputs": [
        {
          "output_type": "execute_result",
          "data": {
            "text/plain": [
              "[('cour', 'appel'),\n",
              " ('clear', 'none'),\n",
              " ('article', 'code'),\n",
              " ('code', 'civil'),\n",
              " ('code', 'procédure'),\n",
              " ('none', 'clear'),\n",
              " ('.', 'code'),\n",
              " ('arrêt', 'attaqué'),\n",
              " ('cour', 'cassation'),\n",
              " ('procédure', 'civile')]"
            ]
          },
          "metadata": {
            "tags": []
          },
          "execution_count": 106
        }
      ]
    },
    {
      "cell_type": "code",
      "metadata": {
        "id": "diTOk7fahgWq",
        "colab_type": "code",
        "colab": {
          "base_uri": "https://localhost:8080/",
          "height": 185
        },
        "outputId": "af784438-201a-4d0d-9e16-86b69cbc12cf"
      },
      "source": [
        "bigram_finder.nbest(bigram_measures.likelihood_ratio, 10)"
      ],
      "execution_count": null,
      "outputs": [
        {
          "output_type": "execute_result",
          "data": {
            "text/plain": [
              "[('cour', 'appel'),\n",
              " ('clear', 'none'),\n",
              " ('code', 'civil'),\n",
              " ('article', 'code'),\n",
              " ('code', 'procédure'),\n",
              " ('none', 'clear'),\n",
              " ('arrêt', 'attaqué'),\n",
              " ('procédure', 'civile'),\n",
              " ('casse', 'annule'),\n",
              " ('dès', 'lors')]"
            ]
          },
          "metadata": {
            "tags": []
          },
          "execution_count": 90
        }
      ]
    },
    {
      "cell_type": "code",
      "metadata": {
        "id": "_PJonC9_hgWs",
        "colab_type": "code",
        "colab": {
          "base_uri": "https://localhost:8080/",
          "height": 185
        },
        "outputId": "b15cf05b-f83b-4d7e-c258-0fbe41532d8f"
      },
      "source": [
        "bigram_finder.nbest(bigram_measures.pmi, 10)"
      ],
      "execution_count": null,
      "outputs": [
        {
          "output_type": "execute_result",
          "data": {
            "text/plain": [
              "[('abord', 'indemnisant'),\n",
              " ('aboutir', 'depouillement'),\n",
              " ('abstention', 'caractérisait'),\n",
              " ('acca', 'nieul'),\n",
              " ('accorder', 'liberalite'),\n",
              " ('accords', 'passes'),\n",
              " ('actiion', 'edictees'),\n",
              " ('activement', 'evite'),\n",
              " ('affiliées', 'obligatoirement'),\n",
              " ('affirmative', 'homologuant')]"
            ]
          },
          "metadata": {
            "tags": []
          },
          "execution_count": 91
        }
      ]
    },
    {
      "cell_type": "code",
      "metadata": {
        "id": "cdPw1UsxhgWv",
        "colab_type": "code",
        "colab": {
          "base_uri": "https://localhost:8080/",
          "height": 185
        },
        "outputId": "5be38cfc-9a3a-441a-8cc3-24b0924cc8e9"
      },
      "source": [
        "bigram_finder.nbest(bigram_measures.chi_sq, 10)"
      ],
      "execution_count": null,
      "outputs": [
        {
          "output_type": "execute_result",
          "data": {
            "text/plain": [
              "[('abord', 'indemnisant'),\n",
              " ('aboutir', 'depouillement'),\n",
              " ('abstention', 'caractérisait'),\n",
              " ('acca', 'nieul'),\n",
              " ('accorder', 'liberalite'),\n",
              " ('accords', 'passes'),\n",
              " ('actiion', 'edictees'),\n",
              " ('actionnaire', 'majoritaire'),\n",
              " ('activement', 'evite'),\n",
              " ('activites', 'secondaires')]"
            ]
          },
          "metadata": {
            "tags": []
          },
          "execution_count": 92
        }
      ]
    },
    {
      "cell_type": "code",
      "metadata": {
        "id": "57WK84IIhgWy",
        "colab_type": "code",
        "colab": {
          "base_uri": "https://localhost:8080/",
          "height": 185
        },
        "outputId": "970a718f-33ca-4219-90aa-e4ae01ac98d1"
      },
      "source": [
        "bigram_finder.nbest(bigram_measures.dice, 10)"
      ],
      "execution_count": null,
      "outputs": [
        {
          "output_type": "execute_result",
          "data": {
            "text/plain": [
              "[('abord', 'indemnisant'),\n",
              " ('aboutir', 'depouillement'),\n",
              " ('abstention', 'caractérisait'),\n",
              " ('acca', 'nieul'),\n",
              " ('accorder', 'liberalite'),\n",
              " ('accords', 'passes'),\n",
              " ('actiion', 'edictees'),\n",
              " ('actionnaire', 'majoritaire'),\n",
              " ('activement', 'evite'),\n",
              " ('activites', 'secondaires')]"
            ]
          },
          "metadata": {
            "tags": []
          },
          "execution_count": 93
        }
      ]
    },
    {
      "cell_type": "code",
      "metadata": {
        "id": "virA-xERhgW1",
        "colab_type": "code",
        "colab": {
          "base_uri": "https://localhost:8080/",
          "height": 185
        },
        "outputId": "70451610-6cfb-4c02-ff3f-466706814df0"
      },
      "source": [
        "bigram_finder.nbest(bigram_measures.jaccard, 10)"
      ],
      "execution_count": null,
      "outputs": [
        {
          "output_type": "execute_result",
          "data": {
            "text/plain": [
              "[('abord', 'indemnisant'),\n",
              " ('aboutir', 'depouillement'),\n",
              " ('abstention', 'caractérisait'),\n",
              " ('acca', 'nieul'),\n",
              " ('accorder', 'liberalite'),\n",
              " ('accords', 'passes'),\n",
              " ('actiion', 'edictees'),\n",
              " ('actionnaire', 'majoritaire'),\n",
              " ('activement', 'evite'),\n",
              " ('activites', 'secondaires')]"
            ]
          },
          "metadata": {
            "tags": []
          },
          "execution_count": 94
        }
      ]
    },
    {
      "cell_type": "code",
      "metadata": {
        "id": "ZyOIYcYDhgW3",
        "colab_type": "code",
        "colab": {
          "base_uri": "https://localhost:8080/",
          "height": 185
        },
        "outputId": "163dd54b-de0e-4a8c-b5ba-09efb2e97dcd"
      },
      "source": [
        "bigram_finder.nbest(bigram_measures.mi_like, 10)"
      ],
      "execution_count": null,
      "outputs": [
        {
          "output_type": "execute_result",
          "data": {
            "text/plain": [
              "[('cour', 'appel'),\n",
              " ('clear', 'none'),\n",
              " ('casse', 'annule'),\n",
              " ('code', 'civil'),\n",
              " ('dès', 'lors'),\n",
              " ('none', 'clear'),\n",
              " ('siana', 'cdm'),\n",
              " ('code', 'procédure'),\n",
              " ('procédure', 'civile'),\n",
              " ('audience', 'publique')]"
            ]
          },
          "metadata": {
            "tags": []
          },
          "execution_count": 95
        }
      ]
    },
    {
      "cell_type": "code",
      "metadata": {
        "id": "ngaXR1JdhgW5",
        "colab_type": "code",
        "colab": {
          "base_uri": "https://localhost:8080/",
          "height": 34
        },
        "outputId": "c5bcc092-9ae4-4248-9e27-698433e2b035"
      },
      "source": [
        "# Remove bigrams that occur less than 10 times\n",
        "bigram_finder.apply_freq_filter(10)\n",
        "len(bigram_finder.score_ngrams(bigram_measures.raw_freq))"
      ],
      "execution_count": null,
      "outputs": [
        {
          "output_type": "execute_result",
          "data": {
            "text/plain": [
              "351"
            ]
          },
          "metadata": {
            "tags": []
          },
          "execution_count": 109
        }
      ]
    },
    {
      "cell_type": "code",
      "metadata": {
        "id": "FOA9wesghgW8",
        "colab_type": "code",
        "colab": {}
      },
      "source": [
        "trigram_measures = collocations.TrigramAssocMeasures()\n",
        "trigram_finder = collocations.TrigramCollocationFinder.from_words(corpus_words_list_with_separator)"
      ],
      "execution_count": null,
      "outputs": []
    },
    {
      "cell_type": "code",
      "metadata": {
        "id": "ItQ1OEy2hgW-",
        "colab_type": "code",
        "colab": {
          "base_uri": "https://localhost:8080/",
          "height": 34
        },
        "outputId": "3363fb93-6f01-49eb-9dc8-db4509b8d6e6"
      },
      "source": [
        "# number of unique trigrams\n",
        "len(trigram_finder.score_ngrams(trigram_measures.raw_freq))"
      ],
      "execution_count": null,
      "outputs": [
        {
          "output_type": "execute_result",
          "data": {
            "text/plain": [
              "33443"
            ]
          },
          "metadata": {
            "tags": []
          },
          "execution_count": 98
        }
      ]
    },
    {
      "cell_type": "code",
      "metadata": {
        "id": "j4h4k8TXhgXB",
        "colab_type": "code",
        "colab": {}
      },
      "source": [
        "trigram_finder.apply_freq_filter(3)"
      ],
      "execution_count": null,
      "outputs": []
    },
    {
      "cell_type": "code",
      "metadata": {
        "id": "vNycyG3UhgXD",
        "colab_type": "code",
        "colab": {
          "base_uri": "https://localhost:8080/",
          "height": 34
        },
        "outputId": "0fdce2b3-7a15-40e3-9354-6db6736411d3"
      },
      "source": [
        "len(trigram_finder.score_ngrams(trigram_measures.raw_freq))"
      ],
      "execution_count": null,
      "outputs": [
        {
          "output_type": "execute_result",
          "data": {
            "text/plain": [
              "1551"
            ]
          },
          "metadata": {
            "tags": []
          },
          "execution_count": 100
        }
      ]
    },
    {
      "cell_type": "code",
      "metadata": {
        "id": "VLSWk3v2hgXF",
        "colab_type": "code",
        "colab": {
          "base_uri": "https://localhost:8080/",
          "height": 185
        },
        "outputId": "7d393b8b-2d1d-4aa7-a7c3-2a7244dd88e2"
      },
      "source": [
        "# most frequent trigrams\n",
        "trigram_finder.nbest(trigram_measures.raw_freq, 10)"
      ],
      "execution_count": null,
      "outputs": [
        {
          "output_type": "execute_result",
          "data": {
            "text/plain": [
              "[('clear', 'none', 'clear'),\n",
              " ('none', 'clear', 'none'),\n",
              " ('article', 'code', 'civil'),\n",
              " ('code', 'procédure', 'civile'),\n",
              " ('cour', 'appel', 'violé'),\n",
              " ('article', '.', 'code'),\n",
              " ('droit', 'renvoie', 'devant'),\n",
              " ('fait', 'droit', 'renvoie'),\n",
              " ('nouveau', 'code', 'procédure'),\n",
              " ('devant', 'cour', 'appel')]"
            ]
          },
          "metadata": {
            "tags": []
          },
          "execution_count": 101
        }
      ]
    },
    {
      "cell_type": "markdown",
      "metadata": {
        "id": "BkIAunhvhgXH",
        "colab_type": "text"
      },
      "source": [
        "*Observations & Conclusions*\n",
        "- A few trigrams but no bigrams within the same document.\n",
        "- Hence Bag-of-ngrams model with n=2 seems adequate.\n"
      ]
    },
    {
      "cell_type": "markdown",
      "metadata": {
        "id": "DzuT_7QfmU4v",
        "colab_type": "text"
      },
      "source": [
        "CONCLUSION : \n",
        "\n",
        "In this notebook, The semantic aspects of the data set of jurisprudences used in the realization of the classifier was studied.\n",
        "\n",
        "Some information concerning the use of the TF-IDFweightning  which will be applicable on this database is identified:(preprocessing text, text truncation .\n",
        ".. ) "
      ]
    },
    {
      "cell_type": "markdown",
      "metadata": {
        "id": "ZMlW23F5hgXH",
        "colab_type": "text"
      },
      "source": [
        "******"
      ]
    }
  ]
}