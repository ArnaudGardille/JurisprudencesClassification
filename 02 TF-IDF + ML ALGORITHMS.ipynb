{
  "cells": [
    {
      "cell_type": "markdown",
      "metadata": {
        "colab_type": "text",
        "id": "view-in-github"
      },
      "source": [
        "<a href=\"https://colab.research.google.com/github/SaadTazroute/JurisprudencesClassification/blob/master/02%20TF-IDF%20%2B%20ML%20ALGORITHMS.ipynb\" target=\"_parent\"><img src=\"https://colab.research.google.com/assets/colab-badge.svg\" alt=\"Open In Colab\"/></a>"
      ]
    },
    {
      "cell_type": "code",
      "execution_count": 2,
      "metadata": {
        "colab": {
          "base_uri": "https://localhost:8080/",
          "height": 70
        },
        "colab_type": "code",
        "id": "f1lmqU9DwGpG",
        "outputId": "e38194f0-bbc6-4efa-c1f5-43d7ce57b2d1"
      },
      "outputs": [],
      "source": [
        "import pandas as pd\n",
        "import numpy as np\n",
        "from scipy.stats import randint\n",
        "import seaborn as sns # used for plot interactive graph. \n",
        "import matplotlib.pyplot as plt\n",
        "import seaborn as sns\n",
        "from io import StringIO\n",
        "from sklearn.feature_extraction.text import TfidfVectorizer\n",
        "from sklearn.feature_selection import chi2\n",
        "from IPython.display import display\n",
        "from sklearn.model_selection import train_test_split\n",
        "from sklearn.feature_extraction.text import TfidfTransformer\n",
        "from sklearn.naive_bayes import MultinomialNB\n",
        "from sklearn.linear_model import LogisticRegression\n",
        "from sklearn.ensemble import RandomForestClassifier\n",
        "from sklearn.svm import LinearSVC\n",
        "from sklearn.model_selection import cross_val_score\n",
        "from sklearn.metrics import confusion_matrix\n",
        "from sklearn import metrics\n",
        "#import warnings\n",
        "#warnings.filterwarnings(\"ignore\", category=FutureWarning)"
      ]
    },
    {
      "cell_type": "code",
      "execution_count": null,
      "metadata": {
        "colab": {},
        "colab_type": "code",
        "id": "Pfixiu3JwGpO"
      },
      "outputs": [],
      "source": [
        "\n",
        "plt.rcParams['font.size'] = 14\n",
        "np.set_printoptions(precision=3)\n",
        "# better display of review text in dataframes\n",
        "pd.set_option('display.max_colwidth', None) \n",
        "\n",
        "# Seaborn options\n",
        "sns.set(style=\"whitegrid\", font_scale=1.4)\n",
        "\n",
        "# Auto reload modules\n",
        "%load_ext autoreload\n",
        "%autoreload 2"
      ]
    },
    {
      "cell_type": "code",
      "execution_count": 3,
      "metadata": {
        "colab": {},
        "colab_type": "code",
        "id": "SYBaLvtmwGpY"
      },
      "outputs": [],
      "source": [
        "import re\n",
        "from nltk import FreqDist\n",
        "from nltk.corpus import stopwords\n",
        "from nltk.tokenize import RegexpTokenizer\n",
        "from nltk.stem.snowball import FrenchStemmer\n",
        "from sklearn.feature_extraction.text import CountVectorizer, TfidfTransformer"
      ]
    },
    {
      "cell_type": "markdown",
      "metadata": {
        "colab_type": "text",
        "id": "H2H245yEwGpf"
      },
      "source": [
        "# Prepare data"
      ]
    },
    {
      "cell_type": "markdown",
      "metadata": {
        "colab_type": "text",
        "id": "uaJ_cHX6wGpg"
      },
      "source": [
        "## Load dataset"
      ]
    },
    {
      "cell_type": "code",
      "execution_count": null,
      "metadata": {
        "colab": {
          "base_uri": "https://localhost:8080/",
          "height": 121
        },
        "colab_type": "code",
        "id": "6fxLqhbJwGph",
        "outputId": "6ed6144b-0c17-4580-e6c1-2e9ff4c7e12c"
      },
      "outputs": [
        {
          "name": "stdout",
          "output_type": "stream",
          "text": [
            "Go to this URL in a browser: https://accounts.google.com/o/oauth2/auth?client_id=947318989803-6bn6qk8qdgf4n4g3pfee6491hc0brc4i.apps.googleusercontent.com&redirect_uri=urn%3aietf%3awg%3aoauth%3a2.0%3aoob&response_type=code&scope=email%20https%3a%2f%2fwww.googleapis.com%2fauth%2fdocs.test%20https%3a%2f%2fwww.googleapis.com%2fauth%2fdrive%20https%3a%2f%2fwww.googleapis.com%2fauth%2fdrive.photos.readonly%20https%3a%2f%2fwww.googleapis.com%2fauth%2fpeopleapi.readonly\n",
            "\n",
            "Enter your authorization code:\n",
            "··········\n",
            "Mounted at /content/drive\n"
          ]
        }
      ],
      "source": [
        "from google.colab import drive\n",
        "drive.mount('/content/drive')"
      ]
    },
    {
      "cell_type": "code",
      "execution_count": null,
      "metadata": {
        "colab": {
          "base_uri": "https://localhost:8080/",
          "height": 1000
        },
        "colab_type": "code",
        "id": "sFkBviotwGpm",
        "outputId": "89d966b1-8b59-4a94-e29f-881053331757"
      },
      "outputs": [
        {
          "data": {
            "text/html": [
              "<div>\n",
              "<style scoped>\n",
              "    .dataframe tbody tr th:only-of-type {\n",
              "        vertical-align: middle;\n",
              "    }\n",
              "\n",
              "    .dataframe tbody tr th {\n",
              "        vertical-align: top;\n",
              "    }\n",
              "\n",
              "    .dataframe thead th {\n",
              "        text-align: right;\n",
              "    }\n",
              "</style>\n",
              "<table border=\"1\" class=\"dataframe\">\n",
              "  <thead>\n",
              "    <tr style=\"text-align: right;\">\n",
              "      <th></th>\n",
              "      <th>content</th>\n",
              "      <th>solution</th>\n",
              "    </tr>\n",
              "  </thead>\n",
              "  <tbody>\n",
              "    <tr>\n",
              "      <th>0</th>\n",
              "      <td>Sur le premier moyen , pris en ses deux branches : Attendu que la société France Sud diffusion ( société FSD ) fait grief à l ' arrêt attaqué ( Bordeaux , 26 janvier 1987 ) de l ' avoir déboutée de l ' action qu ' elle avait intentée contre la société Kalamazoo , qui lui avait fourni un système informatique dont elle soutenait que le fonctionnement était défectueux , pour obtenir la résolution du contrat de vente et le paiement de dommages - intérêts , alors , selon le pourvoi , d ' une part , que le vendeur d ' un matériel et d ' un logiciel informatiques contracte une obligation déterminée de conseil consistant en l ' analyse actuelle et prévisionnelle des besoins de son client ; qu ' en l ' espèce la cour d ' appel , qui rappelle l ' obligation de conseil incombant à la société venderesse , relève qu ' à la date de la naissance du litige , l ' insuffisance du matériel pour répondre aux performances qu ' on attendait de lui était manifeste ; qu ' en considérant néanmoins que la société FSD était mieux placée que la Société Kalamazoo pour connaître ses besoins et que cette dernière a rempli ses obligations contractuelles , l ' arrêt a violé l ' article 1147 du Code civil ; et alors , d ' autre part , que le contrat intitulé &amp; quot ; projet d ' informatisation &amp; quot ; signé par deux représentants de la société Kalamazoo prévoit sous le titre &amp; quot ; Volumes &amp; quot ; : 5 représentants , 600 factures , 500 bons de dépôt et 1000 clients ; qu ' un éventuel dépassement des prévisions contractuelles supposait donc un traitement mensuel de plus de 600 factures et de plus de 500 bons de dépôts , l ' existence de représentants supplémentaires et le franchissement du seuil des 1200 clients , dépassement qui n ' a nullement été constaté par la cour d ' appel ; qu ' en ne constatant pas le dépassement des prévisions contractuelles et en retenant néanmoins un défaut d ' information de la part de l ' acquéreur , la cour d ' appel a privé sa décision de base légale au regard de l ' article 1147 du Code civil ; Mais attendu qu ' après avoir constaté que l ' équipement cédé était adapté aux besoins de la société FSD à la date du contrat et qu ' il n ' est devenu insuffisant que du fait de l ' augmentation importante et rapide du chiffre d ' affaires de celle - ci et de l ' accroissement corrélatif du volume des opérations à traiter sur le plan comptable , la cour d ' appel a énoncé à bon droit que les manquements éventuels du fournisseur d ' un équipement informatique à son devoir de conseil , dont elle a relevé exactement qu ' il se limitait à une obligation de moyens , devaient s ' apprécier en fonction des besoins et des objectifs définis par son client ; qu ' ayant fait ressortir de ces constatations et énonciations qu ' il ne pouvait être reproché à la société Kalamazoo de n ' avoir pas conseillé un équipement apte à répondre à des conditions d ' utilisation qui n ' étaient pas entrées dans les prévisions des parties , la cour d ' appel a légalement justifié sa décision sans encourir les griefs du moyen ; que celui - ci n ' est donc pas fondé ; Sur le second moyen , pris en ses deux branches : ( sans intérêt ) ; PAR CES MOTIFS : REJETTE le pourvoi</td>\n",
              "      <td>rejet</td>\n",
              "    </tr>\n",
              "    <tr>\n",
              "      <th>1</th>\n",
              "      <td>LA COUR DE CASSATION , CHAMBRE SOCIALE , a rendu l ' arrêt suivant : &lt; br clear =\" none \"/&gt; &lt; br clear =\" none \"/&gt; Sur le moyen unique :&lt; br clear =\" none \"/&gt; &lt; br clear =\" none \"/&gt; Vu l ' article L . 1221 - 1 du code du travail ;&lt; br clear =\" none \"/&gt; &lt; br clear =\" none \"/&gt; Attendu , selon l ' arrêt attaqué , que M . X ... a été engagé le 25 janvier 1996 , en qualité de serveur , par la société Montfermier exploitant un fonds de commerce de marchand de vins , restaurant , bar , café , lequel a été repris par la société Le Café Pierre le 27 avril 2004 ; que son horaire de travail était alors de 35 heures par semaine , réparti du lundi au vendredi de 9 heures à 16 heures ; que le 11 mai 2004 , la société Le Café Pierre lui a communiqué ses nouveaux horaires de travail à compter du 13 mai suivant , à savoir du mercredi au samedi , de 9 heures à 15 heures et de 16 heures à 18 heures et le dimanche , de 9 heures à 15 heures et de 16 heures à 17 heures ; qu ' après avoir refusé ces nouveaux horaires et demandé , en vain , le maintien de son emploi du temps , M . X ... a continué à travailler selon ses anciens horaires ; qu ' il a été licencié pour faute grave par lettre du 2 juillet 2004 ; que , contestant le bien - fondé de son licenciement , le salarié a saisi la juridiction prud ' homale ;&lt; br clear =\" none \"/&gt; &lt; br clear =\" none \"/&gt; Attendu que pour dire le licenciement de M . X ... fondé sur une cause réelle et sérieuse , la cour d ' appel retient que le salarié ne se prévalait pas d ' une clause contractuelle excluant le travail les samedi et dimanche et que la modification des jours et horaires de travail décidée par l ' employeur était justifiée par des impératifs de fonctionnement ;&lt; br clear =\" none \"/&gt; &lt; br clear =\" none \"/&gt; Qu ' en statuant ainsi , alors que la nouvelle répartition de l ' horaire de travail avait pour effet de priver le salarié du repos dominical , ce qui constituait une modification de son contrat de travail qu ' il était en droit de refuser , la cour d ' appel a violé le texte susvisé ;&lt; br clear =\" none \"/&gt; &lt; br clear =\" none \"/&gt; PAR CES MOTIFS :&lt; br clear =\" none \"/&gt; &lt; br clear =\" none \"/&gt; CASSE ET ANNULE , mais seulement en ce qu ' il a dit le licenciement de M . X ... fondé sur une cause réelle et sérieuse , l ' arrêt rendu le 10 septembre 2009 , entre les parties , par la cour d ' appel de Paris ; remet , en conséquence , sur ce point , la cause et les parties dans l ' état où elles se trouvaient avant ledit arrêt et , pour être fait droit , les renvoie devant la cour d ' appel de Paris , autrement composée ;&lt; br clear =\" none \"/&gt; &lt; br clear =\" none \"/&gt; Condamne la société Le Café Pierre aux dépens ;&lt; br clear =\" none \"/&gt; &lt; br clear =\" none \"/&gt; Vu l ' article 700 du code de procédure civile , la condamne à payer à M . X ... la somme de 2 500 euros ;&lt; br clear =\" none \"/&gt; &lt; br clear =\" none \"/&gt; Dit que sur les diligences du procureur général près la Cour de cassation , le présent arrêt sera transmis pour être transcrit en marge ou à la suite de l ' arrêt partiellement cassé ;&lt; br clear =\" none \"/&gt; &lt; br clear =\" none \"/&gt; Ainsi fait et jugé par la Cour de cassation , chambre sociale , et prononcé par le président en son audience publique du deux mars deux mille onze . MOYEN ANNEXE au présent arrêt &lt; br clear =\" none \"/&gt; &lt; br clear =\" none \"/&gt; Moyen produit par Me Bertrand , avocat aux Conseils pour M . X ... &lt; br clear =\" none \"/&gt; &lt; br clear =\" none \"/&gt; Il est fait grief à l ' arrêt infirmatif attaqué d ' AVOIR décidé que le licenciement de Monsieur X ... par la société LE CAFE PIERRE était justifié par une cause réelle et sérieuse ;&lt; br clear =\" none \"/&gt; &lt; br clear =\" none \"/&gt; AUX MOTIFS QUE le licenciement de Shanmuganathan X ... est motivé par son refus d ' accepter de se conformer au planning de travail fixé par son employeur à partir du 13 mai 2004 , le salarié ayant continué à effectuer son service selon les horaires convenus précédemment ; qu ' aucun contrat écrit excluant le travail les samedis et dimanches n ' a été produit et aucun élément versé au dossier n ' établit que le serveur travaillait effectivement depuis 1996 du lundi au vendredi , de 9 heures à 16 heures , étant observé que ses bulletins de salaire de 2003 et 2004 établis par la SARL MONTFERMIER font apparaître un nombre d ' heures travaillées variant selon les mois ; qu ' il n ' est en rien démontré que le planning qu ' il revendique constituait un élément essentiel de son contrat de travail ; que la modification des jours et horaires de travail qui relevait des pouvoirs de direction de la SARL LE CAFE PIERRE n ' était pas abusive dans la mesure où des impératifs de fonctionnement tels que la fermeture du bar de nuit la conduisaient à réorganiser les horaires de travail des employés ; que par ailleurs , les bulletins de paie qu ' elle a établis ne montrent pas de diminution de salaire au préjudice de Shanmuganathan X ... ; qu ' en conséquence , le refus de celui - ci de se conformer à de nouveaux horaires a constitué une faute rendant impossible , sans préjudice pour l ' entreprise , la poursuite de la relation de travail et autorisant l ' employeur à prononcer son licenciement ; que cependant , cette faute ne revêtait pas une gravité justifiant la rupture immédiate de son contrat de travail ; que dans ces conditions , l ' indemnité de préavis , les congés payés afférents et l ' indemnité conventionnelle de licenciement lui ont été accordés à bon droit par les premiers juges ; qu ' en revanche , il n ' y a pas lieu de l ' indemniser pour licenciement sans cause réelle et sérieuse ; que sur le rappel de salaires sur la période du 27 avril au 8 juillet 2004 , il n ' est pas contesté que Shanmuganathan X ... a continué , après le 13 mai 2004 , à travailler selon ses anciens horaires , soit 7 heures par jour , 5 jours par semaine ; que si la SARL LE CAFE PIERRE a pu lui reprocher ses départs anticipés avant 18 heures et ses absences les samedis et dimanches , elle n ' a pas fait valoir , dans les nombreuses lettres recommandées qu ' elle lui a adressées , la non réalisation de ses 35 heures hebdomadaires de travail et n ' a pas dressé un décompte journalier des heures qui n ' auraient pas été effectuées ( arrêt , pages 4 et 5 ) ;&lt; br clear =\" none \"/&gt; &lt; br clear =\" none \"/&gt; ALORS QUE si la nouvelle répartition de l ' horaire de travail au sein de la journée relève du pouvoir de direction de l ' employeur et ne caractérise qu ' un changement des conditions de travail , constitue en revanche une modification du contrat de travail soumise à l ' acceptation du salarié la réorganisation des horaires sur l ' ensemble des jours de la semaine , avec obligation de travailler le samedi et le dimanche , de telles modifications entraînant un bouleversement complet des horaires de travail ; qu ' en énonçant qu ' aucun contrat écrit excluant le travail le samedi et le dimanche n ' avait été produit , pour en déduire que la modification des jours et horaires de travail relevait des pouvoirs de direction de l ' employeur et que le refus de cette modification justifiait le licenciement du salarié , après avoir relevé qu ' en persistant , après cette modification notifiée le 13 mai 2004 , à respecter ses anciens horaires , Monsieur X ... ne travaillait ni le samedi ni le dimanche , d ' où il résultait que la nouvelle répartition des horaires définie par l ' employeur , qui impliquait l ' obligation de travailler 7 heures le samedi et 7 heures le dimanche , provoquait nécessairement un bouleversement complet des horaires de travail , le salarié ne pouvant plus bénéficier du repos dominical , la cour d ' appel a omis de tirer les conséquences légales de ses propres constatations et violé , par fausse application , l ' article L 1221 - 1 du Code du travail .</td>\n",
              "      <td>cassation</td>\n",
              "    </tr>\n",
              "    <tr>\n",
              "      <th>2</th>\n",
              "      <td>SUR LE PREMIER MOYEN : VU L ' ARTICLE 1385 DU CODE CIVIL ; ATTENDU QUE LA RESPONSABILITE EDICTEE PAR CE TEXTE A L ' ENCONTRE DU PROPRIETAIRE D ' UN ANIMAL OU DE CELUI QUI S ' EN SERT , EST FONDEE SUR L ' OBLIGATION DE GARDE CORRELATIVE AU POUVOIR DE DIRECTION , DE CONTROLE ET D ' USAGE QUI CARACTERISE LE GARDIEN ; QUE , BIEN QUE RESPONSABLE DE PLEIN DROIT DE L ' ANIMAL , CAUSE DU DOMMAGE , SON PROPRIETAIRE S ' EN TROUVE DECHARGE SI AU MOMENT DE L ' EVENEMENT DOMMAGEABLE L ' ANIMAL SE TROUVAIT SOUS LA GARDE D ' UNE AUTRE PERSONNE ; ATTENDU QUE , LE 7 AVRIL 1953 , LA VILLE DE CAHORS SOLLICITA VESIR , MARECHAL - FERRANT , DE VENIR CHERCHER , DANS SES ECURIES , UN CHEVAL POUR LE FERRER ; QUE VESIR AYANT ACCEPTE CE TRAVAIL , LE CHEVAL QU ' IL TENAIT PAR LA BRIDE AU COURS DU TRAJET ENTRE LES ECURIES ET SON ATELIER , FIT UN ECART SUIVI D ' UNE RUADE ET BLESSA LA DAME Y ..., CIRCULANT EN VILLE , QUI FUT ATTEINTE D ' UNE FRACTURE DU BASSIN ; ATTENDU QUE , POUR RETENIR LA RESPONSABILITE DE LA VILLE , L ' ARRET INFIRMATIF ATTAQUE A ESTIME QUE LA RESPONSABILITE DES MARECHAUX - FERRANTS N ' EST ENGAGEE QUE SI LE DOMMAGE EST SURVENU AU LIEU DU TRAVAIL , ET PENDANT L ' OPERATION DE FERRAGE ; QU ' IL N ' EN SERAIT PAS AINSI , EN L ' ESPECE , OU LEDIT DOMMAGE AVAIT ETE CAUSE LORS DE LA CONDUITE DE L ' ANIMAL , CELUI - CI RESTANT A CE MOMENT SOUS LA GARDE DE SON PROPRIETAIRE ; MAIS ATTENDU QU ' APRES AVOIR PRIS LIVRAISON DU CHEVAL EN VUE DE LE CONDUIRE DANS SON ATELIER , POUR Y ACCOMPLIR UN ACTE DE SON METIER , VESIR AVAIT DESORMAIS L ' USAGE , LA DIRECTION ET LE CONTROLE DE L ' ANIMAL , ET AGISSAIT EN QUALITE DE MARECHAL - FERRANT INDEPENDANT ET DANS LE SEUL INTERET DE L ' EXERCICE DE SA PROFESSION ; D ' OU IL SUIT QUE LA COUR D ' APPEL , EN DECLARANT QUE LA VILLE DE CAHORS , AVAIT CONSERVE LA GARDE DE L ' ANIMAL , VESIR ETANT EN L ' ESPECE SON PREPOSE , SANS INDIQUER EN QUOI UN LIEN DE SUBORDINATION AURAIT EXISTE ENTRE EUX , A AINSI FAUSSEMENT APPLIQUE ET , PARTANT , VIOLE LE TEXTE SUSVISE ; PAR CES MOTIFS : ET SANS QU ' IL Y AIT LIEU DE STATUER SUR LE SECOND MOYEN : CASSE ET ANNULE L ' ARRET RENDU ENTRE LES PARTIES PAR LA COUR D ' APPEL D ' AGEN , LE 26 MARS 1958 ; REMET , EN CONSEQUENCE , LA CAUSE ET LES PARTIES AU MEME ET SEMBLABLE ETAT OU ELLES ETAIENT AVANT LEDIT ARRET ET , POUR ETRE FAIT DROIT , LES RENVOIE DEVANT LA COUR D ' APPEL DE BORDEAUX . N ° 58 - 12 694 EPOUX Y ... C / VESIR ET AUTRE . PRESIDENT ET RAPPORTEUR : M DEJEAN DE LA BATIE ROLAND , CONSEILLER DOYEN , FAISANT FONCTIONS - AVOCAT GENERAL : M X ... - AVOCATS : MM LEDIEU , DEFRENOIS ET MARTIN - MARTINIERE .</td>\n",
              "      <td>cassation</td>\n",
              "    </tr>\n",
              "    <tr>\n",
              "      <th>3</th>\n",
              "      <td>LA COUR DE CASSATION , CHAMBRE CRIMINELLE , a rendu l ' arrêt suivant : Statuant sur le pourvoi formé par :&lt; br clear =\" none \"/&gt; &lt; br clear =\" none \"/&gt;- L ' officier du ministère public près la juridiction de proximité de Bordeaux ,&lt; br clear =\" none \"/&gt; &lt; br clear =\" none \"/&gt; contre le jugement de ladite juridiction , en date du 10 septembre 2012 , qui a renvoyé M . Stéphane X ... des fins de la poursuite du chef d ' excès de vitesse , en sa qualité de pécuniairement redevable de l ' amende ;&lt; br clear =\" none \"/&gt; &lt; br clear =\" none \"/&gt; La COUR , statuant après débats en l ' audience publique du 17 décembre 2013 où étaient présents dans la formation prévue à l ' article 567 - 1 - 1 du code de procédure pénale : M . Louvel , président , M . Beauvais , conseiller rapporteur , Mme Guirimand , conseiller de la chambre ;&lt; br clear =\" none \"/&gt; &lt; br clear =\" none \"/&gt; Greffier de chambre : Mme Leprey ;&lt; br clear =\" none \"/&gt; &lt; br clear =\" none \"/&gt; Sur le rapport de M . le conseiller BEAUVAIS et les conclusions de M . l ' avocat général DESPORTES ;&lt; br clear =\" none \"/&gt; &lt; br clear =\" none \"/&gt; Vu les mémoires produits en demande et en défense ;&lt; br clear =\" none \"/&gt; &lt; br clear =\" none \"/&gt; Sur la recevabilité du mémoire personnel produit en défense :&lt; br clear =\" none \"/&gt; &lt; br clear =\" none \"/&gt; Attendu que ce mémoire n ' est pas signé par un avocat à la Cour de cassation ; que , dès lors , il est irrecevable , par application de l ' article 585 du code de procédure pénale ;&lt; br clear =\" none \"/&gt; &lt; br clear =\" none \"/&gt; Sur le moyen unique de cassation , pris de la violation de l ' article L . 121 - 3 du code de la route ;&lt; br clear =\" none \"/&gt; &lt; br clear =\" none \"/&gt; Attendu qu ' il résulte du jugement attaqué et des pièces de procédure que , le 3 juin 2009 , un véhicule automobile donné en location à la société Novartis Pharma a fait l ' objet d ' un procès - verbal pour excès de vitesse ; que M . X ..., désigné par le représentant légal de cette société comme l ' utilisateur habituel du véhicule , a été cité à comparaître devant la juridiction de proximité qui , par le jugement attaqué , l ' a renvoyé des fins de la poursuite , en retenant qu ' il n ' était pas l ' auteur de l ' infraction et qu ' il n ' avait pas la qualité de représentant légal de la personne morale ni celle de locataire du véhicule ; &lt; br clear =\" none \"/&gt; &lt; br clear =\" none \"/&gt; Attendu qu ' en cet état , le demandeur ne saurait faire grief au juge du fond d ' avoir méconnu les dispositions de l ' article L . 121 - 3 du code de la route , dès lors que , par application de ce texte , en l ' absence d ' identification de l ' auteur d ' une contravention d ' excès de vitesse , seul le représentant légal de la personne morale titulaire du certificat d ' immatriculation ou le locataire du véhicule peut être déclaré pécuniairement redevable de l ' amende encourue ; &lt; br clear =\" none \"/&gt; &lt; br clear =\" none \"/&gt; D ' où il suit que le moyen n ' est pas fondé ; &lt; br clear =\" none \"/&gt; &lt; br clear =\" none \"/&gt; Et attendu que le jugement est régulier en la forme ; &lt; br clear =\" none \"/&gt; &lt; br clear =\" none \"/&gt; REJETTE le pourvoi ; &lt; br clear =\" none \"/&gt; &lt; br clear =\" none \"/&gt; Ainsi fait et jugé par la Cour de cassation , chambre criminelle , et prononcé par le président le vingt - huit janvier deux mille quatorze ;&lt; br clear =\" none \"/&gt; &lt; br clear =\" none \"/&gt; En foi de quoi le présent arrêt a été signé par le président , le rapporteur et le greffier de chambre ;</td>\n",
              "      <td>rejet</td>\n",
              "    </tr>\n",
              "    <tr>\n",
              "      <th>4</th>\n",
              "      <td>LA COUR , VU LES MEMOIRES PRODUITS EN DEMANDE ET EN DEFENSE ; SUR LE MOYEN UNIQUE DE CASSATION , PRIS DE LA VIOLATION DES ARTICLES 1382 , 1351 , 1134 DU CODE CIVIL , ET DES ARTICLES 2 ET SUIVANTS DU CODE DE PROCEDURE PENALE , DE L ' ARTICLE 391 , ALINEA 2 , DE LA LOI DU 24 JUILLET 1966 , DE L ' ARTICLE 593 DU CODE DE PROCEDURE PENALE , DEFAUT DE MOTIFS ET DE REPONSE A CONCLUSIONS , MANQUE DE BASE LEGALE , &amp; quot ; EN CE QUE L ' ARRET INFIRMATIF ATTAQUE DECLARE IRRECEVABLE LA CONSTITUTION DE PARTIE CIVILE FORMEE PAR LES DEMANDERESSES CONTRE PIERRE X ... POUR LES DELITS D ' ABUS DE CONFIANCE ET DE FAUX ; &amp; quot ; AUX MOTIFS QUE PAR UNE ASSEMBLEE GENERALE DU 6 NOVEMBRE 1967 , LA LIQUIDATION ANTICIPEE DE LA SOCIETE AVAIT ETE DECIDEE , LES DEMANDERESSES ETANT NOMMEES LIQUIDATRICES ; QUE LA LIQUIDATION DE LA SOCIETE N ' ETAIT PAS TERMINEE ; QUE LA PERSONNALITE MORALE DE CETTE SOCIETE SURVIVAIT POUR LES BESOINS DE SA LIQUIDATION ; QUE LES DEMANDERESSES DEVAIENT DONC PROUVER QUE LES AGISSEMENTS DE PIERRE X ... LEUR AVAIENT CAUSE UN PREJUDICE PERSONNEL ET DIRECT ET NE POUVAIENT VALABLEMENT SE PREVALOIR , POUR DEFAUT DE QUALITE , DE CELUI QUI AURAIT ETE SUBI PAR LA SOCIETE DU FAIT DES DETOURNEMENTS NI DES FAUX ET USAGES DE FAUX REPROCHES AU SIEUR X ... ; QUE SEULE LA JURIDICTION DEVANT STATUER SUR LE BIEN - FONDE DE LEUR DEMANDE AVAIT LA POSSIBILITE DE DETERMINER SI ELLES AVAIENT OU NON PERSONNELLEMENT SUBI UN PREJUDICE DIRECT ET QU ' ELLES NE POUVAIENT UTILEMENT INVOQUER L ' AUTORITE DE LA CHOSE JUGEE , PUISQUE RIEN N ' AVAIT ETE DEFINITIVEMENT JUGE EN CE QUI LES CONCERNE ; &amp; quot ; ALORS QUE , D ' UNE PART , L ' ANNULATION D ' UN ARRET , SI GENERAUX ET ABSOLUS QUE SOIENT LES TERMES DANS LESQUELS ELLE A ETE PRONONCEE , EST LIMITEE A LA PORTEE DU MOYEN QUI LUI A SERVI DE BASE ET LAISSE SUBSISTER COMME PASSEES EN FORCE DE CHOSE JUGEE TOUTES LES DISPOSITIONS EXPRESSES OU IMPLICITES QUI N ' ONT PAS ETE ATTAQUEES PAR LE POURVOI ; QU ' IL EN RESULTE QUE , DES LORS QUE LA RECEVABILITE DE LA CONSTITUTION DE PARTIE CIVILE AVAIT ETE ADMISE PAR LE JUGE D ' INSTRUCTION , CONFIRMEE PAR LE JUGEMENT DU 16 JANVIER 1976 ET NON CONTESTEE PAR L ' ARRET CASSE DE LA COUR D ' APPEL DE DIJON , IL Y AVAIT AUTORITE DE CHOSE JUGEE SUR CE POINT ; &amp; quot ; ALORS QUE , D ' AUTRE PART , LA PERSONNALITE MORALE D ' UNE SOCIETE DISSOUTE NE SE SURVIT QUE POUR LES SEULS BESOINS DE SA LIQUIDATION , C ' EST - A - DIRE DANS LA MESURE OU ELLE EST NECESSAIRE A L ' ACCOMPLISSEMENT DES ACTES JURIDIQUES QUI FACILITERONT LA LIQUIDATION ET LE PARTAGE , EN SORTE QUE , DANS LES RAPPORTS DES ASSOCIES ENTRE EUX , LA SOCIETE CESSE D ' AVOIR LA PERSONNALITE MORALE , ET QU ' AUX PARTS SOCIALES DES ASSOCIES EST SUBSTITUEE UNE CREANCE DE CHAQUE ASSOCIE DANS LE PARTAGE , PROPORTIONNELLE A SA QUOTE - PART ; &amp; quot ; ALORS , ENFIN , QUE L ' ARRET ATTAQUE NE POUVAIT , SANS CONTRADICTION , CONSTATER QUE LES DEMANDERESSES AVAIENT ETE DESIGNEES COMME LIQUIDATRICES DE LA SOCIETE DISSOUTE PAR L ' ASSEMBLEE GENERALE DU 6 NOVEMBRE 1967 , TOUT EN AFFIRMANT QU ' ELLES N ' AVAIENT PAS QUALITE POUR DEMANDER REPARATION DU PREJUDICE SUBI PAR LA SOCIETE DU FAIT DES DETOURNEMENTS COMMIS PAR PIERRE X ... PUISQUE C ' EST PRECISEMENT LE LIQUIDATEUR QUI A QUALITE POUR ESTER EN JUSTICE AU NOM DE LA SOCIETE DISSOUTE &amp; quot ; ; SUR LA PREMIERE BRANCHE DU MOYEN ; ATTENDU QU ' IL RESULTE DE L ' EXAMEN DE L ' ARRET DE CASSATION DU 25 MAI 1977 , QUE L ' ARRET ATTAQUE DE LA COUR D ' APPEL DE DIJON DU 28 AVRIL 1976 A ETE ANNULE DANS TOUTES SES DISPOSITIONS CIVILES ; QU ' EN L ' ABSENCE DE RESTRICTION , IL DOIT ETRE CONSIDERE QU ' AUCUNE DESDITES DISPOSITIONS DE L ' ARRET N ' A ACQUIS , A L ' EGARD DES PARTIES CIVILES , L ' AUTORITE DE LA CHOSE JUGEE ; QU ' EN EFFET , QUAND UNE DECISION EST ANNULEE SANS RESERVE EN CE QUI CONCERNE LES INTERETS CIVILS , AUCUNE PARTIE DE CETTE DECISION , RELATIVE A CES INTERETS , N ' A PU ACQUERIR L ' AUTORITE DE LA CHOSE JUGEE , QUELLE QU ' AIT ETE LA PORTEE DU MOYEN AYANT SERVI DE BASE A LA CASSATION PRONONCEE ; QUE LE MOYEN DOIT ETRE ECARTE ; SUR LA SECONDE BRANCHE DU MOYEN ; ATTENDU , D ' UNE PART , QU ' IL APPERT DE L ' EXAMEN DE LA PROCEDURE QUE PIERRE X ... A ETE POURSUIVI POUR ABUS DE CONFIANCE , FAUX ET USAGE DE FAUX ; QUE ETIENNETTE X ..., EPOUSE Y ..., ET JEANNE X ..., VEUVE Z ..., SE SONT CONSTITUEES PARTIES CIVILES ; ATTENDU , EN SECOND LIEU , QU ' IL RESULTE DES ENONCIATIONS DE L ' ARRET ATTAQUE QUE LES DELITS REPROCHES AU PREVENU CONSISTAIENT EN DES DETOURNEMENTS COMMIS AU PREJUDICE DE LA SOCIETE X ... ET EN FALSIFICATIONS DE CERTAINES ECRITURES COMPTABLES DE LADITE SOCIETE ; QUE , NEANMOINS , LES DAMES ETIENNETTE ET JEANNE X ..., BIEN QU ' ELLES FUSSENT LIQUIDATRICES DE LA SOCIETE X ..., N ' ONT PAS DEMANDE LA REPARATION DU PREJUDICE SUBI PAR CETTE SOCIETE , MAIS CELLE DE CERTAINS DOMMAGES , DONT ELLES DISENT AVOIR PERSONNELLEMENT SOUFFERT , DU FAIT DES TROUBLES MATERIELS ET MORAUX QU ' ONT ENTRAINES POUR ELLES LES AGISSEMENTS DU PREVENU ; ATTENDU , EN CET ETAT , QUE LA COUR D ' APPEL A PU ESTIMER QUE LES PREJUDICES , DONT LES PARTIES CIVILES DEMANDAIENT LA REPARATION , N ' ETAIENT PAS LES CONSEQUENCES DIRECTES DES DELITS REPROCHES A X ... ; D ' OU IL SUIT QUE LE MOYEN NE SAURAIT ETRE ACCUEILLI ; ET ATTENDU QUE L ' ARRET EST REGULIER EN LA FORME ; REJETTE LE POURVOI .</td>\n",
              "      <td>rejet</td>\n",
              "    </tr>\n",
              "    <tr>\n",
              "      <th>...</th>\n",
              "      <td>...</td>\n",
              "      <td>...</td>\n",
              "    </tr>\n",
              "    <tr>\n",
              "      <th>9995</th>\n",
              "      <td>SUR LE MOYEN UNIQUE : VU LES ARTICLES L . 397 DU CODE DE LA SECURITE SOCIALE ET 2093 DU CODE CIVIL ; ATTENDU QUE M X ... A ETE VICTIME LE 24 JUIN 1974 D ' UN ACCIDENT DE LA CIRCU LATION IMPUTABLE POUR MOITIE A M Y ..., ASSURE A LA MUTUELLE ASSURANCE ARTISA NALE DE FRANCE ( M . A . A . F .) ; ATTENDU QU ' APRES AVOIR FIXE LA PART D ' INDEMNITE REPARANT L ' ATTEINTE A L ' INTEGRITE PHYSIQUE DE LA VICTIME , L ' ARRET ATTAQUE A CONDAMNE LE TIERS RESPONSABLE ET SON ASSUREUR A REMBOURSER A LA CAISSE PRIMAIRE D ' ASSURANCE MALADIE LES PRESTATIONS D ' INCAPACITE TEMPORAIRE ET LES ARRERAGES ECHUS DE LA PENSION D ' INVALIDITE SERVIE A M X ... ET A REPARTI LE SOLDE DE CETTE INDEMNITE ENTRE LA CAISSE PRIMAIRE ET LA CAISSE REGIONALE D ' ASSURANCE MALADIE AU PRORATA DE LEURS CREANCES RESPECTIVES , CONSTITUEES , POUR LA PREMIERE , PAR LE CAPITAL REPRESENTATIF DES DOMMAGES A ECHOIRS DE LA PENSION D ' INVALIDITE ET , POUR LA SECONDE , PAR LE CAPITAL REPRES ENTATIF DES ARRERAGES DIFFERENTIELS DE LA PENSION DE VIEILLESSE SUBSTITUEE AU SOIXANTIEME ANNIVERSAIRE DE LA VICTIME A LA PENSION D ' INVALIDITE ; QU ' EN STATUANT AINSI QUE L ' ARTICLE L . 397 DU CODE DE LA SECURITE SOCIALE N ' ETABLIT AUCUN DROIT DE PREFERENCE ENTRE LES ORGANISMES DE SECURITE SOCIALE POUR LE REMBOURSEMENT DES PRESTATIONS QUI CONCOUREN T A LA REPARATION DU PREJUDICE CORPOREL DE LA VICTIME , LA COUR D ' APPEL A VIOLE LES TEXTES SUSVISES ; PAR CES MOTIFS : CASSE ET ANNULE , MAIS SEULEMENT DU CHEF DE LA REPARTITION ENTRE LES CAISSES PRIMAIRE ET REGIONALE D ' ASSURANCE MALADIE DE L ' INDEMNITE REPARANT L ' ATTEINTE A L ' INTEGRITE PHYSIQUE DE LA VICTIME , L ' ARRET RENDU LE 9 NOVEMBRE 1982 , ENTRE LES PARTIES , PAR LA COUR D ' APPEL D ' AIX - EN - PROVENCE ; REMET , EN CONSEQUENCE , QUANT A CE , LA CAUSE ET LES PARTIES AU MEME ET SEMBLABLE ETAT OU ELLES ETAIENT AVANT LEDIT ARRET ET , POUR ETRE FAIT DROIT , LES RENVOIE DEVANT LA COUR D ' APPEL DE NIMES , A CE DESIGNEE PAR DELIBERATION SPECIALE PRISE EN LA CHAMBRE DU CONSEIL ;</td>\n",
              "      <td>cassation</td>\n",
              "    </tr>\n",
              "    <tr>\n",
              "      <th>9996</th>\n",
              "      <td>Sur le moyen unique : Attendu que la commission d ' attribution des aides aux artisans âgés a rejeté la demande d ' indemnité de départ présentée le 4 août 1982 par la veuve de Victor X ... après avoir relevé que ce dernier , décédé le 9 mai 1982 , avait cessé son activité artisanale le 1er avril 1981 ; Attendu que la Caisse interprofessionnelle de retraite vieillesse artisanale de Bordeaux et de la région fait grief à l ' arrêt confirmatif attaqué ( Bordeaux , 19 novembre 1984 ) d ' avoir accueilli le recours de Mme X ..., au motif essentiel que la règlementation n ' exigeait nullement que le requérant soit toujours en activité au moment de sa demande , alors qu ' il résulte des articles 106 de la loi du 30 décembre 1981 , 3 et 5 du décret du 2 avril 1982 et 4 , 7 et 8 de l ' instruction ministérielle approuvée par arrêté du 2 avril 1982 que , pour bénéficier de l ' indemnité de départ , l ' intéressé doit être en activité au moment de la demande et que , lorsque cette demande est formée par le conjoint , après son décès , la condition d ' activité doit être remplie à la date du décès ; Mais attendu que les juges du fond relèvent que Victor X ..., dont il n ' est pas allégué qu ' il se soit fait radier du répertoire des métiers avant son décès , n ' avait pas mis fin à son activité professionnelle , mais l ' avait seulement suspendue temporairement pour raisons de santé , en sorte que , pendant cette suspension , il n ' avait pas perdu la qualité d ' artisan actif et le droit à bénéficier de l ' indemnité de départ attaché à celle - ci ; Que ce motif suffit à justifier la décision ; PAR CES MOTIFS : REJETTE le pourvoi</td>\n",
              "      <td>rejet</td>\n",
              "    </tr>\n",
              "    <tr>\n",
              "      <th>9997</th>\n",
              "      <td>SUR LE MOYEN UNIQUE : ATTENDU QUE LA VILLE DE BORDEAUX FAIT GRIEF A L ' ARRET ATTAQUE , STATUANT SUR APPEL D ' UNE ORDONNANCE DE REFERE , D ' AVOIR ACCUEILLI L ' EXCEPTION DE PEREMPTION D ' INSTANCE SOULEVEE PAR LA SOCIETE AVENIR PUBLICITE , ALORS QUE L ' AFFAIRE AYANT ETE RADIER PAR ORDONNANCE DU CONSEILLER DE LA MISE EN ETAT , SA REINSCRIPTION A LA DATE DU 5 FEVRIER 1981 CONSTITUERAIT UNE DILIGENCE INTERROMPANT LA PEREMPTION D ' INSTANCE PREVUE PAR L ' ARTICLE 386 DU NOUVEAU CODE DE PROCEDURE CIVILE ; MAIS ATTENDU QUE LA REINSCRIPTION D ' UNE AFFAIRE AU ROLE NE CONSTITUE PAS , A ELLE SEULE , UNE DILIGENCE AU SENS DE L ' ARTICLE 386 PRECITE , QU ' AYANT RELEVE QUE LE CONSEILLER DE LA MISE EN ETAT AVAIT PROCEDE A LA RADIATION DE L ' AFFAIRE , FAUTE DE CONCLUSIONS DES PARTIES , C ' EST SANS VIOLER L ' ARTICLE SUSVISE QUE LA COUR D ' APPEL , APRES AVOIR CONSTATE QU ' ENTRE LE 23 AVRIL 1979 , DATE DE L ' INSCRIPTION AU ROLE ET LE 16 SEPTEMBRE 1981 , DATE DE LA SIGNIFICATION DES CONCLUSIONS DE LA VILLE DE BORDEAUX , AUCUN ACTE N ' AVAIT ETE ACCEPTE PAR LES PARTIES , EN A DEDUIT QUE LA PEREMPTION DE L ' INSTANCE ETAIT ACQUISE LE 24 AVRIL 1981 ; D ' OU IL SUIT QUE LE MOYEN N ' EST PAS FONDE ; PAR CES MOTIFS : REJETTE LE POURVOI FORME CONTRE L ' ARRET RENDU LE 23 NOVEMBRE 1981 PAR LA COUR D ' APPEL DE BORDEAUX ;</td>\n",
              "      <td>rejet</td>\n",
              "    </tr>\n",
              "    <tr>\n",
              "      <th>9998</th>\n",
              "      <td>SUR LE PREMIER MOYEN : ATTENDU QU ' EST REPROCHEE A L ' ARRET DEFERE ( AMIENS , 19 JUIN 1979 ) L ' EVALUATION PAR LUI FAITE D ' UN STOCK DE MARCHANDISES A LA SUITE DE LA VENTE PAR LA SOCIETE PUBLIRAMA ( LA SOCIETE ) AUX EPOUX Y ... D ' UN FONDS DE COMMERCE EXPLOITE PAR ELLE , ALORS QUE , SELON LE POURVOI , LA COUR D ' APPEL NE POUVAIT SANS SE CONTREDIRE CONSTATER QU ' IL N ' Y AURAIT PAS EU D ' INVENTAIRE CONTRADICTOIRE DES MARCHANDISES POUR REJETER LES PRETENTIONS DE LA SOCIETE AU PAIEMENT DE LA TAXE SUR LA VALEUR AJOUTEE SUR LE PRIX DE CES MARCHANDISES ET RETENIR LA SOMME INDIQUEE PAR LA SOCIETE POUR JUSTIFIER LA DEMANDE DE REMBOURSEMENT DES EPOUX Y ..., QU ' EN STATUANT AU PRIX D ' UNE TELLE CONTRADICTION DE MOTIFS , LA COUR D ' APPEL A VIOLE L ' ARTICLE 455 DU NOUVEAU CODE DE PROCEDURE CIVILE ; MAIS ATTENDU QUE LA COUR D ' APPEL NE SE CONTREDIT PAS EN ENONCANT , D ' UNE PART , QUE LA COMPOSITION DU STOCK DE MARCHANDISES EN CAUSE N ' A PAS ETE CONTRADICTOIREMENT CONSTATEE ET , D ' AUTRE PART , QUE LA SOCIETE NE RAPPORTE PAS LA PREUVE QUE CE STOCK A UNE VALEUR , TOUTES TAXES COMPRISES , SUPERIEURE A LA SOMME ADMISE PAR LES EPOUX Y ...; QUE LE MOYEN N ' EST PAS FONDE ; SUR LE SECOND MOYEN : ATTENDU QU ' IL EST ENCORE FAIT GRIEF A L ' ARRET D ' AVOIR DECIDE QUE LES EPOUX Y ... NE DEVAIENT PAS PAYER A LA SOCIETE LE MONTANT , ATTENUE D ' UN CINQUIEME PAR ANNEE CIVILE , DE LA TAXE SUR LA VALEUR AJOUTEE AYANT GREVE DES BIENS CONSTITUANT DES IMMOBILISATIONS DU FONDS DE COMMERCE , INITIALEMENT DEDUITE PAR LA SOCIETE QUI ETAIT TENUE DE LA REVERSER AU FISC A LA SUITE DE LA CESSATION DE SON ACTIVITE , AUX MOTIFS , NOTAMMENT , QUE LA SOCIETE NE POUVAIT PRETENDRE A RESTITUTION QUE SI ELLE ETABLISSAIT QU ' A LA SUITE DE LA REMISE PAR ELLE AUX EPOUX Y ... D ' UNE ATTESTATION MENTIONNANT LE MONTANT DE LA TAXE SUR LA VALEUR AJOUTEE EN CAUSE , CEUX - CI AVAIENT OBTENU DE L ' ADMINISTRATION FISCALE UNE DIMINUTION DE LA TAXE SUR LA VALEUR AJOUTEE EGALE A LA SOMME RECLAMEE , ALORS QUE , SELON LE POURVOI , C ' EST UNIQUEMENT LA REMISE DE L ' ATTESTATION VISEE A L ' ARTICLE 210 DE L ' ANNEXE II DU CODE GENERAL DES IMPOTS ET LE DROIT A DEDUCTION QU ' ELLE FAIT NAITRE AU PROFIT DE L ' ACQUEREUR QUI OUVRE AU VENDEUR D ' UN FONDS DE COMMERCE LE DROIT D ' OBTENIR REMBOURSEMENT DE LA TAXE REVERSEE EN APPLICATION DE CE TEXTE ET CE INDEPENDAMMENT DE TOUT ACCORD DES PARTIES , QU ' EN REJETANT LA DEMANDE DE REMBOURSEMENT FORMEE PAR LA SOCIETE EN L ' ABSENCE DE TOUTE CONTESTATION DE LA REMISE DE L ' ATTESTATION PERMETTANT LA DEDUCTION PAR LES EPOUX Z ... X ... D ' APPEL A VIOLE L ' ARTICLE 210 SUSVISE ; MAIS ATTENDU QUE LA COUR D ' APPEL RELEVE , D ' UNE PART , QUE L ' ACTE DE VENTE NE COMPORTANT AUCUNE DISPOSITION RELATIVE A LA TAXE SUR LA VALEUR AJOUTEE , LES EPOUX Y ... NE SONT PAS CONTRACTUELLEMENT TENUS DU PAIEMENT DE CELLE - CI ET RETIENT , D ' AUTRE PART , A BON DROIT , QU ' A LA SUITE DE LA CESSATION D ' ACTIVITE DE LA SOCIETE , CELLE - CI ETAIT LE REDEVABLE LEGAL DE LA FRACTION DE TAXE SUR LA VALEUR AJOUTEE EN CAUSE ; QUE PAR CES SEULES ENONCIATIONS , ET ABSTRACTION FAITE DE TOUT AUTRE MOTIF SURABONDANT , LA COUR D ' APPEL A JUSTIFIE SA DECISION ; QUE LE MOYEN EST MAL FONDE ; PAR CES MOTIFS : REJETTE LE POURVOI FORME CONTRE L ' ARRET RENDU LE 19 JUIN 1979 PAR LA COUR D ' APPEL D ' AMIENS ;</td>\n",
              "      <td>rejet</td>\n",
              "    </tr>\n",
              "    <tr>\n",
              "      <th>9999</th>\n",
              "      <td>SUR LE MOYEN UNIQUE : VU L ' ARTICLE 706 - 3 DU CODE DE PROCEDURE PENALE ; ATTENDU QUE TOUTE PERSONNE AYANT SUBI UN PREJUDICE RESULTANT D ' UNE INFRACTION EST EN DROIT D ' OBTENIR UNE INDEMNITE LORSQUE SONT REUNIES LES CONDITIONS PRECISEES PAR LEDIT ARTICLE ET , NOTAMMENT , LORSQUE LE PREJUDICE CONSISTE EN UN TROUBLE GRAVE DANS LES CONDITIONS DE VIE RESULTANT D ' UNE ATTEINTE A L ' INTEGRITE , SOIT PHYSIQUE , SOIT MENTALE ; ATTENDU QUE POUR DEBOUTER M . X ... DE LA DEMANDE D ' INDEMNITE PAR LUI PRESENTEE A LA SUITE D ' UN ATTENTAT DONT LES AUTEURS N ' ONT PAS ETE IDENTIFIES ET QUI DEMEURE ATTEINT D ' UNE INCAPACITE PERMANENTE PARTIELLE , LA DECISION ATTAQUEE , RENDUE PAR UNE COMMISSION D ' INDEMNISATION SIEGEANT PRES UN TRIBUNAL DE GRANDE INSTANCE , ENONCE QUE L ' ETAT EST TENU ENVERS LES VICTIMES , EN RAISON DE SA POLITIQUE GLOBALE DE SOLIDARITE , QUE CETTE POLITIQUE EST FINANCEE EN PARTICULIER PAR L ' IMPOT SUR LE REVENU PAYE PAR LES TRAVAILLEURS , MEME MODESTES , ET QU ' IL APPARAIT CHOQUANT D ' INDEMNISER DES VICTIMES BIEN QUE GRAVEMENT TOUCHEES DANS LEUR INTEGRITE PHYSIQUE COMME M . X ..., ALORS QUE CE PREJUDICE N ' APPORTE PAS UN TROUBLE GRAVE DANS LEURS CONDITIONS DE VIE , DANS LA MESURE OU ILS ONT LES MOYENS MATERIELS DE FAIRE FACE A LEUR EPREUVE ; QU ' EN AJOUTANT AINSI , POUR APPRECIER LA GRAVITE DU TROUBLE QUE L ' INFRACTION PENALE A APPORTE A M . X ... DANS SES CONDITIONS DE VIE , DES CONSIDERATIONS RELATIVES AU PATRIMOINE DE LA VICTIME AU CRITERE LEGAL D ' UNE ATTEINTE A L ' INTEGRITE PHYSIQUE DONT ELLE RELEVAIT LA GRAVITE , LA COMMISSION A VIOLE LE TEXTE SUSVISE ; PAR CES MOTIFS : CASSE ET ANNULE LA DECISION RENDUE LE 18 SEPTEMBRE 1984 , ENTRE LES PARTIES , PAR LA COMMISSION D ' INDEMNISATION DES VICTIMES D ' INFRACTIONS DU TRIBUNAL DE GRANDE INSTANCE DE CARPENTRAS ; REMET , EN CONSEQUENCE , LA CAUSE ET LES PARTIES AU MEME ET SEMBLABLE ETAT OU ELLES SE TROUVAIENT AVANT LADITE DECISION ET , POUR ETRE FAIT DROIT , LES RENVOIE DEVANT LA COMMISSION D ' INDEMNISATION DES VICTIMES D ' INFRACTIONS DU TRIBUNAL DE GRANDE INSTANCE D ' AVIGNON , A CE DESIGNEE PAR DELIBERATION SPECIALE PRISE EN LA CHAMBRE DU CONSEIL ;</td>\n",
              "      <td>cassation</td>\n",
              "    </tr>\n",
              "  </tbody>\n",
              "</table>\n",
              "<p>10000 rows × 2 columns</p>\n",
              "</div>"
            ],
            "text/plain": [
              "                                                                                                                                                                                                                                                                                                                                                                                                                                                                                                                                                                                                                                                                                                                                                                                                                                                                                                                                                                                                                                                                                                                                                                                                                                                                                                                                                                                                                                                                                                                                                                                                                                                                                                                                                                                                                                                                                                                                                                                                                                                                                                                                                                                                                                                                                                                                                                                                                                                                                                                                                                                                                                                                                                                                                                                                                                                                                                                                                                                                                                                                                                                                                                                                                                                                                                                                                                                                                                                                                                                                                                                                                                                                                                                                                                                                                                                                                                                                                                                                                                                                                                                                                                                                                                                                                                                                                                                                                                                                                                                                                                                                                                                                                                                                                                                                                                                                                                                                                                                                                                                                                                                                                                                                                                                                                                                                                                                                                                                                                                                                                                                                                                                                                                                                                                                                                                                                                                                                                                                                                                                                                                                                                                                                                                                                                                                                                                                                                                                                                                                                                                                                                                                                                                                                                                                                                                                                                                                                                                                                                                                                                                                                                                                                                                                                                                                                                                                                                                                                                                                                                                                                                                                                                                                                                                                                                                                                                                                                                                                                                                                                                                    content   solution\n",
              "0                                                                                                                                                                                                                                                                                                                                                                                                                                                                                                                                                                                                                                                                                                                                                                                                                                                                                                                                                                                                                                                                                                                                                                                                                                                                                                                                                                                                                                                                                                                                                                                                                                                                                                                                                                                                                                                                                                                                                                                                                                                                                                                                                                                                                                                                                                                                                                                                                                                                                                                                                                                                                                                                                                                                                                                                                                                                                                                                                                                                                                                                                                                                                                                                                                                                                                                                                                                                                                                                                                                                                                                                                                                                                                                                                                                                                                                                                                                                                                                                                                                                                                                                                                                                                                                                                                                                                                                                                                                                                                                                                                                                                                                                                                                                                                               Sur le premier moyen , pris en ses deux branches : Attendu que la société France Sud diffusion ( société FSD ) fait grief à l ' arrêt attaqué ( Bordeaux , 26 janvier 1987 ) de l ' avoir déboutée de l ' action qu ' elle avait intentée contre la société Kalamazoo , qui lui avait fourni un système informatique dont elle soutenait que le fonctionnement était défectueux , pour obtenir la résolution du contrat de vente et le paiement de dommages - intérêts , alors , selon le pourvoi , d ' une part , que le vendeur d ' un matériel et d ' un logiciel informatiques contracte une obligation déterminée de conseil consistant en l ' analyse actuelle et prévisionnelle des besoins de son client ; qu ' en l ' espèce la cour d ' appel , qui rappelle l ' obligation de conseil incombant à la société venderesse , relève qu ' à la date de la naissance du litige , l ' insuffisance du matériel pour répondre aux performances qu ' on attendait de lui était manifeste ; qu ' en considérant néanmoins que la société FSD était mieux placée que la Société Kalamazoo pour connaître ses besoins et que cette dernière a rempli ses obligations contractuelles , l ' arrêt a violé l ' article 1147 du Code civil ; et alors , d ' autre part , que le contrat intitulé & quot ; projet d ' informatisation & quot ; signé par deux représentants de la société Kalamazoo prévoit sous le titre & quot ; Volumes & quot ; : 5 représentants , 600 factures , 500 bons de dépôt et 1000 clients ; qu ' un éventuel dépassement des prévisions contractuelles supposait donc un traitement mensuel de plus de 600 factures et de plus de 500 bons de dépôts , l ' existence de représentants supplémentaires et le franchissement du seuil des 1200 clients , dépassement qui n ' a nullement été constaté par la cour d ' appel ; qu ' en ne constatant pas le dépassement des prévisions contractuelles et en retenant néanmoins un défaut d ' information de la part de l ' acquéreur , la cour d ' appel a privé sa décision de base légale au regard de l ' article 1147 du Code civil ; Mais attendu qu ' après avoir constaté que l ' équipement cédé était adapté aux besoins de la société FSD à la date du contrat et qu ' il n ' est devenu insuffisant que du fait de l ' augmentation importante et rapide du chiffre d ' affaires de celle - ci et de l ' accroissement corrélatif du volume des opérations à traiter sur le plan comptable , la cour d ' appel a énoncé à bon droit que les manquements éventuels du fournisseur d ' un équipement informatique à son devoir de conseil , dont elle a relevé exactement qu ' il se limitait à une obligation de moyens , devaient s ' apprécier en fonction des besoins et des objectifs définis par son client ; qu ' ayant fait ressortir de ces constatations et énonciations qu ' il ne pouvait être reproché à la société Kalamazoo de n ' avoir pas conseillé un équipement apte à répondre à des conditions d ' utilisation qui n ' étaient pas entrées dans les prévisions des parties , la cour d ' appel a légalement justifié sa décision sans encourir les griefs du moyen ; que celui - ci n ' est donc pas fondé ; Sur le second moyen , pris en ses deux branches : ( sans intérêt ) ; PAR CES MOTIFS : REJETTE le pourvoi      rejet\n",
              "1     LA COUR DE CASSATION , CHAMBRE SOCIALE , a rendu l ' arrêt suivant : < br clear =\" none \"/> < br clear =\" none \"/> Sur le moyen unique :< br clear =\" none \"/> < br clear =\" none \"/> Vu l ' article L . 1221 - 1 du code du travail ;< br clear =\" none \"/> < br clear =\" none \"/> Attendu , selon l ' arrêt attaqué , que M . X ... a été engagé le 25 janvier 1996 , en qualité de serveur , par la société Montfermier exploitant un fonds de commerce de marchand de vins , restaurant , bar , café , lequel a été repris par la société Le Café Pierre le 27 avril 2004 ; que son horaire de travail était alors de 35 heures par semaine , réparti du lundi au vendredi de 9 heures à 16 heures ; que le 11 mai 2004 , la société Le Café Pierre lui a communiqué ses nouveaux horaires de travail à compter du 13 mai suivant , à savoir du mercredi au samedi , de 9 heures à 15 heures et de 16 heures à 18 heures et le dimanche , de 9 heures à 15 heures et de 16 heures à 17 heures ; qu ' après avoir refusé ces nouveaux horaires et demandé , en vain , le maintien de son emploi du temps , M . X ... a continué à travailler selon ses anciens horaires ; qu ' il a été licencié pour faute grave par lettre du 2 juillet 2004 ; que , contestant le bien - fondé de son licenciement , le salarié a saisi la juridiction prud ' homale ;< br clear =\" none \"/> < br clear =\" none \"/> Attendu que pour dire le licenciement de M . X ... fondé sur une cause réelle et sérieuse , la cour d ' appel retient que le salarié ne se prévalait pas d ' une clause contractuelle excluant le travail les samedi et dimanche et que la modification des jours et horaires de travail décidée par l ' employeur était justifiée par des impératifs de fonctionnement ;< br clear =\" none \"/> < br clear =\" none \"/> Qu ' en statuant ainsi , alors que la nouvelle répartition de l ' horaire de travail avait pour effet de priver le salarié du repos dominical , ce qui constituait une modification de son contrat de travail qu ' il était en droit de refuser , la cour d ' appel a violé le texte susvisé ;< br clear =\" none \"/> < br clear =\" none \"/> PAR CES MOTIFS :< br clear =\" none \"/> < br clear =\" none \"/> CASSE ET ANNULE , mais seulement en ce qu ' il a dit le licenciement de M . X ... fondé sur une cause réelle et sérieuse , l ' arrêt rendu le 10 septembre 2009 , entre les parties , par la cour d ' appel de Paris ; remet , en conséquence , sur ce point , la cause et les parties dans l ' état où elles se trouvaient avant ledit arrêt et , pour être fait droit , les renvoie devant la cour d ' appel de Paris , autrement composée ;< br clear =\" none \"/> < br clear =\" none \"/> Condamne la société Le Café Pierre aux dépens ;< br clear =\" none \"/> < br clear =\" none \"/> Vu l ' article 700 du code de procédure civile , la condamne à payer à M . X ... la somme de 2 500 euros ;< br clear =\" none \"/> < br clear =\" none \"/> Dit que sur les diligences du procureur général près la Cour de cassation , le présent arrêt sera transmis pour être transcrit en marge ou à la suite de l ' arrêt partiellement cassé ;< br clear =\" none \"/> < br clear =\" none \"/> Ainsi fait et jugé par la Cour de cassation , chambre sociale , et prononcé par le président en son audience publique du deux mars deux mille onze . MOYEN ANNEXE au présent arrêt < br clear =\" none \"/> < br clear =\" none \"/> Moyen produit par Me Bertrand , avocat aux Conseils pour M . X ... < br clear =\" none \"/> < br clear =\" none \"/> Il est fait grief à l ' arrêt infirmatif attaqué d ' AVOIR décidé que le licenciement de Monsieur X ... par la société LE CAFE PIERRE était justifié par une cause réelle et sérieuse ;< br clear =\" none \"/> < br clear =\" none \"/> AUX MOTIFS QUE le licenciement de Shanmuganathan X ... est motivé par son refus d ' accepter de se conformer au planning de travail fixé par son employeur à partir du 13 mai 2004 , le salarié ayant continué à effectuer son service selon les horaires convenus précédemment ; qu ' aucun contrat écrit excluant le travail les samedis et dimanches n ' a été produit et aucun élément versé au dossier n ' établit que le serveur travaillait effectivement depuis 1996 du lundi au vendredi , de 9 heures à 16 heures , étant observé que ses bulletins de salaire de 2003 et 2004 établis par la SARL MONTFERMIER font apparaître un nombre d ' heures travaillées variant selon les mois ; qu ' il n ' est en rien démontré que le planning qu ' il revendique constituait un élément essentiel de son contrat de travail ; que la modification des jours et horaires de travail qui relevait des pouvoirs de direction de la SARL LE CAFE PIERRE n ' était pas abusive dans la mesure où des impératifs de fonctionnement tels que la fermeture du bar de nuit la conduisaient à réorganiser les horaires de travail des employés ; que par ailleurs , les bulletins de paie qu ' elle a établis ne montrent pas de diminution de salaire au préjudice de Shanmuganathan X ... ; qu ' en conséquence , le refus de celui - ci de se conformer à de nouveaux horaires a constitué une faute rendant impossible , sans préjudice pour l ' entreprise , la poursuite de la relation de travail et autorisant l ' employeur à prononcer son licenciement ; que cependant , cette faute ne revêtait pas une gravité justifiant la rupture immédiate de son contrat de travail ; que dans ces conditions , l ' indemnité de préavis , les congés payés afférents et l ' indemnité conventionnelle de licenciement lui ont été accordés à bon droit par les premiers juges ; qu ' en revanche , il n ' y a pas lieu de l ' indemniser pour licenciement sans cause réelle et sérieuse ; que sur le rappel de salaires sur la période du 27 avril au 8 juillet 2004 , il n ' est pas contesté que Shanmuganathan X ... a continué , après le 13 mai 2004 , à travailler selon ses anciens horaires , soit 7 heures par jour , 5 jours par semaine ; que si la SARL LE CAFE PIERRE a pu lui reprocher ses départs anticipés avant 18 heures et ses absences les samedis et dimanches , elle n ' a pas fait valoir , dans les nombreuses lettres recommandées qu ' elle lui a adressées , la non réalisation de ses 35 heures hebdomadaires de travail et n ' a pas dressé un décompte journalier des heures qui n ' auraient pas été effectuées ( arrêt , pages 4 et 5 ) ;< br clear =\" none \"/> < br clear =\" none \"/> ALORS QUE si la nouvelle répartition de l ' horaire de travail au sein de la journée relève du pouvoir de direction de l ' employeur et ne caractérise qu ' un changement des conditions de travail , constitue en revanche une modification du contrat de travail soumise à l ' acceptation du salarié la réorganisation des horaires sur l ' ensemble des jours de la semaine , avec obligation de travailler le samedi et le dimanche , de telles modifications entraînant un bouleversement complet des horaires de travail ; qu ' en énonçant qu ' aucun contrat écrit excluant le travail le samedi et le dimanche n ' avait été produit , pour en déduire que la modification des jours et horaires de travail relevait des pouvoirs de direction de l ' employeur et que le refus de cette modification justifiait le licenciement du salarié , après avoir relevé qu ' en persistant , après cette modification notifiée le 13 mai 2004 , à respecter ses anciens horaires , Monsieur X ... ne travaillait ni le samedi ni le dimanche , d ' où il résultait que la nouvelle répartition des horaires définie par l ' employeur , qui impliquait l ' obligation de travailler 7 heures le samedi et 7 heures le dimanche , provoquait nécessairement un bouleversement complet des horaires de travail , le salarié ne pouvant plus bénéficier du repos dominical , la cour d ' appel a omis de tirer les conséquences légales de ses propres constatations et violé , par fausse application , l ' article L 1221 - 1 du Code du travail .  cassation\n",
              "2                                                                                                                                                                                                                                                                                                                                                                                                                                                                                                                                                                                                                                                                                                                                                                                                                                                                                                                                                                                                                                                                                                                                                                                                                                                                                                                                                                                                                                                                                                                                                                                                                                                                                                                                                                                                                                                                                                                                                                                                                                                                                                                                                                                                                                                                                                                                                                                                                                                                                                                                                                                                                                                                                                                                                                                                                                                                                                                                                                                                                                                                                                                                                                                                                                                                                                                                                                                                                                                                                                                                                                                                                                                                                                                                                                                                                                                                                                                                                                                                                                                                                                                                                                                                                                                                                                                                                                                                                                                                                                                                                                                                                                                                                                                                                                                                                                                                                                                                                                                                                                                                                                                                                                                                                                                                                                                                                                                             SUR LE PREMIER MOYEN : VU L ' ARTICLE 1385 DU CODE CIVIL ; ATTENDU QUE LA RESPONSABILITE EDICTEE PAR CE TEXTE A L ' ENCONTRE DU PROPRIETAIRE D ' UN ANIMAL OU DE CELUI QUI S ' EN SERT , EST FONDEE SUR L ' OBLIGATION DE GARDE CORRELATIVE AU POUVOIR DE DIRECTION , DE CONTROLE ET D ' USAGE QUI CARACTERISE LE GARDIEN ; QUE , BIEN QUE RESPONSABLE DE PLEIN DROIT DE L ' ANIMAL , CAUSE DU DOMMAGE , SON PROPRIETAIRE S ' EN TROUVE DECHARGE SI AU MOMENT DE L ' EVENEMENT DOMMAGEABLE L ' ANIMAL SE TROUVAIT SOUS LA GARDE D ' UNE AUTRE PERSONNE ; ATTENDU QUE , LE 7 AVRIL 1953 , LA VILLE DE CAHORS SOLLICITA VESIR , MARECHAL - FERRANT , DE VENIR CHERCHER , DANS SES ECURIES , UN CHEVAL POUR LE FERRER ; QUE VESIR AYANT ACCEPTE CE TRAVAIL , LE CHEVAL QU ' IL TENAIT PAR LA BRIDE AU COURS DU TRAJET ENTRE LES ECURIES ET SON ATELIER , FIT UN ECART SUIVI D ' UNE RUADE ET BLESSA LA DAME Y ..., CIRCULANT EN VILLE , QUI FUT ATTEINTE D ' UNE FRACTURE DU BASSIN ; ATTENDU QUE , POUR RETENIR LA RESPONSABILITE DE LA VILLE , L ' ARRET INFIRMATIF ATTAQUE A ESTIME QUE LA RESPONSABILITE DES MARECHAUX - FERRANTS N ' EST ENGAGEE QUE SI LE DOMMAGE EST SURVENU AU LIEU DU TRAVAIL , ET PENDANT L ' OPERATION DE FERRAGE ; QU ' IL N ' EN SERAIT PAS AINSI , EN L ' ESPECE , OU LEDIT DOMMAGE AVAIT ETE CAUSE LORS DE LA CONDUITE DE L ' ANIMAL , CELUI - CI RESTANT A CE MOMENT SOUS LA GARDE DE SON PROPRIETAIRE ; MAIS ATTENDU QU ' APRES AVOIR PRIS LIVRAISON DU CHEVAL EN VUE DE LE CONDUIRE DANS SON ATELIER , POUR Y ACCOMPLIR UN ACTE DE SON METIER , VESIR AVAIT DESORMAIS L ' USAGE , LA DIRECTION ET LE CONTROLE DE L ' ANIMAL , ET AGISSAIT EN QUALITE DE MARECHAL - FERRANT INDEPENDANT ET DANS LE SEUL INTERET DE L ' EXERCICE DE SA PROFESSION ; D ' OU IL SUIT QUE LA COUR D ' APPEL , EN DECLARANT QUE LA VILLE DE CAHORS , AVAIT CONSERVE LA GARDE DE L ' ANIMAL , VESIR ETANT EN L ' ESPECE SON PREPOSE , SANS INDIQUER EN QUOI UN LIEN DE SUBORDINATION AURAIT EXISTE ENTRE EUX , A AINSI FAUSSEMENT APPLIQUE ET , PARTANT , VIOLE LE TEXTE SUSVISE ; PAR CES MOTIFS : ET SANS QU ' IL Y AIT LIEU DE STATUER SUR LE SECOND MOYEN : CASSE ET ANNULE L ' ARRET RENDU ENTRE LES PARTIES PAR LA COUR D ' APPEL D ' AGEN , LE 26 MARS 1958 ; REMET , EN CONSEQUENCE , LA CAUSE ET LES PARTIES AU MEME ET SEMBLABLE ETAT OU ELLES ETAIENT AVANT LEDIT ARRET ET , POUR ETRE FAIT DROIT , LES RENVOIE DEVANT LA COUR D ' APPEL DE BORDEAUX . N ° 58 - 12 694 EPOUX Y ... C / VESIR ET AUTRE . PRESIDENT ET RAPPORTEUR : M DEJEAN DE LA BATIE ROLAND , CONSEILLER DOYEN , FAISANT FONCTIONS - AVOCAT GENERAL : M X ... - AVOCATS : MM LEDIEU , DEFRENOIS ET MARTIN - MARTINIERE .  cassation\n",
              "3                                                                                                                                                                                                                                                                                                                                                                                                                                                                                                                                                                                                                                                                                                                                                                                                                                                                                                                                                                                                                                                                                                                                                                                                                                                                                                                                                                                                                                                                                                                                                                                                                                                                                                                                                                                                                                                                                                                                                                                                                                                                                                                                                                                                                                                                                                                                                                                                                                                                                                                                                                                                                                                                                                                                                                                                                                                                                                                                                                                                                                                                                                                                                                                                                                                                                                                                                                                                                                                                                                                                                                                                                                                                                                                                                                                                                                                                                                                                                                                                                                                                                                                                                                                                                                                                                                                                                                                                                                                                                             LA COUR DE CASSATION , CHAMBRE CRIMINELLE , a rendu l ' arrêt suivant : Statuant sur le pourvoi formé par :< br clear =\" none \"/> < br clear =\" none \"/>- L ' officier du ministère public près la juridiction de proximité de Bordeaux ,< br clear =\" none \"/> < br clear =\" none \"/> contre le jugement de ladite juridiction , en date du 10 septembre 2012 , qui a renvoyé M . Stéphane X ... des fins de la poursuite du chef d ' excès de vitesse , en sa qualité de pécuniairement redevable de l ' amende ;< br clear =\" none \"/> < br clear =\" none \"/> La COUR , statuant après débats en l ' audience publique du 17 décembre 2013 où étaient présents dans la formation prévue à l ' article 567 - 1 - 1 du code de procédure pénale : M . Louvel , président , M . Beauvais , conseiller rapporteur , Mme Guirimand , conseiller de la chambre ;< br clear =\" none \"/> < br clear =\" none \"/> Greffier de chambre : Mme Leprey ;< br clear =\" none \"/> < br clear =\" none \"/> Sur le rapport de M . le conseiller BEAUVAIS et les conclusions de M . l ' avocat général DESPORTES ;< br clear =\" none \"/> < br clear =\" none \"/> Vu les mémoires produits en demande et en défense ;< br clear =\" none \"/> < br clear =\" none \"/> Sur la recevabilité du mémoire personnel produit en défense :< br clear =\" none \"/> < br clear =\" none \"/> Attendu que ce mémoire n ' est pas signé par un avocat à la Cour de cassation ; que , dès lors , il est irrecevable , par application de l ' article 585 du code de procédure pénale ;< br clear =\" none \"/> < br clear =\" none \"/> Sur le moyen unique de cassation , pris de la violation de l ' article L . 121 - 3 du code de la route ;< br clear =\" none \"/> < br clear =\" none \"/> Attendu qu ' il résulte du jugement attaqué et des pièces de procédure que , le 3 juin 2009 , un véhicule automobile donné en location à la société Novartis Pharma a fait l ' objet d ' un procès - verbal pour excès de vitesse ; que M . X ..., désigné par le représentant légal de cette société comme l ' utilisateur habituel du véhicule , a été cité à comparaître devant la juridiction de proximité qui , par le jugement attaqué , l ' a renvoyé des fins de la poursuite , en retenant qu ' il n ' était pas l ' auteur de l ' infraction et qu ' il n ' avait pas la qualité de représentant légal de la personne morale ni celle de locataire du véhicule ; < br clear =\" none \"/> < br clear =\" none \"/> Attendu qu ' en cet état , le demandeur ne saurait faire grief au juge du fond d ' avoir méconnu les dispositions de l ' article L . 121 - 3 du code de la route , dès lors que , par application de ce texte , en l ' absence d ' identification de l ' auteur d ' une contravention d ' excès de vitesse , seul le représentant légal de la personne morale titulaire du certificat d ' immatriculation ou le locataire du véhicule peut être déclaré pécuniairement redevable de l ' amende encourue ; < br clear =\" none \"/> < br clear =\" none \"/> D ' où il suit que le moyen n ' est pas fondé ; < br clear =\" none \"/> < br clear =\" none \"/> Et attendu que le jugement est régulier en la forme ; < br clear =\" none \"/> < br clear =\" none \"/> REJETTE le pourvoi ; < br clear =\" none \"/> < br clear =\" none \"/> Ainsi fait et jugé par la Cour de cassation , chambre criminelle , et prononcé par le président le vingt - huit janvier deux mille quatorze ;< br clear =\" none \"/> < br clear =\" none \"/> En foi de quoi le présent arrêt a été signé par le président , le rapporteur et le greffier de chambre ;      rejet\n",
              "4                                                                                                                                                                                                                                                                                                                                                                                                                                                                                                                                                                                                                                                                                                                                                                                                                                                                                                                                                                                                                                                                                                                                                                                                                                                                                                                                                                                                                                                                                                                                                                                                                                                                                                                                                                                                                                                                                                                                                                                                                                                                                                                                                                                                                                                                                                                                                                                                                                                                                                                                                                   LA COUR , VU LES MEMOIRES PRODUITS EN DEMANDE ET EN DEFENSE ; SUR LE MOYEN UNIQUE DE CASSATION , PRIS DE LA VIOLATION DES ARTICLES 1382 , 1351 , 1134 DU CODE CIVIL , ET DES ARTICLES 2 ET SUIVANTS DU CODE DE PROCEDURE PENALE , DE L ' ARTICLE 391 , ALINEA 2 , DE LA LOI DU 24 JUILLET 1966 , DE L ' ARTICLE 593 DU CODE DE PROCEDURE PENALE , DEFAUT DE MOTIFS ET DE REPONSE A CONCLUSIONS , MANQUE DE BASE LEGALE , & quot ; EN CE QUE L ' ARRET INFIRMATIF ATTAQUE DECLARE IRRECEVABLE LA CONSTITUTION DE PARTIE CIVILE FORMEE PAR LES DEMANDERESSES CONTRE PIERRE X ... POUR LES DELITS D ' ABUS DE CONFIANCE ET DE FAUX ; & quot ; AUX MOTIFS QUE PAR UNE ASSEMBLEE GENERALE DU 6 NOVEMBRE 1967 , LA LIQUIDATION ANTICIPEE DE LA SOCIETE AVAIT ETE DECIDEE , LES DEMANDERESSES ETANT NOMMEES LIQUIDATRICES ; QUE LA LIQUIDATION DE LA SOCIETE N ' ETAIT PAS TERMINEE ; QUE LA PERSONNALITE MORALE DE CETTE SOCIETE SURVIVAIT POUR LES BESOINS DE SA LIQUIDATION ; QUE LES DEMANDERESSES DEVAIENT DONC PROUVER QUE LES AGISSEMENTS DE PIERRE X ... LEUR AVAIENT CAUSE UN PREJUDICE PERSONNEL ET DIRECT ET NE POUVAIENT VALABLEMENT SE PREVALOIR , POUR DEFAUT DE QUALITE , DE CELUI QUI AURAIT ETE SUBI PAR LA SOCIETE DU FAIT DES DETOURNEMENTS NI DES FAUX ET USAGES DE FAUX REPROCHES AU SIEUR X ... ; QUE SEULE LA JURIDICTION DEVANT STATUER SUR LE BIEN - FONDE DE LEUR DEMANDE AVAIT LA POSSIBILITE DE DETERMINER SI ELLES AVAIENT OU NON PERSONNELLEMENT SUBI UN PREJUDICE DIRECT ET QU ' ELLES NE POUVAIENT UTILEMENT INVOQUER L ' AUTORITE DE LA CHOSE JUGEE , PUISQUE RIEN N ' AVAIT ETE DEFINITIVEMENT JUGE EN CE QUI LES CONCERNE ; & quot ; ALORS QUE , D ' UNE PART , L ' ANNULATION D ' UN ARRET , SI GENERAUX ET ABSOLUS QUE SOIENT LES TERMES DANS LESQUELS ELLE A ETE PRONONCEE , EST LIMITEE A LA PORTEE DU MOYEN QUI LUI A SERVI DE BASE ET LAISSE SUBSISTER COMME PASSEES EN FORCE DE CHOSE JUGEE TOUTES LES DISPOSITIONS EXPRESSES OU IMPLICITES QUI N ' ONT PAS ETE ATTAQUEES PAR LE POURVOI ; QU ' IL EN RESULTE QUE , DES LORS QUE LA RECEVABILITE DE LA CONSTITUTION DE PARTIE CIVILE AVAIT ETE ADMISE PAR LE JUGE D ' INSTRUCTION , CONFIRMEE PAR LE JUGEMENT DU 16 JANVIER 1976 ET NON CONTESTEE PAR L ' ARRET CASSE DE LA COUR D ' APPEL DE DIJON , IL Y AVAIT AUTORITE DE CHOSE JUGEE SUR CE POINT ; & quot ; ALORS QUE , D ' AUTRE PART , LA PERSONNALITE MORALE D ' UNE SOCIETE DISSOUTE NE SE SURVIT QUE POUR LES SEULS BESOINS DE SA LIQUIDATION , C ' EST - A - DIRE DANS LA MESURE OU ELLE EST NECESSAIRE A L ' ACCOMPLISSEMENT DES ACTES JURIDIQUES QUI FACILITERONT LA LIQUIDATION ET LE PARTAGE , EN SORTE QUE , DANS LES RAPPORTS DES ASSOCIES ENTRE EUX , LA SOCIETE CESSE D ' AVOIR LA PERSONNALITE MORALE , ET QU ' AUX PARTS SOCIALES DES ASSOCIES EST SUBSTITUEE UNE CREANCE DE CHAQUE ASSOCIE DANS LE PARTAGE , PROPORTIONNELLE A SA QUOTE - PART ; & quot ; ALORS , ENFIN , QUE L ' ARRET ATTAQUE NE POUVAIT , SANS CONTRADICTION , CONSTATER QUE LES DEMANDERESSES AVAIENT ETE DESIGNEES COMME LIQUIDATRICES DE LA SOCIETE DISSOUTE PAR L ' ASSEMBLEE GENERALE DU 6 NOVEMBRE 1967 , TOUT EN AFFIRMANT QU ' ELLES N ' AVAIENT PAS QUALITE POUR DEMANDER REPARATION DU PREJUDICE SUBI PAR LA SOCIETE DU FAIT DES DETOURNEMENTS COMMIS PAR PIERRE X ... PUISQUE C ' EST PRECISEMENT LE LIQUIDATEUR QUI A QUALITE POUR ESTER EN JUSTICE AU NOM DE LA SOCIETE DISSOUTE & quot ; ; SUR LA PREMIERE BRANCHE DU MOYEN ; ATTENDU QU ' IL RESULTE DE L ' EXAMEN DE L ' ARRET DE CASSATION DU 25 MAI 1977 , QUE L ' ARRET ATTAQUE DE LA COUR D ' APPEL DE DIJON DU 28 AVRIL 1976 A ETE ANNULE DANS TOUTES SES DISPOSITIONS CIVILES ; QU ' EN L ' ABSENCE DE RESTRICTION , IL DOIT ETRE CONSIDERE QU ' AUCUNE DESDITES DISPOSITIONS DE L ' ARRET N ' A ACQUIS , A L ' EGARD DES PARTIES CIVILES , L ' AUTORITE DE LA CHOSE JUGEE ; QU ' EN EFFET , QUAND UNE DECISION EST ANNULEE SANS RESERVE EN CE QUI CONCERNE LES INTERETS CIVILS , AUCUNE PARTIE DE CETTE DECISION , RELATIVE A CES INTERETS , N ' A PU ACQUERIR L ' AUTORITE DE LA CHOSE JUGEE , QUELLE QU ' AIT ETE LA PORTEE DU MOYEN AYANT SERVI DE BASE A LA CASSATION PRONONCEE ; QUE LE MOYEN DOIT ETRE ECARTE ; SUR LA SECONDE BRANCHE DU MOYEN ; ATTENDU , D ' UNE PART , QU ' IL APPERT DE L ' EXAMEN DE LA PROCEDURE QUE PIERRE X ... A ETE POURSUIVI POUR ABUS DE CONFIANCE , FAUX ET USAGE DE FAUX ; QUE ETIENNETTE X ..., EPOUSE Y ..., ET JEANNE X ..., VEUVE Z ..., SE SONT CONSTITUEES PARTIES CIVILES ; ATTENDU , EN SECOND LIEU , QU ' IL RESULTE DES ENONCIATIONS DE L ' ARRET ATTAQUE QUE LES DELITS REPROCHES AU PREVENU CONSISTAIENT EN DES DETOURNEMENTS COMMIS AU PREJUDICE DE LA SOCIETE X ... ET EN FALSIFICATIONS DE CERTAINES ECRITURES COMPTABLES DE LADITE SOCIETE ; QUE , NEANMOINS , LES DAMES ETIENNETTE ET JEANNE X ..., BIEN QU ' ELLES FUSSENT LIQUIDATRICES DE LA SOCIETE X ..., N ' ONT PAS DEMANDE LA REPARATION DU PREJUDICE SUBI PAR CETTE SOCIETE , MAIS CELLE DE CERTAINS DOMMAGES , DONT ELLES DISENT AVOIR PERSONNELLEMENT SOUFFERT , DU FAIT DES TROUBLES MATERIELS ET MORAUX QU ' ONT ENTRAINES POUR ELLES LES AGISSEMENTS DU PREVENU ; ATTENDU , EN CET ETAT , QUE LA COUR D ' APPEL A PU ESTIMER QUE LES PREJUDICES , DONT LES PARTIES CIVILES DEMANDAIENT LA REPARATION , N ' ETAIENT PAS LES CONSEQUENCES DIRECTES DES DELITS REPROCHES A X ... ; D ' OU IL SUIT QUE LE MOYEN NE SAURAIT ETRE ACCUEILLI ; ET ATTENDU QUE L ' ARRET EST REGULIER EN LA FORME ; REJETTE LE POURVOI .      rejet\n",
              "...                                                                                                                                                                                                                                                                                                                                                                                                                                                                                                                                                                                                                                                                                                                                                                                                                                                                                                                                                                                                                                                                                                                                                                                                                                                                                                                                                                                                                                                                                                                                                                                                                                                                                                                                                                                                                                                                                                                                                                                                                                                                                                                                                                                                                                                                                                                                                                                                                                                                                                                                                                                                                                                                                                                                                                                                                                                                                                                                                                                                                                                                                                                                                                                                                                                                                                                                                                                                                                                                                                                                                                                                                                                                                                                                                                                                                                                                                                                                                                                                                                                                                                                                                                                                                                                                                                                                                                                                                                                                                                                                                                                                                                                                                                                                                                                                                                                                                                                                                                                                                                                                                                                                                                                                                                                                                                                                                                                                                                                                                                                                                                                                                                                                                                                                                                                                                                                                                                                                                                                                                                                                                                                                                                                                                                                                                                                                                                                                                                                                                                                                                                                                                                                                                                                                                                                                                                                                                                                                                                                                                                                                                                                                                                                                                                                                                                                                                                                                                                                                                                                                                                                                                                                                                                                                                                                                                                                                                                                                                                                                                                                                                                     ...        ...\n",
              "9995                                                                                                                                                                                                                                                                                                                                                                                                                                                                                                                                                                                                                                                                                                                                                                                                                                                                                                                                                                                                                                                                                                                                                                                                                                                                                                                                                                                                                                                                                                                                                                                                                                                                                                                                                                                                                                                                                                                                                                                                                                                                                                                                                                                                                                                                                                                                                                                                                                                                                                                                                                                                                                                                                                                                                                                                                                                                                                                                                                                                                                                                                                                                                                                                                                                                                                                                                                                                                                                                                                                                                                                                                                                                                                                                                                                                                                                                                                                                                                                                                                                                                                                                                                                                                                                                                                                                                                                                                                                                                                                                                                                                                                                                                                                                                                                                                                                                                                                                                                                                                                                                                                                                                                                                                                                                                                                                                                                                                                                                                                                                                                                                                                                                                                                                                                                                                                                                                                                                                                                                               SUR LE MOYEN UNIQUE : VU LES ARTICLES L . 397 DU CODE DE LA SECURITE SOCIALE ET 2093 DU CODE CIVIL ; ATTENDU QUE M X ... A ETE VICTIME LE 24 JUIN 1974 D ' UN ACCIDENT DE LA CIRCU LATION IMPUTABLE POUR MOITIE A M Y ..., ASSURE A LA MUTUELLE ASSURANCE ARTISA NALE DE FRANCE ( M . A . A . F .) ; ATTENDU QU ' APRES AVOIR FIXE LA PART D ' INDEMNITE REPARANT L ' ATTEINTE A L ' INTEGRITE PHYSIQUE DE LA VICTIME , L ' ARRET ATTAQUE A CONDAMNE LE TIERS RESPONSABLE ET SON ASSUREUR A REMBOURSER A LA CAISSE PRIMAIRE D ' ASSURANCE MALADIE LES PRESTATIONS D ' INCAPACITE TEMPORAIRE ET LES ARRERAGES ECHUS DE LA PENSION D ' INVALIDITE SERVIE A M X ... ET A REPARTI LE SOLDE DE CETTE INDEMNITE ENTRE LA CAISSE PRIMAIRE ET LA CAISSE REGIONALE D ' ASSURANCE MALADIE AU PRORATA DE LEURS CREANCES RESPECTIVES , CONSTITUEES , POUR LA PREMIERE , PAR LE CAPITAL REPRESENTATIF DES DOMMAGES A ECHOIRS DE LA PENSION D ' INVALIDITE ET , POUR LA SECONDE , PAR LE CAPITAL REPRES ENTATIF DES ARRERAGES DIFFERENTIELS DE LA PENSION DE VIEILLESSE SUBSTITUEE AU SOIXANTIEME ANNIVERSAIRE DE LA VICTIME A LA PENSION D ' INVALIDITE ; QU ' EN STATUANT AINSI QUE L ' ARTICLE L . 397 DU CODE DE LA SECURITE SOCIALE N ' ETABLIT AUCUN DROIT DE PREFERENCE ENTRE LES ORGANISMES DE SECURITE SOCIALE POUR LE REMBOURSEMENT DES PRESTATIONS QUI CONCOUREN T A LA REPARATION DU PREJUDICE CORPOREL DE LA VICTIME , LA COUR D ' APPEL A VIOLE LES TEXTES SUSVISES ; PAR CES MOTIFS : CASSE ET ANNULE , MAIS SEULEMENT DU CHEF DE LA REPARTITION ENTRE LES CAISSES PRIMAIRE ET REGIONALE D ' ASSURANCE MALADIE DE L ' INDEMNITE REPARANT L ' ATTEINTE A L ' INTEGRITE PHYSIQUE DE LA VICTIME , L ' ARRET RENDU LE 9 NOVEMBRE 1982 , ENTRE LES PARTIES , PAR LA COUR D ' APPEL D ' AIX - EN - PROVENCE ; REMET , EN CONSEQUENCE , QUANT A CE , LA CAUSE ET LES PARTIES AU MEME ET SEMBLABLE ETAT OU ELLES ETAIENT AVANT LEDIT ARRET ET , POUR ETRE FAIT DROIT , LES RENVOIE DEVANT LA COUR D ' APPEL DE NIMES , A CE DESIGNEE PAR DELIBERATION SPECIALE PRISE EN LA CHAMBRE DU CONSEIL ;  cassation\n",
              "9996                                                                                                                                                                                                                                                                                                                                                                                                                                                                                                                                                                                                                                                                                                                                                                                                                                                                                                                                                                                                                                                                                                                                                                                                                                                                                                                                                                                                                                                                                                                                                                                                                                                                                                                                                                                                                                                                                                                                                                                                                                                                                                                                                                                                                                                                                                                                                                                                                                                                                                                                                                                                                                                                                                                                                                                                                                                                                                                                                                                                                                                                                                                                                                                                                                                                                                                                                                                                                                                                                                                                                                                                                                                                                                                                                                                                                                                                                                                                                                                                                                                                                                                                                                                                                                                                                                                                                                                                                                                                                                                                                                                                                                                                                                                                                                                                                                                                                                                                                                                                                                                                                                                                                                                                                                                                                                                                                                                                                                                                                                                                                                                                                                                                                                                                                                                                                                                                                                                                                                                                                                                                                                                                                                                                                                                                                                                                                                                         Sur le moyen unique : Attendu que la commission d ' attribution des aides aux artisans âgés a rejeté la demande d ' indemnité de départ présentée le 4 août 1982 par la veuve de Victor X ... après avoir relevé que ce dernier , décédé le 9 mai 1982 , avait cessé son activité artisanale le 1er avril 1981 ; Attendu que la Caisse interprofessionnelle de retraite vieillesse artisanale de Bordeaux et de la région fait grief à l ' arrêt confirmatif attaqué ( Bordeaux , 19 novembre 1984 ) d ' avoir accueilli le recours de Mme X ..., au motif essentiel que la règlementation n ' exigeait nullement que le requérant soit toujours en activité au moment de sa demande , alors qu ' il résulte des articles 106 de la loi du 30 décembre 1981 , 3 et 5 du décret du 2 avril 1982 et 4 , 7 et 8 de l ' instruction ministérielle approuvée par arrêté du 2 avril 1982 que , pour bénéficier de l ' indemnité de départ , l ' intéressé doit être en activité au moment de la demande et que , lorsque cette demande est formée par le conjoint , après son décès , la condition d ' activité doit être remplie à la date du décès ; Mais attendu que les juges du fond relèvent que Victor X ..., dont il n ' est pas allégué qu ' il se soit fait radier du répertoire des métiers avant son décès , n ' avait pas mis fin à son activité professionnelle , mais l ' avait seulement suspendue temporairement pour raisons de santé , en sorte que , pendant cette suspension , il n ' avait pas perdu la qualité d ' artisan actif et le droit à bénéficier de l ' indemnité de départ attaché à celle - ci ; Que ce motif suffit à justifier la décision ; PAR CES MOTIFS : REJETTE le pourvoi      rejet\n",
              "9997                                                                                                                                                                                                                                                                                                                                                                                                                                                                                                                                                                                                                                                                                                                                                                                                                                                                                                                                                                                                                                                                                                                                                                                                                                                                                                                                                                                                                                                                                                                                                                                                                                                                                                                                                                                                                                                                                                                                                                                                                                                                                                                                                                                                                                                                                                                                                                                                                                                                                                                                                                                                                                                                                                                                                                                                                                                                                                                                                                                                                                                                                                                                                                                                                                                                                                                                                                                                                                                                                                                                                                                                                                                                                                                                                                                                                                                                                                                                                                                                                                                                                                                                                                                                                                                                                                                                                                                                                                                                                                                                                                                                                                                                                                                                                                                                                                                                                                                                                                                                                                                                                                                                                                                                                                                                                                                                                                                                                                                                                                                                                                                                                                                                                                                                                                                                                                                                                                                                                                                                                                                                                                                                                                                                                                                                                                                                                                                                                                                                                                                                                                                                                                                                                                                         SUR LE MOYEN UNIQUE : ATTENDU QUE LA VILLE DE BORDEAUX FAIT GRIEF A L ' ARRET ATTAQUE , STATUANT SUR APPEL D ' UNE ORDONNANCE DE REFERE , D ' AVOIR ACCUEILLI L ' EXCEPTION DE PEREMPTION D ' INSTANCE SOULEVEE PAR LA SOCIETE AVENIR PUBLICITE , ALORS QUE L ' AFFAIRE AYANT ETE RADIER PAR ORDONNANCE DU CONSEILLER DE LA MISE EN ETAT , SA REINSCRIPTION A LA DATE DU 5 FEVRIER 1981 CONSTITUERAIT UNE DILIGENCE INTERROMPANT LA PEREMPTION D ' INSTANCE PREVUE PAR L ' ARTICLE 386 DU NOUVEAU CODE DE PROCEDURE CIVILE ; MAIS ATTENDU QUE LA REINSCRIPTION D ' UNE AFFAIRE AU ROLE NE CONSTITUE PAS , A ELLE SEULE , UNE DILIGENCE AU SENS DE L ' ARTICLE 386 PRECITE , QU ' AYANT RELEVE QUE LE CONSEILLER DE LA MISE EN ETAT AVAIT PROCEDE A LA RADIATION DE L ' AFFAIRE , FAUTE DE CONCLUSIONS DES PARTIES , C ' EST SANS VIOLER L ' ARTICLE SUSVISE QUE LA COUR D ' APPEL , APRES AVOIR CONSTATE QU ' ENTRE LE 23 AVRIL 1979 , DATE DE L ' INSCRIPTION AU ROLE ET LE 16 SEPTEMBRE 1981 , DATE DE LA SIGNIFICATION DES CONCLUSIONS DE LA VILLE DE BORDEAUX , AUCUN ACTE N ' AVAIT ETE ACCEPTE PAR LES PARTIES , EN A DEDUIT QUE LA PEREMPTION DE L ' INSTANCE ETAIT ACQUISE LE 24 AVRIL 1981 ; D ' OU IL SUIT QUE LE MOYEN N ' EST PAS FONDE ; PAR CES MOTIFS : REJETTE LE POURVOI FORME CONTRE L ' ARRET RENDU LE 23 NOVEMBRE 1981 PAR LA COUR D ' APPEL DE BORDEAUX ;      rejet\n",
              "9998                                                                                                                                                                                                                                                                                                                                                                                                                                                                                                                                                                                                                                                                                                                                                                                                                                                                                                                                                                                                                                                                                                                                                                                                                                                                                                                                                                                                                                                                                                                                                                                                                                                                                                                                                                                                                                                                                                                                                                                                                                                                                                                                                                                                                                                                                                                                                                                                                                                                                                                                                                                                                                                                                                                                                                                                                                                                                                                                                                                                                                                                                                                                                                                                                                                                                                                                                                                                                                                                                                                                                                                                                                                                                                                                                                                                                                                                                                                                                                                                                                                                                                                                                                                                                                                                                                                                                                                                                                                                                                                                                                                                                                        SUR LE PREMIER MOYEN : ATTENDU QU ' EST REPROCHEE A L ' ARRET DEFERE ( AMIENS , 19 JUIN 1979 ) L ' EVALUATION PAR LUI FAITE D ' UN STOCK DE MARCHANDISES A LA SUITE DE LA VENTE PAR LA SOCIETE PUBLIRAMA ( LA SOCIETE ) AUX EPOUX Y ... D ' UN FONDS DE COMMERCE EXPLOITE PAR ELLE , ALORS QUE , SELON LE POURVOI , LA COUR D ' APPEL NE POUVAIT SANS SE CONTREDIRE CONSTATER QU ' IL N ' Y AURAIT PAS EU D ' INVENTAIRE CONTRADICTOIRE DES MARCHANDISES POUR REJETER LES PRETENTIONS DE LA SOCIETE AU PAIEMENT DE LA TAXE SUR LA VALEUR AJOUTEE SUR LE PRIX DE CES MARCHANDISES ET RETENIR LA SOMME INDIQUEE PAR LA SOCIETE POUR JUSTIFIER LA DEMANDE DE REMBOURSEMENT DES EPOUX Y ..., QU ' EN STATUANT AU PRIX D ' UNE TELLE CONTRADICTION DE MOTIFS , LA COUR D ' APPEL A VIOLE L ' ARTICLE 455 DU NOUVEAU CODE DE PROCEDURE CIVILE ; MAIS ATTENDU QUE LA COUR D ' APPEL NE SE CONTREDIT PAS EN ENONCANT , D ' UNE PART , QUE LA COMPOSITION DU STOCK DE MARCHANDISES EN CAUSE N ' A PAS ETE CONTRADICTOIREMENT CONSTATEE ET , D ' AUTRE PART , QUE LA SOCIETE NE RAPPORTE PAS LA PREUVE QUE CE STOCK A UNE VALEUR , TOUTES TAXES COMPRISES , SUPERIEURE A LA SOMME ADMISE PAR LES EPOUX Y ...; QUE LE MOYEN N ' EST PAS FONDE ; SUR LE SECOND MOYEN : ATTENDU QU ' IL EST ENCORE FAIT GRIEF A L ' ARRET D ' AVOIR DECIDE QUE LES EPOUX Y ... NE DEVAIENT PAS PAYER A LA SOCIETE LE MONTANT , ATTENUE D ' UN CINQUIEME PAR ANNEE CIVILE , DE LA TAXE SUR LA VALEUR AJOUTEE AYANT GREVE DES BIENS CONSTITUANT DES IMMOBILISATIONS DU FONDS DE COMMERCE , INITIALEMENT DEDUITE PAR LA SOCIETE QUI ETAIT TENUE DE LA REVERSER AU FISC A LA SUITE DE LA CESSATION DE SON ACTIVITE , AUX MOTIFS , NOTAMMENT , QUE LA SOCIETE NE POUVAIT PRETENDRE A RESTITUTION QUE SI ELLE ETABLISSAIT QU ' A LA SUITE DE LA REMISE PAR ELLE AUX EPOUX Y ... D ' UNE ATTESTATION MENTIONNANT LE MONTANT DE LA TAXE SUR LA VALEUR AJOUTEE EN CAUSE , CEUX - CI AVAIENT OBTENU DE L ' ADMINISTRATION FISCALE UNE DIMINUTION DE LA TAXE SUR LA VALEUR AJOUTEE EGALE A LA SOMME RECLAMEE , ALORS QUE , SELON LE POURVOI , C ' EST UNIQUEMENT LA REMISE DE L ' ATTESTATION VISEE A L ' ARTICLE 210 DE L ' ANNEXE II DU CODE GENERAL DES IMPOTS ET LE DROIT A DEDUCTION QU ' ELLE FAIT NAITRE AU PROFIT DE L ' ACQUEREUR QUI OUVRE AU VENDEUR D ' UN FONDS DE COMMERCE LE DROIT D ' OBTENIR REMBOURSEMENT DE LA TAXE REVERSEE EN APPLICATION DE CE TEXTE ET CE INDEPENDAMMENT DE TOUT ACCORD DES PARTIES , QU ' EN REJETANT LA DEMANDE DE REMBOURSEMENT FORMEE PAR LA SOCIETE EN L ' ABSENCE DE TOUTE CONTESTATION DE LA REMISE DE L ' ATTESTATION PERMETTANT LA DEDUCTION PAR LES EPOUX Z ... X ... D ' APPEL A VIOLE L ' ARTICLE 210 SUSVISE ; MAIS ATTENDU QUE LA COUR D ' APPEL RELEVE , D ' UNE PART , QUE L ' ACTE DE VENTE NE COMPORTANT AUCUNE DISPOSITION RELATIVE A LA TAXE SUR LA VALEUR AJOUTEE , LES EPOUX Y ... NE SONT PAS CONTRACTUELLEMENT TENUS DU PAIEMENT DE CELLE - CI ET RETIENT , D ' AUTRE PART , A BON DROIT , QU ' A LA SUITE DE LA CESSATION D ' ACTIVITE DE LA SOCIETE , CELLE - CI ETAIT LE REDEVABLE LEGAL DE LA FRACTION DE TAXE SUR LA VALEUR AJOUTEE EN CAUSE ; QUE PAR CES SEULES ENONCIATIONS , ET ABSTRACTION FAITE DE TOUT AUTRE MOTIF SURABONDANT , LA COUR D ' APPEL A JUSTIFIE SA DECISION ; QUE LE MOYEN EST MAL FONDE ; PAR CES MOTIFS : REJETTE LE POURVOI FORME CONTRE L ' ARRET RENDU LE 19 JUIN 1979 PAR LA COUR D ' APPEL D ' AMIENS ;      rejet\n",
              "9999                                                                                                                                                                                                                                                                                                                                                                                                                                                                                                                                                                                                                                                                                                                                                                                                                                                                                                                                                                                                                                                                                                                                                                                                                                                                                                                                                                                                                                                                                                                                                                                                                                                                                                                                                                                                                                                                                                                                                                                                                                                                                                                                                                                                                                                                                                                                                                                                                                                                                                                                                                                                                                                                                                                                                                                                                                                                                                                                                                                                                                                                                                                                                                                                                                                                                                                                                                                                                                                                                                                                                                                                                                                                                                                                                                                                                                                                                                                                                                                                                                                                                                                                                                                                                                                                                                                                                                                                                                                                                                                                                                                                                                                                                                                                                                                                                                                                                                                                                                                                                                                                                                                                                                                                                                                                                                                                                                                                                                                                                                                                                                                                                                                                                                                                                                                                                                                          SUR LE MOYEN UNIQUE : VU L ' ARTICLE 706 - 3 DU CODE DE PROCEDURE PENALE ; ATTENDU QUE TOUTE PERSONNE AYANT SUBI UN PREJUDICE RESULTANT D ' UNE INFRACTION EST EN DROIT D ' OBTENIR UNE INDEMNITE LORSQUE SONT REUNIES LES CONDITIONS PRECISEES PAR LEDIT ARTICLE ET , NOTAMMENT , LORSQUE LE PREJUDICE CONSISTE EN UN TROUBLE GRAVE DANS LES CONDITIONS DE VIE RESULTANT D ' UNE ATTEINTE A L ' INTEGRITE , SOIT PHYSIQUE , SOIT MENTALE ; ATTENDU QUE POUR DEBOUTER M . X ... DE LA DEMANDE D ' INDEMNITE PAR LUI PRESENTEE A LA SUITE D ' UN ATTENTAT DONT LES AUTEURS N ' ONT PAS ETE IDENTIFIES ET QUI DEMEURE ATTEINT D ' UNE INCAPACITE PERMANENTE PARTIELLE , LA DECISION ATTAQUEE , RENDUE PAR UNE COMMISSION D ' INDEMNISATION SIEGEANT PRES UN TRIBUNAL DE GRANDE INSTANCE , ENONCE QUE L ' ETAT EST TENU ENVERS LES VICTIMES , EN RAISON DE SA POLITIQUE GLOBALE DE SOLIDARITE , QUE CETTE POLITIQUE EST FINANCEE EN PARTICULIER PAR L ' IMPOT SUR LE REVENU PAYE PAR LES TRAVAILLEURS , MEME MODESTES , ET QU ' IL APPARAIT CHOQUANT D ' INDEMNISER DES VICTIMES BIEN QUE GRAVEMENT TOUCHEES DANS LEUR INTEGRITE PHYSIQUE COMME M . X ..., ALORS QUE CE PREJUDICE N ' APPORTE PAS UN TROUBLE GRAVE DANS LEURS CONDITIONS DE VIE , DANS LA MESURE OU ILS ONT LES MOYENS MATERIELS DE FAIRE FACE A LEUR EPREUVE ; QU ' EN AJOUTANT AINSI , POUR APPRECIER LA GRAVITE DU TROUBLE QUE L ' INFRACTION PENALE A APPORTE A M . X ... DANS SES CONDITIONS DE VIE , DES CONSIDERATIONS RELATIVES AU PATRIMOINE DE LA VICTIME AU CRITERE LEGAL D ' UNE ATTEINTE A L ' INTEGRITE PHYSIQUE DONT ELLE RELEVAIT LA GRAVITE , LA COMMISSION A VIOLE LE TEXTE SUSVISE ; PAR CES MOTIFS : CASSE ET ANNULE LA DECISION RENDUE LE 18 SEPTEMBRE 1984 , ENTRE LES PARTIES , PAR LA COMMISSION D ' INDEMNISATION DES VICTIMES D ' INFRACTIONS DU TRIBUNAL DE GRANDE INSTANCE DE CARPENTRAS ; REMET , EN CONSEQUENCE , LA CAUSE ET LES PARTIES AU MEME ET SEMBLABLE ETAT OU ELLES SE TROUVAIENT AVANT LADITE DECISION ET , POUR ETRE FAIT DROIT , LES RENVOIE DEVANT LA COMMISSION D ' INDEMNISATION DES VICTIMES D ' INFRACTIONS DU TRIBUNAL DE GRANDE INSTANCE D ' AVIGNON , A CE DESIGNEE PAR DELIBERATION SPECIALE PRISE EN LA CHAMBRE DU CONSEIL ;  cassation\n",
              "\n",
              "[10000 rows x 2 columns]"
            ]
          },
          "execution_count": 5,
          "metadata": {
            "tags": []
          },
          "output_type": "execute_result"
        }
      ],
      "source": [
        "path='/content/drive/My Drive/Freemium02.csv'\n",
        "import pandas as pd\n",
        "data_df = pd.read_csv(path, error_bad_lines=False)\n",
        "\n",
        "data_df = data_df.reindex(np.random.permutation(data_df.index))\n",
        "data_df.reset_index(inplace=True, drop=True)\n",
        "\n",
        "data_df=data_df.dropna(how = 'any')\n",
        "\n",
        "data_df=data_df[:10000]\n",
        "data_df = data_df.reindex(np.random.permutation(data_df.index))\n",
        "data_df.reset_index(inplace=True, drop=True)\n",
        "\n",
        "#data_df = data_df.drop('idx', 1)\n",
        "\n",
        "data_df.head(2)\n",
        "\n",
        "\n",
        "\n",
        "data_df = pd.DataFrame({'content':data_df['content'],'solution':data_df['solution']})\n",
        "data_df['solution']=data_df['solution'].str.lower()\n",
        "data_df\n",
        "\n",
        "\n",
        "\n",
        "\n",
        "\n"
      ]
    },
    {
      "cell_type": "code",
      "execution_count": null,
      "metadata": {
        "colab": {
          "base_uri": "https://localhost:8080/",
          "height": 151
        },
        "colab_type": "code",
        "id": "s5xoiNTKwGpr",
        "outputId": "225c48b0-f675-4071-f513-2e29882b9801"
      },
      "outputs": [
        {
          "data": {
            "text/plain": [
              "solution\n",
              "annulation                                      21\n",
              "cassation                                     4356\n",
              "irrecevabilite                                 228\n",
              "nonlieu statuer                                  8\n",
              "qpc nonlieu renvoi conseil constitutionnel      19\n",
              "rejet                                         5368\n",
              "Name: content, dtype: int64"
            ]
          },
          "execution_count": 6,
          "metadata": {
            "tags": []
          },
          "output_type": "execute_result"
        }
      ],
      "source": [
        "resultat = data_df.groupby('solution')['content'].nunique()\n",
        "resultat"
      ]
    },
    {
      "cell_type": "code",
      "execution_count": null,
      "metadata": {
        "colab": {},
        "colab_type": "code",
        "id": "yYqsULIqH12Q"
      },
      "outputs": [],
      "source": [
        "#we try to reduce the lenght of text : approche utilisé  : troncature du texte au milieu et prendre un nombre N  de mots: A revoir l'article \n",
        "\n",
        "def get_split(text1):\n",
        "  l_total = []\n",
        "  l_parcial = []\n",
        "  if len(text1.split())//150 >0:\n",
        "    n = len(text1.split())//150\n",
        "  else: \n",
        "    n = 1\n",
        "  for w in range(n):\n",
        "    if w == 0:\n",
        "      l_parcial = text1.split()[250:500]\n",
        "      l_total.append(\" \".join(l_parcial))\n",
        "  return l_total\n",
        "\n",
        "\n"
      ]
    },
    {
      "cell_type": "code",
      "execution_count": null,
      "metadata": {
        "colab": {
          "base_uri": "https://localhost:8080/",
          "height": 682
        },
        "colab_type": "code",
        "id": "OnaBk-piH6Ut",
        "outputId": "6a755109-6d08-439a-cd8b-af568e0b1665"
      },
      "outputs": [
        {
          "data": {
            "text/html": [
              "<div>\n",
              "<style scoped>\n",
              "    .dataframe tbody tr th:only-of-type {\n",
              "        vertical-align: middle;\n",
              "    }\n",
              "\n",
              "    .dataframe tbody tr th {\n",
              "        vertical-align: top;\n",
              "    }\n",
              "\n",
              "    .dataframe thead th {\n",
              "        text-align: right;\n",
              "    }\n",
              "</style>\n",
              "<table border=\"1\" class=\"dataframe\">\n",
              "  <thead>\n",
              "    <tr style=\"text-align: right;\">\n",
              "      <th></th>\n",
              "      <th>content</th>\n",
              "      <th>solution</th>\n",
              "    </tr>\n",
              "  </thead>\n",
              "  <tbody>\n",
              "    <tr>\n",
              "      <th>0</th>\n",
              "      <td>[\"; signé par deux représentants de la société Kalamazoo prévoit sous le titre &amp; quot ; Volumes &amp; quot ; : 5 représentants , 600 factures , 500 bons de dépôt et 1000 clients ; qu ' un éventuel dépassement des prévisions contractuelles supposait donc un traitement mensuel de plus de 600 factures et de plus de 500 bons de dépôts , l ' existence de représentants supplémentaires et le franchissement du seuil des 1200 clients , dépassement qui n ' a nullement été constaté par la cour d ' appel ; qu ' en ne constatant pas le dépassement des prévisions contractuelles et en retenant néanmoins un défaut d ' information de la part de l ' acquéreur , la cour d ' appel a privé sa décision de base légale au regard de l ' article 1147 du Code civil ; Mais attendu qu ' après avoir constaté que l ' équipement cédé était adapté aux besoins de la société FSD à la date du contrat et qu ' il n ' est devenu insuffisant que du fait de l ' augmentation importante et rapide du chiffre d ' affaires de celle - ci et de l ' accroissement corrélatif du volume des opérations à traiter sur le plan comptable , la cour d ' appel a énoncé à bon droit que les manquements éventuels du fournisseur d ' un équipement informatique à son devoir de conseil , dont elle a relevé exactement qu ' il se limitait\"]</td>\n",
              "      <td>rejet</td>\n",
              "    </tr>\n",
              "    <tr>\n",
              "      <th>1</th>\n",
              "      <td>['anciens horaires ; qu \\' il a été licencié pour faute grave par lettre du 2 juillet 2004 ; que , contestant le bien - fondé de son licenciement , le salarié a saisi la juridiction prud \\' homale ;&lt; br clear =\" none \"/&gt; &lt; br clear =\" none \"/&gt; Attendu que pour dire le licenciement de M . X ... fondé sur une cause réelle et sérieuse , la cour d \\' appel retient que le salarié ne se prévalait pas d \\' une clause contractuelle excluant le travail les samedi et dimanche et que la modification des jours et horaires de travail décidée par l \\' employeur était justifiée par des impératifs de fonctionnement ;&lt; br clear =\" none \"/&gt; &lt; br clear =\" none \"/&gt; Qu \\' en statuant ainsi , alors que la nouvelle répartition de l \\' horaire de travail avait pour effet de priver le salarié du repos dominical , ce qui constituait une modification de son contrat de travail qu \\' il était en droit de refuser , la cour d \\' appel a violé le texte susvisé ;&lt; br clear =\" none \"/&gt; &lt; br clear =\" none \"/&gt; PAR CES MOTIFS :&lt; br clear =\" none \"/&gt; &lt; br clear =\" none \"/&gt; CASSE ET ANNULE , mais seulement en ce qu \\' il a dit le licenciement de M . X ... fondé sur une cause réelle et sérieuse , l \\' arrêt rendu le 10 septembre 2009 ,']</td>\n",
              "      <td>cassation</td>\n",
              "    </tr>\n",
              "    <tr>\n",
              "      <th>2</th>\n",
              "      <td>[\"IL N ' EN SERAIT PAS AINSI , EN L ' ESPECE , OU LEDIT DOMMAGE AVAIT ETE CAUSE LORS DE LA CONDUITE DE L ' ANIMAL , CELUI - CI RESTANT A CE MOMENT SOUS LA GARDE DE SON PROPRIETAIRE ; MAIS ATTENDU QU ' APRES AVOIR PRIS LIVRAISON DU CHEVAL EN VUE DE LE CONDUIRE DANS SON ATELIER , POUR Y ACCOMPLIR UN ACTE DE SON METIER , VESIR AVAIT DESORMAIS L ' USAGE , LA DIRECTION ET LE CONTROLE DE L ' ANIMAL , ET AGISSAIT EN QUALITE DE MARECHAL - FERRANT INDEPENDANT ET DANS LE SEUL INTERET DE L ' EXERCICE DE SA PROFESSION ; D ' OU IL SUIT QUE LA COUR D ' APPEL , EN DECLARANT QUE LA VILLE DE CAHORS , AVAIT CONSERVE LA GARDE DE L ' ANIMAL , VESIR ETANT EN L ' ESPECE SON PREPOSE , SANS INDIQUER EN QUOI UN LIEN DE SUBORDINATION AURAIT EXISTE ENTRE EUX , A AINSI FAUSSEMENT APPLIQUE ET , PARTANT , VIOLE LE TEXTE SUSVISE ; PAR CES MOTIFS : ET SANS QU ' IL Y AIT LIEU DE STATUER SUR LE SECOND MOYEN : CASSE ET ANNULE L ' ARRET RENDU ENTRE LES PARTIES PAR LA COUR D ' APPEL D ' AGEN , LE 26 MARS 1958 ; REMET , EN CONSEQUENCE , LA CAUSE ET LES PARTIES AU MEME ET SEMBLABLE ETAT OU ELLES ETAIENT AVANT LEDIT ARRET ET , POUR ETRE FAIT DROIT , LES RENVOIE DEVANT LA COUR\"]</td>\n",
              "      <td>cassation</td>\n",
              "    </tr>\n",
              "    <tr>\n",
              "      <th>3</th>\n",
              "      <td>['br clear =\" none \"/&gt; Sur la recevabilité du mémoire personnel produit en défense :&lt; br clear =\" none \"/&gt; &lt; br clear =\" none \"/&gt; Attendu que ce mémoire n \\' est pas signé par un avocat à la Cour de cassation ; que , dès lors , il est irrecevable , par application de l \\' article 585 du code de procédure pénale ;&lt; br clear =\" none \"/&gt; &lt; br clear =\" none \"/&gt; Sur le moyen unique de cassation , pris de la violation de l \\' article L . 121 - 3 du code de la route ;&lt; br clear =\" none \"/&gt; &lt; br clear =\" none \"/&gt; Attendu qu \\' il résulte du jugement attaqué et des pièces de procédure que , le 3 juin 2009 , un véhicule automobile donné en location à la société Novartis Pharma a fait l \\' objet d \\' un procès - verbal pour excès de vitesse ; que M . X ..., désigné par le représentant légal de cette société comme l \\' utilisateur habituel du véhicule , a été cité à comparaître devant la juridiction de proximité qui , par le jugement attaqué , l \\' a renvoyé des fins de la poursuite , en retenant qu \\' il n \\' était pas l \\' auteur de l \\' infraction et qu \\' il n \\' avait pas la qualité de représentant légal de la personne morale ni celle de locataire du véhicule ; &lt;']</td>\n",
              "      <td>rejet</td>\n",
              "    </tr>\n",
              "    <tr>\n",
              "      <th>4</th>\n",
              "      <td>[\"SUR LE BIEN - FONDE DE LEUR DEMANDE AVAIT LA POSSIBILITE DE DETERMINER SI ELLES AVAIENT OU NON PERSONNELLEMENT SUBI UN PREJUDICE DIRECT ET QU ' ELLES NE POUVAIENT UTILEMENT INVOQUER L ' AUTORITE DE LA CHOSE JUGEE , PUISQUE RIEN N ' AVAIT ETE DEFINITIVEMENT JUGE EN CE QUI LES CONCERNE ; &amp; quot ; ALORS QUE , D ' UNE PART , L ' ANNULATION D ' UN ARRET , SI GENERAUX ET ABSOLUS QUE SOIENT LES TERMES DANS LESQUELS ELLE A ETE PRONONCEE , EST LIMITEE A LA PORTEE DU MOYEN QUI LUI A SERVI DE BASE ET LAISSE SUBSISTER COMME PASSEES EN FORCE DE CHOSE JUGEE TOUTES LES DISPOSITIONS EXPRESSES OU IMPLICITES QUI N ' ONT PAS ETE ATTAQUEES PAR LE POURVOI ; QU ' IL EN RESULTE QUE , DES LORS QUE LA RECEVABILITE DE LA CONSTITUTION DE PARTIE CIVILE AVAIT ETE ADMISE PAR LE JUGE D ' INSTRUCTION , CONFIRMEE PAR LE JUGEMENT DU 16 JANVIER 1976 ET NON CONTESTEE PAR L ' ARRET CASSE DE LA COUR D ' APPEL DE DIJON , IL Y AVAIT AUTORITE DE CHOSE JUGEE SUR CE POINT ; &amp; quot ; ALORS QUE , D ' AUTRE PART , LA PERSONNALITE MORALE D ' UNE SOCIETE DISSOUTE NE SE SURVIT QUE POUR LES SEULS BESOINS DE SA LIQUIDATION , C ' EST - A - DIRE DANS LA MESURE OU ELLE EST NECESSAIRE A L ' ACCOMPLISSEMENT DES ACTES JURIDIQUES QUI FACILITERONT LA LIQUIDATION ET LE PARTAGE\"]</td>\n",
              "      <td>rejet</td>\n",
              "    </tr>\n",
              "  </tbody>\n",
              "</table>\n",
              "</div>"
            ],
            "text/plain": [
              "                                                                                                                                                                                                                                                                                                                                                                                                                                                                                                                                                                                                                                                                                                                                                                                                                                                                                                                                                                                                                                                                                                                                                                                                                                                                                                                                     content   solution\n",
              "0  [\"; signé par deux représentants de la société Kalamazoo prévoit sous le titre & quot ; Volumes & quot ; : 5 représentants , 600 factures , 500 bons de dépôt et 1000 clients ; qu ' un éventuel dépassement des prévisions contractuelles supposait donc un traitement mensuel de plus de 600 factures et de plus de 500 bons de dépôts , l ' existence de représentants supplémentaires et le franchissement du seuil des 1200 clients , dépassement qui n ' a nullement été constaté par la cour d ' appel ; qu ' en ne constatant pas le dépassement des prévisions contractuelles et en retenant néanmoins un défaut d ' information de la part de l ' acquéreur , la cour d ' appel a privé sa décision de base légale au regard de l ' article 1147 du Code civil ; Mais attendu qu ' après avoir constaté que l ' équipement cédé était adapté aux besoins de la société FSD à la date du contrat et qu ' il n ' est devenu insuffisant que du fait de l ' augmentation importante et rapide du chiffre d ' affaires de celle - ci et de l ' accroissement corrélatif du volume des opérations à traiter sur le plan comptable , la cour d ' appel a énoncé à bon droit que les manquements éventuels du fournisseur d ' un équipement informatique à son devoir de conseil , dont elle a relevé exactement qu ' il se limitait\"]      rejet\n",
              "1                                                                          ['anciens horaires ; qu \\' il a été licencié pour faute grave par lettre du 2 juillet 2004 ; que , contestant le bien - fondé de son licenciement , le salarié a saisi la juridiction prud \\' homale ;< br clear =\" none \"/> < br clear =\" none \"/> Attendu que pour dire le licenciement de M . X ... fondé sur une cause réelle et sérieuse , la cour d \\' appel retient que le salarié ne se prévalait pas d \\' une clause contractuelle excluant le travail les samedi et dimanche et que la modification des jours et horaires de travail décidée par l \\' employeur était justifiée par des impératifs de fonctionnement ;< br clear =\" none \"/> < br clear =\" none \"/> Qu \\' en statuant ainsi , alors que la nouvelle répartition de l \\' horaire de travail avait pour effet de priver le salarié du repos dominical , ce qui constituait une modification de son contrat de travail qu \\' il était en droit de refuser , la cour d \\' appel a violé le texte susvisé ;< br clear =\" none \"/> < br clear =\" none \"/> PAR CES MOTIFS :< br clear =\" none \"/> < br clear =\" none \"/> CASSE ET ANNULE , mais seulement en ce qu \\' il a dit le licenciement de M . X ... fondé sur une cause réelle et sérieuse , l \\' arrêt rendu le 10 septembre 2009 ,']  cassation\n",
              "2                                                                                                                                       [\"IL N ' EN SERAIT PAS AINSI , EN L ' ESPECE , OU LEDIT DOMMAGE AVAIT ETE CAUSE LORS DE LA CONDUITE DE L ' ANIMAL , CELUI - CI RESTANT A CE MOMENT SOUS LA GARDE DE SON PROPRIETAIRE ; MAIS ATTENDU QU ' APRES AVOIR PRIS LIVRAISON DU CHEVAL EN VUE DE LE CONDUIRE DANS SON ATELIER , POUR Y ACCOMPLIR UN ACTE DE SON METIER , VESIR AVAIT DESORMAIS L ' USAGE , LA DIRECTION ET LE CONTROLE DE L ' ANIMAL , ET AGISSAIT EN QUALITE DE MARECHAL - FERRANT INDEPENDANT ET DANS LE SEUL INTERET DE L ' EXERCICE DE SA PROFESSION ; D ' OU IL SUIT QUE LA COUR D ' APPEL , EN DECLARANT QUE LA VILLE DE CAHORS , AVAIT CONSERVE LA GARDE DE L ' ANIMAL , VESIR ETANT EN L ' ESPECE SON PREPOSE , SANS INDIQUER EN QUOI UN LIEN DE SUBORDINATION AURAIT EXISTE ENTRE EUX , A AINSI FAUSSEMENT APPLIQUE ET , PARTANT , VIOLE LE TEXTE SUSVISE ; PAR CES MOTIFS : ET SANS QU ' IL Y AIT LIEU DE STATUER SUR LE SECOND MOYEN : CASSE ET ANNULE L ' ARRET RENDU ENTRE LES PARTIES PAR LA COUR D ' APPEL D ' AGEN , LE 26 MARS 1958 ; REMET , EN CONSEQUENCE , LA CAUSE ET LES PARTIES AU MEME ET SEMBLABLE ETAT OU ELLES ETAIENT AVANT LEDIT ARRET ET , POUR ETRE FAIT DROIT , LES RENVOIE DEVANT LA COUR\"]  cassation\n",
              "3                                                                                                                   ['br clear =\" none \"/> Sur la recevabilité du mémoire personnel produit en défense :< br clear =\" none \"/> < br clear =\" none \"/> Attendu que ce mémoire n \\' est pas signé par un avocat à la Cour de cassation ; que , dès lors , il est irrecevable , par application de l \\' article 585 du code de procédure pénale ;< br clear =\" none \"/> < br clear =\" none \"/> Sur le moyen unique de cassation , pris de la violation de l \\' article L . 121 - 3 du code de la route ;< br clear =\" none \"/> < br clear =\" none \"/> Attendu qu \\' il résulte du jugement attaqué et des pièces de procédure que , le 3 juin 2009 , un véhicule automobile donné en location à la société Novartis Pharma a fait l \\' objet d \\' un procès - verbal pour excès de vitesse ; que M . X ..., désigné par le représentant légal de cette société comme l \\' utilisateur habituel du véhicule , a été cité à comparaître devant la juridiction de proximité qui , par le jugement attaqué , l \\' a renvoyé des fins de la poursuite , en retenant qu \\' il n \\' était pas l \\' auteur de l \\' infraction et qu \\' il n \\' avait pas la qualité de représentant légal de la personne morale ni celle de locataire du véhicule ; <']      rejet\n",
              "4                                                  [\"SUR LE BIEN - FONDE DE LEUR DEMANDE AVAIT LA POSSIBILITE DE DETERMINER SI ELLES AVAIENT OU NON PERSONNELLEMENT SUBI UN PREJUDICE DIRECT ET QU ' ELLES NE POUVAIENT UTILEMENT INVOQUER L ' AUTORITE DE LA CHOSE JUGEE , PUISQUE RIEN N ' AVAIT ETE DEFINITIVEMENT JUGE EN CE QUI LES CONCERNE ; & quot ; ALORS QUE , D ' UNE PART , L ' ANNULATION D ' UN ARRET , SI GENERAUX ET ABSOLUS QUE SOIENT LES TERMES DANS LESQUELS ELLE A ETE PRONONCEE , EST LIMITEE A LA PORTEE DU MOYEN QUI LUI A SERVI DE BASE ET LAISSE SUBSISTER COMME PASSEES EN FORCE DE CHOSE JUGEE TOUTES LES DISPOSITIONS EXPRESSES OU IMPLICITES QUI N ' ONT PAS ETE ATTAQUEES PAR LE POURVOI ; QU ' IL EN RESULTE QUE , DES LORS QUE LA RECEVABILITE DE LA CONSTITUTION DE PARTIE CIVILE AVAIT ETE ADMISE PAR LE JUGE D ' INSTRUCTION , CONFIRMEE PAR LE JUGEMENT DU 16 JANVIER 1976 ET NON CONTESTEE PAR L ' ARRET CASSE DE LA COUR D ' APPEL DE DIJON , IL Y AVAIT AUTORITE DE CHOSE JUGEE SUR CE POINT ; & quot ; ALORS QUE , D ' AUTRE PART , LA PERSONNALITE MORALE D ' UNE SOCIETE DISSOUTE NE SE SURVIT QUE POUR LES SEULS BESOINS DE SA LIQUIDATION , C ' EST - A - DIRE DANS LA MESURE OU ELLE EST NECESSAIRE A L ' ACCOMPLISSEMENT DES ACTES JURIDIQUES QUI FACILITERONT LA LIQUIDATION ET LE PARTAGE\"]      rejet"
            ]
          },
          "execution_count": 8,
          "metadata": {
            "tags": []
          },
          "output_type": "execute_result"
        }
      ],
      "source": [
        "data_df['content'] = data_df['content'].apply(get_split)\n",
        "data_df['content']=data_df['content'].astype(str)\n",
        "\n",
        "data_df.head()\n"
      ]
    },
    {
      "cell_type": "markdown",
      "metadata": {
        "colab_type": "text",
        "id": "vrXgLfnKOe9y"
      },
      "source": [
        "## Text Preprocessing & Cleaning\n"
      ]
    },
    {
      "cell_type": "code",
      "execution_count": null,
      "metadata": {
        "colab": {
          "base_uri": "https://localhost:8080/",
          "height": 67
        },
        "colab_type": "code",
        "id": "EaBBILL0Oe9z",
        "outputId": "fe0dd6ee-6284-4d14-8a44-9e2cf2d42a3c"
      },
      "outputs": [
        {
          "name": "stdout",
          "output_type": "stream",
          "text": [
            "[nltk_data] Downloading package stopwords to /root/nltk_data...\n",
            "[nltk_data]   Unzipping corpora/stopwords.zip.\n"
          ]
        },
        {
          "data": {
            "text/plain": [
              "157"
            ]
          },
          "execution_count": 9,
          "metadata": {
            "tags": []
          },
          "output_type": "execute_result"
        }
      ],
      "source": [
        "# Load NLTK stop words\n",
        "import nltk\n",
        "nltk.download('stopwords')\n",
        "stop_words_fr = stopwords.words('french')\n",
        "stop_words_fr = set(stop_words_fr)\n",
        "len(stop_words_fr)"
      ]
    },
    {
      "cell_type": "code",
      "execution_count": null,
      "metadata": {
        "colab": {
          "base_uri": "https://localhost:8080/",
          "height": 1000
        },
        "colab_type": "code",
        "id": "8u9dcm8XOe92",
        "outputId": "6cc9efff-cd80-4e79-da70-726ec3ede5c9"
      },
      "outputs": [
        {
          "data": {
            "text/plain": [
              "{'\\n',\n",
              " ' ',\n",
              " '!',\n",
              " '\"',\n",
              " '#',\n",
              " '$',\n",
              " '%',\n",
              " '(',\n",
              " ')',\n",
              " '*',\n",
              " '+',\n",
              " ',',\n",
              " '-',\n",
              " '.',\n",
              " '/',\n",
              " '0',\n",
              " '1',\n",
              " '2',\n",
              " '3',\n",
              " '4',\n",
              " '5',\n",
              " '6',\n",
              " '7',\n",
              " '8',\n",
              " '9',\n",
              " ':',\n",
              " ';',\n",
              " '<',\n",
              " '=',\n",
              " '>',\n",
              " '?',\n",
              " '@',\n",
              " '[',\n",
              " '\\\\',\n",
              " ']',\n",
              " '^',\n",
              " '_',\n",
              " '`',\n",
              " 'ai',\n",
              " 'aie',\n",
              " 'aient',\n",
              " 'aies',\n",
              " 'ait',\n",
              " 'as',\n",
              " 'au',\n",
              " 'aura',\n",
              " 'aurai',\n",
              " 'auraient',\n",
              " 'aurais',\n",
              " 'aurait',\n",
              " 'auras',\n",
              " 'aurez',\n",
              " 'auriez',\n",
              " 'aurions',\n",
              " 'aurons',\n",
              " 'auront',\n",
              " 'aux',\n",
              " 'avaient',\n",
              " 'avais',\n",
              " 'avait',\n",
              " 'avec',\n",
              " 'avez',\n",
              " 'aviez',\n",
              " 'avions',\n",
              " 'avoir',\n",
              " 'avons',\n",
              " 'ayant',\n",
              " 'ayante',\n",
              " 'ayantes',\n",
              " 'ayants',\n",
              " 'ayez',\n",
              " 'ayons',\n",
              " 'c',\n",
              " 'ce',\n",
              " 'celle',\n",
              " 'celles',\n",
              " 'certain',\n",
              " 'certains',\n",
              " 'ces',\n",
              " 'chaque',\n",
              " 'd',\n",
              " 'dans',\n",
              " 'de',\n",
              " 'des',\n",
              " 'donc',\n",
              " 'dont',\n",
              " 'du',\n",
              " 'elle',\n",
              " 'elles',\n",
              " 'en',\n",
              " 'encore',\n",
              " 'es',\n",
              " 'est',\n",
              " 'et',\n",
              " 'eu',\n",
              " 'eue',\n",
              " 'eues',\n",
              " 'eurent',\n",
              " 'eus',\n",
              " 'eusse',\n",
              " 'eussent',\n",
              " 'eusses',\n",
              " 'eussiez',\n",
              " 'eussions',\n",
              " 'eut',\n",
              " 'eux',\n",
              " 'eûmes',\n",
              " 'eût',\n",
              " 'eûtes',\n",
              " 'faut',\n",
              " 'furent',\n",
              " 'fus',\n",
              " 'fusse',\n",
              " 'fussent',\n",
              " 'fusses',\n",
              " 'fussiez',\n",
              " 'fussions',\n",
              " 'fut',\n",
              " 'fûmes',\n",
              " 'fût',\n",
              " 'fûtes',\n",
              " 'ici',\n",
              " 'il',\n",
              " 'ils',\n",
              " 'j',\n",
              " 'je',\n",
              " 'l',\n",
              " 'la',\n",
              " 'le',\n",
              " 'les',\n",
              " 'leur',\n",
              " 'lui',\n",
              " 'm',\n",
              " 'ma',\n",
              " 'mais',\n",
              " 'me',\n",
              " 'mes',\n",
              " 'moi',\n",
              " 'mon',\n",
              " 'même',\n",
              " 'n',\n",
              " 'ne',\n",
              " 'nos',\n",
              " 'notre',\n",
              " 'nous',\n",
              " 'on',\n",
              " 'ont',\n",
              " 'ou',\n",
              " 'où',\n",
              " 'par',\n",
              " 'parce',\n",
              " 'pas',\n",
              " 'pour',\n",
              " 'qu',\n",
              " 'quand',\n",
              " 'que',\n",
              " 'qui',\n",
              " 's',\n",
              " 'sa',\n",
              " 'se',\n",
              " 'sera',\n",
              " 'serai',\n",
              " 'seraient',\n",
              " 'serais',\n",
              " 'serait',\n",
              " 'seras',\n",
              " 'serez',\n",
              " 'seriez',\n",
              " 'serions',\n",
              " 'serons',\n",
              " 'seront',\n",
              " 'ses',\n",
              " 'si',\n",
              " 'soient',\n",
              " 'sois',\n",
              " 'soit',\n",
              " 'sommes',\n",
              " 'son',\n",
              " 'sont',\n",
              " 'soyez',\n",
              " 'soyons',\n",
              " 'suis',\n",
              " 'sur',\n",
              " 't',\n",
              " 'ta',\n",
              " 'tant',\n",
              " 'te',\n",
              " 'tel',\n",
              " 'tes',\n",
              " 'toi',\n",
              " 'ton',\n",
              " 'tu',\n",
              " 'un',\n",
              " 'une',\n",
              " 'va',\n",
              " 'vos',\n",
              " 'votre',\n",
              " 'vous',\n",
              " 'y',\n",
              " '{',\n",
              " '|',\n",
              " '}',\n",
              " '~',\n",
              " '\\x80',\n",
              " '\\x84',\n",
              " '\\x91',\n",
              " '\\x92',\n",
              " '\\x93',\n",
              " '\\x94',\n",
              " '\\x95',\n",
              " '\\x96',\n",
              " '\\x97',\n",
              " '\\x9c',\n",
              " '¡',\n",
              " '£',\n",
              " '§',\n",
              " '¨',\n",
              " '«',\n",
              " '¬',\n",
              " '®',\n",
              " '°',\n",
              " '²',\n",
              " '³',\n",
              " 'µ',\n",
              " '·',\n",
              " '¸',\n",
              " 'º',\n",
              " '»',\n",
              " '¼',\n",
              " '½',\n",
              " '¾',\n",
              " '¿',\n",
              " 'À',\n",
              " 'Â',\n",
              " 'Ä',\n",
              " 'Ç',\n",
              " 'È',\n",
              " 'É',\n",
              " 'Ê',\n",
              " 'Ë',\n",
              " 'Î',\n",
              " 'Ï',\n",
              " 'Ó',\n",
              " 'Ô',\n",
              " 'Ö',\n",
              " '×',\n",
              " 'Ù',\n",
              " 'Û',\n",
              " 'Ü',\n",
              " 'ß',\n",
              " 'à',\n",
              " 'á',\n",
              " 'â',\n",
              " 'ã',\n",
              " 'ä',\n",
              " 'å',\n",
              " 'æ',\n",
              " 'ç',\n",
              " 'ça',\n",
              " 'è',\n",
              " 'é',\n",
              " 'étaient',\n",
              " 'étais',\n",
              " 'était',\n",
              " 'étant',\n",
              " 'étante',\n",
              " 'étantes',\n",
              " 'étants',\n",
              " 'étiez',\n",
              " 'étions',\n",
              " 'été',\n",
              " 'étée',\n",
              " 'étées',\n",
              " 'étés',\n",
              " 'ê',\n",
              " 'êtes',\n",
              " 'être',\n",
              " 'ë',\n",
              " 'ì',\n",
              " 'í',\n",
              " 'î',\n",
              " 'ï',\n",
              " 'ñ',\n",
              " 'ó',\n",
              " 'ô',\n",
              " 'ö',\n",
              " 'ù',\n",
              " 'ú',\n",
              " 'û',\n",
              " 'ü',\n",
              " 'ÿ',\n",
              " 'œ',\n",
              " 'š',\n",
              " 'Ÿ',\n",
              " '–',\n",
              " '—',\n",
              " '‘',\n",
              " '’',\n",
              " '„',\n",
              " '•',\n",
              " '…',\n",
              " '€'}"
            ]
          },
          "execution_count": 10,
          "metadata": {
            "tags": []
          },
          "output_type": "execute_result"
        }
      ],
      "source": [
        "#we can also add an entire list of words\n",
        "\n",
        "L = ['\\n', ' ', '!', '\"', '#', '$', '%',  '(', ')', '*', '+', ',', '-', '.', '/', '0', '1', '2', '3', '4', '5', '6', '7', '8', '9', ':', ';', '<', '=', '>', '?', '@', '[', '\\\\', ']', '^', '_', '`', '{', '|', '}', '~', '\\x80', '\\x84', '\\x91', '\\x92', '\\x93', '\\x94', '\\x95', '\\x96', '\\x97', '\\x9c', '¡', '£', '§', '¨', '«', '¬', '®', '°', '²', '³', 'µ', '·', '¸', 'º', '»', '¼', '½', '¾', '¿', 'À', 'Â', 'Ä', 'Ç', 'È', 'É', 'Ê', 'Ë', 'Î', 'Ï', 'Ó', 'Ô', 'Ö', '×', 'Ù', 'Û', 'Ü', 'ß', 'à', 'á', 'â', 'ã', 'ä', 'å', 'æ', 'ç', 'è', 'é', 'ê', 'ë', 'ì', 'í', 'î', 'ï', 'ñ', 'ó', 'ô', 'ö', 'ù', 'ú', 'û', 'ü', 'ÿ', 'œ', 'š', 'Ÿ', '–', '—', '‘', '’', '„', '•', '…', '€' ,'celle', 'celles', 'certain', 'certains', 'les','ils', 'elles', 'avoir', 'être', 'parce','où','si','chaque','donc','dont','encore','faut','quand','tant','tel','va','ici', 'ça']\n",
        "L=set(L)\n",
        "stop_words_fr = stop_words_fr | L\n",
        "stop_words_fr"
      ]
    },
    {
      "cell_type": "code",
      "execution_count": null,
      "metadata": {
        "colab": {},
        "colab_type": "code",
        "id": "GzA8yD3kOe95"
      },
      "outputs": [],
      "source": [
        "# convert to lowercase and tokenize\n",
        "tokenizer = RegexpTokenizer('[^_\\W0-9]+')\n",
        "corpus_tokens_ = [tokenizer.tokenize(content.lower()) for content in data_df.content]\n",
        "data_df['tokens'] = corpus_tokens_"
      ]
    },
    {
      "cell_type": "code",
      "execution_count": null,
      "metadata": {
        "colab": {
          "base_uri": "https://localhost:8080/",
          "height": 1000
        },
        "colab_type": "code",
        "id": "FEOMJ85aOe98",
        "outputId": "5574314c-09ad-4753-ec64-21514ae8c23d"
      },
      "outputs": [
        {
          "data": {
            "text/html": [
              "<div>\n",
              "<style scoped>\n",
              "    .dataframe tbody tr th:only-of-type {\n",
              "        vertical-align: middle;\n",
              "    }\n",
              "\n",
              "    .dataframe tbody tr th {\n",
              "        vertical-align: top;\n",
              "    }\n",
              "\n",
              "    .dataframe thead th {\n",
              "        text-align: right;\n",
              "    }\n",
              "</style>\n",
              "<table border=\"1\" class=\"dataframe\">\n",
              "  <thead>\n",
              "    <tr style=\"text-align: right;\">\n",
              "      <th></th>\n",
              "      <th>content</th>\n",
              "      <th>solution</th>\n",
              "      <th>tokens</th>\n",
              "    </tr>\n",
              "  </thead>\n",
              "  <tbody>\n",
              "    <tr>\n",
              "      <th>0</th>\n",
              "      <td>[\"; signé par deux représentants de la société Kalamazoo prévoit sous le titre &amp; quot ; Volumes &amp; quot ; : 5 représentants , 600 factures , 500 bons de dépôt et 1000 clients ; qu ' un éventuel dépassement des prévisions contractuelles supposait donc un traitement mensuel de plus de 600 factures et de plus de 500 bons de dépôts , l ' existence de représentants supplémentaires et le franchissement du seuil des 1200 clients , dépassement qui n ' a nullement été constaté par la cour d ' appel ; qu ' en ne constatant pas le dépassement des prévisions contractuelles et en retenant néanmoins un défaut d ' information de la part de l ' acquéreur , la cour d ' appel a privé sa décision de base légale au regard de l ' article 1147 du Code civil ; Mais attendu qu ' après avoir constaté que l ' équipement cédé était adapté aux besoins de la société FSD à la date du contrat et qu ' il n ' est devenu insuffisant que du fait de l ' augmentation importante et rapide du chiffre d ' affaires de celle - ci et de l ' accroissement corrélatif du volume des opérations à traiter sur le plan comptable , la cour d ' appel a énoncé à bon droit que les manquements éventuels du fournisseur d ' un équipement informatique à son devoir de conseil , dont elle a relevé exactement qu ' il se limitait\"]</td>\n",
              "      <td>rejet</td>\n",
              "      <td>[signé, deux, représentants, société, kalamazoo, prévoit, sous, titre, quot, volumes, quot, représentants, factures, bons, dépôt, clients, éventuel, dépassement, prévisions, contractuelles, supposait, traitement, mensuel, plus, factures, plus, bons, dépôts, existence, représentants, supplémentaires, franchissement, seuil, clients, dépassement, a, nullement, constaté, cour, appel, constatant, dépassement, prévisions, contractuelles, retenant, néanmoins, défaut, information, part, acquéreur, cour, appel, a, privé, décision, base, légale, regard, article, code, civil, attendu, après, constaté, équipement, cédé, adapté, besoins, société, fsd, date, contrat, devenu, insuffisant, fait, augmentation, importante, rapide, chiffre, affaires, ci, accroissement, corrélatif, volume, opérations, traiter, plan, comptable, cour, appel, a, énoncé, bon, droit, manquements, éventuels, fournisseur, équipement, informatique, devoir, ...]</td>\n",
              "    </tr>\n",
              "    <tr>\n",
              "      <th>1</th>\n",
              "      <td>['anciens horaires ; qu \\' il a été licencié pour faute grave par lettre du 2 juillet 2004 ; que , contestant le bien - fondé de son licenciement , le salarié a saisi la juridiction prud \\' homale ;&lt; br clear =\" none \"/&gt; &lt; br clear =\" none \"/&gt; Attendu que pour dire le licenciement de M . X ... fondé sur une cause réelle et sérieuse , la cour d \\' appel retient que le salarié ne se prévalait pas d \\' une clause contractuelle excluant le travail les samedi et dimanche et que la modification des jours et horaires de travail décidée par l \\' employeur était justifiée par des impératifs de fonctionnement ;&lt; br clear =\" none \"/&gt; &lt; br clear =\" none \"/&gt; Qu \\' en statuant ainsi , alors que la nouvelle répartition de l \\' horaire de travail avait pour effet de priver le salarié du repos dominical , ce qui constituait une modification de son contrat de travail qu \\' il était en droit de refuser , la cour d \\' appel a violé le texte susvisé ;&lt; br clear =\" none \"/&gt; &lt; br clear =\" none \"/&gt; PAR CES MOTIFS :&lt; br clear =\" none \"/&gt; &lt; br clear =\" none \"/&gt; CASSE ET ANNULE , mais seulement en ce qu \\' il a dit le licenciement de M . X ... fondé sur une cause réelle et sérieuse , l \\' arrêt rendu le 10 septembre 2009 ,']</td>\n",
              "      <td>cassation</td>\n",
              "      <td>[anciens, horaires, a, licencié, faute, grave, lettre, juillet, contestant, bien, fondé, licenciement, salarié, a, saisi, juridiction, prud, homale, br, clear, none, br, clear, none, attendu, dire, licenciement, x, fondé, cause, réelle, sérieuse, cour, appel, retient, salarié, prévalait, clause, contractuelle, excluant, travail, samedi, dimanche, modification, jours, horaires, travail, décidée, employeur, justifiée, impératifs, fonctionnement, br, clear, none, br, clear, none, statuant, ainsi, alors, nouvelle, répartition, horaire, travail, effet, priver, salarié, repos, dominical, constituait, modification, contrat, travail, droit, refuser, cour, appel, a, violé, texte, susvisé, br, clear, none, br, clear, none, motifs, br, clear, none, br, clear, none, casse, annule, seulement, a, dit, ...]</td>\n",
              "    </tr>\n",
              "    <tr>\n",
              "      <th>2</th>\n",
              "      <td>[\"IL N ' EN SERAIT PAS AINSI , EN L ' ESPECE , OU LEDIT DOMMAGE AVAIT ETE CAUSE LORS DE LA CONDUITE DE L ' ANIMAL , CELUI - CI RESTANT A CE MOMENT SOUS LA GARDE DE SON PROPRIETAIRE ; MAIS ATTENDU QU ' APRES AVOIR PRIS LIVRAISON DU CHEVAL EN VUE DE LE CONDUIRE DANS SON ATELIER , POUR Y ACCOMPLIR UN ACTE DE SON METIER , VESIR AVAIT DESORMAIS L ' USAGE , LA DIRECTION ET LE CONTROLE DE L ' ANIMAL , ET AGISSAIT EN QUALITE DE MARECHAL - FERRANT INDEPENDANT ET DANS LE SEUL INTERET DE L ' EXERCICE DE SA PROFESSION ; D ' OU IL SUIT QUE LA COUR D ' APPEL , EN DECLARANT QUE LA VILLE DE CAHORS , AVAIT CONSERVE LA GARDE DE L ' ANIMAL , VESIR ETANT EN L ' ESPECE SON PREPOSE , SANS INDIQUER EN QUOI UN LIEN DE SUBORDINATION AURAIT EXISTE ENTRE EUX , A AINSI FAUSSEMENT APPLIQUE ET , PARTANT , VIOLE LE TEXTE SUSVISE ; PAR CES MOTIFS : ET SANS QU ' IL Y AIT LIEU DE STATUER SUR LE SECOND MOYEN : CASSE ET ANNULE L ' ARRET RENDU ENTRE LES PARTIES PAR LA COUR D ' APPEL D ' AGEN , LE 26 MARS 1958 ; REMET , EN CONSEQUENCE , LA CAUSE ET LES PARTIES AU MEME ET SEMBLABLE ETAT OU ELLES ETAIENT AVANT LEDIT ARRET ET , POUR ETRE FAIT DROIT , LES RENVOIE DEVANT LA COUR\"]</td>\n",
              "      <td>cassation</td>\n",
              "      <td>[ainsi, espece, ledit, dommage, ete, cause, lors, conduite, animal, celui, ci, restant, a, moment, sous, garde, proprietaire, attendu, apres, pris, livraison, cheval, vue, conduire, atelier, accomplir, acte, metier, vesir, desormais, usage, direction, controle, animal, agissait, qualite, marechal, ferrant, independant, seul, interet, exercice, profession, suit, cour, appel, declarant, ville, cahors, conserve, garde, animal, vesir, etant, espece, prepose, sans, indiquer, quoi, lien, subordination, existe, entre, a, ainsi, faussement, applique, partant, viole, texte, susvise, motifs, sans, lieu, statuer, second, moyen, casse, annule, arret, rendu, entre, parties, cour, appel, agen, mars, remet, consequence, cause, parties, meme, semblable, etat, etaient, avant, ledit, arret, etre, fait, ...]</td>\n",
              "    </tr>\n",
              "    <tr>\n",
              "      <th>3</th>\n",
              "      <td>['br clear =\" none \"/&gt; Sur la recevabilité du mémoire personnel produit en défense :&lt; br clear =\" none \"/&gt; &lt; br clear =\" none \"/&gt; Attendu que ce mémoire n \\' est pas signé par un avocat à la Cour de cassation ; que , dès lors , il est irrecevable , par application de l \\' article 585 du code de procédure pénale ;&lt; br clear =\" none \"/&gt; &lt; br clear =\" none \"/&gt; Sur le moyen unique de cassation , pris de la violation de l \\' article L . 121 - 3 du code de la route ;&lt; br clear =\" none \"/&gt; &lt; br clear =\" none \"/&gt; Attendu qu \\' il résulte du jugement attaqué et des pièces de procédure que , le 3 juin 2009 , un véhicule automobile donné en location à la société Novartis Pharma a fait l \\' objet d \\' un procès - verbal pour excès de vitesse ; que M . X ..., désigné par le représentant légal de cette société comme l \\' utilisateur habituel du véhicule , a été cité à comparaître devant la juridiction de proximité qui , par le jugement attaqué , l \\' a renvoyé des fins de la poursuite , en retenant qu \\' il n \\' était pas l \\' auteur de l \\' infraction et qu \\' il n \\' avait pas la qualité de représentant légal de la personne morale ni celle de locataire du véhicule ; &lt;']</td>\n",
              "      <td>rejet</td>\n",
              "      <td>[br, clear, none, recevabilité, mémoire, personnel, produit, défense, br, clear, none, br, clear, none, attendu, mémoire, signé, avocat, cour, cassation, dès, lors, irrecevable, application, article, code, procédure, pénale, br, clear, none, br, clear, none, moyen, unique, cassation, pris, violation, article, code, route, br, clear, none, br, clear, none, attendu, résulte, jugement, attaqué, pièces, procédure, juin, véhicule, automobile, donné, location, société, novartis, pharma, a, fait, objet, procès, verbal, excès, vitesse, x, désigné, représentant, légal, cette, société, comme, utilisateur, habituel, véhicule, a, cité, comparaître, devant, juridiction, proximité, jugement, attaqué, a, renvoyé, fins, poursuite, retenant, auteur, infraction, qualité, représentant, légal, personne, morale, ni, ...]</td>\n",
              "    </tr>\n",
              "    <tr>\n",
              "      <th>4</th>\n",
              "      <td>[\"SUR LE BIEN - FONDE DE LEUR DEMANDE AVAIT LA POSSIBILITE DE DETERMINER SI ELLES AVAIENT OU NON PERSONNELLEMENT SUBI UN PREJUDICE DIRECT ET QU ' ELLES NE POUVAIENT UTILEMENT INVOQUER L ' AUTORITE DE LA CHOSE JUGEE , PUISQUE RIEN N ' AVAIT ETE DEFINITIVEMENT JUGE EN CE QUI LES CONCERNE ; &amp; quot ; ALORS QUE , D ' UNE PART , L ' ANNULATION D ' UN ARRET , SI GENERAUX ET ABSOLUS QUE SOIENT LES TERMES DANS LESQUELS ELLE A ETE PRONONCEE , EST LIMITEE A LA PORTEE DU MOYEN QUI LUI A SERVI DE BASE ET LAISSE SUBSISTER COMME PASSEES EN FORCE DE CHOSE JUGEE TOUTES LES DISPOSITIONS EXPRESSES OU IMPLICITES QUI N ' ONT PAS ETE ATTAQUEES PAR LE POURVOI ; QU ' IL EN RESULTE QUE , DES LORS QUE LA RECEVABILITE DE LA CONSTITUTION DE PARTIE CIVILE AVAIT ETE ADMISE PAR LE JUGE D ' INSTRUCTION , CONFIRMEE PAR LE JUGEMENT DU 16 JANVIER 1976 ET NON CONTESTEE PAR L ' ARRET CASSE DE LA COUR D ' APPEL DE DIJON , IL Y AVAIT AUTORITE DE CHOSE JUGEE SUR CE POINT ; &amp; quot ; ALORS QUE , D ' AUTRE PART , LA PERSONNALITE MORALE D ' UNE SOCIETE DISSOUTE NE SE SURVIT QUE POUR LES SEULS BESOINS DE SA LIQUIDATION , C ' EST - A - DIRE DANS LA MESURE OU ELLE EST NECESSAIRE A L ' ACCOMPLISSEMENT DES ACTES JURIDIQUES QUI FACILITERONT LA LIQUIDATION ET LE PARTAGE\"]</td>\n",
              "      <td>rejet</td>\n",
              "      <td>[bien, fonde, demande, possibilite, determiner, non, personnellement, subi, prejudice, direct, pouvaient, utilement, invoquer, autorite, chose, jugee, puisque, rien, ete, definitivement, juge, concerne, quot, alors, part, annulation, arret, generaux, absolus, termes, lesquels, a, ete, prononcee, limitee, a, portee, moyen, a, servi, base, laisse, subsister, comme, passees, force, chose, jugee, toutes, dispositions, expresses, implicites, ete, attaquees, pourvoi, resulte, lors, recevabilite, constitution, partie, civile, ete, admise, juge, instruction, confirmee, jugement, janvier, non, contestee, arret, casse, cour, appel, dijon, autorite, chose, jugee, point, quot, alors, autre, part, personnalite, morale, societe, dissoute, survit, seuls, besoins, liquidation, a, dire, mesure, necessaire, a, accomplissement, actes, juridiques, faciliteront, ...]</td>\n",
              "    </tr>\n",
              "  </tbody>\n",
              "</table>\n",
              "</div>"
            ],
            "text/plain": [
              "                                                                                                                                                                                                                                                                                                                                                                                                                                                                                                                                                                                                                                                                                                                                                                                                                                                                                                                                                                                                                                                                                                                                                                                                                                                                                                                                     content  ...                                                                                                                                                                                                                                                                                                                                                                                                                                                                                                                                                                                                                                                                                                                                                                                                                                                                                                                                                              tokens\n",
              "0  [\"; signé par deux représentants de la société Kalamazoo prévoit sous le titre & quot ; Volumes & quot ; : 5 représentants , 600 factures , 500 bons de dépôt et 1000 clients ; qu ' un éventuel dépassement des prévisions contractuelles supposait donc un traitement mensuel de plus de 600 factures et de plus de 500 bons de dépôts , l ' existence de représentants supplémentaires et le franchissement du seuil des 1200 clients , dépassement qui n ' a nullement été constaté par la cour d ' appel ; qu ' en ne constatant pas le dépassement des prévisions contractuelles et en retenant néanmoins un défaut d ' information de la part de l ' acquéreur , la cour d ' appel a privé sa décision de base légale au regard de l ' article 1147 du Code civil ; Mais attendu qu ' après avoir constaté que l ' équipement cédé était adapté aux besoins de la société FSD à la date du contrat et qu ' il n ' est devenu insuffisant que du fait de l ' augmentation importante et rapide du chiffre d ' affaires de celle - ci et de l ' accroissement corrélatif du volume des opérations à traiter sur le plan comptable , la cour d ' appel a énoncé à bon droit que les manquements éventuels du fournisseur d ' un équipement informatique à son devoir de conseil , dont elle a relevé exactement qu ' il se limitait\"]  ...  [signé, deux, représentants, société, kalamazoo, prévoit, sous, titre, quot, volumes, quot, représentants, factures, bons, dépôt, clients, éventuel, dépassement, prévisions, contractuelles, supposait, traitement, mensuel, plus, factures, plus, bons, dépôts, existence, représentants, supplémentaires, franchissement, seuil, clients, dépassement, a, nullement, constaté, cour, appel, constatant, dépassement, prévisions, contractuelles, retenant, néanmoins, défaut, information, part, acquéreur, cour, appel, a, privé, décision, base, légale, regard, article, code, civil, attendu, après, constaté, équipement, cédé, adapté, besoins, société, fsd, date, contrat, devenu, insuffisant, fait, augmentation, importante, rapide, chiffre, affaires, ci, accroissement, corrélatif, volume, opérations, traiter, plan, comptable, cour, appel, a, énoncé, bon, droit, manquements, éventuels, fournisseur, équipement, informatique, devoir, ...]\n",
              "1                                                                          ['anciens horaires ; qu \\' il a été licencié pour faute grave par lettre du 2 juillet 2004 ; que , contestant le bien - fondé de son licenciement , le salarié a saisi la juridiction prud \\' homale ;< br clear =\" none \"/> < br clear =\" none \"/> Attendu que pour dire le licenciement de M . X ... fondé sur une cause réelle et sérieuse , la cour d \\' appel retient que le salarié ne se prévalait pas d \\' une clause contractuelle excluant le travail les samedi et dimanche et que la modification des jours et horaires de travail décidée par l \\' employeur était justifiée par des impératifs de fonctionnement ;< br clear =\" none \"/> < br clear =\" none \"/> Qu \\' en statuant ainsi , alors que la nouvelle répartition de l \\' horaire de travail avait pour effet de priver le salarié du repos dominical , ce qui constituait une modification de son contrat de travail qu \\' il était en droit de refuser , la cour d \\' appel a violé le texte susvisé ;< br clear =\" none \"/> < br clear =\" none \"/> PAR CES MOTIFS :< br clear =\" none \"/> < br clear =\" none \"/> CASSE ET ANNULE , mais seulement en ce qu \\' il a dit le licenciement de M . X ... fondé sur une cause réelle et sérieuse , l \\' arrêt rendu le 10 septembre 2009 ,']  ...                                                                                                                                 [anciens, horaires, a, licencié, faute, grave, lettre, juillet, contestant, bien, fondé, licenciement, salarié, a, saisi, juridiction, prud, homale, br, clear, none, br, clear, none, attendu, dire, licenciement, x, fondé, cause, réelle, sérieuse, cour, appel, retient, salarié, prévalait, clause, contractuelle, excluant, travail, samedi, dimanche, modification, jours, horaires, travail, décidée, employeur, justifiée, impératifs, fonctionnement, br, clear, none, br, clear, none, statuant, ainsi, alors, nouvelle, répartition, horaire, travail, effet, priver, salarié, repos, dominical, constituait, modification, contrat, travail, droit, refuser, cour, appel, a, violé, texte, susvisé, br, clear, none, br, clear, none, motifs, br, clear, none, br, clear, none, casse, annule, seulement, a, dit, ...]\n",
              "2                                                                                                                                       [\"IL N ' EN SERAIT PAS AINSI , EN L ' ESPECE , OU LEDIT DOMMAGE AVAIT ETE CAUSE LORS DE LA CONDUITE DE L ' ANIMAL , CELUI - CI RESTANT A CE MOMENT SOUS LA GARDE DE SON PROPRIETAIRE ; MAIS ATTENDU QU ' APRES AVOIR PRIS LIVRAISON DU CHEVAL EN VUE DE LE CONDUIRE DANS SON ATELIER , POUR Y ACCOMPLIR UN ACTE DE SON METIER , VESIR AVAIT DESORMAIS L ' USAGE , LA DIRECTION ET LE CONTROLE DE L ' ANIMAL , ET AGISSAIT EN QUALITE DE MARECHAL - FERRANT INDEPENDANT ET DANS LE SEUL INTERET DE L ' EXERCICE DE SA PROFESSION ; D ' OU IL SUIT QUE LA COUR D ' APPEL , EN DECLARANT QUE LA VILLE DE CAHORS , AVAIT CONSERVE LA GARDE DE L ' ANIMAL , VESIR ETANT EN L ' ESPECE SON PREPOSE , SANS INDIQUER EN QUOI UN LIEN DE SUBORDINATION AURAIT EXISTE ENTRE EUX , A AINSI FAUSSEMENT APPLIQUE ET , PARTANT , VIOLE LE TEXTE SUSVISE ; PAR CES MOTIFS : ET SANS QU ' IL Y AIT LIEU DE STATUER SUR LE SECOND MOYEN : CASSE ET ANNULE L ' ARRET RENDU ENTRE LES PARTIES PAR LA COUR D ' APPEL D ' AGEN , LE 26 MARS 1958 ; REMET , EN CONSEQUENCE , LA CAUSE ET LES PARTIES AU MEME ET SEMBLABLE ETAT OU ELLES ETAIENT AVANT LEDIT ARRET ET , POUR ETRE FAIT DROIT , LES RENVOIE DEVANT LA COUR\"]  ...                                                                                                                                    [ainsi, espece, ledit, dommage, ete, cause, lors, conduite, animal, celui, ci, restant, a, moment, sous, garde, proprietaire, attendu, apres, pris, livraison, cheval, vue, conduire, atelier, accomplir, acte, metier, vesir, desormais, usage, direction, controle, animal, agissait, qualite, marechal, ferrant, independant, seul, interet, exercice, profession, suit, cour, appel, declarant, ville, cahors, conserve, garde, animal, vesir, etant, espece, prepose, sans, indiquer, quoi, lien, subordination, existe, entre, a, ainsi, faussement, applique, partant, viole, texte, susvise, motifs, sans, lieu, statuer, second, moyen, casse, annule, arret, rendu, entre, parties, cour, appel, agen, mars, remet, consequence, cause, parties, meme, semblable, etat, etaient, avant, ledit, arret, etre, fait, ...]\n",
              "3                                                                                                                   ['br clear =\" none \"/> Sur la recevabilité du mémoire personnel produit en défense :< br clear =\" none \"/> < br clear =\" none \"/> Attendu que ce mémoire n \\' est pas signé par un avocat à la Cour de cassation ; que , dès lors , il est irrecevable , par application de l \\' article 585 du code de procédure pénale ;< br clear =\" none \"/> < br clear =\" none \"/> Sur le moyen unique de cassation , pris de la violation de l \\' article L . 121 - 3 du code de la route ;< br clear =\" none \"/> < br clear =\" none \"/> Attendu qu \\' il résulte du jugement attaqué et des pièces de procédure que , le 3 juin 2009 , un véhicule automobile donné en location à la société Novartis Pharma a fait l \\' objet d \\' un procès - verbal pour excès de vitesse ; que M . X ..., désigné par le représentant légal de cette société comme l \\' utilisateur habituel du véhicule , a été cité à comparaître devant la juridiction de proximité qui , par le jugement attaqué , l \\' a renvoyé des fins de la poursuite , en retenant qu \\' il n \\' était pas l \\' auteur de l \\' infraction et qu \\' il n \\' avait pas la qualité de représentant légal de la personne morale ni celle de locataire du véhicule ; <']  ...                                                                                                                         [br, clear, none, recevabilité, mémoire, personnel, produit, défense, br, clear, none, br, clear, none, attendu, mémoire, signé, avocat, cour, cassation, dès, lors, irrecevable, application, article, code, procédure, pénale, br, clear, none, br, clear, none, moyen, unique, cassation, pris, violation, article, code, route, br, clear, none, br, clear, none, attendu, résulte, jugement, attaqué, pièces, procédure, juin, véhicule, automobile, donné, location, société, novartis, pharma, a, fait, objet, procès, verbal, excès, vitesse, x, désigné, représentant, légal, cette, société, comme, utilisateur, habituel, véhicule, a, cité, comparaître, devant, juridiction, proximité, jugement, attaqué, a, renvoyé, fins, poursuite, retenant, auteur, infraction, qualité, représentant, légal, personne, morale, ni, ...]\n",
              "4                                                  [\"SUR LE BIEN - FONDE DE LEUR DEMANDE AVAIT LA POSSIBILITE DE DETERMINER SI ELLES AVAIENT OU NON PERSONNELLEMENT SUBI UN PREJUDICE DIRECT ET QU ' ELLES NE POUVAIENT UTILEMENT INVOQUER L ' AUTORITE DE LA CHOSE JUGEE , PUISQUE RIEN N ' AVAIT ETE DEFINITIVEMENT JUGE EN CE QUI LES CONCERNE ; & quot ; ALORS QUE , D ' UNE PART , L ' ANNULATION D ' UN ARRET , SI GENERAUX ET ABSOLUS QUE SOIENT LES TERMES DANS LESQUELS ELLE A ETE PRONONCEE , EST LIMITEE A LA PORTEE DU MOYEN QUI LUI A SERVI DE BASE ET LAISSE SUBSISTER COMME PASSEES EN FORCE DE CHOSE JUGEE TOUTES LES DISPOSITIONS EXPRESSES OU IMPLICITES QUI N ' ONT PAS ETE ATTAQUEES PAR LE POURVOI ; QU ' IL EN RESULTE QUE , DES LORS QUE LA RECEVABILITE DE LA CONSTITUTION DE PARTIE CIVILE AVAIT ETE ADMISE PAR LE JUGE D ' INSTRUCTION , CONFIRMEE PAR LE JUGEMENT DU 16 JANVIER 1976 ET NON CONTESTEE PAR L ' ARRET CASSE DE LA COUR D ' APPEL DE DIJON , IL Y AVAIT AUTORITE DE CHOSE JUGEE SUR CE POINT ; & quot ; ALORS QUE , D ' AUTRE PART , LA PERSONNALITE MORALE D ' UNE SOCIETE DISSOUTE NE SE SURVIT QUE POUR LES SEULS BESOINS DE SA LIQUIDATION , C ' EST - A - DIRE DANS LA MESURE OU ELLE EST NECESSAIRE A L ' ACCOMPLISSEMENT DES ACTES JURIDIQUES QUI FACILITERONT LA LIQUIDATION ET LE PARTAGE\"]  ...                                                                          [bien, fonde, demande, possibilite, determiner, non, personnellement, subi, prejudice, direct, pouvaient, utilement, invoquer, autorite, chose, jugee, puisque, rien, ete, definitivement, juge, concerne, quot, alors, part, annulation, arret, generaux, absolus, termes, lesquels, a, ete, prononcee, limitee, a, portee, moyen, a, servi, base, laisse, subsister, comme, passees, force, chose, jugee, toutes, dispositions, expresses, implicites, ete, attaquees, pourvoi, resulte, lors, recevabilite, constitution, partie, civile, ete, admise, juge, instruction, confirmee, jugement, janvier, non, contestee, arret, casse, cour, appel, dijon, autorite, chose, jugee, point, quot, alors, autre, part, personnalite, morale, societe, dissoute, survit, seuls, besoins, liquidation, a, dire, mesure, necessaire, a, accomplissement, actes, juridiques, faciliteront, ...]\n",
              "\n",
              "[5 rows x 3 columns]"
            ]
          },
          "execution_count": 12,
          "metadata": {
            "tags": []
          },
          "output_type": "execute_result"
        }
      ],
      "source": [
        "# Je me suis basé sur le notebook de l'analyse des jurisprudences pour détecter les mots à supprimer + stopwords \n",
        "\n",
        "# Finally remove stop words from our corpus\n",
        "u = [[word for word in sent if word not in stop_words_fr] for sent in data_df.tokens]\n",
        "assert (len(u) == len(data_df))\n",
        "data_df.tokens = pd.Series(u)\n",
        "data_df.head()"
      ]
    },
    {
      "cell_type": "code",
      "execution_count": null,
      "metadata": {
        "colab": {
          "base_uri": "https://localhost:8080/",
          "height": 822
        },
        "colab_type": "code",
        "id": "Y2a0e-ydWOBO",
        "outputId": "9564c6ef-21ca-49bd-e10b-d671de5bcd56"
      },
      "outputs": [
        {
          "data": {
            "text/html": [
              "<div>\n",
              "<style scoped>\n",
              "    .dataframe tbody tr th:only-of-type {\n",
              "        vertical-align: middle;\n",
              "    }\n",
              "\n",
              "    .dataframe tbody tr th {\n",
              "        vertical-align: top;\n",
              "    }\n",
              "\n",
              "    .dataframe thead th {\n",
              "        text-align: right;\n",
              "    }\n",
              "</style>\n",
              "<table border=\"1\" class=\"dataframe\">\n",
              "  <thead>\n",
              "    <tr style=\"text-align: right;\">\n",
              "      <th></th>\n",
              "      <th>content</th>\n",
              "      <th>solution</th>\n",
              "    </tr>\n",
              "  </thead>\n",
              "  <tbody>\n",
              "    <tr>\n",
              "      <th>0</th>\n",
              "      <td>signé deux représentants société kalamazoo prévoit sous titre quot volumes quot représentants factures bons dépôt clients éventuel dépassement prévisions contractuelles supposait traitement mensuel plus factures plus bons dépôts existence représentants supplémentaires franchissement seuil clients dépassement a nullement constaté cour appel constatant dépassement prévisions contractuelles retenant néanmoins défaut information part acquéreur cour appel a privé décision base légale regard article code civil attendu après constaté équipement cédé adapté besoins société fsd date contrat devenu insuffisant fait augmentation importante rapide chiffre affaires ci accroissement corrélatif volume opérations traiter plan comptable cour appel a énoncé bon droit manquements éventuels fournisseur équipement informatique devoir conseil a relevé exactement limitait</td>\n",
              "      <td>rejet</td>\n",
              "    </tr>\n",
              "    <tr>\n",
              "      <th>1</th>\n",
              "      <td>anciens horaires a licencié faute grave lettre juillet contestant bien fondé licenciement salarié a saisi juridiction prud homale br clear none br clear none attendu dire licenciement x fondé cause réelle sérieuse cour appel retient salarié prévalait clause contractuelle excluant travail samedi dimanche modification jours horaires travail décidée employeur justifiée impératifs fonctionnement br clear none br clear none statuant ainsi alors nouvelle répartition horaire travail effet priver salarié repos dominical constituait modification contrat travail droit refuser cour appel a violé texte susvisé br clear none br clear none motifs br clear none br clear none casse annule seulement a dit licenciement x fondé cause réelle sérieuse arrêt rendu septembre</td>\n",
              "      <td>cassation</td>\n",
              "    </tr>\n",
              "    <tr>\n",
              "      <th>2</th>\n",
              "      <td>ainsi espece ledit dommage ete cause lors conduite animal celui ci restant a moment sous garde proprietaire attendu apres pris livraison cheval vue conduire atelier accomplir acte metier vesir desormais usage direction controle animal agissait qualite marechal ferrant independant seul interet exercice profession suit cour appel declarant ville cahors conserve garde animal vesir etant espece prepose sans indiquer quoi lien subordination existe entre a ainsi faussement applique partant viole texte susvise motifs sans lieu statuer second moyen casse annule arret rendu entre parties cour appel agen mars remet consequence cause parties meme semblable etat etaient avant ledit arret etre fait droit renvoie devant cour</td>\n",
              "      <td>cassation</td>\n",
              "    </tr>\n",
              "    <tr>\n",
              "      <th>3</th>\n",
              "      <td>br clear none recevabilité mémoire personnel produit défense br clear none br clear none attendu mémoire signé avocat cour cassation dès lors irrecevable application article code procédure pénale br clear none br clear none moyen unique cassation pris violation article code route br clear none br clear none attendu résulte jugement attaqué pièces procédure juin véhicule automobile donné location société novartis pharma a fait objet procès verbal excès vitesse x désigné représentant légal cette société comme utilisateur habituel véhicule a cité comparaître devant juridiction proximité jugement attaqué a renvoyé fins poursuite retenant auteur infraction qualité représentant légal personne morale ni locataire véhicule</td>\n",
              "      <td>rejet</td>\n",
              "    </tr>\n",
              "    <tr>\n",
              "      <th>4</th>\n",
              "      <td>bien fonde demande possibilite determiner non personnellement subi prejudice direct pouvaient utilement invoquer autorite chose jugee puisque rien ete definitivement juge concerne quot alors part annulation arret generaux absolus termes lesquels a ete prononcee limitee a portee moyen a servi base laisse subsister comme passees force chose jugee toutes dispositions expresses implicites ete attaquees pourvoi resulte lors recevabilite constitution partie civile ete admise juge instruction confirmee jugement janvier non contestee arret casse cour appel dijon autorite chose jugee point quot alors autre part personnalite morale societe dissoute survit seuls besoins liquidation a dire mesure necessaire a accomplissement actes juridiques faciliteront liquidation partage</td>\n",
              "      <td>rejet</td>\n",
              "    </tr>\n",
              "    <tr>\n",
              "      <th>...</th>\n",
              "      <td>...</td>\n",
              "      <td>...</td>\n",
              "    </tr>\n",
              "    <tr>\n",
              "      <th>9995</th>\n",
              "      <td>prestations concouren a reparation prejudice corporel victime cour appel a viole textes susvises motifs casse annule seulement chef repartition entre caisses primaire regionale assurance maladie indemnite reparant atteinte a integrite physique victime arret rendu novembre entre parties cour appel aix provence remet consequence quant a cause parties meme semblable etat etaient avant ledit arret etre fait droit renvoie devant cour appel nimes a designee deliberation speciale prise chambre conseil</td>\n",
              "      <td>cassation</td>\n",
              "    </tr>\n",
              "    <tr>\n",
              "      <th>9996</th>\n",
              "      <td>avant décès mis fin activité professionnelle seulement suspendue temporairement raisons santé sorte pendant cette suspension perdu qualité artisan actif droit bénéficier indemnité départ attaché ci motif suffit justifier décision motifs rejette pourvoi</td>\n",
              "      <td>rejet</td>\n",
              "    </tr>\n",
              "    <tr>\n",
              "      <th>9997</th>\n",
              "      <td>motifs rejette pourvoi forme contre arret rendu novembre cour appel bordeaux</td>\n",
              "      <td>rejet</td>\n",
              "    </tr>\n",
              "    <tr>\n",
              "      <th>9998</th>\n",
              "      <td>second moyen attendu fait grief a arret decide epoux devaient payer a societe montant attenue cinquieme annee civile taxe valeur ajoutee greve biens constituant immobilisations fonds commerce initialement deduite societe etait tenue reverser fisc a suite cessation activite motifs notamment societe pouvait pretendre a restitution etablissait a suite remise epoux attestation mentionnant montant taxe valeur ajoutee cause ceux ci obtenu administration fiscale diminution taxe valeur ajoutee egale a somme reclamee alors selon pourvoi uniquement remise attestation visee a article annexe ii code general impots droit a deduction fait naitre profit acquereur ouvre vendeur fonds commerce droit obtenir remboursement taxe reversee application texte independamment tout accord parties rejetant demande remboursement formee</td>\n",
              "      <td>rejet</td>\n",
              "    </tr>\n",
              "    <tr>\n",
              "      <th>9999</th>\n",
              "      <td>apprecier gravite trouble infraction penale a apporte a x conditions vie considerations relatives patrimoine victime critere legal atteinte a integrite physique relevait gravite commission a viole texte susvise motifs casse annule decision rendue septembre entre parties commission indemnisation victimes infractions tribunal grande instance carpentras remet consequence cause parties meme semblable etat trouvaient avant ladite decision etre fait droit renvoie devant commission indemnisation victimes infractions tribunal grande instance avignon a designee deliberation speciale prise chambre conseil</td>\n",
              "      <td>cassation</td>\n",
              "    </tr>\n",
              "  </tbody>\n",
              "</table>\n",
              "<p>10000 rows × 2 columns</p>\n",
              "</div>"
            ],
            "text/plain": [
              "                                                                                                                                                                                                                                                                                                                                                                                                                                                                                                                                                                                                                                                                                                                                                                                                                                                                                            content   solution\n",
              "0     signé deux représentants société kalamazoo prévoit sous titre quot volumes quot représentants factures bons dépôt clients éventuel dépassement prévisions contractuelles supposait traitement mensuel plus factures plus bons dépôts existence représentants supplémentaires franchissement seuil clients dépassement a nullement constaté cour appel constatant dépassement prévisions contractuelles retenant néanmoins défaut information part acquéreur cour appel a privé décision base légale regard article code civil attendu après constaté équipement cédé adapté besoins société fsd date contrat devenu insuffisant fait augmentation importante rapide chiffre affaires ci accroissement corrélatif volume opérations traiter plan comptable cour appel a énoncé bon droit manquements éventuels fournisseur équipement informatique devoir conseil a relevé exactement limitait      rejet\n",
              "1                                                                                                        anciens horaires a licencié faute grave lettre juillet contestant bien fondé licenciement salarié a saisi juridiction prud homale br clear none br clear none attendu dire licenciement x fondé cause réelle sérieuse cour appel retient salarié prévalait clause contractuelle excluant travail samedi dimanche modification jours horaires travail décidée employeur justifiée impératifs fonctionnement br clear none br clear none statuant ainsi alors nouvelle répartition horaire travail effet priver salarié repos dominical constituait modification contrat travail droit refuser cour appel a violé texte susvisé br clear none br clear none motifs br clear none br clear none casse annule seulement a dit licenciement x fondé cause réelle sérieuse arrêt rendu septembre  cassation\n",
              "2                                                                                                                                                  ainsi espece ledit dommage ete cause lors conduite animal celui ci restant a moment sous garde proprietaire attendu apres pris livraison cheval vue conduire atelier accomplir acte metier vesir desormais usage direction controle animal agissait qualite marechal ferrant independant seul interet exercice profession suit cour appel declarant ville cahors conserve garde animal vesir etant espece prepose sans indiquer quoi lien subordination existe entre a ainsi faussement applique partant viole texte susvise motifs sans lieu statuer second moyen casse annule arret rendu entre parties cour appel agen mars remet consequence cause parties meme semblable etat etaient avant ledit arret etre fait droit renvoie devant cour  cassation\n",
              "3                                                                                                                                              br clear none recevabilité mémoire personnel produit défense br clear none br clear none attendu mémoire signé avocat cour cassation dès lors irrecevable application article code procédure pénale br clear none br clear none moyen unique cassation pris violation article code route br clear none br clear none attendu résulte jugement attaqué pièces procédure juin véhicule automobile donné location société novartis pharma a fait objet procès verbal excès vitesse x désigné représentant légal cette société comme utilisateur habituel véhicule a cité comparaître devant juridiction proximité jugement attaqué a renvoyé fins poursuite retenant auteur infraction qualité représentant légal personne morale ni locataire véhicule      rejet\n",
              "4                                                                                              bien fonde demande possibilite determiner non personnellement subi prejudice direct pouvaient utilement invoquer autorite chose jugee puisque rien ete definitivement juge concerne quot alors part annulation arret generaux absolus termes lesquels a ete prononcee limitee a portee moyen a servi base laisse subsister comme passees force chose jugee toutes dispositions expresses implicites ete attaquees pourvoi resulte lors recevabilite constitution partie civile ete admise juge instruction confirmee jugement janvier non contestee arret casse cour appel dijon autorite chose jugee point quot alors autre part personnalite morale societe dissoute survit seuls besoins liquidation a dire mesure necessaire a accomplissement actes juridiques faciliteront liquidation partage      rejet\n",
              "...                                                                                                                                                                                                                                                                                                                                                                                                                                                                                                                                                                                                                                                                                                                                                                                                                                                                                             ...        ...\n",
              "9995                                                                                                                                                                                                                                                                                                                                                                            prestations concouren a reparation prejudice corporel victime cour appel a viole textes susvises motifs casse annule seulement chef repartition entre caisses primaire regionale assurance maladie indemnite reparant atteinte a integrite physique victime arret rendu novembre entre parties cour appel aix provence remet consequence quant a cause parties meme semblable etat etaient avant ledit arret etre fait droit renvoie devant cour appel nimes a designee deliberation speciale prise chambre conseil  cassation\n",
              "9996                                                                                                                                                                                                                                                                                                                                                                                                                                                                                                                                                                                                                                   avant décès mis fin activité professionnelle seulement suspendue temporairement raisons santé sorte pendant cette suspension perdu qualité artisan actif droit bénéficier indemnité départ attaché ci motif suffit justifier décision motifs rejette pourvoi      rejet\n",
              "9997                                                                                                                                                                                                                                                                                                                                                                                                                                                                                                                                                                                                                                                                                                                                                                                                                   motifs rejette pourvoi forme contre arret rendu novembre cour appel bordeaux      rejet\n",
              "9998                                             second moyen attendu fait grief a arret decide epoux devaient payer a societe montant attenue cinquieme annee civile taxe valeur ajoutee greve biens constituant immobilisations fonds commerce initialement deduite societe etait tenue reverser fisc a suite cessation activite motifs notamment societe pouvait pretendre a restitution etablissait a suite remise epoux attestation mentionnant montant taxe valeur ajoutee cause ceux ci obtenu administration fiscale diminution taxe valeur ajoutee egale a somme reclamee alors selon pourvoi uniquement remise attestation visee a article annexe ii code general impots droit a deduction fait naitre profit acquereur ouvre vendeur fonds commerce droit obtenir remboursement taxe reversee application texte independamment tout accord parties rejetant demande remboursement formee      rejet\n",
              "9999                                                                                                                                                                                                                                                                     apprecier gravite trouble infraction penale a apporte a x conditions vie considerations relatives patrimoine victime critere legal atteinte a integrite physique relevait gravite commission a viole texte susvise motifs casse annule decision rendue septembre entre parties commission indemnisation victimes infractions tribunal grande instance carpentras remet consequence cause parties meme semblable etat trouvaient avant ladite decision etre fait droit renvoie devant commission indemnisation victimes infractions tribunal grande instance avignon a designee deliberation speciale prise chambre conseil  cassation\n",
              "\n",
              "[10000 rows x 2 columns]"
            ]
          },
          "execution_count": 13,
          "metadata": {
            "tags": []
          },
          "output_type": "execute_result"
        }
      ],
      "source": [
        "#On remplace le texte original par le text qu'on a nettoyé.\n",
        "\n",
        "L2 = [' '.join(doc) for doc in data_df.tokens]\n",
        "data_df['content'] = L2\n",
        "data_df.drop(['tokens'],axis=1,inplace=True)\n",
        "data_df"
      ]
    },
    {
      "cell_type": "markdown",
      "metadata": {
        "colab_type": "text",
        "id": "frK5ePHNY4Ys"
      },
      "source": [
        "## Removal of Frequent words\n",
        "\n",
        "In the previos preprocessing step, we removed the stopwords based on language information. But say, if we have a domain specific corpus, we might also have some frequent words which are of not so much importance to us. \n",
        "\n",
        "So this step is to remove the frequent words in the given corpus. If we use something like tfidf, this is automatically taken care of.  \n",
        "\n",
        "Let us get the most common words adn then remove them in the next step\n"
      ]
    },
    {
      "cell_type": "code",
      "execution_count": null,
      "metadata": {
        "colab": {
          "base_uri": "https://localhost:8080/",
          "height": 185
        },
        "colab_type": "code",
        "id": "9F94VYs_Y2vJ",
        "outputId": "1572ab6c-0fd0-428c-f861-2b09ff9af109"
      },
      "outputs": [
        {
          "data": {
            "text/plain": [
              "[('a', 33992),\n",
              " ('cour', 12419),\n",
              " ('appel', 12095),\n",
              " ('attendu', 8364),\n",
              " ('article', 7708),\n",
              " ('quot', 7469),\n",
              " ('code', 6557),\n",
              " ('fait', 6504),\n",
              " ('x', 6448),\n",
              " ('moyen', 5504)]"
            ]
          },
          "execution_count": 14,
          "metadata": {
            "tags": []
          },
          "output_type": "execute_result"
        }
      ],
      "source": [
        "from collections import Counter\n",
        "cnt = Counter()\n",
        "for text in data_df[\"content\"].values:\n",
        "    for word in text.split():\n",
        "        cnt[word] += 1\n",
        "        \n",
        "cnt.most_common(10)"
      ]
    },
    {
      "cell_type": "code",
      "execution_count": null,
      "metadata": {
        "colab": {
          "base_uri": "https://localhost:8080/",
          "height": 447
        },
        "colab_type": "code",
        "id": "wQt_4qtabR-O",
        "outputId": "0c8af68c-dc99-4a4f-98a0-3913df0dd855"
      },
      "outputs": [
        {
          "data": {
            "text/html": [
              "<div>\n",
              "<style scoped>\n",
              "    .dataframe tbody tr th:only-of-type {\n",
              "        vertical-align: middle;\n",
              "    }\n",
              "\n",
              "    .dataframe tbody tr th {\n",
              "        vertical-align: top;\n",
              "    }\n",
              "\n",
              "    .dataframe thead th {\n",
              "        text-align: right;\n",
              "    }\n",
              "</style>\n",
              "<table border=\"1\" class=\"dataframe\">\n",
              "  <thead>\n",
              "    <tr style=\"text-align: right;\">\n",
              "      <th></th>\n",
              "      <th>content</th>\n",
              "      <th>solution</th>\n",
              "    </tr>\n",
              "  </thead>\n",
              "  <tbody>\n",
              "    <tr>\n",
              "      <th>0</th>\n",
              "      <td>signé deux représentants société kalamazoo prévoit sous titre volumes représentants factures bons dépôt clients éventuel dépassement prévisions contractuelles supposait traitement mensuel plus factures plus bons dépôts existence représentants supplémentaires franchissement seuil clients dépassement nullement constaté constatant dépassement prévisions contractuelles retenant néanmoins défaut information part acquéreur privé décision base légale regard civil après constaté équipement cédé adapté besoins société fsd date contrat devenu insuffisant augmentation importante rapide chiffre affaires ci accroissement corrélatif volume opérations traiter plan comptable énoncé bon droit manquements éventuels fournisseur équipement informatique devoir conseil relevé exactement limitait</td>\n",
              "      <td>rejet</td>\n",
              "    </tr>\n",
              "    <tr>\n",
              "      <th>1</th>\n",
              "      <td>anciens horaires licencié faute grave lettre juillet contestant bien fondé licenciement salarié saisi juridiction prud homale br clear none br clear none dire licenciement fondé cause réelle sérieuse retient salarié prévalait clause contractuelle excluant travail samedi dimanche modification jours horaires travail décidée employeur justifiée impératifs fonctionnement br clear none br clear none statuant ainsi alors nouvelle répartition horaire travail effet priver salarié repos dominical constituait modification contrat travail droit refuser violé texte susvisé br clear none br clear none motifs br clear none br clear none casse annule seulement dit licenciement fondé cause réelle sérieuse arrêt rendu septembre</td>\n",
              "      <td>cassation</td>\n",
              "    </tr>\n",
              "    <tr>\n",
              "      <th>2</th>\n",
              "      <td>ainsi espece ledit dommage ete cause lors conduite animal celui ci restant moment sous garde proprietaire apres pris livraison cheval vue conduire atelier accomplir acte metier vesir desormais usage direction controle animal agissait qualite marechal ferrant independant seul interet exercice profession suit declarant ville cahors conserve garde animal vesir etant espece prepose sans indiquer quoi lien subordination existe entre ainsi faussement applique partant viole texte susvise motifs sans lieu statuer second casse annule arret rendu entre parties agen mars remet consequence cause parties meme semblable etat etaient avant ledit arret etre droit renvoie devant</td>\n",
              "      <td>cassation</td>\n",
              "    </tr>\n",
              "    <tr>\n",
              "      <th>3</th>\n",
              "      <td>br clear none recevabilité mémoire personnel produit défense br clear none br clear none mémoire signé avocat cassation dès lors irrecevable application procédure pénale br clear none br clear none unique cassation pris violation route br clear none br clear none résulte jugement attaqué pièces procédure juin véhicule automobile donné location société novartis pharma objet procès verbal excès vitesse désigné représentant légal cette société comme utilisateur habituel véhicule cité comparaître devant juridiction proximité jugement attaqué renvoyé fins poursuite retenant auteur infraction qualité représentant légal personne morale ni locataire véhicule</td>\n",
              "      <td>rejet</td>\n",
              "    </tr>\n",
              "    <tr>\n",
              "      <th>4</th>\n",
              "      <td>bien fonde demande possibilite determiner non personnellement subi prejudice direct pouvaient utilement invoquer autorite chose jugee puisque rien ete definitivement juge concerne alors part annulation arret generaux absolus termes lesquels ete prononcee limitee portee servi base laisse subsister comme passees force chose jugee toutes dispositions expresses implicites ete attaquees pourvoi resulte lors recevabilite constitution partie civile ete admise juge instruction confirmee jugement janvier non contestee arret casse dijon autorite chose jugee point alors autre part personnalite morale societe dissoute survit seuls besoins liquidation dire mesure necessaire accomplissement actes juridiques faciliteront liquidation partage</td>\n",
              "      <td>rejet</td>\n",
              "    </tr>\n",
              "  </tbody>\n",
              "</table>\n",
              "</div>"
            ],
            "text/plain": [
              "                                                                                                                                                                                                                                                                                                                                                                                                                                                                                                                                                                                                                                                                                                                                                                                                            content   solution\n",
              "0  signé deux représentants société kalamazoo prévoit sous titre volumes représentants factures bons dépôt clients éventuel dépassement prévisions contractuelles supposait traitement mensuel plus factures plus bons dépôts existence représentants supplémentaires franchissement seuil clients dépassement nullement constaté constatant dépassement prévisions contractuelles retenant néanmoins défaut information part acquéreur privé décision base légale regard civil après constaté équipement cédé adapté besoins société fsd date contrat devenu insuffisant augmentation importante rapide chiffre affaires ci accroissement corrélatif volume opérations traiter plan comptable énoncé bon droit manquements éventuels fournisseur équipement informatique devoir conseil relevé exactement limitait      rejet\n",
              "1                                                                  anciens horaires licencié faute grave lettre juillet contestant bien fondé licenciement salarié saisi juridiction prud homale br clear none br clear none dire licenciement fondé cause réelle sérieuse retient salarié prévalait clause contractuelle excluant travail samedi dimanche modification jours horaires travail décidée employeur justifiée impératifs fonctionnement br clear none br clear none statuant ainsi alors nouvelle répartition horaire travail effet priver salarié repos dominical constituait modification contrat travail droit refuser violé texte susvisé br clear none br clear none motifs br clear none br clear none casse annule seulement dit licenciement fondé cause réelle sérieuse arrêt rendu septembre  cassation\n",
              "2                                                                                                                    ainsi espece ledit dommage ete cause lors conduite animal celui ci restant moment sous garde proprietaire apres pris livraison cheval vue conduire atelier accomplir acte metier vesir desormais usage direction controle animal agissait qualite marechal ferrant independant seul interet exercice profession suit declarant ville cahors conserve garde animal vesir etant espece prepose sans indiquer quoi lien subordination existe entre ainsi faussement applique partant viole texte susvise motifs sans lieu statuer second casse annule arret rendu entre parties agen mars remet consequence cause parties meme semblable etat etaient avant ledit arret etre droit renvoie devant  cassation\n",
              "3                                                                                                                                br clear none recevabilité mémoire personnel produit défense br clear none br clear none mémoire signé avocat cassation dès lors irrecevable application procédure pénale br clear none br clear none unique cassation pris violation route br clear none br clear none résulte jugement attaqué pièces procédure juin véhicule automobile donné location société novartis pharma objet procès verbal excès vitesse désigné représentant légal cette société comme utilisateur habituel véhicule cité comparaître devant juridiction proximité jugement attaqué renvoyé fins poursuite retenant auteur infraction qualité représentant légal personne morale ni locataire véhicule      rejet\n",
              "4                                                   bien fonde demande possibilite determiner non personnellement subi prejudice direct pouvaient utilement invoquer autorite chose jugee puisque rien ete definitivement juge concerne alors part annulation arret generaux absolus termes lesquels ete prononcee limitee portee servi base laisse subsister comme passees force chose jugee toutes dispositions expresses implicites ete attaquees pourvoi resulte lors recevabilite constitution partie civile ete admise juge instruction confirmee jugement janvier non contestee arret casse dijon autorite chose jugee point alors autre part personnalite morale societe dissoute survit seuls besoins liquidation dire mesure necessaire accomplissement actes juridiques faciliteront liquidation partage      rejet"
            ]
          },
          "execution_count": 16,
          "metadata": {
            "tags": []
          },
          "output_type": "execute_result"
        }
      ],
      "source": [
        "FREQWORDS = set([w for (w, wc) in cnt.most_common(10)])\n",
        "def remove_freqwords(text):\n",
        "    \"\"\"custom function to remove the frequent words\"\"\"\n",
        "    return \" \".join([word for word in str(text).split() if word not in FREQWORDS])\n",
        "\n",
        "data_df[\"content\"] = data_df[\"content\"].apply(lambda text: remove_freqwords(text))\n",
        "data_df.head()"
      ]
    },
    {
      "cell_type": "code",
      "execution_count": null,
      "metadata": {
        "colab": {
          "base_uri": "https://localhost:8080/",
          "height": 151
        },
        "colab_type": "code",
        "id": "UboOD-0XwGpv",
        "outputId": "bc0e617e-b9e9-4481-fc80-1804647ea4ef"
      },
      "outputs": [
        {
          "data": {
            "text/plain": [
              "solution\n",
              "annulation                                      21\n",
              "cassation                                     4251\n",
              "irrecevabilite                                 147\n",
              "nonlieu statuer                                  5\n",
              "qpc nonlieu renvoi conseil constitutionnel      19\n",
              "rejet                                         5264\n",
              "Name: content, dtype: int64"
            ]
          },
          "execution_count": 17,
          "metadata": {
            "tags": []
          },
          "output_type": "execute_result"
        }
      ],
      "source": [
        "\n",
        "\n",
        "seuil=0\n",
        "data_df = data_df[data_df.groupby('solution').solution.transform('count')>seuil].copy() \n",
        "data_df\n",
        "resultat = data_df.groupby('solution')['content'].nunique()\n",
        "resultat\n"
      ]
    },
    {
      "cell_type": "code",
      "execution_count": null,
      "metadata": {
        "colab": {
          "base_uri": "https://localhost:8080/",
          "height": 464
        },
        "colab_type": "code",
        "id": "2G2tTiNrwGqK",
        "outputId": "83df859f-d93b-4066-c8bb-41761a31bc0f"
      },
      "outputs": [
        {
          "data": {
            "text/html": [
              "<div>\n",
              "<style scoped>\n",
              "    .dataframe tbody tr th:only-of-type {\n",
              "        vertical-align: middle;\n",
              "    }\n",
              "\n",
              "    .dataframe tbody tr th {\n",
              "        vertical-align: top;\n",
              "    }\n",
              "\n",
              "    .dataframe thead th {\n",
              "        text-align: right;\n",
              "    }\n",
              "</style>\n",
              "<table border=\"1\" class=\"dataframe\">\n",
              "  <thead>\n",
              "    <tr style=\"text-align: right;\">\n",
              "      <th></th>\n",
              "      <th>content</th>\n",
              "      <th>solution</th>\n",
              "      <th>category_id</th>\n",
              "    </tr>\n",
              "  </thead>\n",
              "  <tbody>\n",
              "    <tr>\n",
              "      <th>0</th>\n",
              "      <td>signé deux représentants société kalamazoo prévoit sous titre volumes représentants factures bons dépôt clients éventuel dépassement prévisions contractuelles supposait traitement mensuel plus factures plus bons dépôts existence représentants supplémentaires franchissement seuil clients dépassement nullement constaté constatant dépassement prévisions contractuelles retenant néanmoins défaut information part acquéreur privé décision base légale regard civil après constaté équipement cédé adapté besoins société fsd date contrat devenu insuffisant augmentation importante rapide chiffre affaires ci accroissement corrélatif volume opérations traiter plan comptable énoncé bon droit manquements éventuels fournisseur équipement informatique devoir conseil relevé exactement limitait</td>\n",
              "      <td>rejet</td>\n",
              "      <td>0</td>\n",
              "    </tr>\n",
              "    <tr>\n",
              "      <th>1</th>\n",
              "      <td>anciens horaires licencié faute grave lettre juillet contestant bien fondé licenciement salarié saisi juridiction prud homale br clear none br clear none dire licenciement fondé cause réelle sérieuse retient salarié prévalait clause contractuelle excluant travail samedi dimanche modification jours horaires travail décidée employeur justifiée impératifs fonctionnement br clear none br clear none statuant ainsi alors nouvelle répartition horaire travail effet priver salarié repos dominical constituait modification contrat travail droit refuser violé texte susvisé br clear none br clear none motifs br clear none br clear none casse annule seulement dit licenciement fondé cause réelle sérieuse arrêt rendu septembre</td>\n",
              "      <td>cassation</td>\n",
              "      <td>1</td>\n",
              "    </tr>\n",
              "    <tr>\n",
              "      <th>2</th>\n",
              "      <td>ainsi espece ledit dommage ete cause lors conduite animal celui ci restant moment sous garde proprietaire apres pris livraison cheval vue conduire atelier accomplir acte metier vesir desormais usage direction controle animal agissait qualite marechal ferrant independant seul interet exercice profession suit declarant ville cahors conserve garde animal vesir etant espece prepose sans indiquer quoi lien subordination existe entre ainsi faussement applique partant viole texte susvise motifs sans lieu statuer second casse annule arret rendu entre parties agen mars remet consequence cause parties meme semblable etat etaient avant ledit arret etre droit renvoie devant</td>\n",
              "      <td>cassation</td>\n",
              "      <td>1</td>\n",
              "    </tr>\n",
              "    <tr>\n",
              "      <th>3</th>\n",
              "      <td>br clear none recevabilité mémoire personnel produit défense br clear none br clear none mémoire signé avocat cassation dès lors irrecevable application procédure pénale br clear none br clear none unique cassation pris violation route br clear none br clear none résulte jugement attaqué pièces procédure juin véhicule automobile donné location société novartis pharma objet procès verbal excès vitesse désigné représentant légal cette société comme utilisateur habituel véhicule cité comparaître devant juridiction proximité jugement attaqué renvoyé fins poursuite retenant auteur infraction qualité représentant légal personne morale ni locataire véhicule</td>\n",
              "      <td>rejet</td>\n",
              "      <td>0</td>\n",
              "    </tr>\n",
              "    <tr>\n",
              "      <th>4</th>\n",
              "      <td>bien fonde demande possibilite determiner non personnellement subi prejudice direct pouvaient utilement invoquer autorite chose jugee puisque rien ete definitivement juge concerne alors part annulation arret generaux absolus termes lesquels ete prononcee limitee portee servi base laisse subsister comme passees force chose jugee toutes dispositions expresses implicites ete attaquees pourvoi resulte lors recevabilite constitution partie civile ete admise juge instruction confirmee jugement janvier non contestee arret casse dijon autorite chose jugee point alors autre part personnalite morale societe dissoute survit seuls besoins liquidation dire mesure necessaire accomplissement actes juridiques faciliteront liquidation partage</td>\n",
              "      <td>rejet</td>\n",
              "      <td>0</td>\n",
              "    </tr>\n",
              "  </tbody>\n",
              "</table>\n",
              "</div>"
            ],
            "text/plain": [
              "                                                                                                                                                                                                                                                                                                                                                                                                                                                                                                                                                                                                                                                                                                                                                                                                            content  ... category_id\n",
              "0  signé deux représentants société kalamazoo prévoit sous titre volumes représentants factures bons dépôt clients éventuel dépassement prévisions contractuelles supposait traitement mensuel plus factures plus bons dépôts existence représentants supplémentaires franchissement seuil clients dépassement nullement constaté constatant dépassement prévisions contractuelles retenant néanmoins défaut information part acquéreur privé décision base légale regard civil après constaté équipement cédé adapté besoins société fsd date contrat devenu insuffisant augmentation importante rapide chiffre affaires ci accroissement corrélatif volume opérations traiter plan comptable énoncé bon droit manquements éventuels fournisseur équipement informatique devoir conseil relevé exactement limitait  ...           0\n",
              "1                                                                  anciens horaires licencié faute grave lettre juillet contestant bien fondé licenciement salarié saisi juridiction prud homale br clear none br clear none dire licenciement fondé cause réelle sérieuse retient salarié prévalait clause contractuelle excluant travail samedi dimanche modification jours horaires travail décidée employeur justifiée impératifs fonctionnement br clear none br clear none statuant ainsi alors nouvelle répartition horaire travail effet priver salarié repos dominical constituait modification contrat travail droit refuser violé texte susvisé br clear none br clear none motifs br clear none br clear none casse annule seulement dit licenciement fondé cause réelle sérieuse arrêt rendu septembre  ...           1\n",
              "2                                                                                                                    ainsi espece ledit dommage ete cause lors conduite animal celui ci restant moment sous garde proprietaire apres pris livraison cheval vue conduire atelier accomplir acte metier vesir desormais usage direction controle animal agissait qualite marechal ferrant independant seul interet exercice profession suit declarant ville cahors conserve garde animal vesir etant espece prepose sans indiquer quoi lien subordination existe entre ainsi faussement applique partant viole texte susvise motifs sans lieu statuer second casse annule arret rendu entre parties agen mars remet consequence cause parties meme semblable etat etaient avant ledit arret etre droit renvoie devant  ...           1\n",
              "3                                                                                                                                br clear none recevabilité mémoire personnel produit défense br clear none br clear none mémoire signé avocat cassation dès lors irrecevable application procédure pénale br clear none br clear none unique cassation pris violation route br clear none br clear none résulte jugement attaqué pièces procédure juin véhicule automobile donné location société novartis pharma objet procès verbal excès vitesse désigné représentant légal cette société comme utilisateur habituel véhicule cité comparaître devant juridiction proximité jugement attaqué renvoyé fins poursuite retenant auteur infraction qualité représentant légal personne morale ni locataire véhicule  ...           0\n",
              "4                                                   bien fonde demande possibilite determiner non personnellement subi prejudice direct pouvaient utilement invoquer autorite chose jugee puisque rien ete definitivement juge concerne alors part annulation arret generaux absolus termes lesquels ete prononcee limitee portee servi base laisse subsister comme passees force chose jugee toutes dispositions expresses implicites ete attaquees pourvoi resulte lors recevabilite constitution partie civile ete admise juge instruction confirmee jugement janvier non contestee arret casse dijon autorite chose jugee point alors autre part personnalite morale societe dissoute survit seuls besoins liquidation dire mesure necessaire accomplissement actes juridiques faciliteront liquidation partage  ...           0\n",
              "\n",
              "[5 rows x 3 columns]"
            ]
          },
          "execution_count": 18,
          "metadata": {
            "tags": []
          },
          "output_type": "execute_result"
        }
      ],
      "source": [
        "\n",
        "# transformation of text labels : on peut utiliser labelencoder sur scikit learn aussi pour cette tache\n",
        "\n",
        "data_df['category_id'] = data_df['solution'].factorize()[0]\n",
        "category_id_df = data_df[['solution', 'category_id']].drop_duplicates()\n",
        "\n",
        "\n",
        "# Dictionaries for future use\n",
        "category_to_id = dict(category_id_df.values)\n",
        "id_to_category = dict(category_id_df[['category_id', 'solution']].values)\n",
        "\n",
        "data_df.head()"
      ]
    },
    {
      "cell_type": "markdown",
      "metadata": {
        "colab_type": "text",
        "id": "IvRNEzW6wGqT"
      },
      "source": [
        "## TFIDF\n",
        "\n",
        "The text needs to be transformed to vectors so as the algorithms will be able make predictions. In this case it will be used the Term Frequency – Inverse Document Frequency (TFIDF) weight to evaluate __how important a word is to a document in a collection of documents__.\n",
        "\n",
        "After removing __punctuation__ and __lower casing__ the words, importance of a word is determined in terms of its frequency.\n",
        "\n",
        "\n"
      ]
    },
    {
      "cell_type": "markdown",
      "metadata": {
        "colab_type": "text",
        "id": "H2rE18jNwGqX"
      },
      "source": [
        "## TF-IDF\n",
        "\n",
        "****### “Term Frequency – Inverse Document Frequency \n",
        "\n",
        "__TF-IDF__ is the product of the __TF__ and __IDF__ scores of the term.<br><br> $$\\text{TF-IDF}=\\frac{\\text{TF}}{\\text{IDF}}$$<br>\n",
        "\n",
        "__Term Frequency :__ This summarizes how often a given word appears within a document.\n",
        "\n",
        "$$\\text{TF} = \\frac{\\text{Number of times the term appears in the doc}}{\\text{Total number of words in the doc}}$$<br><br>\n",
        "__Inverse Document Frequency:__ This downscales words that appear a lot across documents. A term has a high IDF score if it appears in a few documents. Conversely, if the term is very common among documents (i.e., “the”, “a”, “is”), the term would have a low IDF score.<br>\n",
        "\n",
        "$$\\text{IDF} = \\ln\\left(\\frac{\\text{Number of docs}}{\\text{Number docs the term appears in}} \\right)$$<br>\n",
        "\n",
        "\n",
        "TF-IDF are word frequency scores that try to highlight words that are more interesting, e.g. frequent in a document but not across documents. The higher the TFIDF score, the rarer the term is. \n",
        "\n",
        "\n",
        "TfidfVectorizer class can be initialized with the following parameters:\n",
        "* __min_df__: remove the words from the vocabulary which have occurred in less than ‘min_df’ number of files.\n",
        "* __max_df__: remove the words from the vocabulary which have occurred in more than _‘max_df’ * total number of files in corpus_.\n",
        "* __sublinear_tf__: set to True to scale the term frequency in logarithmic scale.\n",
        "* __stop_words__: remove the predefined stop words in 'english'.\n",
        "* __use_idf__: weight factor must use inverse document frequency.\n",
        "* __ngram_range__: (1, 2) to indicate that unigrams and bigrams will be considered."
      ]
    },
    {
      "cell_type": "code",
      "execution_count": null,
      "metadata": {
        "colab": {
          "base_uri": "https://localhost:8080/",
          "height": 34
        },
        "colab_type": "code",
        "id": "5Dib4x5NwGqY",
        "outputId": "baace196-4b73-4cd1-c473-a02e2d2cddc2"
      },
      "outputs": [
        {
          "name": "stdout",
          "output_type": "stream",
          "text": [
            "Chacune des 10000  jurisprudences est représentée par 24056 features (TF-IDF score of unigrams and bigrams)\n"
          ]
        }
      ],
      "source": [
        "\n",
        "\n",
        "\n",
        "\n",
        "tfidf = TfidfVectorizer(sublinear_tf=True, min_df=5,\n",
        "                        ngram_range=(1, 2))\n",
        "\n",
        "# We transform each text into a vector\n",
        "features = tfidf.fit_transform(data_df.content).toarray()\n",
        "\n",
        "labels = data_df.category_id\n",
        "\n",
        "print(\"Chacune des %d  jurisprudences est représentée par %d features (TF-IDF score of unigrams and bigrams)\" %(features.shape))\n",
        "\n",
        "\n",
        "\n",
        "\n",
        "\n",
        "\n",
        "\n",
        "    \n",
        "    \n",
        "    \n"
      ]
    },
    {
      "cell_type": "code",
      "execution_count": null,
      "metadata": {
        "colab": {
          "base_uri": "https://localhost:8080/",
          "height": 420
        },
        "colab_type": "code",
        "id": "UZDKugvewGqf",
        "outputId": "354ac81d-4695-404e-de18-3f30fe576613"
      },
      "outputs": [
        {
          "name": "stdout",
          "output_type": "stream",
          "text": [
            "\n",
            "==> annulation:\n",
            "  * Most Correlated Unigrams are: punit\n",
            "  * Most Correlated Bigrams are: declare nulle\n",
            "\n",
            "==> cassation:\n",
            "  * Most Correlated Unigrams are: renvoie\n",
            "  * Most Correlated Bigrams are: renvoie devant\n",
            "\n",
            "==> irrecevabilite:\n",
            "  * Most Correlated Unigrams are: irrecevable\n",
            "  * Most Correlated Bigrams are: motifs declare\n",
            "\n",
            "==> nonlieu statuer:\n",
            "  * Most Correlated Unigrams are: chiffrer\n",
            "  * Most Correlated Bigrams are: devenu sans\n",
            "\n",
            "==> qpc nonlieu renvoi conseil constitutionnel:\n",
            "  * Most Correlated Unigrams are: constitutionnel\n",
            "  * Most Correlated Bigrams are: conseil constitutionnel\n",
            "\n",
            "==> rejet:\n",
            "  * Most Correlated Unigrams are: renvoie\n",
            "  * Most Correlated Bigrams are: renvoie devant\n"
          ]
        }
      ],
      "source": [
        "# Finding the N most correlated terms with each of the product categories\n",
        "N = 1\n",
        "for solution, category_id in sorted(category_to_id.items()):\n",
        "  features_chi2 = chi2(features, labels == category_id)\n",
        "  indices = np.argsort(features_chi2[0])\n",
        "  feature_names = np.array(tfidf.get_feature_names())[indices]\n",
        "  unigrams = [v for v in feature_names if len(v.split(' ')) == 1]\n",
        "  bigrams = [v for v in feature_names if len(v.split(' ')) == 2]\n",
        "  print(\"\\n==> %s:\" %(solution))\n",
        "  print(\"  * Most Correlated Unigrams are: %s\" %(', '.join(unigrams[-N:])))\n",
        "  print(\"  * Most Correlated Bigrams are: %s\" %(', '.join(bigrams[-N:])))\n",
        "    \n",
        "    \n",
        "    \n",
        "    "
      ]
    },
    {
      "cell_type": "markdown",
      "metadata": {
        "colab_type": "text",
        "id": "1puuvYCDwGqm"
      },
      "source": [
        "## Multi-Classification models\n",
        "\n",
        "The classification models evaluated are: \n",
        "* Random Forest\n",
        "* Linear Support Vector Machine\n",
        "* Multinomial Naive Bayes \n",
        "* Logistic Regression."
      ]
    },
    {
      "cell_type": "code",
      "execution_count": null,
      "metadata": {
        "colab": {},
        "colab_type": "code",
        "id": "yYvkdF70wGqn"
      },
      "outputs": [],
      "source": [
        "X = data_df['content'] # Collection of documents\n",
        "y = data_df['solution'] # Target or the labels we want to predict \n",
        "\n",
        "X_train, X_test, y_train, y_test = train_test_split(X, y, \n",
        "                                                    test_size=0.25,\n",
        "                                                    random_state = 0)"
      ]
    },
    {
      "cell_type": "markdown",
      "metadata": {
        "colab_type": "text",
        "id": "oikx13WfwGqs"
      },
      "source": [
        "MODELS"
      ]
    },
    {
      "cell_type": "code",
      "execution_count": null,
      "metadata": {
        "colab": {},
        "colab_type": "code",
        "id": "L2OElzqlwGqt"
      },
      "outputs": [],
      "source": [
        "models = [\n",
        "    RandomForestClassifier(n_estimators=100, max_depth=5, random_state=0),\n",
        "    LinearSVC(),\n",
        "    MultinomialNB(),\n",
        "    LogisticRegression(random_state=0),\n",
        "]\n",
        "\n",
        "# 5 Cross-validation\n",
        "CV = 5\n",
        "cv_df = pd.DataFrame(index=range(CV * len(models)))\n",
        "\n",
        "entries = []\n",
        "for model in models:\n",
        "  model_name = model.__class__.__name__\n",
        "  accuracies = cross_val_score(model, features, labels, scoring='accuracy', cv=CV)\n",
        "  for fold_idx, accuracy in enumerate(accuracies):\n",
        "    entries.append((model_name, fold_idx, accuracy))\n",
        "    \n",
        "cv_df = pd.DataFrame(entries, columns=['model_name', 'fold_idx', 'accuracy'])"
      ]
    },
    {
      "cell_type": "markdown",
      "metadata": {
        "colab_type": "text",
        "id": "ZhUNB1d2wGqx"
      },
      "source": [
        "## Comparison of model performance\n",
        "\n",
        "The best mean acuracy was obtained with LinearSVC."
      ]
    },
    {
      "cell_type": "code",
      "execution_count": null,
      "metadata": {
        "colab": {},
        "colab_type": "code",
        "id": "abBCXbgdwGqy"
      },
      "outputs": [],
      "source": [
        "mean_accuracy = cv_df.groupby('model_name').accuracy.mean()\n",
        "std_accuracy = cv_df.groupby('model_name').accuracy.std()\n",
        "\n",
        "acc = pd.concat([mean_accuracy, std_accuracy], axis= 1, \n",
        "          ignore_index=True)\n",
        "acc.columns = ['Mean Accuracy', 'Standard deviation']\n",
        "acc"
      ]
    },
    {
      "cell_type": "code",
      "execution_count": null,
      "metadata": {
        "colab": {},
        "colab_type": "code",
        "id": "hXHoZrzMwGq3"
      },
      "outputs": [],
      "source": [
        "## Model evaluation"
      ]
    },
    {
      "cell_type": "code",
      "execution_count": null,
      "metadata": {
        "colab": {},
        "colab_type": "code",
        "id": "p4LLPdD_wGq9"
      },
      "outputs": [],
      "source": [
        "X_train, X_test, y_train, y_test,indices_train,indices_test = train_test_split(features, \n",
        "                                                               labels, \n",
        "                                                               data_df.index, test_size=0.25, \n",
        "                                                               random_state=1)\n",
        "model = LinearSVC()\n",
        "model.fit(X_train, y_train)\n",
        "y_pred = model.predict(X_test)"
      ]
    },
    {
      "cell_type": "code",
      "execution_count": null,
      "metadata": {
        "colab": {},
        "colab_type": "code",
        "id": "P2SFaI9GwGrB"
      },
      "outputs": [],
      "source": [
        "# Classification report\n",
        "print('\\t\\t\\t\\tCLASSIFICATIION METRICS\\n')\n",
        "print(metrics.classification_report(y_test, y_pred, \n",
        "                                    target_names= data_df['solution'].unique()))"
      ]
    },
    {
      "cell_type": "code",
      "execution_count": null,
      "metadata": {
        "colab": {},
        "colab_type": "code",
        "id": "CXoVALEmwGrG"
      },
      "outputs": [],
      "source": []
    },
    {
      "cell_type": "code",
      "execution_count": null,
      "metadata": {
        "colab": {},
        "colab_type": "code",
        "id": "ThzLaCq7wGrM"
      },
      "outputs": [],
      "source": [
        "conf_mat = confusion_matrix(y_test, y_pred)\n",
        "fig, ax = plt.subplots(figsize=(8,8))\n",
        "sns.heatmap(conf_mat, annot=True, cmap=\"Blues\", fmt='d',\n",
        "            xticklabels=category_id_df.solution.values, \n",
        "            yticklabels=category_id_df.solution.values)\n",
        "plt.ylabel('Actual')\n",
        "plt.xlabel('Predicted')\n",
        "plt.title(\"CONFUSION MATRIX - LinearSVC\\n\", size=16);"
      ]
    }
  ],
  "metadata": {
    "accelerator": "TPU",
    "colab": {
      "collapsed_sections": [],
      "include_colab_link": true,
      "name": "02 TF IDF + ML ALGORITHM.ipynb",
      "provenance": []
    },
    "kernelspec": {
      "display_name": "Python 3",
      "language": "python",
      "name": "python3"
    },
    "language_info": {
      "codemirror_mode": {
        "name": "ipython",
        "version": 3
      },
      "file_extension": ".py",
      "mimetype": "text/x-python",
      "name": "python",
      "nbconvert_exporter": "python",
      "pygments_lexer": "ipython3",
      "version": "3.9.16"
    }
  },
  "nbformat": 4,
  "nbformat_minor": 0
}
